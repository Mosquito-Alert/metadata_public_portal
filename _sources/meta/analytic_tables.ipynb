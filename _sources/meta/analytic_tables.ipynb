{
 "cells": [
  {
   "cell_type": "markdown",
   "id": "failing-financing",
   "metadata": {
    "papermill": {
     "duration": 0.015753,
     "end_time": "2021-06-03T11:45:40.420396",
     "exception": false,
     "start_time": "2021-06-03T11:45:40.404643",
     "status": "completed"
    },
    "tags": []
   },
   "source": [
    "# Metadata table"
   ]
  },
  {
   "cell_type": "code",
   "execution_count": 1,
   "id": "olive-trial",
   "metadata": {
    "execution": {
     "iopub.execute_input": "2021-06-03T11:45:40.443300Z",
     "iopub.status.busy": "2021-06-03T11:45:40.441852Z",
     "iopub.status.idle": "2021-06-03T11:45:40.448277Z",
     "shell.execute_reply": "2021-06-03T11:45:40.447460Z"
    },
    "papermill": {
     "duration": 0.020375,
     "end_time": "2021-06-03T11:45:40.448473",
     "exception": false,
     "start_time": "2021-06-03T11:45:40.428098",
     "status": "completed"
    },
    "tags": [
     "remove-input"
    ]
   },
   "outputs": [],
   "source": [
    "# NO CODE\n",
    "from json2html import *\n",
    "import json\n",
    "from IPython.core.display import HTML, display\n"
   ]
  },
  {
   "cell_type": "code",
   "execution_count": 2,
   "id": "multiple-sustainability",
   "metadata": {
    "execution": {
     "iopub.execute_input": "2021-06-03T11:45:40.467766Z",
     "iopub.status.busy": "2021-06-03T11:45:40.467086Z",
     "iopub.status.idle": "2021-06-03T11:45:40.471284Z",
     "shell.execute_reply": "2021-06-03T11:45:40.470040Z"
    },
    "papermill": {
     "duration": 0.015212,
     "end_time": "2021-06-03T11:45:40.471653",
     "exception": false,
     "start_time": "2021-06-03T11:45:40.456441",
     "status": "completed"
    },
    "tags": [
     "parameters",
     "remove-input"
    ]
   },
   "outputs": [],
   "source": [
    "# NO CODE\n",
    "path = './raw/environment/meteocat_xema'"
   ]
  },
  {
   "cell_type": "code",
   "execution_count": 3,
   "id": "excess-cylinder",
   "metadata": {
    "execution": {
     "iopub.execute_input": "2021-06-03T11:45:40.495727Z",
     "iopub.status.busy": "2021-06-03T11:45:40.494840Z",
     "iopub.status.idle": "2021-06-03T11:45:40.498309Z",
     "shell.execute_reply": "2021-06-03T11:45:40.499332Z"
    },
    "papermill": {
     "duration": 0.016841,
     "end_time": "2021-06-03T11:45:40.499637",
     "exception": false,
     "start_time": "2021-06-03T11:45:40.482796",
     "status": "completed"
    },
    "tags": [
     "injected-parameters"
    ]
   },
   "outputs": [],
   "source": [
    "# Parameters\n",
    "path = \"./raw/MA/analytic_tables\"\n"
   ]
  },
  {
   "cell_type": "code",
   "execution_count": 4,
   "id": "complicated-extraction",
   "metadata": {
    "execution": {
     "iopub.execute_input": "2021-06-03T11:45:40.523429Z",
     "iopub.status.busy": "2021-06-03T11:45:40.522400Z",
     "iopub.status.idle": "2021-06-03T11:45:40.542507Z",
     "shell.execute_reply": "2021-06-03T11:45:40.541629Z"
    },
    "papermill": {
     "duration": 0.034567,
     "end_time": "2021-06-03T11:45:40.542660",
     "exception": false,
     "start_time": "2021-06-03T11:45:40.508093",
     "status": "completed"
    },
    "tags": [
     "remove-input",
     "full-width"
    ]
   },
   "outputs": [
    {
     "data": {
      "text/html": [
       "<table border=\"1\"><tr><th>@context</th><td><table border=\"1\"><tr><th>@vocab</th><td>https://schema.org/</td></tr><tr><th>qudt</th><td>http://qudt.org/schema/qudt/</td></tr><tr><th>xsd</th><td>http://www.w3.org/2001/XMLSchema#</td></tr></table></td></tr><tr><th>@type</th><td>Dataset</td></tr><tr><th>name</th><td>ma_analytic_tables</td></tr><tr><th>description</th><td>Tables from Mosquito Alert database (TigaData) selected for analytic purposes. Export from database is performed daily. Access to data is possible within ftp authentication to the host webserver.mosquitoalert.com</td></tr><tr><th>sameAs</th><td></td></tr><tr><th>identifier</th><td></td></tr><tr><th>license</th><td>https://creativecommons.org/licenses/by-nc-sa/4.0/</td></tr><tr><th>citation</th><td><ul><li>Direct Evidence of Adult Aedes albopictus Dispersal by Car. Roger, Eritja et al. (DOI: 10.1038/s41598-017-12652-5)</li><li>Citizen science provides a reliable and scalable tool to track disease-carrying mosquitoes.  John R B, Palmer et al. (DOI: 10.1038/s41467-017-00914-9)</li></ul></td></tr><tr><th>creator</th><td><ul><li><table border=\"1\"><tr><th>@type</th><td>Organization</td></tr><tr><th>@id</th><td>CEAB</td></tr><tr><th>name</th><td>Consejo Superior de Investigaciones Científicas - Centro de Estudios Avanzados de Blanes (CSIC-CEAB)</td></tr></table></li><li><table border=\"1\"><tr><th>@type</th><td>Person</td></tr><tr><th>@id</th><td>JP</td></tr><tr><th>name</th><td>Palmer, John Rossman Bertholf</td></tr></table></li><li><table border=\"1\"><tr><th>@type</th><td>Person</td></tr><tr><th>@id</th><td>AE</td></tr><tr><th>name</th><td>Escobar Rúbies, Agustí</td></tr></table></li></ul></td></tr><tr><th>measurementTechnique</th><td><ul><li>Mobile application for citizen science</li><li>Data validation by entomologists</li></ul></td></tr><tr><th>temporalCoverage</th><td>2014-05-27/..</td></tr><tr><th>spatialCoverage</th><td><table border=\"1\"><tr><th>type</th><td>AdministrativeArea</td></tr><tr><th>name</th><td>Eurozone</td></tr><tr><th>sameAs</th><td>https://www.wikidata.org/wiki/Q8268</td></tr></table></td></tr><tr><th>hasPart</th><td><ul><li><table border=\"1\"><tr><th>@type</th><td>Dataset</td></tr><tr><th>name</th><td>tigaserver_app_tigauser</td></tr><tr><th>description</th><td>Stores all user&#x27;s Mosquito Alert application scores and some general information about the users</td></tr><tr><th>distribution</th><td><ul><li><table border=\"1\"><tr><th>@type</th><td>DataDownload</td></tr><tr><th>name</th><td>webserver_mosquitoalert_com</td></tr><tr><th>description</th><td>Distribution by SFTP protocol from MosquitoAlert webserver.</td></tr><tr><th>encodingFormat</th><td>CSV</td></tr><tr><th>url</th><td>./notebooks/analytic_tables.py</td></tr><tr><th>contentUrl</th><td>sftp://epidata@webserver.mosquitoalert.com:9122/tmp/tigaserver_app_tigauser.csv</td></tr><tr><th>contentSize</th><td>~10MB</td></tr></table></li></ul></td></tr><tr><th>variableMeasured</th><td><ul><li><table border=\"1\"><tr><th>@type</th><td>PropertyValue</td></tr><tr><th>name</th><td>user_UUID</td></tr><tr><th>description</th><td>hash that replaces a user name</td></tr><tr><th>unitText</th><td></td></tr><tr><th>qudt:dataType</th><td>xsd:string</td></tr></table></li><li><table border=\"1\"><tr><th>@type</th><td>PropertyValue</td></tr><tr><th>name</th><td>registration_time</td></tr><tr><th>description</th><td></td></tr><tr><th>unitText</th><td></td></tr><tr><th>qudt:dataType</th><td>xsd:dateTime</td></tr></table></li><li><table border=\"1\"><tr><th>@type</th><td>PropertyValue</td></tr><tr><th>name</th><td>device_token</td></tr><tr><th>description</th><td></td></tr><tr><th>unitText</th><td></td></tr><tr><th>qudt:dataType</th><td>xsd:string</td></tr></table></li><li><table border=\"1\"><tr><th>@type</th><td>PropertyValue</td></tr><tr><th>name</th><td>score</td></tr><tr><th>description</th><td>score of the user gained by submitting Mosquito Alert reports</td></tr><tr><th>unitText</th><td></td></tr><tr><th>qudt:dataType</th><td>xsd:int</td></tr></table></li><li><table border=\"1\"><tr><th>@type</th><td>PropertyValue</td></tr><tr><th>name</th><td>profile_id</td></tr><tr><th>description</th><td></td></tr><tr><th>unitText</th><td></td></tr><tr><th>qudt:dataType</th><td>xsd:int</td></tr></table></li><li><table border=\"1\"><tr><th>@type</th><td>PropertyValue</td></tr><tr><th>name</th><td>score_v2</td></tr><tr><th>description</th><td></td></tr><tr><th>unitText</th><td></td></tr><tr><th>qudt:dataType</th><td>xsd:int</td></tr></table></li><li><table border=\"1\"><tr><th>@type</th><td>PropertyValue</td></tr><tr><th>name</th><td>score_v2_adult</td></tr><tr><th>description</th><td></td></tr><tr><th>unitText</th><td></td></tr><tr><th>qudt:dataType</th><td>xsd:int</td></tr></table></li><li><table border=\"1\"><tr><th>@type</th><td>PropertyValue</td></tr><tr><th>name</th><td>score_v2_bite</td></tr><tr><th>description</th><td></td></tr><tr><th>unitText</th><td></td></tr><tr><th>qudt:dataType</th><td>xsd:int</td></tr></table></li><li><table border=\"1\"><tr><th>@type</th><td>PropertyValue</td></tr><tr><th>name</th><td>score_v2_site</td></tr><tr><th>description</th><td></td></tr><tr><th>unitText</th><td></td></tr><tr><th>qudt:dataType</th><td>xsd:int</td></tr></table></li></ul></td></tr></table></li><li><table border=\"1\"><tr><th>@type</th><td>Dataset</td></tr><tr><th>name</th><td>tigaserver_app_report</td></tr><tr><th>description</th><td>Register of Mosquito Alert reports made by users at a given time and location with a given mobile device. Only the report ID is stored and not the hole report data content.</td></tr><tr><th>distribution</th><td><ul><li><table border=\"1\"><tr><th>@type</th><td>DataDownload</td></tr><tr><th>name</th><td>webserver_mosquitoalert_com</td></tr><tr><th>description</th><td>Distribution by SFTP protocol from MosquitoAlert webserver.</td></tr><tr><th>encodingFormat</th><td>CSV</td></tr><tr><th>url</th><td>./notebooks/analytic_tables.py</td></tr><tr><th>contentUrl</th><td>sftp://epidata@webserver.mosquitoalert.com:9122/tmp/tigaserver_app_report.csv</td></tr><tr><th>contentSize</th><td>~14MB</td></tr></table></li></ul></td></tr><tr><th>variableMeasured</th><td><ul><li><table border=\"1\"><tr><th>@type</th><td>PropertyValue</td></tr><tr><th>name</th><td>version_UUID</td></tr><tr><th>description</th><td></td></tr><tr><th>unitText</th><td></td></tr><tr><th>qudt:dataType</th><td>xsd:string</td></tr></table></li><li><table border=\"1\"><tr><th>@type</th><td>PropertyValue</td></tr><tr><th>name</th><td>version_number</td></tr><tr><th>description</th><td></td></tr><tr><th>unitText</th><td></td></tr><tr><th>qudt:dataType</th><td>xsd:int</td></tr></table></li><li><table border=\"1\"><tr><th>@type</th><td>PropertyValue</td></tr><tr><th>name</th><td>user_id</td></tr><tr><th>description</th><td></td></tr><tr><th>unitText</th><td></td></tr><tr><th>qudt:dataType</th><td>xsd:string</td></tr></table></li><li><table border=\"1\"><tr><th>@type</th><td>PropertyValue</td></tr><tr><th>name</th><td>report_id</td></tr><tr><th>description</th><td></td></tr><tr><th>unitText</th><td></td></tr><tr><th>qudt:dataType</th><td>xsd:string</td></tr></table></li><li><table border=\"1\"><tr><th>@type</th><td>PropertyValue</td></tr><tr><th>name</th><td>server_upload_time</td></tr><tr><th>description</th><td></td></tr><tr><th>unitText</th><td></td></tr><tr><th>qudt:dataType</th><td>xsd:dateTime</td></tr></table></li><li><table border=\"1\"><tr><th>@type</th><td>PropertyValue</td></tr><tr><th>name</th><td>phone_upload_time</td></tr><tr><th>description</th><td></td></tr><tr><th>unitText</th><td></td></tr><tr><th>qudt:dataType</th><td>xsd:dateTime</td></tr></table></li><li><table border=\"1\"><tr><th>@type</th><td>PropertyValue</td></tr><tr><th>name</th><td>creation_time</td></tr><tr><th>description</th><td></td></tr><tr><th>unitText</th><td></td></tr><tr><th>qudt:dataType</th><td>xsd:dateTime</td></tr></table></li><li><table border=\"1\"><tr><th>@type</th><td>PropertyValue</td></tr><tr><th>name</th><td>version_time</td></tr><tr><th>description</th><td></td></tr><tr><th>unitText</th><td></td></tr><tr><th>qudt:dataType</th><td>xsd:dateTime</td></tr></table></li><li><table border=\"1\"><tr><th>@type</th><td>PropertyValue</td></tr><tr><th>name</th><td>type</td></tr><tr><th>description</th><td></td></tr><tr><th>unitText</th><td></td></tr><tr><th>qudt:dataType</th><td>xsd:string</td></tr></table></li><li><table border=\"1\"><tr><th>@type</th><td>PropertyValue</td></tr><tr><th>name</th><td>mission_id</td></tr><tr><th>description</th><td></td></tr><tr><th>unitText</th><td></td></tr><tr><th>qudt:dataType</th><td>xsd:int</td></tr></table></li><li><table border=\"1\"><tr><th>@type</th><td>PropertyValue</td></tr><tr><th>name</th><td>location_choice</td></tr><tr><th>description</th><td></td></tr><tr><th>unitText</th><td></td></tr><tr><th>qudt:dataType</th><td>xsd:string</td></tr></table></li><li><table border=\"1\"><tr><th>@type</th><td>PropertyValue</td></tr><tr><th>name</th><td>current_location_lon</td></tr><tr><th>description</th><td></td></tr><tr><th>unitText</th><td></td></tr><tr><th>qudt:dataType</th><td>xsd:decimal</td></tr></table></li><li><table border=\"1\"><tr><th>@type</th><td>PropertyValue</td></tr><tr><th>name</th><td>current_location_lat</td></tr><tr><th>description</th><td></td></tr><tr><th>unitText</th><td></td></tr><tr><th>qudt:dataType</th><td>xsd:decimal</td></tr></table></li><li><table border=\"1\"><tr><th>@type</th><td>PropertyValue</td></tr><tr><th>name</th><td>selected_location_lon</td></tr><tr><th>description</th><td></td></tr><tr><th>unitText</th><td></td></tr><tr><th>qudt:dataType</th><td>xsd:decimal</td></tr></table></li><li><table border=\"1\"><tr><th>@type</th><td>PropertyValue</td></tr><tr><th>name</th><td>selected_location_lat</td></tr><tr><th>description</th><td></td></tr><tr><th>unitText</th><td></td></tr><tr><th>qudt:dataType</th><td>xsd:decimal</td></tr></table></li><li><table border=\"1\"><tr><th>@type</th><td>PropertyValue</td></tr><tr><th>name</th><td>note</td></tr><tr><th>description</th><td></td></tr><tr><th>unitText</th><td></td></tr><tr><th>qudt:dataType</th><td>xsd:string</td></tr></table></li><li><table border=\"1\"><tr><th>@type</th><td>PropertyValue</td></tr><tr><th>name</th><td>package_name</td></tr><tr><th>description</th><td></td></tr><tr><th>unitText</th><td></td></tr><tr><th>qudt:dataType</th><td>xsd:string</td></tr></table></li><li><table border=\"1\"><tr><th>@type</th><td>PropertyValue</td></tr><tr><th>name</th><td>package_version</td></tr><tr><th>description</th><td></td></tr><tr><th>unitText</th><td></td></tr><tr><th>qudt:dataType</th><td>xsd:int</td></tr></table></li><li><table border=\"1\"><tr><th>@type</th><td>PropertyValue</td></tr><tr><th>name</th><td>device_manufacturer</td></tr><tr><th>description</th><td></td></tr><tr><th>unitText</th><td></td></tr><tr><th>qudt:dataType</th><td>xsd:string</td></tr></table></li><li><table border=\"1\"><tr><th>@type</th><td>PropertyValue</td></tr><tr><th>name</th><td>device_model</td></tr><tr><th>description</th><td></td></tr><tr><th>unitText</th><td></td></tr><tr><th>qudt:dataType</th><td>xsd:string</td></tr></table></li><li><table border=\"1\"><tr><th>@type</th><td>PropertyValue</td></tr><tr><th>name</th><td>os</td></tr><tr><th>description</th><td></td></tr><tr><th>unitText</th><td></td></tr><tr><th>qudt:dataType</th><td>xsd:string</td></tr></table></li><li><table border=\"1\"><tr><th>@type</th><td>PropertyValue</td></tr><tr><th>name</th><td>os_version</td></tr><tr><th>description</th><td></td></tr><tr><th>unitText</th><td></td></tr><tr><th>qudt:dataType</th><td>xsd:int</td></tr></table></li><li><table border=\"1\"><tr><th>@type</th><td>PropertyValue</td></tr><tr><th>name</th><td>os_language</td></tr><tr><th>description</th><td></td></tr><tr><th>unitText</th><td></td></tr><tr><th>qudt:dataType</th><td>xsd:string</td></tr></table></li><li><table border=\"1\"><tr><th>@type</th><td>PropertyValue</td></tr><tr><th>name</th><td>app_language</td></tr><tr><th>description</th><td></td></tr><tr><th>unitText</th><td></td></tr><tr><th>qudt:dataType</th><td>xsd:string</td></tr></table></li><li><table border=\"1\"><tr><th>@type</th><td>PropertyValue</td></tr><tr><th>name</th><td>hide</td></tr><tr><th>description</th><td></td></tr><tr><th>unitText</th><td></td></tr><tr><th>qudt:dataType</th><td>xsd:boolean</td></tr></table></li><li><table border=\"1\"><tr><th>@type</th><td>PropertyValue</td></tr><tr><th>name</th><td>poxsd:int</td></tr><tr><th>description</th><td></td></tr><tr><th>unitText</th><td></td></tr><tr><th>qudt:dataType</th><td>xsd:string</td></tr></table></li><li><table border=\"1\"><tr><th>@type</th><td>PropertyValue</td></tr><tr><th>name</th><td>cached_visible</td></tr><tr><th>description</th><td></td></tr><tr><th>unitText</th><td></td></tr><tr><th>qudt:dataType</th><td>xsd:boolean</td></tr></table></li><li><table border=\"1\"><tr><th>@type</th><td>PropertyValue</td></tr><tr><th>name</th><td>country_id</td></tr><tr><th>description</th><td></td></tr><tr><th>unitText</th><td></td></tr><tr><th>qudt:dataType</th><td>xsd:int</td></tr></table></li><li><table border=\"1\"><tr><th>@type</th><td>PropertyValue</td></tr><tr><th>name</th><td>session_id</td></tr><tr><th>description</th><td></td></tr><tr><th>unitText</th><td></td></tr><tr><th>qudt:dataType</th><td>xsd:int</td></tr></table></li></ul></td></tr></table></li><li><table border=\"1\"><tr><th>@type</th><td>Dataset</td></tr><tr><th>name</th><td>tigaserver_app_fix</td></tr><tr><th>description</th><td>Sampling effort measurement given by Mosquito Alert users location</td></tr><tr><th>distribution</th><td><ul><li><table border=\"1\"><tr><th>@type</th><td>DataDownload</td></tr><tr><th>name</th><td>webserver_mosquitoalert_com</td></tr><tr><th>description</th><td>Distribution by SFTP protocol from MosquitoAlert webserver.</td></tr><tr><th>encodingFormat</th><td>CSV</td></tr><tr><th>url</th><td>./notebooks/analytic_tables.py</td></tr><tr><th>contentUrl</th><td>sftp://epidata@webserver.mosquitoalert.com:9122/tmp/tigaserver_app_fix.csv</td></tr><tr><th>contentSize</th><td>~160MB</td></tr></table></li></ul></td></tr><tr><th>variableMeasured</th><td><ul><li><table border=\"1\"><tr><th>@type</th><td>PropertyValue</td></tr><tr><th>name</th><td>id</td></tr><tr><th>description</th><td></td></tr><tr><th>unitText</th><td></td></tr><tr><th>qudt:dataType</th><td>xsd:int</td></tr></table></li><li><table border=\"1\"><tr><th>@type</th><td>PropertyValue</td></tr><tr><th>name</th><td>fix_time</td></tr><tr><th>description</th><td></td></tr><tr><th>unitText</th><td></td></tr><tr><th>qudt:dataType</th><td>xsd:dateTime</td></tr></table></li><li><table border=\"1\"><tr><th>@type</th><td>PropertyValue</td></tr><tr><th>name</th><td>server_upload_time</td></tr><tr><th>description</th><td></td></tr><tr><th>unitText</th><td></td></tr><tr><th>qudt:dataType</th><td>xsd:dateTime</td></tr></table></li><li><table border=\"1\"><tr><th>@type</th><td>PropertyValue</td></tr><tr><th>name</th><td>phone_upload_time</td></tr><tr><th>description</th><td></td></tr><tr><th>unitText</th><td></td></tr><tr><th>qudt:dataType</th><td>xsd:dateTime</td></tr></table></li><li><table border=\"1\"><tr><th>@type</th><td>PropertyValue</td></tr><tr><th>name</th><td>masked_lon</td></tr><tr><th>description</th><td></td></tr><tr><th>unitText</th><td></td></tr><tr><th>qudt:dataType</th><td>xsd:decimal</td></tr></table></li><li><table border=\"1\"><tr><th>@type</th><td>PropertyValue</td></tr><tr><th>name</th><td>masked_lat</td></tr><tr><th>description</th><td></td></tr><tr><th>unitText</th><td></td></tr><tr><th>qudt:dataType</th><td>xsd:decimal</td></tr></table></li><li><table border=\"1\"><tr><th>@type</th><td>PropertyValue</td></tr><tr><th>name</th><td>power</td></tr><tr><th>description</th><td></td></tr><tr><th>unitText</th><td></td></tr><tr><th>qudt:dataType</th><td>xsd:decimal</td></tr></table></li><li><table border=\"1\"><tr><th>@type</th><td>PropertyValue</td></tr><tr><th>name</th><td>user_coverage_uuid</td></tr><tr><th>description</th><td></td></tr><tr><th>unitText</th><td></td></tr><tr><th>qudt:dataType</th><td>xsd:string</td></tr></table></li><li><table border=\"1\"><tr><th>@type</th><td>PropertyValue</td></tr><tr><th>name</th><td>mask_size</td></tr><tr><th>description</th><td></td></tr><tr><th>unitText</th><td></td></tr><tr><th>qudt:dataType</th><td>xsd:string</td></tr></table></li></ul></td></tr></table></li><li><table border=\"1\"><tr><th>@type</th><td>Dataset</td></tr><tr><th>name</th><td>tigaserver_app_photo</td></tr><tr><th>description</th><td>Identifier references to Mosquito Alert report pictures</td></tr><tr><th>distribution</th><td><ul><li><table border=\"1\"><tr><th>@type</th><td>DataDownload</td></tr><tr><th>name</th><td>webserver_mosquitoalert_com</td></tr><tr><th>description</th><td>Distribution by SFTP protocol from MosquitoAlert webserver.</td></tr><tr><th>encodingFormat</th><td>CSV</td></tr><tr><th>url</th><td>./notebooks/analytic_tables.py</td></tr><tr><th>contentUrl</th><td><ul><li>sftp://epidata@webserver.mosquitoalert.com:9122/tmp/tigaserver_app_photo.csv</li><li>sftp://epidata@webserver.mosquitoalert.com:9122/home/epidata/earlyImageService/mosquito_alert_photos_clean.csv</li></ul></td></tr><tr><th>contentSize</th><td>~6MB</td></tr></table></li></ul></td></tr><tr><th>variableMeasured</th><td><ul><li><table border=\"1\"><tr><th>@type</th><td>PropertyValue</td></tr><tr><th>name</th><td>id</td></tr><tr><th>description</th><td>Identifier of a picture</td></tr><tr><th>unitText</th><td></td></tr><tr><th>qudt:dataType</th><td>xsd:int</td></tr></table></li><li><table border=\"1\"><tr><th>@type</th><td>PropertyValue</td></tr><tr><th>name</th><td>photo</td></tr><tr><th>description</th><td>Url path to be added to http://webserver.mosquitoalert.com//media in order to get a picture</td></tr><tr><th>unitText</th><td></td></tr><tr><th>qudt:dataType</th><td>xsd:string</td></tr></table></li><li><table border=\"1\"><tr><th>@type</th><td>PropertyValue</td></tr><tr><th>name</th><td>report_id</td></tr><tr><th>description</th><td>Report identifier to which a picture is associated</td></tr><tr><th>unitText</th><td></td></tr><tr><th>qudt:dataType</th><td>xsd:string</td></tr></table></li><li><table border=\"1\"><tr><th>@type</th><td>PropertyValue</td></tr><tr><th>name</th><td>hide</td></tr><tr><th>description</th><td>Hidden or viewable picture</td></tr><tr><th>unitText</th><td></td></tr><tr><th>qudt:dataType</th><td>xsd:boolean</td></tr></table></li><li><table border=\"1\"><tr><th>@type</th><td>PropertyValue</td></tr><tr><th>name</th><td>uuid</td></tr><tr><th>description</th><td>Hashed unique identifier of a picture</td></tr><tr><th>unitText</th><td></td></tr><tr><th>qudt:dataType</th><td>xsd:decimal</td></tr></table></li></ul></td></tr></table></li></ul></td></tr></table>"
      ],
      "text/plain": [
       "<IPython.core.display.HTML object>"
      ]
     },
     "execution_count": 4,
     "metadata": {},
     "output_type": "execute_result"
    }
   ],
   "source": [
    "# NO CODE\n",
    "# FULL WIDTH\n",
    "with open(f'{path}.json') as f:\n",
    "    data = json.load(f)\n",
    "\n",
    "table = json2html.convert(json=data, clubbing=False)\n",
    "HTML(table)\n",
    "\n",
    "# Run the following in the command line to build a html table\n",
    "# $ jupyter nbconvert --to html --no-input --no-prompt build_tables.ipynb\n"
   ]
  },
  {
   "cell_type": "code",
   "execution_count": null,
   "id": "unknown-nylon",
   "metadata": {
    "papermill": {
     "duration": 0.008053,
     "end_time": "2021-06-03T11:45:40.559141",
     "exception": false,
     "start_time": "2021-06-03T11:45:40.551088",
     "status": "completed"
    },
    "tags": []
   },
   "outputs": [],
   "source": []
  }
 ],
 "metadata": {
  "kernelspec": {
   "display_name": "Python 3.7.10 64-bit ('scidb': conda)",
   "language": "python",
   "name": "python3710jvsc74a57bd0e3961729dbf4ff77740ff872c9a3eef08621b5b434e3d8d81026af4505918c74"
  },
  "language_info": {
   "codemirror_mode": {
    "name": "ipython",
    "version": 3
   },
   "file_extension": ".py",
   "mimetype": "text/x-python",
   "name": "python",
   "nbconvert_exporter": "python",
   "pygments_lexer": "ipython3",
   "version": "3.7.10"
  },
  "metadata": {
   "interpreter": {
    "hash": "e3961729dbf4ff77740ff872c9a3eef08621b5b434e3d8d81026af4505918c74"
   }
  },
  "papermill": {
   "default_parameters": {},
   "duration": 1.531647,
   "end_time": "2021-06-03T11:45:40.878911",
   "environment_variables": {},
   "exception": null,
   "input_path": "build_info.ipynb",
   "output_path": "./meta/analytic_tables.ipynb",
   "parameters": {
    "path": "./raw/MA/analytic_tables"
   },
   "start_time": "2021-06-03T11:45:39.347264",
   "version": "2.3.3"
  }
 },
 "nbformat": 4,
 "nbformat_minor": 5
}