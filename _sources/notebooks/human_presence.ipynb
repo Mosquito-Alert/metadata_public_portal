{
 "cells": [
  {
   "cell_type": "markdown",
   "metadata": {},
   "source": [
    "# Dataset: _human_presence_"
   ]
  },
  {
   "cell_type": "code",
   "execution_count": 1,
   "metadata": {},
   "outputs": [
    {
     "name": "stdout",
     "output_type": "stream",
     "text": [
      "Metadata name: human_presence\n",
      "\tdistribution 0: mosquitoalert_webserver\n"
     ]
    }
   ],
   "source": [
    "import os\n",
    "\n",
    "import pandas as pd\n",
    "import rasterio\n",
    "import requests\n",
    "import src.utils as ut\n",
    "\n",
    "# Setup the root path of the application\n",
    "project_path = ut.project_path()\n",
    "\n",
    "# Load the metadata\n",
    "\n",
    "meta_filename = [\n",
    "    f\"{ut.project_path(1)}/meta/environment/human_presence.json\",\n",
    "    f\"{ut.project_path(2)}/meta_ipynb/human_presence.html\",\n",
    "]\n",
    "metadata = ut.load_metadata(meta_filename)\n",
    "\n",
    "# Get contentUrl from metadata file\n",
    "ut.info_meta(metadata)"
   ]
  },
  {
   "cell_type": "markdown",
   "metadata": {
    "lines_to_next_cell": 0
   },
   "source": [
    "## 1. Distribution by SFTP download from MosquitoAlert webserver\n"
   ]
  },
  {
   "cell_type": "code",
   "execution_count": 2,
   "metadata": {},
   "outputs": [
    {
     "name": "stdout",
     "output_type": "stream",
     "text": [
      "Info\n",
      "dataset name: human_presence\n",
      "distribution name: mosquitoalert_webserver\n",
      "distribution description: Distribution by HTTP download from MosquitoAlert webserver\n",
      "\n"
     ]
    }
   ],
   "source": [
    "# Get metadata\n",
    "contentUrl, dataset_name, distr_name = ut.get_meta(\n",
    "    metadata, idx_distribution=0, idx_hasPart=None\n",
    ")\n",
    "\n",
    "# Make folders for data download\n",
    "path = f\"{project_path}/data/{dataset_name}/{distr_name}\"\n",
    "ut.makedirs(path)"
   ]
  },
  {
   "cell_type": "code",
   "execution_count": 3,
   "metadata": {},
   "outputs": [],
   "source": [
    "# Download the raster from the web-server\n",
    "r = requests.get(contentUrl, stream=True)\n",
    "filepath = os.path.join(path, os.path.basename(contentUrl))\n",
    "with open(filepath, \"wb\") as f:\n",
    "    f.write(r.content)"
   ]
  },
  {
   "cell_type": "markdown",
   "metadata": {},
   "source": [
    "Open the raster with Rasterio and adjust the \"no data\" to be equal -1."
   ]
  },
  {
   "cell_type": "code",
   "execution_count": 4,
   "metadata": {},
   "outputs": [
    {
     "name": "stdout",
     "output_type": "stream",
     "text": [
      "<class 'pandas.core.frame.DataFrame'>\n",
      "RangeIndex: 24604668 entries, 0 to 24604667\n",
      "Data columns (total 4 columns):\n",
      " #   Column                Dtype\n",
      "---  ------                -----\n",
      " 0   human_presence        int32\n",
      " 1   code_gadm             int32\n",
      " 2   code_climate_regions  int32\n",
      " 3   code_ecoregions       int32\n",
      "dtypes: int32(4)\n",
      "memory usage: 375.4 MB\n"
     ]
    }
   ],
   "source": [
    "with rasterio.open(filepath) as src:\n",
    "    raster = src.read()\n",
    "    # Setup nodata value\n",
    "    raster[0, :, :][raster[0, :, :] == 0] = -1  # climatic regions\n",
    "    raster[1, :, :][raster[1, :, :] < 0] = -1  # population density\n",
    "    raster[2, :, :][raster[2, :, :] == 0] = -1  # gadm\n",
    "    raster[3, :, :][raster[3, :, :] == 0] = -1  # ecoregions\n",
    "\n",
    "    n_bands = raster.shape[0]\n",
    "    raster = raster.T.reshape((-1, n_bands))\n",
    "    raster = raster[(raster != -1).all(axis=1)]\n",
    "\n",
    "    raster = pd.DataFrame(\n",
    "        raster,\n",
    "        columns=[\n",
    "            \"code_climate_regions\",\n",
    "            \"human_presence\",\n",
    "            \"code_gadm\",\n",
    "            \"code_ecoregions\",\n",
    "        ],\n",
    "    )\n",
    "    # Reorder the bands\n",
    "    raster = raster[\n",
    "        [\n",
    "            \"human_presence\",\n",
    "            \"code_gadm\",\n",
    "            \"code_climate_regions\",\n",
    "            \"code_ecoregions\",\n",
    "        ]\n",
    "    ]\n",
    "\n",
    "raster.info()"
   ]
  },
  {
   "cell_type": "code",
   "execution_count": 5,
   "metadata": {},
   "outputs": [],
   "source": [
    "# Save on parquet\n",
    "filename = f\"{path}/human_presence\"\n",
    "raster.to_parquet(f\"{filename}.parquet\")"
   ]
  },
  {
   "cell_type": "code",
   "execution_count": null,
   "id": "521b4d05",
   "metadata": {},
   "outputs": [],
   "source": []
  }
 ],
 "metadata": {
  "language_info": {
   "codemirror_mode": {
    "name": "ipython",
    "version": 3
   },
   "file_extension": ".py",
   "mimetype": "text/x-python",
   "name": "python",
   "nbconvert_exporter": "python",
   "pygments_lexer": "ipython3",
   "version": 3
  }
 },
 "nbformat": 4,
 "nbformat_minor": 2
}
