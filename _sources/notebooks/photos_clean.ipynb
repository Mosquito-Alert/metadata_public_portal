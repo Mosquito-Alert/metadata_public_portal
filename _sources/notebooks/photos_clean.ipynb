{
 "cells": [
  {
   "cell_type": "markdown",
   "id": "9e188074",
   "metadata": {},
   "source": [
    "# Dataset: _photos_clean_"
   ]
  },
  {
   "cell_type": "code",
   "execution_count": null,
   "id": "9cb5d3eb",
   "metadata": {
    "lines_to_next_cell": 2
   },
   "outputs": [],
   "source": [
    "import src.utils as ut\n",
    "\n",
    "# Setup the root path of the application\n",
    "project_path = ut.project_path()\n",
    "\n",
    "# Load the metadata\n",
    "\n",
    "meta_filename = [\n",
    "    f\"{ut.project_path(1)}/meta/mosquito_alert/photos_clean.json\",\n",
    "    f\"{ut.project_path(2)}/meta_ipynb/photos_clean.html\",\n",
    "]\n",
    "metadata = ut.load_metadata(meta_filename)\n",
    "\n",
    "# Get contentUrl from metadata file\n",
    "ut.info_meta(metadata)"
   ]
  },
  {
   "cell_type": "markdown",
   "id": "0110fa14",
   "metadata": {
    "lines_to_next_cell": 0
   },
   "source": [
    "## 1. Distribution download from MosquitoAlert webserver\n",
    "\n",
    "Download the hole dataset as a CSV-file."
   ]
  },
  {
   "cell_type": "code",
   "execution_count": null,
   "id": "6863d35d",
   "metadata": {},
   "outputs": [],
   "source": [
    "# Get the dataset meteocat_xema_data form the meteocat_xema catalog\n",
    "contentUrl, dataset_name, distr_name = ut.get_meta(\n",
    "    metadata, idx_distribution=0, idx_hasPart=None\n",
    ")\n",
    "\n",
    "# Make folders for data download\n",
    "path = f\"{project_path}/data/{dataset_name}/{distr_name}\"\n",
    "ut.makedirs(path)"
   ]
  },
  {
   "cell_type": "code",
   "execution_count": null,
   "id": "7badbc81",
   "metadata": {},
   "outputs": [],
   "source": [
    "# Download the dataset file (big files could get a while to download)\n",
    "filename = f\"{path}/dataset.csv\"\n",
    "ut.download_file(contentUrl, filename, method=\"curl\")"
   ]
  },
  {
   "cell_type": "code",
   "execution_count": null,
   "id": "355a7a35",
   "metadata": {},
   "outputs": [],
   "source": []
  }
 ],
 "metadata": {
  "jupytext": {
   "cell_metadata_filter": "-all",
   "main_language": "python",
   "notebook_metadata_filter": "-all"
  }
 },
 "nbformat": 4,
 "nbformat_minor": 5
}
