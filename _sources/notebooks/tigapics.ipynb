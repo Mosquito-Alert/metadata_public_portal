{
 "cells": [
  {
   "cell_type": "markdown",
   "id": "forward-compatibility",
   "metadata": {},
   "source": [
    "# Dataset: _tigapics_"
   ]
  },
  {
   "cell_type": "code",
   "execution_count": null,
   "id": "grand-divorce",
   "metadata": {},
   "outputs": [],
   "source": [
    "import requests, tarfile, io\n",
    "\n",
    "import src.utils as ut\n",
    "\n",
    "# Setup the root path of the application\n",
    "project_path = ut.project_path()\n",
    "\n",
    "# Get contentUrl from metadata file\n",
    "meta_filename = f'{project_path}/meta/mosquito_alert/tigapics.json'\n",
    "ut.info_meta(meta_filename)"
   ]
  },
  {
   "cell_type": "markdown",
   "id": "comprehensive-productivity",
   "metadata": {},
   "source": [
    "## 1. Distribution by image download from MosquitoAlert webserver\n",
    "\n",
    "This distribution allows to download individual pictures (adults and sites)\n",
    "that can be viewed at the Mosquito Alert map webserver given a picture IID."
   ]
  },
  {
   "cell_type": "code",
   "execution_count": null,
   "id": "imperial-angola",
   "metadata": {},
   "outputs": [],
   "source": [
    "# Get metadata\n",
    "contentUrl, dataset_name, distr_name = ut.get_meta(\n",
    "    meta_filename, idx_distribution=1, idx_hasPart=0)\n",
    "\n",
    "# Make folders for data download\n",
    "path = f'{project_path}/data/{dataset_name}/{distr_name}'\n",
    "ut.makedirs(path)"
   ]
  },
  {
   "cell_type": "markdown",
   "id": "continental-engineering",
   "metadata": {},
   "source": [
    "In order to get a picture from the [Mosquito Alert public map](http://webserver.mosquitoalert.com/static/tigapublic/spain.html#/en/)\n",
    "we should know its file-name (ID hash and file extension). The simplest way\n",
    "to get one is to check visually the map, for example as given below:"
   ]
  },
  {
   "cell_type": "code",
   "execution_count": null,
   "id": "convenient-collins",
   "metadata": {},
   "outputs": [],
   "source": [
    "# Set up an picture ID file-name and get the relative URL address\n",
    "ID_PICNAME = 'a67c2ad2-09b6-4dbe-9cd0-2536a91e17f3.jpg'\n",
    "contentUrl_pic = contentUrl.format(ID_PICNAME=ID_PICNAME)"
   ]
  },
  {
   "cell_type": "markdown",
   "id": "exempt-chamber",
   "metadata": {},
   "source": [
    "\n",
    "Note that this particular ID corresponds to the below displayed mosquito adult\n",
    "picture available on the [Mosquito Alert public map](http://webserver.mosquitoalert.com/static/tigapublic/spain.html#/en/).\n",
    "\n",
    "<p align=\"center\">\n",
    "  <img src=\"http://webserver.mosquitoalert.com/media/tigapics/a67c2ad2-09b6-4dbe-9cd0-2536a91e17f3.jpg\" alt=\"Aedes albopictus\" height=\"400\"/>\n",
    "</p>\n",
    "\n",
    "Another way to get a picture ID is to get the _ma_yearly_reports_ dataset,\n",
    "where the measured variable _movelab_annotation_ is a dictionary with key\n",
    "_photo_html_ that gives photo _href_ (ID) relative to a given report."
   ]
  },
  {
   "cell_type": "code",
   "execution_count": null,
   "id": "brave-investigation",
   "metadata": {},
   "outputs": [],
   "source": [
    "# Download the picture and save it\n",
    "r = requests.get(contentUrl_pic )\n",
    "with open(f'{path}/{ID_PICNAME}', 'wb') as f:\n",
    "    f.write(r.content)"
   ]
  },
  {
   "cell_type": "markdown",
   "id": "equivalent-supplier",
   "metadata": {},
   "source": [
    "## 2. Distribution from SeaFile cloud repository of raw images\n",
    "\n",
    "This distribution allows to download all raw pictures of pictures (adults and\n",
    "sites) for a given year. In our example we download pictures for a given year\n",
    "only."
   ]
  },
  {
   "cell_type": "code",
   "execution_count": null,
   "id": "wireless-breed",
   "metadata": {},
   "outputs": [],
   "source": [
    "# Get metadata\n",
    "contentUrl, dataset_name, distr_name = ut.get_meta(\n",
    "    meta_filename, idx_distribution=0, idx_hasPart=1)\n",
    "\n",
    "# Make folders for data download\n",
    "path = f'{project_path}/data/{dataset_name}/{distr_name}'\n",
    "ut.makedirs(path)"
   ]
  },
  {
   "cell_type": "code",
   "execution_count": null,
   "id": "broke-minutes",
   "metadata": {},
   "outputs": [],
   "source": [
    "# Choose the year of relative pictures\n",
    "year = '2014'\n",
    "contentUrl_year = contentUrl.format(YEAR=year)\n",
    "\n",
    "# Download and open the tar.gz container\n",
    "r = requests.get(contentUrl_year)\n",
    "tar = tarfile.open(fileobj=io.BytesIO(r.content), mode=\"r:gz\") "
   ]
  },
  {
   "cell_type": "markdown",
   "id": "incredible-nancy",
   "metadata": {},
   "source": [
    "We have the option to exctract all raw pictures into a distribution folder."
   ]
  },
  {
   "cell_type": "code",
   "execution_count": null,
   "id": "exceptional-calculator",
   "metadata": {},
   "outputs": [],
   "source": [
    "tar.extractall(f'{path}/{year}/')"
   ]
  },
  {
   "cell_type": "markdown",
   "id": "earlier-protein",
   "metadata": {},
   "source": [
    "\n",
    "Below we display one of the many breeding sites and mosquito adult pictures\n",
    "relative to the chosen year 2014.\n"
   ]
  },
  {
   "cell_type": "markdown",
   "id": "chief-homeless",
   "metadata": {
    "lines_to_next_cell": 2
   },
   "source": [
    "\n",
    "```{image} ../data/ma_tigapics_koopex_raw_pics/koopex_raw_images/2014/000076.png\n",
    ":alt: Breeding site\n",
    ":class: bg-primary mb-1\n",
    ":width: 400px\n",
    ":align: center\n",
    "```\n",
    "\n",
    "```{image} ../data/ma_tigapics_koopex_raw_pics/koopex_raw_images/2014/000104.png\n",
    ":alt: Aedes albopictus\n",
    ":class: bg-primary mb-1\n",
    ":width: 400px\n",
    ":align: center\n",
    "```"
   ]
  },
  {
   "cell_type": "code",
   "execution_count": null,
   "id": "later-pontiac",
   "metadata": {},
   "outputs": [],
   "source": []
  }
 ],
 "metadata": {
  "jupytext": {
   "cell_metadata_filter": "-all",
   "main_language": "python",
   "notebook_metadata_filter": "-all"
  }
 },
 "nbformat": 4,
 "nbformat_minor": 5
}
