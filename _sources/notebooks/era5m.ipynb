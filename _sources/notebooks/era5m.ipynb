{
 "cells": [
  {
   "cell_type": "markdown",
   "id": "aware-entrepreneur",
   "metadata": {
    "lines_to_next_cell": 0
   },
   "source": [
    "# Dataset: _era5_\n"
   ]
  },
  {
   "cell_type": "code",
   "execution_count": null,
   "id": "defensive-cleaner",
   "metadata": {},
   "outputs": [],
   "source": [
    "import xarray as xr\n",
    "import matplotlib.pyplot as plt\n",
    "import cartopy.crs as ccrs\n",
    "\n",
    "import src.utils as ut\n",
    "from src.cds_era5 import request_thread, days_of_month\n",
    "\n",
    "# Setup the root path of the application\n",
    "project_path = ut.project_path()\n",
    "\n",
    "# Load the metadata\n",
    "\n",
    "meta_filename = [\n",
    "    f\"{ut.project_path(1)}/meta/weather/era5h.json\",\n",
    "    f\"{ut.project_path(1)}/meta_ipynb/era5h.html\",\n",
    "]\n",
    "metadata = ut.load_metadata(meta_filename)\n",
    "\n",
    "# Get contentUrl from metadata file\n",
    "ut.info_meta(metadata)"
   ]
  },
  {
   "cell_type": "markdown",
   "id": "infrared-hollow",
   "metadata": {
    "lines_to_next_cell": 0
   },
   "source": [
    "## 1. Distribution by Climate Data Store (CDS) API\n",
    "\n",
    "Here we provide an example for how to download a time-chunked dataset for\n",
    "a given set of era5-variables. The CDS-API offers a great variety of variables\n",
    "and grid-size options, thus the user is incoraged to view the query options on\n",
    "the [API' homepage](https://cds.climate.copernicus.eu/toolbox/doc/api.html)\n",
    "where some additional examples are given.\n"
   ]
  },
  {
   "cell_type": "code",
   "execution_count": null,
   "id": "sustainable-alpha",
   "metadata": {},
   "outputs": [],
   "source": [
    "# Get the _era5_ dataset relevant information\n",
    "contentUrl, dataset_name, distr_name = ut.get_meta(\n",
    "    metadata, idx_distribution=0, idx_hasPart=None\n",
    ")\n",
    "\n",
    "# Make folders for data download\n",
    "path = f\"{project_path}/data/{dataset_name}/{distr_name}\"\n",
    "ut.makedirs(path)"
   ]
  },
  {
   "cell_type": "markdown",
   "id": "occupational-riding",
   "metadata": {},
   "source": [
    "\n",
    "Before we are able to request data you need an API-key to get access. In order\n",
    "to get the key, one should get an account on the [CDS' homepage](https://cds.climate.copernicus.eu/#!/home).\n",
    "\n",
    "```{note}\n",
    "There is an alternative method to setup the API within a configuration file.\n",
    "Just follow the instraction on its [GitHub homepage](https://github.com/ecmwf/cdsapi).\n",
    "```"
   ]
  },
  {
   "cell_type": "code",
   "execution_count": null,
   "id": "impressed-bottom",
   "metadata": {},
   "outputs": [],
   "source": [
    "# Insert the CDS API-key\n",
    "API_KEY = input(\"Enter your CDS api-key: \")"
   ]
  },
  {
   "cell_type": "markdown",
   "id": "promotional-thunder",
   "metadata": {
    "lines_to_next_cell": 0
   },
   "source": [
    "Below we run a set of threads that makes multiple requests to the API-server\n",
    "in order to speed-up the download. In order to avoid long queue and processing\n",
    "times on the API server side, it is advises to perform many small requests of\n",
    "(e.g. one variable and month at a time) rather than just to download a big\n",
    "dataset. This is because data is stored in small chunks on the server and any\n",
    "big request involves merging operations.\n",
    "\n",
    "As an example we get the ERA5' worldwide dataset on single levels for a\n",
    "relatively short time period for wind, air temperature, dewpoint temperature\n",
    "and total precipitation.\n",
    "\n",
    "```{note}\n",
    "Era5 has two types of space coverages: worldwide (sea and land) and land only.\n",
    "The first one is released very often (5 days delay) but with a grid resolution\n",
    "of 0.25 degrees, while the second one is released only every 3 months but with\n",
    "a grid of 0.1 degrees.\n",
    "```\n",
    "\n",
    "```{note}\n",
    "Once a request for data is done within the CDS-api, it could take few seconds\n",
    "or even hours to get back the data since our request is put in a queue. Check\n",
    "the status of your requests by logging the [CDS website](https://cds.climate.copernicus.eu/cdsapp#!/yourrequests)\n",
    "```\n",
    "\n",
    "In order to reduce storage needs, we perform masking to \"remove\" sea data and\n",
    "apply compression over all the variables. This reduces data storage by about\n",
    "80%. We only store the masked netCDF-files and remove the API-downloaded files.\n"
   ]
  },
  {
   "cell_type": "code",
   "execution_count": null,
   "id": "coral-lending",
   "metadata": {},
   "outputs": [],
   "source": [
    "# Setup for a two year period dataset\n",
    "# first_year = 2018\n",
    "# last_year = 2019\n",
    "# years = range(first_year, last_year+1)\n",
    "# months = range(1, 12+1)\n",
    "\n",
    "# Setup a shorter dataset time period (take only one day)\n",
    "years = [2023]\n",
    "months = [9]\n",
    "end_day = 1\n",
    "# ERA5 dataset name\n",
    "name = \"reanalysis-era5-single-levels\"\n",
    "name = \"reanalysis-era5-single-levels-monthly-means\"\n",
    "\n",
    "# Get datasets related to the following variables\n",
    "variables = [\n",
    "    \"10m_u_component_of_wind\",\n",
    "    \"10m_v_component_of_wind\",\n",
    "    \"2m_dewpoint_temperature\",\n",
    "    \"2m_temperature\",\n",
    "    \"total_precipitation\",\n",
    "]\n",
    "\n",
    "# Get data for every hour of the day\n",
    "all_hours = [str(i).zfill(2) + \":00\" for i in range(0, 23 + 1)]\n",
    "\n",
    "# Build the API query list\n",
    "api_request_list = []\n",
    "for year in years:\n",
    "    for month in months:\n",
    "        if name == \"reanalysis-era5-single-levels\":\n",
    "            for d in days_of_month(year, month)[slice(0, end_day)]:\n",
    "                for var in variables:\n",
    "                    api_request_list.append(\n",
    "                        {\n",
    "                            \"product_type\": \"reanalysis\",\n",
    "                            \"variable\": var,\n",
    "                            \"date\": d,\n",
    "                            \"time\": all_hours,\n",
    "                            \"format\": \"netcdf\",\n",
    "                        }\n",
    "                    )\n",
    "        elif name == \"reanalysis-era5-single-levels-monthly-means\":\n",
    "            for var in variables:\n",
    "                api_request_list.append(\n",
    "                    {\n",
    "                        \"product_type\": \"monthly_averaged_reanalysis\",\n",
    "                        \"variable\": var,\n",
    "                        \"year\": str(year),\n",
    "                        \"month\": str(month).zfill(2),\n",
    "                        \"time\": \"00:00\",\n",
    "                        \"format\": \"netcdf\",\n",
    "                    }\n",
    "                )\n",
    "\n",
    "# Mask dataset should be an array\n",
    "mask_land = xr.open_dataset(\"./src/mask_land.nc\").mask_land\n",
    "\n",
    "# Request data from\n",
    "request_thread(\n",
    "    api_request_list,\n",
    "    name,\n",
    "    url=contentUrl,\n",
    "    key=API_KEY,\n",
    "    path=path,\n",
    "    mask=mask_land,\n",
    "    max_workers=10,\n",
    ")"
   ]
  },
  {
   "cell_type": "markdown",
   "id": "collective-heater",
   "metadata": {},
   "source": [
    "Finally, we plot a masked air temperature dataset. Note that masking looks\n",
    "unsuccessful for high latitudes but this is probably due to the fact that\n",
    "in arctic regions it is unclear the difference between sea and land (i.e. ice)."
   ]
  },
  {
   "cell_type": "code",
   "execution_count": null,
   "id": "peripheral-theorem",
   "metadata": {},
   "outputs": [],
   "source": [
    "# Lazy-load of all the downloaded netCDF-files\n",
    "ds = xr.open_mfdataset(f\"{path}/masked_2m_temperature_*.nc\", mask_and_scale=True)\n",
    "\n",
    "# Select a timedate to plot\n",
    "data = ds.t2m.isel(time=0)\n",
    "\n",
    "# Make a raster figure with a costline\n",
    "fig = plt.figure(figsize=(20, 10))\n",
    "ax = plt.axes(projection=ccrs.Robinson())\n",
    "ax.coastlines(resolution=\"50m\")\n",
    "\n",
    "plot = data.plot.imshow(\n",
    "    cmap=plt.cm.coolwarm, transform=ccrs.PlateCarree(), cbar_kwargs={\"shrink\": 0.8}\n",
    ")\n",
    "\n",
    "plt.savefig(f\"{path}/air_temp_example.png\", dpi=150, format=\"png\", transparent=True)"
   ]
  },
  {
   "cell_type": "markdown",
   "id": "atlantic-spectacular",
   "metadata": {},
   "source": [
    "```{image} ./notebooks/data/era5/cds_api/air_temp_example.png\n",
    ":alt: Air temperature at 2m from ERA5 dataset\n",
    ":width: 800px\n",
    ":align: center\n",
    "```"
   ]
  }
 ],
 "metadata": {
  "jupytext": {
   "cell_metadata_filter": "-all",
   "main_language": "python",
   "notebook_metadata_filter": "-all"
  }
 },
 "nbformat": 4,
 "nbformat_minor": 5
}
