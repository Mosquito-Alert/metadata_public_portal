{
 "cells": [
  {
   "cell_type": "markdown",
   "id": "ideal-illinois",
   "metadata": {},
   "source": [
    "# Dataset: _reports_raw_\n",
    "\n",
    "```{note}\n",
    "Follow the code-example given for the dataset {doc}`reports <../notebooks/reports>`.\n",
    "```"
   ]
  }
 ],
 "metadata": {
  "jupytext": {
   "cell_metadata_filter": "-all",
   "main_language": "python",
   "notebook_metadata_filter": "-all"
  },
  "language_info": {
   "name": "python"
  }
 },
 "nbformat": 4,
 "nbformat_minor": 5
}
