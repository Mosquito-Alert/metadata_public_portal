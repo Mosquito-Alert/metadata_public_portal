{
 "cells": [
  {
   "cell_type": "markdown",
   "id": "previous-iraqi",
   "metadata": {},
   "source": [
    "# DataCatalog: analytic_tables\n",
    "\n",
    "Before we are able to download datasets that are part of the _analytic_tables_\n",
    "catalog we need a user name and password to ssh-access a remote machine.\n",
    "\n",
    "From our metadata catalog we are able to get all the necessary information\n",
    "to open a SFTP connection with the machine that holds our dataset. First we\n",
    "check what datasets are in the catalog."
   ]
  },
  {
   "cell_type": "code",
   "execution_count": null,
   "id": "typical-idaho",
   "metadata": {},
   "outputs": [],
   "source": [
    "\n",
    "import pandas as pd\n",
    "import pyarrow as pa\n",
    "import pyarrow.parquet.encryption as pe\n",
    "\n",
    "import src.utils as ut\n",
    "import src.ftp as ftp\n",
    "\n",
    "%load_ext autoreload\n",
    "%autoreload 2\n",
    "\n",
    "# Setup the root path of the application\n",
    "project_path = ut.project_path()\n",
    "\n",
    "# Load the metadata\n",
    "\n",
    "meta_filename = [\n",
    "    f\"{ut.project_path(1)}/meta/mosquito_alert/analytic_tables.json\",\n",
    "    f\"{ut.project_path(1)}/meta_ipynb/analytic_tables.html\",\n",
    "]\n",
    "metadata = ut.load_metadata(meta_filename)\n",
    "\n",
    "# Get contentUrl from metadata file\n",
    "ut.info_meta(metadata)"
   ]
  },
  {
   "cell_type": "markdown",
   "id": "fancy-sunglasses",
   "metadata": {},
   "source": [
    "## Dataset: _tigaserver_app_reports_"
   ]
  },
  {
   "cell_type": "markdown",
   "id": "determined-treasurer",
   "metadata": {},
   "source": [
    "### 1. Distribution by SFTP protocol from MosquitoAlert webserver"
   ]
  },
  {
   "cell_type": "markdown",
   "id": "fewer-disorder",
   "metadata": {
    "lines_to_next_cell": 0
   },
   "source": [
    "\n",
    "If we would like to download the dataset _tigaserver_app_reports_ we just\n",
    "needs its contentUrl information. Note that _analytic_tables_ has many\n",
    "parts (datasets) and one of those is _tigaserver_app_reports_ which is the\n",
    "second in the list of the _hasPart_ key attribute of the metadata file.\n"
   ]
  },
  {
   "cell_type": "code",
   "execution_count": null,
   "id": "serious-ambassador",
   "metadata": {},
   "outputs": [],
   "source": [
    "# Get the dataset tigaserver_app_reports form the _analytic_tables_ catalog\n",
    "idx_hasPart = 1\n",
    "contentUrl, dataset_name, distr_name = ut.get_meta(\n",
    "    metadata, idx_distribution=0, idx_hasPart=idx_hasPart, parse=True\n",
    ")\n",
    "dataset_metadata = metadata[\"hasPart\"][idx_hasPart]\n",
    "\n",
    "# Make folders for data download\n",
    "path = f\"{project_path}/data/{dataset_name}/{distr_name}\"\n",
    "ut.makedirs(path)"
   ]
  },
  {
   "cell_type": "code",
   "execution_count": null,
   "id": "standing-nursery",
   "metadata": {},
   "outputs": [],
   "source": [
    "# Insert user password to connect by ftp\n",
    "password = input(f\"Enter {contentUrl.username} user password:\")"
   ]
  },
  {
   "cell_type": "code",
   "execution_count": null,
   "id": "freelance-environment",
   "metadata": {},
   "outputs": [],
   "source": [
    "# Get schema info\n",
    "schema_parquet, schema_numpy, time_cols = ut.get_schema(dataset_metadata)"
   ]
  },
  {
   "cell_type": "code",
   "execution_count": null,
   "id": "e622acfc",
   "metadata": {},
   "outputs": [],
   "source": [
    "# Get the dataframe\n",
    "df = ftp.read_csv_sftp(\n",
    "    hostname=contentUrl.hostname,\n",
    "    port=contentUrl.port,\n",
    "    username=contentUrl.username,\n",
    "    password=password,\n",
    "    remotepath=contentUrl.path,\n",
    "    parse_dates=time_cols,\n",
    "    date_parser=lambda col: pd.to_datetime(col, utc=True, errors=\"coerce\"),\n",
    ")\n",
    "\n",
    "df = ut.apply_schema(df, schema_numpy)\n",
    "df.info()"
   ]
  },
  {
   "cell_type": "code",
   "execution_count": null,
   "id": "17a92d06",
   "metadata": {},
   "outputs": [],
   "source": [
    "# Convert the dataframe to parquet table\n",
    "table = pa.Table.from_pandas(df, schema=schema_parquet)\n",
    "\n",
    "# Save reports on CSV or parquet\n",
    "filename = f\"{path}/dataset\"\n",
    "pa.parquet.write_table(\n",
    "    table, f\"{filename}.parquet\"\n",
    ")  # very low file-size (need to install pyArrow)\n",
    "df.to_csv(f\"{filename}.csv\")  # x10 size if compared with the dataframe"
   ]
  },
  {
   "cell_type": "code",
   "execution_count": null,
   "id": "785e3190",
   "metadata": {},
   "outputs": [],
   "source": [
    "# Read parquet schema from file\n",
    "ut.read_parquet_schema(f\"{filename}.parquet\")"
   ]
  },
  {
   "cell_type": "code",
   "execution_count": null,
   "id": "3e0f3249",
   "metadata": {},
   "outputs": [],
   "source": [
    "from datetime import timedelta\n",
    "\n",
    "filename_encrypted = f\"{filename}_encrypted.parquet\"\n",
    "\n",
    "FOOTER_KEY = b\"0123456789112345\"\n",
    "FOOTER_KEY_NAME = \"footer_key\"\n",
    "COL_KEY = b\"1234567890123450\"\n",
    "COL_KEY_NAME = \"col_key\"\n",
    "\n",
    "encryption_config = pe.EncryptionConfiguration(\n",
    "    cache_lifetime=timedelta(minutes=5.0),\n",
    "    footer_key=FOOTER_KEY_NAME,\n",
    "    column_keys={\n",
    "        COL_KEY_NAME: [\"note\", \"user_id\"],\n",
    "    },\n",
    "    encryption_algorithm=\"AES_GCM_V1\",\n",
    "    data_key_length_bits=256,\n",
    "    plaintext_footer=True,\n",
    "    internal_key_material=True,\n",
    ")\n",
    "\n",
    "kms_connection_config = pe.KmsConnectionConfig(\n",
    "    custom_kms_conf={\n",
    "        FOOTER_KEY_NAME: FOOTER_KEY.decode(\"UTF-8\"),\n",
    "        COL_KEY_NAME: COL_KEY.decode(\"UTF-8\"),\n",
    "    }\n",
    ")\n",
    "\n",
    "\n",
    "def kms_factory(kms_connection_configuration):\n",
    "    return ut.InMemoryKmsClient(kms_connection_configuration)\n",
    "\n",
    "\n",
    "crypto_factory = pe.CryptoFactory(kms_factory)"
   ]
  },
  {
   "cell_type": "code",
   "execution_count": null,
   "id": "cb49344a",
   "metadata": {},
   "outputs": [],
   "source": [
    "# Write with encryption properties\n",
    "pa.parquet.write_table(\n",
    "    table,\n",
    "    filename_encrypted,\n",
    "    encryption_properties=crypto_factory.file_encryption_properties(\n",
    "        kms_connection_config, encryption_config\n",
    "    ),\n",
    ")"
   ]
  },
  {
   "cell_type": "code",
   "execution_count": null,
   "id": "fb3e99a7",
   "metadata": {
    "lines_to_next_cell": 0
   },
   "outputs": [],
   "source": [
    "# Read with decryption properties\n",
    "# NOTE: read_table does not work with encrypted files\n",
    "pfile = pa.parquet.ParquetFile(\n",
    "    filename_encrypted,\n",
    "    decryption_properties=crypto_factory.file_decryption_properties(\n",
    "        kms_connection_config\n",
    "    ),\n",
    ")\n",
    "table_decrypted = pfile.read(use_threads=True)"
   ]
  },
  {
   "cell_type": "code",
   "execution_count": null,
   "id": "825de5ee",
   "metadata": {},
   "outputs": [],
   "source": []
  }
 ],
 "metadata": {
  "jupytext": {
   "cell_metadata_filter": "-all",
   "main_language": "python",
   "notebook_metadata_filter": "-all"
  }
 },
 "nbformat": 4,
 "nbformat_minor": 5
}
