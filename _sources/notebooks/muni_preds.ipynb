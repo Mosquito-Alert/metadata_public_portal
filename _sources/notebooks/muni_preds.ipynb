{
 "cells": [
  {
   "cell_type": "markdown",
   "id": "75a8105c",
   "metadata": {},
   "source": [
    "# Dataset: _muni_preds_"
   ]
  },
  {
   "cell_type": "code",
   "execution_count": null,
   "id": "8b3ccd9a",
   "metadata": {},
   "outputs": [],
   "source": [
    "\n",
    "from datetime import datetime\n",
    "from datetime import timedelta\n",
    "import pandas as pd\n",
    "import requests\n",
    "\n",
    "import src.utils as ut\n",
    "\n",
    "# Setup the root path of the application\n",
    "project_path = ut.project_path()\n",
    "\n",
    "# Load the metadata\n",
    "\n",
    "meta_filename = [\n",
    "    f\"{ut.project_path(1)}/meta/mosquito_alert/muni_preds.json\",\n",
    "    f\"{ut.project_path(2)}/meta_ipynb/muni_preds.html\",\n",
    "]\n",
    "metadata = ut.load_metadata(meta_filename)\n",
    "\n",
    "# Get contentUrl from metadata file\n",
    "ut.info_meta(metadata)"
   ]
  },
  {
   "cell_type": "markdown",
   "id": "3d810cbb",
   "metadata": {
    "lines_to_next_cell": 0
   },
   "source": [
    "## 1. Distribution from Mosquito-Alert/MosquitoAlertES Github repository\n"
   ]
  },
  {
   "cell_type": "code",
   "execution_count": null,
   "id": "b450eeb7",
   "metadata": {},
   "outputs": [],
   "source": [
    "# Get metadata\n",
    "contentUrl, dataset_name, distr_name = ut.get_meta(\n",
    "    metadata, idx_distribution=0, idx_hasPart=None\n",
    ")\n",
    "\n",
    "# Make folders for data download\n",
    "path = f\"{project_path}/data/{dataset_name}/{distr_name}\"\n",
    "ut.makedirs(path)"
   ]
  },
  {
   "cell_type": "markdown",
   "id": "9ff6ca1f",
   "metadata": {},
   "source": [
    "This dataset has a **5 day forecast**. Here we take the past 2 weeks and\n",
    "the 5 days of forecast."
   ]
  },
  {
   "cell_type": "code",
   "execution_count": null,
   "id": "686f4e2a",
   "metadata": {},
   "outputs": [],
   "source": [
    "# Request a chunk of data in json format and concatenate all of them into a dataframe\n",
    "\n",
    "start = (datetime.now() - timedelta(days=14)).strftime(\"%Y-%m-%d\")\n",
    "end = (datetime.now() + timedelta(days=5)).strftime(\"%Y-%m-%d\")  # forecast\n",
    "date_range = pd.date_range(start, end)\n",
    "date_range = date_range.format(formatter=lambda x: x.strftime(\"%Y-%m-%d\"))\n",
    "\n",
    "df_muni_preds = []\n",
    "for date in date_range:\n",
    "    url = contentUrl.format(DATE=date)\n",
    "    r = requests.get(url)\n",
    "    d = r.json()\n",
    "    df_tmp = pd.DataFrame.from_records(d, coerce_float=True)\n",
    "    df_tmp.insert(0, \"DATE\", date)\n",
    "    df_muni_preds.append(df_tmp)\n",
    "\n",
    "df = pd.concat(df_muni_preds)\n",
    "df.info()"
   ]
  },
  {
   "cell_type": "code",
   "execution_count": null,
   "id": "e62b52ca",
   "metadata": {},
   "outputs": [],
   "source": [
    "# Save on CSV or parquet\n",
    "filename = f\"{path}/muni_preds\"\n",
    "df.to_parquet(f\"{filename}.parquet\")  # very low file-size (need to install pyArrow)\n",
    "df.to_csv(f\"{filename}.csv\")  # x10 size if compared with the dataframe"
   ]
  },
  {
   "cell_type": "code",
   "execution_count": null,
   "id": "974d5e8e",
   "metadata": {},
   "outputs": [],
   "source": [
    "# Make the plot relative to the Solórzano municipality.\n",
    "df.query(\"NAMEUNIT == 'Solórzano'\")[\n",
    "    [\"DATE\", \"ma_prob_mean\", \"ma_prob_mean_codnut3\"]\n",
    "].plot(x=\"DATE\", ylabel=\"Probability\", figsize=(8, 3))"
   ]
  },
  {
   "cell_type": "code",
   "execution_count": null,
   "id": "381d95ef",
   "metadata": {},
   "outputs": [],
   "source": []
  }
 ],
 "metadata": {
  "jupytext": {
   "cell_metadata_filter": "-all",
   "main_language": "python",
   "notebook_metadata_filter": "-all"
  }
 },
 "nbformat": 4,
 "nbformat_minor": 5
}
