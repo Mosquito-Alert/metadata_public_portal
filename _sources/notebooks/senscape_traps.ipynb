{
 "cells": [
  {
   "cell_type": "markdown",
   "id": "033cbeec",
   "metadata": {
    "lines_to_next_cell": 0
   },
   "source": [
    "# Dataset: _senscape_traps_\n"
   ]
  },
  {
   "cell_type": "code",
   "execution_count": null,
   "id": "2946d4a4",
   "metadata": {},
   "outputs": [],
   "source": [
    "import requests\n",
    "import pandas as pd\n",
    "\n",
    "import src.utils as ut\n",
    "from src import senscape\n",
    "\n",
    "# Setup the root path of the application\n",
    "project_path = ut.project_path()\n",
    "\n",
    "# Load the metadata\n",
    "\n",
    "meta_filename = [\n",
    "    f\"{ut.project_path(1)}/meta/mosquito_alert/irideon_senscape_traps.json\",\n",
    "    f\"{ut.project_path(2)}/meta_ipynb/irideon_senscape_traps.html\",\n",
    "]\n",
    "metadata = ut.load_metadata(meta_filename)\n",
    "\n",
    "# Get contentUrl from metadata file\n",
    "ut.info_meta(metadata)"
   ]
  },
  {
   "cell_type": "markdown",
   "id": "52aef57f",
   "metadata": {},
   "source": [
    "## 1. Distribution by API\n",
    "\n",
    "Before we are able to request data relative to irideon_senscape_traps dataset\n",
    "you need an API-key to get access. We have two available options: run a simple\n",
    "script that downloads by serial requests the data (see Section 1.1), or use a\n",
    "ad-hoc library which sends requests in parallel (see Section 1.2)."
   ]
  },
  {
   "cell_type": "code",
   "execution_count": null,
   "id": "6018c429",
   "metadata": {},
   "outputs": [],
   "source": [
    "API_KEY = input(\"Enter Senscape API-key: \")\n",
    "headers = {\"Authorization\": API_KEY}"
   ]
  },
  {
   "cell_type": "code",
   "execution_count": null,
   "id": "b576e6cc",
   "metadata": {},
   "outputs": [],
   "source": [
    "# Get metadata\n",
    "contentUrl, dataset_name, distr_name = ut.get_meta(\n",
    "    metadata, idx_distribution=0, idx_hasPart=None\n",
    ")\n",
    "\n",
    "# Make folders for data download\n",
    "path = f\"{project_path}/data/{dataset_name}/{distr_name}\"\n",
    "ut.makedirs(path)"
   ]
  },
  {
   "cell_type": "markdown",
   "id": "3626fe28",
   "metadata": {},
   "source": [
    "### 1.1 Get dataset with simple script\n",
    "\n",
    "This is a simple script example on how to download the complete dataset and\n",
    "how to update the CSV-file on demand. First, just get first five samples,\n",
    "make Pandas DataFrame and store as CSV"
   ]
  },
  {
   "cell_type": "code",
   "execution_count": null,
   "id": "a05b6659",
   "metadata": {},
   "outputs": [],
   "source": [
    "# Request just the first 5 records from the API\n",
    "url = contentUrl\n",
    "response = requests.get(\n",
    "    f\"{url}?sortOrder=asc&sortField=record_time&pageSize=5\", headers=headers\n",
    ")\n",
    "df = pd.DataFrame(response.json()[\"samples\"])"
   ]
  },
  {
   "cell_type": "code",
   "execution_count": null,
   "id": "a9121689",
   "metadata": {},
   "outputs": [],
   "source": [
    "# Save reports on CSV\n",
    "filename = f\"{path}/dataset\"\n",
    "df.to_csv(f\"{filename}.csv\")"
   ]
  },
  {
   "cell_type": "markdown",
   "id": "9f4b4235",
   "metadata": {},
   "source": [
    "At this point, load dataset from CSV, get record time of last sample and get\n",
    "all new samples in paginated download, add them to DataFrame and store as CSV"
   ]
  },
  {
   "cell_type": "code",
   "execution_count": null,
   "id": "2e666f2c",
   "metadata": {},
   "outputs": [],
   "source": [
    "# Read CSV\n",
    "df = pd.read_csv(f\"{filename}.csv\", index_col=0)\n",
    "df.head\n",
    "\n",
    "# Sort ascending by record time\n",
    "df_sorted = df.sort_values(by=\"record_time\")\n",
    "\n",
    "# Get last record time\n",
    "last_record_time = df.iloc[-1][\"record_time\"]\n",
    "# last_record_time = startDate='2021-06-01T00:00:00.000Z'\n",
    "\n",
    "page_number = 0\n",
    "page_size = 100\n",
    "\n",
    "query = (\n",
    "    f\"filterStart={last_record_time}&sortOrder=asc&\"\n",
    "    f\"sortField=record_time&pageSize={page_size}&pageNumber={page_number}\"\n",
    ")\n",
    "\n",
    "# Get first page and add to DataFrame\n",
    "data = requests.get(f\"{url}?{query}\", headers=headers)\n",
    "\n",
    "count = data.json()[\"count\"]  # Total count of samples newer than last record time\n",
    "page_df = pd.DataFrame(data.json()[\"samples\"])  # Make DataFrame of downloaded page\n",
    "df = pd.concat([df, page_df], ignore_index=True)  # Add DataFrame page to DataFrame\n",
    "\n",
    "tot_pages = int(count / page_size) + 1\n",
    "# Pagination loop to download the rest of the pages\n",
    "for page_number in range(1, tot_pages):\n",
    "    data = requests.get(\n",
    "        f\"{url}?filterStart={last_record_time}&sortOrder=asc&sortField=record_time&pageSize={page_size}&pageNumber={page_number}\",\n",
    "        headers=headers,\n",
    "    )\n",
    "    page_df = pd.DataFrame(data.json()[\"samples\"])  # Make DataFrame of downloaded page\n",
    "    df = pd.concat([df, page_df], ignore_index=True)  # Add DataFrame page to DataFrame\n",
    "    print(f\"Loop completed: {page_number}/{tot_pages}\")\n",
    "\n",
    "# Write to CSV\n",
    "df.to_csv(f\"{filename}.csv\")\n",
    "df.to_parquet(f\"{filename}.parquet\")"
   ]
  },
  {
   "cell_type": "markdown",
   "id": "9c983099",
   "metadata": {},
   "source": [
    "### 1.2. Get dataset with Senscape library\n",
    "\n",
    "Another option is to use the _senscape_ package that was made in order to feed\n",
    "the Mosquito Alert database table _tigapublic_irideon_. Its advantage over the\n",
    "above script is that it allows for multi thread requests (faster download time)\n",
    "and can be adapted to store data directly into a PostgreSQL database. On the\n",
    "other hand, it requires more dependencies to install."
   ]
  },
  {
   "cell_type": "code",
   "execution_count": null,
   "id": "3683e53d",
   "metadata": {},
   "outputs": [],
   "source": [
    "# Set the request range for all the dataset\n",
    "# startDate='2021-06-01T00:00:00.000Z', # example dateTime format\n",
    "startDate = \"\"\n",
    "count = senscape.getCount(headers, startDate=startDate)\n",
    "\n",
    "# Alternative startDate if first request attempt fails because of history data limit\n",
    "if count == 0:\n",
    "    startDate = \"2020-08-05T00:00:00.000Z\"\n",
    "    count = senscape.getCount(headers, startDate=startDate)\n",
    "\n",
    "urls = senscape.getUrls(count, pageSize=1000, startDate=startDate)\n",
    "\n",
    "# Get the data. Adjust timeout if needed since API's response could be slow\n",
    "df = senscape.requestExecutor(\n",
    "    urls, headers, timeout=None, workers=4, set_sort_index=\"record_time\", df_query=\"\"\n",
    ")\n",
    "df.info()"
   ]
  },
  {
   "cell_type": "code",
   "execution_count": null,
   "id": "64e6dabe",
   "metadata": {},
   "outputs": [],
   "source": [
    "# Save reports on CSV\n",
    "filename = f\"{path}/dataset\"\n",
    "df.to_csv(f\"{filename}.csv\")\n",
    "df.to_parquet(f\"{filename}.parquet\")"
   ]
  },
  {
   "cell_type": "code",
   "execution_count": null,
   "id": "0dad4eaf",
   "metadata": {},
   "outputs": [],
   "source": []
  }
 ],
 "metadata": {
  "jupytext": {
   "cell_metadata_filter": "-all",
   "main_language": "python",
   "notebook_metadata_filter": "-all"
  }
 },
 "nbformat": 4,
 "nbformat_minor": 5
}
