{
 "cells": [
  {
   "cell_type": "markdown",
   "id": "4a6d3b7f",
   "metadata": {
    "papermill": {
     "duration": 0.009427,
     "end_time": "2024-07-01T13:29:38.855914",
     "exception": false,
     "start_time": "2024-07-01T13:29:38.846487",
     "status": "completed"
    },
    "tags": []
   },
   "source": [
    "# Metadata table"
   ]
  },
  {
   "cell_type": "code",
   "execution_count": 1,
   "id": "2c7b4d04",
   "metadata": {
    "execution": {
     "iopub.execute_input": "2024-07-01T13:29:38.869225Z",
     "iopub.status.busy": "2024-07-01T13:29:38.868918Z",
     "iopub.status.idle": "2024-07-01T13:29:38.883308Z",
     "shell.execute_reply": "2024-07-01T13:29:38.882560Z"
    },
    "papermill": {
     "duration": 0.023656,
     "end_time": "2024-07-01T13:29:38.886150",
     "exception": false,
     "start_time": "2024-07-01T13:29:38.862494",
     "status": "completed"
    },
    "tags": [
     "remove-input"
    ]
   },
   "outputs": [],
   "source": [
    "# NO CODE\n",
    "from json2html import json2html\n",
    "import json, re\n",
    "from IPython.display import HTML"
   ]
  },
  {
   "cell_type": "code",
   "execution_count": 2,
   "id": "4e004750",
   "metadata": {
    "execution": {
     "iopub.execute_input": "2024-07-01T13:29:38.901840Z",
     "iopub.status.busy": "2024-07-01T13:29:38.901251Z",
     "iopub.status.idle": "2024-07-01T13:29:38.907502Z",
     "shell.execute_reply": "2024-07-01T13:29:38.906853Z"
    },
    "papermill": {
     "duration": 0.017293,
     "end_time": "2024-07-01T13:29:38.910959",
     "exception": false,
     "start_time": "2024-07-01T13:29:38.893666",
     "status": "completed"
    },
    "tags": [
     "parameters",
     "remove-input"
    ]
   },
   "outputs": [],
   "source": [
    "# NO CODE\n",
    "# PARAMETERS\n",
    "path = './meta/environment/meteocat_xema'"
   ]
  },
  {
   "cell_type": "code",
   "execution_count": 3,
   "id": "4eef430f",
   "metadata": {
    "execution": {
     "iopub.execute_input": "2024-07-01T13:29:38.929518Z",
     "iopub.status.busy": "2024-07-01T13:29:38.928107Z",
     "iopub.status.idle": "2024-07-01T13:29:38.935351Z",
     "shell.execute_reply": "2024-07-01T13:29:38.933833Z"
    },
    "papermill": {
     "duration": 0.018601,
     "end_time": "2024-07-01T13:29:38.938238",
     "exception": false,
     "start_time": "2024-07-01T13:29:38.919637",
     "status": "completed"
    },
    "tags": [
     "injected-parameters"
    ]
   },
   "outputs": [],
   "source": [
    "# Parameters\n",
    "path = \"./meta/mosquito_alert/mwi\"\n"
   ]
  },
  {
   "cell_type": "code",
   "execution_count": 4,
   "id": "5a82c300",
   "metadata": {
    "execution": {
     "iopub.execute_input": "2024-07-01T13:29:38.956807Z",
     "iopub.status.busy": "2024-07-01T13:29:38.955168Z",
     "iopub.status.idle": "2024-07-01T13:29:38.975913Z",
     "shell.execute_reply": "2024-07-01T13:29:38.974799Z"
    },
    "papermill": {
     "duration": 0.030931,
     "end_time": "2024-07-01T13:29:38.979054",
     "exception": false,
     "start_time": "2024-07-01T13:29:38.948123",
     "status": "completed"
    },
    "tags": [
     "remove-input",
     "full-width"
    ]
   },
   "outputs": [
    {
     "data": {
      "text/html": [
       "<table border=\"1\"><tr><th>$schema</th><td style=text-align:left>../schema.json</td></tr><tr><th>@context</th><td style=text-align:left><table border=\"1\"><tr><th>@vocab</th><td style=text-align:left>https://schema.org/</td></tr><tr><th>qudt</th><td style=text-align:left>http://qudt.org/schema/qudt/</td></tr><tr><th>xsd</th><td style=text-align:left>http://www.w3.org/2001/XMLSchema#</td></tr></table></td></tr><tr><th>@type</th><td style=text-align:left>Dataset</td></tr><tr><th>name</th><td style=text-align:left>mwi</td></tr><tr><th>conditionsOfAccess</th><td style=text-align:left>Public</td></tr><tr><th>description</th><td style=text-align:left>Mosquito Weather Index (MWI) hourly worldwide computed on ERA5 and NCEP data on 0.25 degree raster-grid. This index shows the habitat suitability for mosquitoes. This dataset is not intended for general public access because of its size.</td></tr><tr><th>license</th><td style=text-align:left>https://creativecommons.org/publicdomain/zero/1.0/</td></tr><tr><th>citation</th><td style=text-align:left><ul><li></li></ul></td></tr><tr><th>temporalCoverage</th><td style=text-align:left>Same as era5 and ncep datasets</td></tr><tr><th>spatialCoverage</th><td style=text-align:left><table border=\"1\"><tr><th>@type</th><td style=text-align:left>Place</td></tr><tr><th>name</th><td style=text-align:left>Worldwide</td></tr><tr><th>sameAs</th><td style=text-align:left>https://www.wikidata.org/wiki/Q13780930</td></tr></table></td></tr><tr><th>distribution</th><td style=text-align:left><ul><li><table border=\"1\"><tr><th>@type</th><td style=text-align:left>DataDownload</td></tr><tr><th>name</th><td style=text-align:left>cluster_ceab</td></tr><tr><th>description</th><td style=text-align:left>Distribution by CSIC-CEAB cluster</td></tr><tr><th>encodingFormat</th><td style=text-align:left>netCDF</td></tr><tr><th>workExample</th><td style=text-align:left>./notebooks/mwi.py</td></tr><tr><th>contentUrl</th><td style=text-align:left><ul><li>sftp://{USER}@cluster-ceab:/leov1/ncep/mwi_daily_avg/{YEAR-MONTH-DAY}/mwi_daily_avg_t_{YEAR-MONTH-DAY}.nc</li><li>sftp://{USER}@cluster-ceab:/leov1/era5/mwi_daily_avg/mwi_daily_avg_t_{YEAR-MONTH-DAY}.nc</li></ul></td></tr><tr><th>contentSize</th><td style=text-align:left>100kB</td></tr></table></li></ul></td></tr><tr><th>variableMeasured</th><td style=text-align:left><ul><li><table border=\"1\"><tr><th>@type</th><td style=text-align:left>PropertyValue</td></tr><tr><th>name</th><td style=text-align:left>mwi</td></tr><tr><th>description</th><td style=text-align:left>Mosquito Weather Index on averaged on daily basis from hourly weather datasets</td></tr><tr><th>qudt:dataType</th><td style=text-align:left>xsd:int</td></tr></table></li></ul></td></tr><tr><th>creator</th><td style=text-align:left><ul><li><table border=\"1\"><tr><th>@type</th><td style=text-align:left>Project</td></tr><tr><th>@id</th><td style=text-align:left>MA</td></tr><tr><th>name</th><td style=text-align:left>Mosquito Alert, Proyecto Coordinado por CREAF, CEAB-CSIC e ICREA</td></tr><tr><th>contactPoint</th><td style=text-align:left><table border=\"1\"><tr><th>@type</th><td style=text-align:left>ContactPoint</td></tr><tr><th>email</th><td style=text-align:left>info@mosquitoalert.com</td></tr><tr><th>url</th><td style=text-align:left>http://www.mosquitoalert.com/</td></tr></table></td></tr></table></li><li><table border=\"1\"><tr><th>@type</th><td style=text-align:left>Person</td></tr><tr><th>@id</th><td style=text-align:left>JP</td></tr><tr><th>name</th><td style=text-align:left>Palmer, John Rossman Bertholf</td></tr><tr><th>identifier</th><td style=text-align:left>https://orcid.org/0000-0002-2648-7860</td></tr><tr><th>contactPoint</th><td style=text-align:left><table border=\"1\"><tr><th>@type</th><td style=text-align:left>ContactPoint</td></tr><tr><th>contactType</th><td style=text-align:left>principal investigator</td></tr><tr><th>email</th><td style=text-align:left>john.palmer@upf.edu</td></tr><tr><th>url</th><td style=text-align:left>https://www.upf.edu/web/gritim/entry/-/-/50722/adscripcion/john-rossman-bertholf-palmer/</td></tr></table></td></tr></table></li><li><table border=\"1\"><tr><th>@type</th><td style=text-align:left>Person</td></tr><tr><th>@id</th><td style=text-align:left>ZJ</td></tr><tr><th>name</th><td style=text-align:left>Južnič Zonta, Živko</td></tr><tr><th>identifier</th><td style=text-align:left>https://orcid.org/0000-0002-2362-9771</td></tr><tr><th>contactPoint</th><td style=text-align:left><table border=\"1\"><tr><th>@type</th><td style=text-align:left>ContactPoint</td></tr><tr><th>contactType</th><td style=text-align:left>data engineer</td></tr><tr><th>email</th><td style=text-align:left>jzivko@gmail.com</td></tr><tr><th>url</th><td style=text-align:left>https://es.linkedin.com/in/zivko</td></tr></table></td></tr></table></li></ul></td></tr><tr><th>measurementTechnique</th><td style=text-align:left><ul><li></li></ul></td></tr></table>"
      ],
      "text/plain": [
       "<IPython.core.display.HTML object>"
      ]
     },
     "execution_count": 4,
     "metadata": {},
     "output_type": "execute_result"
    }
   ],
   "source": [
    "# NO CODE\n",
    "# FULL WIDTH\n",
    "with open(f'{path}.json') as f:\n",
    "    data = json.load(f)\n",
    "\n",
    "table = json2html.convert(json=data, clubbing=False)\n",
    "table_sub = re.sub('<td>', '<td style=text-align:left>', table)\n",
    "\n",
    "HTML(table_sub)\n",
    "\n",
    "# Run the following in the command line to build a html table\n",
    "# $ jupyter nbconvert --to html --no-input --no-prompt build_tables.ipynb\n"
   ]
  },
  {
   "cell_type": "code",
   "execution_count": null,
   "id": "996c722e",
   "metadata": {
    "papermill": {
     "duration": 0.008417,
     "end_time": "2024-07-01T13:29:39.001612",
     "exception": false,
     "start_time": "2024-07-01T13:29:38.993195",
     "status": "completed"
    },
    "tags": []
   },
   "outputs": [],
   "source": []
  }
 ],
 "metadata": {
  "interpreter": {
   "hash": "524d3359b179f3b444361f48db8ae048bd8c237924fac1cd48a4c6f8144f6452"
  },
  "kernelspec": {
   "display_name": "Python 3.7.10 64-bit ('scidb': conda)",
   "language": "python",
   "name": "python3"
  },
  "language_info": {
   "codemirror_mode": {
    "name": "ipython",
    "version": 3
   },
   "file_extension": ".py",
   "mimetype": "text/x-python",
   "name": "python",
   "nbconvert_exporter": "python",
   "pygments_lexer": "ipython3",
   "version": "3.10.4"
  },
  "metadata": {
   "interpreter": {
    "hash": "e3961729dbf4ff77740ff872c9a3eef08621b5b434e3d8d81026af4505918c74"
   }
  },
  "papermill": {
   "default_parameters": {},
   "duration": 1.691261,
   "end_time": "2024-07-01T13:29:39.331662",
   "environment_variables": {},
   "exception": null,
   "input_path": "build_info.ipynb",
   "output_path": "./meta_ipynb/mwi.ipynb",
   "parameters": {
    "path": "./meta/mosquito_alert/mwi"
   },
   "start_time": "2024-07-01T13:29:37.640401",
   "version": "2.3.4"
  }
 },
 "nbformat": 4,
 "nbformat_minor": 5
}