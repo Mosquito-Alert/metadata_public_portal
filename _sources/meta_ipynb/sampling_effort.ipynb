{
 "cells": [
  {
   "cell_type": "markdown",
   "id": "f26af1d9",
   "metadata": {
    "papermill": {
     "duration": 0.009906,
     "end_time": "2024-01-08T08:29:50.969437",
     "exception": false,
     "start_time": "2024-01-08T08:29:50.959531",
     "status": "completed"
    },
    "tags": []
   },
   "source": [
    "# Metadata table"
   ]
  },
  {
   "cell_type": "code",
   "execution_count": 1,
   "id": "8b1fb6d4",
   "metadata": {
    "execution": {
     "iopub.execute_input": "2024-01-08T08:29:50.981493Z",
     "iopub.status.busy": "2024-01-08T08:29:50.981205Z",
     "iopub.status.idle": "2024-01-08T08:29:50.997475Z",
     "shell.execute_reply": "2024-01-08T08:29:50.996459Z"
    },
    "papermill": {
     "duration": 0.025818,
     "end_time": "2024-01-08T08:29:51.000281",
     "exception": false,
     "start_time": "2024-01-08T08:29:50.974463",
     "status": "completed"
    },
    "tags": [
     "remove-input"
    ]
   },
   "outputs": [],
   "source": [
    "# NO CODE\n",
    "from json2html import json2html\n",
    "import json, re\n",
    "from IPython.display import HTML"
   ]
  },
  {
   "cell_type": "code",
   "execution_count": 2,
   "id": "c2efb1af",
   "metadata": {
    "execution": {
     "iopub.execute_input": "2024-01-08T08:29:51.014589Z",
     "iopub.status.busy": "2024-01-08T08:29:51.014341Z",
     "iopub.status.idle": "2024-01-08T08:29:51.018385Z",
     "shell.execute_reply": "2024-01-08T08:29:51.017347Z"
    },
    "papermill": {
     "duration": 0.013218,
     "end_time": "2024-01-08T08:29:51.021305",
     "exception": false,
     "start_time": "2024-01-08T08:29:51.008087",
     "status": "completed"
    },
    "tags": [
     "parameters",
     "remove-input"
    ]
   },
   "outputs": [],
   "source": [
    "# NO CODE\n",
    "# PARAMETERS\n",
    "path = './meta/environment/meteocat_xema'"
   ]
  },
  {
   "cell_type": "code",
   "execution_count": 3,
   "id": "aaa10df1",
   "metadata": {
    "execution": {
     "iopub.execute_input": "2024-01-08T08:29:51.039043Z",
     "iopub.status.busy": "2024-01-08T08:29:51.037501Z",
     "iopub.status.idle": "2024-01-08T08:29:51.044799Z",
     "shell.execute_reply": "2024-01-08T08:29:51.043520Z"
    },
    "papermill": {
     "duration": 0.017073,
     "end_time": "2024-01-08T08:29:51.047500",
     "exception": false,
     "start_time": "2024-01-08T08:29:51.030427",
     "status": "completed"
    },
    "tags": [
     "injected-parameters"
    ]
   },
   "outputs": [],
   "source": [
    "# Parameters\n",
    "path = \"./meta/mosquito_alert/sampling_effort\"\n"
   ]
  },
  {
   "cell_type": "code",
   "execution_count": 4,
   "id": "8fabafc4",
   "metadata": {
    "execution": {
     "iopub.execute_input": "2024-01-08T08:29:51.064266Z",
     "iopub.status.busy": "2024-01-08T08:29:51.062581Z",
     "iopub.status.idle": "2024-01-08T08:29:51.085772Z",
     "shell.execute_reply": "2024-01-08T08:29:51.084198Z"
    },
    "papermill": {
     "duration": 0.035061,
     "end_time": "2024-01-08T08:29:51.089123",
     "exception": false,
     "start_time": "2024-01-08T08:29:51.054062",
     "status": "completed"
    },
    "tags": [
     "remove-input",
     "full-width"
    ]
   },
   "outputs": [
    {
     "data": {
      "text/html": [
       "<table border=\"1\"><tr><th>$schema</th><td style=text-align:left>../schema.json</td></tr><tr><th>@context</th><td style=text-align:left><table border=\"1\"><tr><th>@vocab</th><td style=text-align:left>https://schema.org/</td></tr><tr><th>qudt</th><td style=text-align:left>http://qudt.org/schema/qudt/</td></tr><tr><th>xsd</th><td style=text-align:left>http://www.w3.org/2001/XMLSchema#</td></tr></table></td></tr><tr><th>@type</th><td style=text-align:left>Dataset</td></tr><tr><th>name</th><td style=text-align:left>sampling_effort</td></tr><tr><th>conditionsOfAccess</th><td style=text-align:left>Public</td></tr><tr><th>description</th><td style=text-align:left>Daily participant counts and sampling effort in 0.025 and 0.05 degree lon/lat sampling cells. The temporal coverage for 0.025 starts from 2018, while for 0.05 degree resolution starts from 2014. This dataset is updated nightly. It can be used for a variety of purposes, including (a) to adjust estimates of mosquito population densities and human-mosquito encounters based on sampling effort, and (b) to better understand the dynamics of citizen scientists&#x27; participation. The data is organized spatially by grids of sampling cells, drawn at intervals of 0.05 degree and 0.025 degree latitude and longitude, and it is based on optional anonymous background tracks from the Mosquito Alert app. The dataset includes raw track counts aggregated in sampling cells, along with estimates of sampling effort based on a model of participants&#x27; propensity to send any report as a function of the time elapsed since they first began participating.</td></tr><tr><th>identifier</th><td style=text-align:left></td></tr><tr><th>license</th><td style=text-align:left>https://creativecommons.org/publicdomain/zero/1.0/</td></tr><tr><th>citation</th><td style=text-align:left><ul><li>Palmer, J. R. B., “Citizen science provides a reliable and scalable tool to track disease-carrying mosquitoes”, Nature Communications, vol. 8, 2017. doi:10.1038/s41467-017-00914-9</li></ul></td></tr><tr><th>temporalCoverage</th><td style=text-align:left>2014/..</td></tr><tr><th>spatialCoverage</th><td style=text-align:left><table border=\"1\"><tr><th>@type</th><td style=text-align:left>Place</td></tr><tr><th>name</th><td style=text-align:left>Worldwide</td></tr><tr><th>sameAs</th><td style=text-align:left>https://www.wikidata.org/wiki/Q13780930</td></tr></table></td></tr><tr><th>distribution</th><td style=text-align:left><ul><li><table border=\"1\"><tr><th>@type</th><td style=text-align:left>DataDownload</td></tr><tr><th>name</th><td style=text-align:left>zenodo</td></tr><tr><th>description</th><td style=text-align:left>Distribution from Zenodo cloud</td></tr><tr><th>encodingFormat</th><td style=text-align:left>CSV.GZ</td></tr><tr><th>workExample</th><td style=text-align:left>./notebooks/sampling_effort.py</td></tr><tr><th>contentUrl</th><td style=text-align:left><ul><li>https://doi.org/10.5281/zenodo.5802476</li></ul></td></tr><tr><th>contentSize</th><td style=text-align:left>11MB</td></tr></table></li><li><table border=\"1\"><tr><th>@type</th><td style=text-align:left>DataDownload</td></tr><tr><th>name</th><td style=text-align:left>mosquitoalert_github</td></tr><tr><th>description</th><td style=text-align:left>Distribution from MosquitoAlert Github repository</td></tr><tr><th>encodingFormat</th><td style=text-align:left>CSV.GZ</td></tr><tr><th>workExample</th><td style=text-align:left>./notebooks/sampling_effort.py</td></tr><tr><th>contentUrl</th><td style=text-align:left><ul><li>https://github.com/Mosquito-Alert/sampling_effort_data/raw/main/sampling_effort_daily_cellres_025.csv.gz</li><li>https://github.com/Mosquito-Alert/sampling_effort_data/raw/main/sampling_effort_daily_cellres_05.csv.gz</li></ul></td></tr><tr><th>contentSize</th><td style=text-align:left>11MB</td></tr></table></li></ul></td></tr><tr><th>variableMeasured</th><td style=text-align:left><ul><li><table border=\"1\"><tr><th>@type</th><td style=text-align:left>PropertyValue</td></tr><tr><th>name</th><td style=text-align:left>masked_lon</td></tr><tr><th>description</th><td style=text-align:left>Longitude of the SW corner of the sampling cell.</td></tr><tr><th>unitText</th><td style=text-align:left>degrees</td></tr><tr><th>qudt:dataType</th><td style=text-align:left>xsd:float</td></tr></table></li><li><table border=\"1\"><tr><th>@type</th><td style=text-align:left>PropertyValue</td></tr><tr><th>name</th><td style=text-align:left>masked_lat</td></tr><tr><th>description</th><td style=text-align:left>Latitude of the SW corner of the sampling cell.</td></tr><tr><th>unitText</th><td style=text-align:left>degrees</td></tr><tr><th>qudt:dataType</th><td style=text-align:left>xsd:float</td></tr></table></li><li><table border=\"1\"><tr><th>@type</th><td style=text-align:left>PropertyValue</td></tr><tr><th>name</th><td style=text-align:left>TigacellID</td></tr><tr><th>description</th><td style=text-align:left>Unique identifier of the sampling cell (formed simply by pasting together masked_lon and masked_lat, seperated by an underscore (_).</td></tr><tr><th>unitText</th><td style=text-align:left></td></tr><tr><th>qudt:dataType</th><td style=text-align:left>xsd:string</td></tr></table></li><li><table border=\"1\"><tr><th>@type</th><td style=text-align:left>PropertyValue</td></tr><tr><th>name</th><td style=text-align:left>date</td></tr><tr><th>description</th><td style=text-align:left>Date of the observation/estimate. YYYY-MM-Dd.</td></tr><tr><th>unitText</th><td style=text-align:left></td></tr><tr><th>qudt:dataType</th><td style=text-align:left>xsd:date</td></tr></table></li><li><table border=\"1\"><tr><th>@type</th><td style=text-align:left>PropertyValue</td></tr><tr><th>name</th><td style=text-align:left>n_participants</td></tr><tr><th>description</th><td style=text-align:left>Number of background tracks recorded in this cell on the given date. Note that some participants may be recorded more than once during a given day, and that some participants may not be recorded at all even though they were present in the cell, so this value is not necessarily the number of unique participants in the cell.</td></tr><tr><th>unitText</th><td style=text-align:left></td></tr><tr><th>qudt:dataType</th><td style=text-align:left>xsd:int</td></tr></table></li><li><table border=\"1\"><tr><th>@type</th><td style=text-align:left>PropertyValue</td></tr><tr><th>name</th><td style=text-align:left>SE_expected</td></tr><tr><th>description</th><td style=text-align:left>Sampling Effort Expected is an estimate of the expected number of participants who would send at least one report from the cell on that specific day. It&#x27;s calculated based on the number of participants recorded in the cell and the duration since each participant started engaging with the project. This value is a useful measure of sampling effort in models in which the outcome is a count (for example, the number of valid Ae. albopictus reports from a given cell during a given time period)</td></tr><tr><th>unitText</th><td style=text-align:left></td></tr><tr><th>qudt:dataType</th><td style=text-align:left>xsd:float</td></tr></table></li><li><table border=\"1\"><tr><th>@type</th><td style=text-align:left>PropertyValue</td></tr><tr><th>name</th><td style=text-align:left>SE</td></tr><tr><th>description</th><td style=text-align:left>Similar to SE_expected, Sampling Effort represents the probability of at least one report being sent from the cell on the given day. Like SE_expected, it&#x27;s calculated based on the number of participants in the cell and their duration of participation in the project, but in this case it is the probability of at least one report overall, regardless of how  many different participants send one. This value is a useful measure of sampling effort in presence/absence models.</td></tr><tr><th>unitText</th><td style=text-align:left></td></tr><tr><th>qudt:dataType</th><td style=text-align:left>xsd:float</td></tr></table></li></ul></td></tr><tr><th>creator</th><td style=text-align:left><ul><li><table border=\"1\"><tr><th>@type</th><td style=text-align:left>Organization</td></tr><tr><th>@id</th><td style=text-align:left>CEAB</td></tr><tr><th>name</th><td style=text-align:left>Consejo Superior de Investigaciones Científicas - Centro de Estudios Avanzados de Blanes (CSIC-CEAB)</td></tr></table></li><li><table border=\"1\"><tr><th>@type</th><td style=text-align:left>Person</td></tr><tr><th>@id</th><td style=text-align:left>JP</td></tr><tr><th>name</th><td style=text-align:left>Palmer, John Rossman Bertholf</td></tr></table></li><li><table border=\"1\"><tr><th>@type</th><td style=text-align:left>Person</td></tr><tr><th>@id</th><td style=text-align:left>AE</td></tr><tr><th>name</th><td style=text-align:left>Escobar Rúbies, Agustí</td></tr></table></li></ul></td></tr><tr><th>measurementTechnique</th><td style=text-align:left><ul><li>Sampling. Anonymous citizen scientists send reports of possible observations of mosquitoes, their breeding sites and bites using the open source and free smartphone app Mosquito Alert. To send an observation, participants need to answer a small questionnaire (taxonomic questions in the case of mosquitoes or some descriptors in the case of breeding sites), indicate the location (current participant location or selecting it on a map), add a picture (optional) and notes or comments (optional). The app and project website offers information to help identify the target species and take good pictures that allow a proper post validation from entomologists (see more information onQuality Control section). Participants can edit or remove the observation at any time (only if the participant still maintains the Mosquito Alert app in their phone). The last version of each report is considered the prevailing information. There is no pre-set sampling frequency: participants can send as many data as they like. The project runs &quot;face-to-face data collection events&quot; mainly in schools, meaning that in some places and for a given time period, data sampling might be more intense. This is also true when and where there has been a particular dissemination event.</li><li>Quality control. Each report containing at least one picture evaluated by three independent entomologist and, if needed, reviewed by a fourth expert(senior entomologist). The dataset only includes reports from citizen staged by them as &quot;adult mosquito&quot;, that contain at least one picture and that it has been evaluated by entomological experts.</li></ul></td></tr></table>"
      ],
      "text/plain": [
       "<IPython.core.display.HTML object>"
      ]
     },
     "execution_count": 4,
     "metadata": {},
     "output_type": "execute_result"
    }
   ],
   "source": [
    "# NO CODE\n",
    "# FULL WIDTH\n",
    "with open(f'{path}.json') as f:\n",
    "    data = json.load(f)\n",
    "\n",
    "table = json2html.convert(json=data, clubbing=False)\n",
    "table_sub = re.sub('<td>', '<td style=text-align:left>', table)\n",
    "\n",
    "HTML(table_sub)\n",
    "\n",
    "# Run the following in the command line to build a html table\n",
    "# $ jupyter nbconvert --to html --no-input --no-prompt build_tables.ipynb\n"
   ]
  },
  {
   "cell_type": "code",
   "execution_count": null,
   "id": "052a5526",
   "metadata": {
    "papermill": {
     "duration": 0.00689,
     "end_time": "2024-01-08T08:29:51.103080",
     "exception": false,
     "start_time": "2024-01-08T08:29:51.096190",
     "status": "completed"
    },
    "tags": []
   },
   "outputs": [],
   "source": []
  }
 ],
 "metadata": {
  "interpreter": {
   "hash": "524d3359b179f3b444361f48db8ae048bd8c237924fac1cd48a4c6f8144f6452"
  },
  "kernelspec": {
   "display_name": "Python 3.7.10 64-bit ('scidb': conda)",
   "language": "python",
   "name": "python3"
  },
  "language_info": {
   "codemirror_mode": {
    "name": "ipython",
    "version": 3
   },
   "file_extension": ".py",
   "mimetype": "text/x-python",
   "name": "python",
   "nbconvert_exporter": "python",
   "pygments_lexer": "ipython3",
   "version": "3.10.4"
  },
  "metadata": {
   "interpreter": {
    "hash": "e3961729dbf4ff77740ff872c9a3eef08621b5b434e3d8d81026af4505918c74"
   }
  },
  "papermill": {
   "default_parameters": {},
   "duration": 1.465489,
   "end_time": "2024-01-08T08:29:51.434660",
   "environment_variables": {},
   "exception": null,
   "input_path": "build_info.ipynb",
   "output_path": "./meta_ipynb/sampling_effort.ipynb",
   "parameters": {
    "path": "./meta/mosquito_alert/sampling_effort"
   },
   "start_time": "2024-01-08T08:29:49.969171",
   "version": "2.3.4"
  }
 },
 "nbformat": 4,
 "nbformat_minor": 5
}