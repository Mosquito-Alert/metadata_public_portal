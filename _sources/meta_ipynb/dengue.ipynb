{
 "cells": [
  {
   "cell_type": "markdown",
   "id": "460ea9ce",
   "metadata": {
    "papermill": {
     "duration": 0.008702,
     "end_time": "2024-01-08T08:30:26.016806",
     "exception": false,
     "start_time": "2024-01-08T08:30:26.008104",
     "status": "completed"
    },
    "tags": []
   },
   "source": [
    "# Metadata table"
   ]
  },
  {
   "cell_type": "code",
   "execution_count": 1,
   "id": "31bd4034",
   "metadata": {
    "execution": {
     "iopub.execute_input": "2024-01-08T08:30:26.031517Z",
     "iopub.status.busy": "2024-01-08T08:30:26.030051Z",
     "iopub.status.idle": "2024-01-08T08:30:26.048917Z",
     "shell.execute_reply": "2024-01-08T08:30:26.048137Z"
    },
    "papermill": {
     "duration": 0.027715,
     "end_time": "2024-01-08T08:30:26.051090",
     "exception": false,
     "start_time": "2024-01-08T08:30:26.023375",
     "status": "completed"
    },
    "tags": [
     "remove-input"
    ]
   },
   "outputs": [],
   "source": [
    "# NO CODE\n",
    "from json2html import json2html\n",
    "import json, re\n",
    "from IPython.display import HTML"
   ]
  },
  {
   "cell_type": "code",
   "execution_count": 2,
   "id": "ed46fdd5",
   "metadata": {
    "execution": {
     "iopub.execute_input": "2024-01-08T08:30:26.066206Z",
     "iopub.status.busy": "2024-01-08T08:30:26.065689Z",
     "iopub.status.idle": "2024-01-08T08:30:26.071703Z",
     "shell.execute_reply": "2024-01-08T08:30:26.070413Z"
    },
    "papermill": {
     "duration": 0.015993,
     "end_time": "2024-01-08T08:30:26.073918",
     "exception": false,
     "start_time": "2024-01-08T08:30:26.057925",
     "status": "completed"
    },
    "tags": [
     "parameters",
     "remove-input"
    ]
   },
   "outputs": [],
   "source": [
    "# NO CODE\n",
    "# PARAMETERS\n",
    "path = './meta/environment/meteocat_xema'"
   ]
  },
  {
   "cell_type": "code",
   "execution_count": 3,
   "id": "2570f897",
   "metadata": {
    "execution": {
     "iopub.execute_input": "2024-01-08T08:30:26.087849Z",
     "iopub.status.busy": "2024-01-08T08:30:26.087497Z",
     "iopub.status.idle": "2024-01-08T08:30:26.093151Z",
     "shell.execute_reply": "2024-01-08T08:30:26.092412Z"
    },
    "papermill": {
     "duration": 0.015337,
     "end_time": "2024-01-08T08:30:26.095239",
     "exception": false,
     "start_time": "2024-01-08T08:30:26.079902",
     "status": "completed"
    },
    "tags": [
     "injected-parameters"
    ]
   },
   "outputs": [],
   "source": [
    "# Parameters\n",
    "path = \"./meta/public_health/dengue\"\n"
   ]
  },
  {
   "cell_type": "code",
   "execution_count": 4,
   "id": "eee920cc",
   "metadata": {
    "execution": {
     "iopub.execute_input": "2024-01-08T08:30:26.112500Z",
     "iopub.status.busy": "2024-01-08T08:30:26.112001Z",
     "iopub.status.idle": "2024-01-08T08:30:26.133516Z",
     "shell.execute_reply": "2024-01-08T08:30:26.132523Z"
    },
    "papermill": {
     "duration": 0.036162,
     "end_time": "2024-01-08T08:30:26.137497",
     "exception": false,
     "start_time": "2024-01-08T08:30:26.101335",
     "status": "completed"
    },
    "tags": [
     "remove-input",
     "full-width"
    ]
   },
   "outputs": [
    {
     "data": {
      "text/html": [
       "<table border=\"1\"><tr><th>$schema</th><td style=text-align:left>../schema.json</td></tr><tr><th>@context</th><td style=text-align:left><table border=\"1\"><tr><th>@vocab</th><td style=text-align:left>https://schema.org/</td></tr><tr><th>qudt</th><td style=text-align:left>http://qudt.org/schema/qudt/</td></tr><tr><th>xsd</th><td style=text-align:left>http://www.w3.org/2001/XMLSchema#</td></tr></table></td></tr><tr><th>@type</th><td style=text-align:left>Dataset</td></tr><tr><th>name</th><td style=text-align:left>isciii_dengue</td></tr><tr><th>conditionsOfAccess</th><td style=text-align:left>Private</td></tr><tr><th>description</th><td style=text-align:left>Table with information about yearly cases of dengue cases in Spain monitored by RENAVE (Red Nacional de Vigilancia Epidemiológica).</td></tr><tr><th>url</th><td style=text-align:left>https://bit.ly/3arzfzv</td></tr><tr><th>license</th><td style=text-align:left>All rights reserved</td></tr><tr><th>citation</th><td style=text-align:left><ul><li></li></ul></td></tr><tr><th>temporalCoverage</th><td style=text-align:left></td></tr><tr><th>spatialCoverage</th><td style=text-align:left><table border=\"1\"><tr><th>@type</th><td style=text-align:left>Place</td></tr><tr><th>name</th><td style=text-align:left>Spain</td></tr><tr><th>sameAs</th><td style=text-align:left>https://www.wikidata.org/wiki/Q29</td></tr></table></td></tr><tr><th>distribution</th><td style=text-align:left><ul><li><table border=\"1\"><tr><th>@type</th><td style=text-align:left>DataDownload</td></tr><tr><th>name</th><td style=text-align:left>cluster_ceab</td></tr><tr><th>description</th><td style=text-align:left>Distribution by SFTP protocol from CEAB cluster.</td></tr><tr><th>encodingFormat</th><td style=text-align:left>CSV</td></tr><tr><th>workExample</th><td style=text-align:left></td></tr><tr><th>contentUrl</th><td style=text-align:left><ul><li>sftp://{USER}@cluster-ceab.ceab.csic.es/leov1/BigBytes/{FILENAME}</li></ul></td></tr><tr><th>contentSize</th><td style=text-align:left></td></tr></table></li></ul></td></tr><tr><th>variableMeasured</th><td style=text-align:left><ul><li><table border=\"1\"><tr><th>@type</th><td style=text-align:left>PropertyValue</td></tr><tr><th>name</th><td style=text-align:left></td></tr><tr><th>description</th><td style=text-align:left></td></tr><tr><th>qudt:dataType</th><td style=text-align:left></td></tr></table></li></ul></td></tr><tr><th>creator</th><td style=text-align:left><ul><li><table border=\"1\"><tr><th>@type</th><td style=text-align:left>Organization</td></tr><tr><th>@id</th><td style=text-align:left>ISCIII</td></tr><tr><th>name</th><td style=text-align:left>Instituto de Salud Carlos III (ISCIII)</td></tr><tr><th>identifier</th><td style=text-align:left>CIF:ESQ2827015E</td></tr><tr><th>contactPoint</th><td style=text-align:left><table border=\"1\"><tr><th>@type</th><td style=text-align:left>ContactPoint</td></tr><tr><th>email</th><td style=text-align:left></td></tr><tr><th>url</th><td style=text-align:left>https://www.isciii.es/Paginas/Inicio.aspx</td></tr></table></td></tr></table></li><li><table border=\"1\"><tr><th>@type</th><td style=text-align:left>Person</td></tr><tr><th>@id</th><td style=text-align:left>FB</td></tr><tr><th>name</th><td style=text-align:left>Bartumeus Ferré, Frederic</td></tr><tr><th>identifier</th><td style=text-align:left>https://orcid.org/0000-0001-6908-3797</td></tr><tr><th>contactPoint</th><td style=text-align:left><table border=\"1\"><tr><th>@type</th><td style=text-align:left>ContactPoint</td></tr><tr><th>roleName</th><td style=text-align:left>principal investigator</td></tr><tr><th>email</th><td style=text-align:left>fbartu@ceab.csic.es</td></tr><tr><th>url</th><td style=text-align:left>https://www.ceab.csic.es/en/member/frederic-bartumeus-ferre/</td></tr></table></td></tr></table></li><li><table border=\"1\"><tr><th>@type</th><td style=text-align:left>Person</td></tr><tr><th>@id</th><td style=text-align:left>ZJ</td></tr><tr><th>name</th><td style=text-align:left>Južnič Zonta, Živko</td></tr><tr><th>identifier</th><td style=text-align:left>https://orcid.org/0000-0002-2362-9771</td></tr><tr><th>contactPoint</th><td style=text-align:left><table border=\"1\"><tr><th>@type</th><td style=text-align:left>ContactPoint</td></tr><tr><th>roleName</th><td style=text-align:left>data engineer</td></tr><tr><th>email</th><td style=text-align:left>jzivko@gmail.com</td></tr><tr><th>url</th><td style=text-align:left>https://es.linkedin.com/in/zivko</td></tr></table></td></tr></table></li></ul></td></tr><tr><th>measurementTechnique</th><td style=text-align:left><ul><li></li></ul></td></tr></table>"
      ],
      "text/plain": [
       "<IPython.core.display.HTML object>"
      ]
     },
     "execution_count": 4,
     "metadata": {},
     "output_type": "execute_result"
    }
   ],
   "source": [
    "# NO CODE\n",
    "# FULL WIDTH\n",
    "with open(f'{path}.json') as f:\n",
    "    data = json.load(f)\n",
    "\n",
    "table = json2html.convert(json=data, clubbing=False)\n",
    "table_sub = re.sub('<td>', '<td style=text-align:left>', table)\n",
    "\n",
    "HTML(table_sub)\n",
    "\n",
    "# Run the following in the command line to build a html table\n",
    "# $ jupyter nbconvert --to html --no-input --no-prompt build_tables.ipynb\n"
   ]
  },
  {
   "cell_type": "code",
   "execution_count": null,
   "id": "191c8b9a",
   "metadata": {
    "papermill": {
     "duration": 0.005784,
     "end_time": "2024-01-08T08:30:26.150225",
     "exception": false,
     "start_time": "2024-01-08T08:30:26.144441",
     "status": "completed"
    },
    "tags": []
   },
   "outputs": [],
   "source": []
  }
 ],
 "metadata": {
  "interpreter": {
   "hash": "524d3359b179f3b444361f48db8ae048bd8c237924fac1cd48a4c6f8144f6452"
  },
  "kernelspec": {
   "display_name": "Python 3.7.10 64-bit ('scidb': conda)",
   "language": "python",
   "name": "python3"
  },
  "language_info": {
   "codemirror_mode": {
    "name": "ipython",
    "version": 3
   },
   "file_extension": ".py",
   "mimetype": "text/x-python",
   "name": "python",
   "nbconvert_exporter": "python",
   "pygments_lexer": "ipython3",
   "version": "3.10.4"
  },
  "metadata": {
   "interpreter": {
    "hash": "e3961729dbf4ff77740ff872c9a3eef08621b5b434e3d8d81026af4505918c74"
   }
  },
  "papermill": {
   "default_parameters": {},
   "duration": 1.50887,
   "end_time": "2024-01-08T08:30:26.486469",
   "environment_variables": {},
   "exception": null,
   "input_path": "build_info.ipynb",
   "output_path": "./meta_ipynb/dengue.ipynb",
   "parameters": {
    "path": "./meta/public_health/dengue"
   },
   "start_time": "2024-01-08T08:30:24.977599",
   "version": "2.3.4"
  }
 },
 "nbformat": 4,
 "nbformat_minor": 5
}