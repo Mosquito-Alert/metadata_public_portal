{
 "cells": [
  {
   "cell_type": "markdown",
   "id": "7d466a3e",
   "metadata": {
    "papermill": {
     "duration": 0.005264,
     "end_time": "2022-03-31T14:28:54.000179",
     "exception": false,
     "start_time": "2022-03-31T14:28:53.994915",
     "status": "completed"
    },
    "tags": []
   },
   "source": [
    "# Metadata table"
   ]
  },
  {
   "cell_type": "code",
   "execution_count": 1,
   "id": "1aa53d3b",
   "metadata": {
    "execution": {
     "iopub.execute_input": "2022-03-31T14:28:54.013759Z",
     "iopub.status.busy": "2022-03-31T14:28:54.013000Z",
     "iopub.status.idle": "2022-03-31T14:28:54.028273Z",
     "shell.execute_reply": "2022-03-31T14:28:54.027355Z"
    },
    "papermill": {
     "duration": 0.024802,
     "end_time": "2022-03-31T14:28:54.031008",
     "exception": false,
     "start_time": "2022-03-31T14:28:54.006206",
     "status": "completed"
    },
    "tags": [
     "remove-input"
    ]
   },
   "outputs": [],
   "source": [
    "# NO CODE\n",
    "from json2html import json2html\n",
    "import json, re\n",
    "from IPython.display import HTML"
   ]
  },
  {
   "cell_type": "code",
   "execution_count": 2,
   "id": "fd60d2f5",
   "metadata": {
    "execution": {
     "iopub.execute_input": "2022-03-31T14:28:54.050760Z",
     "iopub.status.busy": "2022-03-31T14:28:54.050422Z",
     "iopub.status.idle": "2022-03-31T14:28:54.054704Z",
     "shell.execute_reply": "2022-03-31T14:28:54.053962Z"
    },
    "papermill": {
     "duration": 0.016837,
     "end_time": "2022-03-31T14:28:54.056692",
     "exception": false,
     "start_time": "2022-03-31T14:28:54.039855",
     "status": "completed"
    },
    "tags": [
     "parameters",
     "remove-input"
    ]
   },
   "outputs": [],
   "source": [
    "# NO CODE\n",
    "# PARAMETERS\n",
    "path = './meta/environment/meteocat_xema'"
   ]
  },
  {
   "cell_type": "code",
   "execution_count": 3,
   "id": "af1ab966",
   "metadata": {
    "execution": {
     "iopub.execute_input": "2022-03-31T14:28:54.070748Z",
     "iopub.status.busy": "2022-03-31T14:28:54.070495Z",
     "iopub.status.idle": "2022-03-31T14:28:54.074603Z",
     "shell.execute_reply": "2022-03-31T14:28:54.073802Z"
    },
    "papermill": {
     "duration": 0.013832,
     "end_time": "2022-03-31T14:28:54.076791",
     "exception": false,
     "start_time": "2022-03-31T14:28:54.062959",
     "status": "completed"
    },
    "tags": [
     "injected-parameters"
    ]
   },
   "outputs": [],
   "source": [
    "# Parameters\n",
    "path = \"./meta/mosquito_alert/model_tables\"\n"
   ]
  },
  {
   "cell_type": "code",
   "execution_count": 4,
   "id": "75340f19",
   "metadata": {
    "execution": {
     "iopub.execute_input": "2022-03-31T14:28:54.091223Z",
     "iopub.status.busy": "2022-03-31T14:28:54.090978Z",
     "iopub.status.idle": "2022-03-31T14:28:54.107278Z",
     "shell.execute_reply": "2022-03-31T14:28:54.106621Z"
    },
    "papermill": {
     "duration": 0.025658,
     "end_time": "2022-03-31T14:28:54.109097",
     "exception": false,
     "start_time": "2022-03-31T14:28:54.083439",
     "status": "completed"
    },
    "tags": [
     "remove-input",
     "full-width"
    ]
   },
   "outputs": [
    {
     "data": {
      "text/html": [
       "<table border=\"1\"><tr><th>$schema</th><td style=text-align:left>../schema.json</td></tr><tr><th>@context</th><td style=text-align:left><table border=\"1\"><tr><th>@vocab</th><td style=text-align:left>https://schema.org/</td></tr><tr><th>qudt</th><td style=text-align:left>http://qudt.org/schema/qudt/</td></tr><tr><th>xsd</th><td style=text-align:left>http://www.w3.org/2001/XMLSchema#</td></tr></table></td></tr><tr><th>@type</th><td style=text-align:left>DataCatalog</td></tr><tr><th>name</th><td style=text-align:left>model_tables</td></tr><tr><th>conditionsOfAccess</th><td style=text-align:left>Public</td></tr><tr><th>description</th><td style=text-align:left>Results from the Bayesian multilevel model that feed the Mosquito Alert raster maps of the &#x27;Available Models&#x27; layer. Access to data is possible within direct http download or ftp authentication to the host webserver.mosquitoalert.com</td></tr><tr><th>license</th><td style=text-align:left>https://creativecommons.org/publicdomain/zero/1.0/</td></tr><tr><th>citation</th><td style=text-align:left><ul><li>Eritja, R., Palmer, J. R. B., Roiz, D., Sanpera-Calbet, I., and Bartumeus, F., “Direct Evidence of Adult Aedes albopictus Dispersal by Car”, Scientific Reports, vol. 7, 2017. doi:10.1038/s41598-017-12652-5</li><li>Palmer, J. R. B., “Citizen science provides a reliable and scalable tool to track disease-carrying mosquitoes”, Nature Communications, vol. 8, 2017. doi:10.1038/s41467-017-00914-9</li></ul></td></tr><tr><th>temporalCoverage</th><td style=text-align:left>2014/..</td></tr><tr><th>spatialCoverage</th><td style=text-align:left><table border=\"1\"><tr><th>@type</th><td style=text-align:left>Place</td></tr><tr><th>name</th><td style=text-align:left>Worldwide</td></tr><tr><th>sameAs</th><td style=text-align:left>https://www.wikidata.org/wiki/Q13780930</td></tr></table></td></tr><tr><th>hasPart</th><td style=text-align:left><ul><li><table border=\"1\"><tr><th>@type</th><td style=text-align:left>Dataset</td></tr><tr><th>name</th><td style=text-align:left>encounter_prob_monthly_grid</td></tr><tr><th>description</th><td style=text-align:left>Estimated probability of encounter for a given type of mosquito on monthly basis. Estimates are based on the data sent by citizens to Mosquito Alert. Tables are stored in folders by time and mosquito species: MOSQUITO_TYPE is &#x27;tig&#x27; for Aedes Albopictus and &#x27;jap&#x27; for Aedes Japonicus. The first estimates for a month are based on observations received for that month in previous years, estimates that are updated weekly with data for the current year. Estimates are displayed in grids of approximately 2x2 kilometers (grid of 0.05 degrees latitude by 0.05 degrees longitude). This calculation takes into account the sampling effort, considering the number of participants with the active app in each grid in the defined time (see the “sampling effort” layer). The probability of mosquitoes is higher in a grid in which 10 observations have been received and there are 5 participants, than in another with 10 observations and 10 participants. Modeling observations and active participants determines the value of the probability shown on the map.</td></tr><tr><th>temporalCoverage</th><td style=text-align:left>2014/..</td></tr><tr><th>distribution</th><td style=text-align:left><ul><li><table border=\"1\"><tr><th>@type</th><td style=text-align:left>DataDownload</td></tr><tr><th>name</th><td style=text-align:left>mosquitoalert_webserver</td></tr><tr><th>description</th><td style=text-align:left>Distribution by HTTP download from MosquitoAlert webserver</td></tr><tr><th>encodingFormat</th><td style=text-align:left>CSV</td></tr><tr><th>workExample</th><td style=text-align:left>./notebook/model_tables.py</td></tr><tr><th>contentUrl</th><td style=text-align:left><ul><li>http://webserver.mosquitoalert.com/static/tigapublic/models/vector/grid/{MOSQUITO_TYPE}/{YEAR}/{MONTH}/mascp_monthly.csv</li></ul></td></tr><tr><th>contentSize</th><td style=text-align:left>0.1MB</td></tr></table></li><li><table border=\"1\"><tr><th>@type</th><td style=text-align:left>DataDownload</td></tr><tr><th>name</th><td style=text-align:left>mosquitoalert_webserver_sftp</td></tr><tr><th>description</th><td style=text-align:left>Distribution by SFTP download from MosquitoAlert webserver</td></tr><tr><th>encodingFormat</th><td style=text-align:left>CSV</td></tr><tr><th>workExample</th><td style=text-align:left>./notebook/model_tables.py</td></tr><tr><th>contentUrl</th><td style=text-align:left><ul><li>sftp://epidata@webserver.mosquitoalert.com:9122/home/epidata/models/vector/grid/{MOSQUITO_TYPE}/{YEAR}/{MONTH}/mascp_monthly.csv</li></ul></td></tr><tr><th>contentSize</th><td style=text-align:left>0.1MB</td></tr></table></li></ul></td></tr><tr><th>variableMeasured</th><td style=text-align:left><ul><li><table border=\"1\"><tr><th>@type</th><td style=text-align:left>PropertyValue</td></tr><tr><th>name</th><td style=text-align:left>month</td></tr><tr><th>description</th><td style=text-align:left>Month number</td></tr><tr><th>qudt:dataType</th><td style=text-align:left>xsd:int</td></tr></table></li><li><table border=\"1\"><tr><th>@type</th><td style=text-align:left>PropertyValue</td></tr><tr><th>name</th><td style=text-align:left>TigacellID</td></tr><tr><th>description</th><td style=text-align:left>Longitude and latitude underscore separated ID. Example: -0.05_38.6</td></tr><tr><th>qudt:dataType</th><td style=text-align:left>xsd:string</td></tr></table></li><li><table border=\"1\"><tr><th>@type</th><td style=text-align:left>PropertyValue</td></tr><tr><th>name</th><td style=text-align:left>prob_l95</td></tr><tr><th>description</th><td style=text-align:left>Lower probability value for 95% confidence level </td></tr><tr><th>qudt:dataType</th><td style=text-align:left>xsd:decimal</td></tr></table></li><li><table border=\"1\"><tr><th>@type</th><td style=text-align:left>PropertyValue</td></tr><tr><th>name</th><td style=text-align:left>median_u95</td></tr><tr><th>description</th><td style=text-align:left>Median probability value</td></tr><tr><th>qudt:dataType</th><td style=text-align:left>xsd:decimal</td></tr></table></li><li><table border=\"1\"><tr><th>@type</th><td style=text-align:left>PropertyValue</td></tr><tr><th>name</th><td style=text-align:left>prob_u95</td></tr><tr><th>description</th><td style=text-align:left>Upper probability value for 95% confidence level</td></tr><tr><th>qudt:dataType</th><td style=text-align:left>xsd:decimal</td></tr></table></li><li><table border=\"1\"><tr><th>@type</th><td style=text-align:left>PropertyValue</td></tr><tr><th>name</th><td style=text-align:left>sd</td></tr><tr><th>description</th><td style=text-align:left>Standard deviation value</td></tr><tr><th>qudt:dataType</th><td style=text-align:left>xsd:decimal</td></tr></table></li><li><table border=\"1\"><tr><th>@type</th><td style=text-align:left>PropertyValue</td></tr><tr><th>name</th><td style=text-align:left>lon</td></tr><tr><th>description</th><td style=text-align:left>Longitude value of the pixel cell</td></tr><tr><th>qudt:dataType</th><td style=text-align:left>xsd:decimal</td></tr></table></li><li><table border=\"1\"><tr><th>@type</th><td style=text-align:left>PropertyValue</td></tr><tr><th>name</th><td style=text-align:left>lat</td></tr><tr><th>description</th><td style=text-align:left>Latitude value of the pixel cell</td></tr><tr><th>qudt:dataType</th><td style=text-align:left>xsd:decimal</td></tr></table></li></ul></td></tr></table></li><li><table border=\"1\"><tr><th>@type</th><td style=text-align:left>Dataset</td></tr><tr><th>name</th><td style=text-align:left>encounter_prob_monthly_municipality</td></tr><tr><th>description</th><td style=text-align:left>Same as gridded probability of encounter but resampling is done over the municipality administrative units level. Spatial coverage is restricted to Spain only and temporal coverage goes from 2014 to 2020. Only tiger mosquito is available.</td></tr><tr><th>temporalCoverage</th><td style=text-align:left>2014/2020</td></tr><tr><th>spatialCoverage</th><td style=text-align:left><table border=\"1\"><tr><th>@type</th><td style=text-align:left>Place</td></tr><tr><th>name</th><td style=text-align:left>Spain</td></tr><tr><th>sameAs</th><td style=text-align:left>https://www.wikidata.org/wiki/Q29</td></tr></table></td></tr><tr><th>distribution</th><td style=text-align:left><ul><li><table border=\"1\"><tr><th>@type</th><td style=text-align:left>DataDownload</td></tr><tr><th>name</th><td style=text-align:left>mosquitoalert_webserver</td></tr><tr><th>description</th><td style=text-align:left>Distribution by HTTP download from MosquitoAlert webserver</td></tr><tr><th>encodingFormat</th><td style=text-align:left>CSV</td></tr><tr><th>workExample</th><td style=text-align:left>./notebook/model_tables.py</td></tr><tr><th>contentUrl</th><td style=text-align:left><ul><li>http://webserver.mosquitoalert.com/static/tigapublic/models/vector/municipalities/{MOSQUITO_TYPE}/{YEAR}/{MONTH}/mascp_monthly.csv</li></ul></td></tr><tr><th>contentSize</th><td style=text-align:left>0.1MB</td></tr></table></li><li><table border=\"1\"><tr><th>@type</th><td style=text-align:left>DataDownload</td></tr><tr><th>name</th><td style=text-align:left>mosquitoalert_webserver_sftp</td></tr><tr><th>description</th><td style=text-align:left>Distribution by SFTP download from MosquitoAlert webserver</td></tr><tr><th>encodingFormat</th><td style=text-align:left>CSV</td></tr><tr><th>workExample</th><td style=text-align:left>./notebook/model_tables.py</td></tr><tr><th>contentUrl</th><td style=text-align:left><ul><li>sftp://epidata@webserver.mosquitoalert.com:9122/home/epidata/models/vector/municipalities/{MOSQUITO_TYPE}/{YEAR}/{MONTH}/mascp_monthly.csv</li></ul></td></tr><tr><th>contentSize</th><td style=text-align:left>0.1MB</td></tr></table></li></ul></td></tr><tr><th>variableMeasured</th><td style=text-align:left><ul><li><table border=\"1\"><tr><th>@type</th><td style=text-align:left>PropertyValue</td></tr><tr><th>name</th><td style=text-align:left>month</td></tr><tr><th>description</th><td style=text-align:left>Month number</td></tr><tr><th>qudt:dataType</th><td style=text-align:left>xsd:int</td></tr></table></li><li><table border=\"1\"><tr><th>@type</th><td style=text-align:left>PropertyValue</td></tr><tr><th>name</th><td style=text-align:left>PROVMUN</td></tr><tr><th>description</th><td style=text-align:left>Municipality code. Example: 15044</td></tr><tr><th>qudt:dataType</th><td style=text-align:left>xsd:int</td></tr></table></li><li><table border=\"1\"><tr><th>@type</th><td style=text-align:left>PropertyValue</td></tr><tr><th>name</th><td style=text-align:left>prob_l95</td></tr><tr><th>description</th><td style=text-align:left>Lower probability value for 95% confidence level </td></tr><tr><th>qudt:dataType</th><td style=text-align:left>xsd:decimal</td></tr></table></li><li><table border=\"1\"><tr><th>@type</th><td style=text-align:left>PropertyValue</td></tr><tr><th>name</th><td style=text-align:left>prob_median</td></tr><tr><th>description</th><td style=text-align:left>Mediant probability value </td></tr><tr><th>qudt:dataType</th><td style=text-align:left>xsd:decimal</td></tr></table></li><li><table border=\"1\"><tr><th>@type</th><td style=text-align:left>PropertyValue</td></tr><tr><th>name</th><td style=text-align:left>prob_u95</td></tr><tr><th>description</th><td style=text-align:left>Upper probability value for 95% confidence level</td></tr><tr><th>qudt:dataType</th><td style=text-align:left>xsd:decimal</td></tr></table></li><li><table border=\"1\"><tr><th>@type</th><td style=text-align:left>PropertyValue</td></tr><tr><th>name</th><td style=text-align:left>sd</td></tr><tr><th>description</th><td style=text-align:left>Standard deviation probability value</td></tr><tr><th>qudt:dataType</th><td style=text-align:left>xsd:decimal</td></tr></table></li></ul></td></tr></table></li><li><table border=\"1\"><tr><th>@type</th><td style=text-align:left>Dataset</td></tr><tr><th>name</th><td style=text-align:left>biting_prob_monthly_grid</td></tr><tr><th>description</th><td style=text-align:left>Estimated probability of mosquito bites on monthly basis. Estimates are based on the data sent by citizens to Mosquito Alert. Tables are stored in folders by time. The first estimates for a month are based on observations received for that month in previous years, estimates that are updated weekly with data for the current year. Estimates are displayed in grids of approximately 2x2 kilometers (grid of 0.05 degrees latitude by 0.05 degrees longitude). This calculation takes into account the sampling effort, considering the number of participants with the active app in each grid in the defined time (see the “sampling effort” layer). The probability of mosquitoes is higher in a grid in which 10 observations have been received and there are 5 participants, than in another with 10 observations and 10 participants. Modeling observations and active participants determines the value of the probability shown on the map.</td></tr><tr><th>temporalCoverage</th><td style=text-align:left>2020/..</td></tr><tr><th>distribution</th><td style=text-align:left><ul><li><table border=\"1\"><tr><th>@type</th><td style=text-align:left>DataDownload</td></tr><tr><th>name</th><td style=text-align:left>mosquitoalert_webserver</td></tr><tr><th>description</th><td style=text-align:left>Distribution by HTTP download from MosquitoAlert webserver</td></tr><tr><th>encodingFormat</th><td style=text-align:left>CSV</td></tr><tr><th>workExample</th><td style=text-align:left>./notebook/model_tables.py</td></tr><tr><th>contentUrl</th><td style=text-align:left><ul><li>http://webserver.mosquitoalert.com/static/tigapublic/models/biting/{YEAR}/{MONTH}/mascp_monthly.csv</li></ul></td></tr><tr><th>contentSize</th><td style=text-align:left>0.1MB</td></tr></table></li><li><table border=\"1\"><tr><th>@type</th><td style=text-align:left>DataDownload</td></tr><tr><th>name</th><td style=text-align:left>mosquitoalert_webserver_sftp</td></tr><tr><th>description</th><td style=text-align:left>Distribution by SFTP download from MosquitoAlert webserver</td></tr><tr><th>encodingFormat</th><td style=text-align:left>CSV</td></tr><tr><th>workExample</th><td style=text-align:left>./notebook/model_tables.py</td></tr><tr><th>contentUrl</th><td style=text-align:left><ul><li>sftp://epidata@webserver.mosquitoalert.com:9122/home/epidata/models/biting/{YEAR}/{MONTH}/mascp_monthly.csv</li></ul></td></tr><tr><th>contentSize</th><td style=text-align:left>0.1MB</td></tr></table></li></ul></td></tr><tr><th>variableMeasured</th><td style=text-align:left><ul><li><table border=\"1\"><tr><th>@type</th><td style=text-align:left>PropertyValue</td></tr><tr><th>name</th><td style=text-align:left>month</td></tr><tr><th>description</th><td style=text-align:left>Month number</td></tr><tr><th>qudt:dataType</th><td style=text-align:left>xsd:int</td></tr></table></li><li><table border=\"1\"><tr><th>@type</th><td style=text-align:left>PropertyValue</td></tr><tr><th>name</th><td style=text-align:left>TigacellID</td></tr><tr><th>description</th><td style=text-align:left>Longitude and latitude underscore separated ID. Example: -0.05_38.6</td></tr><tr><th>qudt:dataType</th><td style=text-align:left>xsd:string</td></tr></table></li><li><table border=\"1\"><tr><th>@type</th><td style=text-align:left>PropertyValue</td></tr><tr><th>name</th><td style=text-align:left>prob_l95</td></tr><tr><th>description</th><td style=text-align:left>Lower probability value for 95% confidence level </td></tr><tr><th>qudt:dataType</th><td style=text-align:left>xsd:decimal</td></tr></table></li><li><table border=\"1\"><tr><th>@type</th><td style=text-align:left>PropertyValue</td></tr><tr><th>name</th><td style=text-align:left>median_u95</td></tr><tr><th>description</th><td style=text-align:left>Median probability value</td></tr><tr><th>qudt:dataType</th><td style=text-align:left>xsd:decimal</td></tr></table></li><li><table border=\"1\"><tr><th>@type</th><td style=text-align:left>PropertyValue</td></tr><tr><th>name</th><td style=text-align:left>prob_u95</td></tr><tr><th>description</th><td style=text-align:left>Upper probability value for 95% confidence level</td></tr><tr><th>qudt:dataType</th><td style=text-align:left>xsd:decimal</td></tr></table></li><li><table border=\"1\"><tr><th>@type</th><td style=text-align:left>PropertyValue</td></tr><tr><th>name</th><td style=text-align:left>sd</td></tr><tr><th>description</th><td style=text-align:left>Standard deviation value</td></tr><tr><th>qudt:dataType</th><td style=text-align:left>xsd:decimal</td></tr></table></li><li><table border=\"1\"><tr><th>@type</th><td style=text-align:left>PropertyValue</td></tr><tr><th>name</th><td style=text-align:left>lon</td></tr><tr><th>description</th><td style=text-align:left>Longitude value of the pixel cell</td></tr><tr><th>qudt:dataType</th><td style=text-align:left>xsd:decimal</td></tr></table></li><li><table border=\"1\"><tr><th>@type</th><td style=text-align:left>PropertyValue</td></tr><tr><th>name</th><td style=text-align:left>lat</td></tr><tr><th>description</th><td style=text-align:left>Latitude value of the pixel cell</td></tr><tr><th>qudt:dataType</th><td style=text-align:left>xsd:decimal</td></tr></table></li></ul></td></tr></table></li></ul></td></tr><tr><th>measurementTechnique</th><td style=text-align:left><ul><li>Mobile application for citizen science</li><li>Data validation by entomologists</li></ul></td></tr><tr><th>creator</th><td style=text-align:left><ul><li><table border=\"1\"><tr><th>@type</th><td style=text-align:left>Project</td></tr><tr><th>@id</th><td style=text-align:left>MA</td></tr><tr><th>name</th><td style=text-align:left>Mosquito Alert, Proyecto Coordinado por CREAF, CEAB-CSIC e ICREA</td></tr><tr><th>contactPoint</th><td style=text-align:left><table border=\"1\"><tr><th>@type</th><td style=text-align:left>ContactPoint</td></tr><tr><th>email</th><td style=text-align:left>info@mosquitoalert.com</td></tr><tr><th>url</th><td style=text-align:left>http://www.mosquitoalert.com/</td></tr></table></td></tr></table></li><li><table border=\"1\"><tr><th>@type</th><td style=text-align:left>Person</td></tr><tr><th>@id</th><td style=text-align:left>JP</td></tr><tr><th>name</th><td style=text-align:left>Palmer, John Rossman Bertholf</td></tr><tr><th>identifier</th><td style=text-align:left>https://orcid.org/0000-0002-2648-7860</td></tr><tr><th>contactPoint</th><td style=text-align:left><table border=\"1\"><tr><th>@type</th><td style=text-align:left>ContactPoint</td></tr><tr><th>roleName</th><td style=text-align:left>principal investigator</td></tr><tr><th>email</th><td style=text-align:left>john.palmer@upf.edu</td></tr><tr><th>url</th><td style=text-align:left>https://www.upf.edu/web/gritim/entry/-/-/50722/adscripcion/john-rossman-bertholf-palmer/</td></tr></table></td></tr></table></li><li><table border=\"1\"><tr><th>@type</th><td style=text-align:left>Person</td></tr><tr><th>@id</th><td style=text-align:left>AE</td></tr><tr><th>name</th><td style=text-align:left>Escobar Rúbies, Agustí</td></tr><tr><th>identifier</th><td style=text-align:left>https://orcid.org/0000-0002-6856-0480</td></tr><tr><th>contactPoint</th><td style=text-align:left><table border=\"1\"><tr><th>@type</th><td style=text-align:left>ContactPoint</td></tr><tr><th>roleName</th><td style=text-align:left>programmer</td></tr><tr><th>email</th><td style=text-align:left>a.escobar@creaf.uab.es</td></tr><tr><th>url</th><td style=text-align:left>http://www.creaf.cat/es/personal/agusti-escobar-rubies/</td></tr></table></td></tr></table></li></ul></td></tr></table>"
      ],
      "text/plain": [
       "<IPython.core.display.HTML object>"
      ]
     },
     "execution_count": 4,
     "metadata": {},
     "output_type": "execute_result"
    }
   ],
   "source": [
    "# NO CODE\n",
    "# FULL WIDTH\n",
    "with open(f'{path}.json') as f:\n",
    "    data = json.load(f)\n",
    "\n",
    "table = json2html.convert(json=data, clubbing=False)\n",
    "table_sub = re.sub('<td>', '<td style=text-align:left>', table)\n",
    "\n",
    "HTML(table_sub)\n",
    "\n",
    "# Run the following in the command line to build a html table\n",
    "# $ jupyter nbconvert --to html --no-input --no-prompt build_tables.ipynb\n"
   ]
  },
  {
   "cell_type": "code",
   "execution_count": null,
   "id": "fb46be48",
   "metadata": {
    "papermill": {
     "duration": 0.007619,
     "end_time": "2022-03-31T14:28:54.123991",
     "exception": false,
     "start_time": "2022-03-31T14:28:54.116372",
     "status": "completed"
    },
    "tags": []
   },
   "outputs": [],
   "source": []
  }
 ],
 "metadata": {
  "interpreter": {
   "hash": "524d3359b179f3b444361f48db8ae048bd8c237924fac1cd48a4c6f8144f6452"
  },
  "kernelspec": {
   "display_name": "Python 3.7.10 64-bit ('scidb': conda)",
   "language": "python",
   "name": "python3"
  },
  "language_info": {
   "codemirror_mode": {
    "name": "ipython",
    "version": 3
   },
   "file_extension": ".py",
   "mimetype": "text/x-python",
   "name": "python",
   "nbconvert_exporter": "python",
   "pygments_lexer": "ipython3",
   "version": "3.10.4"
  },
  "metadata": {
   "interpreter": {
    "hash": "e3961729dbf4ff77740ff872c9a3eef08621b5b434e3d8d81026af4505918c74"
   }
  },
  "papermill": {
   "default_parameters": {},
   "duration": 1.686043,
   "end_time": "2022-03-31T14:28:54.459365",
   "environment_variables": {},
   "exception": null,
   "input_path": "build_info.ipynb",
   "output_path": "./meta_ipynb/model_tables.ipynb",
   "parameters": {
    "path": "./meta/mosquito_alert/model_tables"
   },
   "start_time": "2022-03-31T14:28:52.773322",
   "version": "2.3.4"
  }
 },
 "nbformat": 4,
 "nbformat_minor": 5
}