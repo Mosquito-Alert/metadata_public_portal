{
 "cells": [
  {
   "cell_type": "markdown",
   "id": "familiar-drink",
   "metadata": {
    "papermill": {
     "duration": 0.018466,
     "end_time": "2021-06-16T14:19:54.344284",
     "exception": false,
     "start_time": "2021-06-16T14:19:54.325818",
     "status": "completed"
    },
    "tags": []
   },
   "source": [
    "# Metadata table"
   ]
  },
  {
   "cell_type": "code",
   "execution_count": 1,
   "id": "physical-correlation",
   "metadata": {
    "execution": {
     "iopub.execute_input": "2021-06-16T14:19:54.367882Z",
     "iopub.status.busy": "2021-06-16T14:19:54.367043Z",
     "iopub.status.idle": "2021-06-16T14:19:54.373455Z",
     "shell.execute_reply": "2021-06-16T14:19:54.372711Z"
    },
    "papermill": {
     "duration": 0.022951,
     "end_time": "2021-06-16T14:19:54.373651",
     "exception": false,
     "start_time": "2021-06-16T14:19:54.350700",
     "status": "completed"
    },
    "tags": [
     "remove-input"
    ]
   },
   "outputs": [],
   "source": [
    "# NO CODE\n",
    "from json2html import *\n",
    "import json, re\n",
    "from IPython.core.display import HTML, display\n"
   ]
  },
  {
   "cell_type": "code",
   "execution_count": 2,
   "id": "appropriate-waste",
   "metadata": {
    "execution": {
     "iopub.execute_input": "2021-06-16T14:19:54.400030Z",
     "iopub.status.busy": "2021-06-16T14:19:54.398080Z",
     "iopub.status.idle": "2021-06-16T14:19:54.403527Z",
     "shell.execute_reply": "2021-06-16T14:19:54.402825Z"
    },
    "papermill": {
     "duration": 0.020747,
     "end_time": "2021-06-16T14:19:54.403680",
     "exception": false,
     "start_time": "2021-06-16T14:19:54.382933",
     "status": "completed"
    },
    "tags": [
     "parameters",
     "remove-input"
    ]
   },
   "outputs": [],
   "source": [
    "# NO CODE\n",
    "# PARAMETERS\n",
    "path = './meta/environment/meteocat_xema'"
   ]
  },
  {
   "cell_type": "code",
   "execution_count": 3,
   "id": "latin-invasion",
   "metadata": {
    "execution": {
     "iopub.execute_input": "2021-06-16T14:19:54.426944Z",
     "iopub.status.busy": "2021-06-16T14:19:54.425650Z",
     "iopub.status.idle": "2021-06-16T14:19:54.429633Z",
     "shell.execute_reply": "2021-06-16T14:19:54.428890Z"
    },
    "papermill": {
     "duration": 0.019256,
     "end_time": "2021-06-16T14:19:54.429816",
     "exception": false,
     "start_time": "2021-06-16T14:19:54.410560",
     "status": "completed"
    },
    "tags": [
     "injected-parameters"
    ]
   },
   "outputs": [],
   "source": [
    "# Parameters\n",
    "path = \"./meta/mosquito_alert/reports\"\n"
   ]
  },
  {
   "cell_type": "code",
   "execution_count": 4,
   "id": "scenic-compilation",
   "metadata": {
    "execution": {
     "iopub.execute_input": "2021-06-16T14:19:54.469216Z",
     "iopub.status.busy": "2021-06-16T14:19:54.468265Z",
     "iopub.status.idle": "2021-06-16T14:19:54.473532Z",
     "shell.execute_reply": "2021-06-16T14:19:54.472992Z"
    },
    "papermill": {
     "duration": 0.036273,
     "end_time": "2021-06-16T14:19:54.473672",
     "exception": false,
     "start_time": "2021-06-16T14:19:54.437399",
     "status": "completed"
    },
    "tags": [
     "remove-input",
     "full-width"
    ]
   },
   "outputs": [
    {
     "data": {
      "text/html": [
       "<table border=\"1\"><tr><th>@context</th><td style=text-align:left><table border=\"1\"><tr><th>@vocab</th><td style=text-align:left>https://schema.org/</td></tr><tr><th>qudt</th><td style=text-align:left>http://qudt.org/schema/qudt/</td></tr><tr><th>xsd</th><td style=text-align:left>http://www.w3.org/2001/XMLSchema#</td></tr></table></td></tr><tr><th>@type</th><td style=text-align:left>Dataset</td></tr><tr><th>name</th><td style=text-align:left>ma_yearly_reports</td></tr><tr><th>description</th><td style=text-align:left>Yearly reports from the Mosquito Alert application with information about bites, breeding sites and adult mosquito encounters. Responses to questionnaires are available for sites and adults. Daily dataset versions are available on the Zenodo cluster.</td></tr><tr><th>url</th><td style=text-align:left>https://github.com/MosquitoAlert/Data</td></tr><tr><th>sameAs</th><td style=text-align:left>https://doi.org/10.5281/zenodo.597466</td></tr><tr><th>identifier</th><td style=text-align:left>https://doi.org/10.5281/zenodo.597466</td></tr><tr><th>license</th><td style=text-align:left>https://creativecommons.org/publicdomain/zero/1.0/</td></tr><tr><th>citation</th><td style=text-align:left><ul><li>Citizen science provides a reliable and scalable tool to track disease-carrying mosquitoes.  John R B, Palmer et al. (DOI: 10.1038/s41467-017-00914-9)</li></ul></td></tr><tr><th>creator</th><td style=text-align:left><ul><li><table border=\"1\"><tr><th>@type</th><td style=text-align:left>Organization</td></tr><tr><th>@id</th><td style=text-align:left>CEAB</td></tr><tr><th>name</th><td style=text-align:left>Consejo Superior de Investigaciones Científicas - Centro de Estudios Avanzados de Blanes (CSIC-CEAB)</td></tr></table></li><li><table border=\"1\"><tr><th>@type</th><td style=text-align:left>Person</td></tr><tr><th>@id</th><td style=text-align:left>JP</td></tr><tr><th>name</th><td style=text-align:left>Palmer, John Rossman Bertholf</td></tr></table></li><li><table border=\"1\"><tr><th>@type</th><td style=text-align:left>Person</td></tr><tr><th>@id</th><td style=text-align:left>AE</td></tr><tr><th>name</th><td style=text-align:left>Escobar Rúbies, Agustí</td></tr></table></li></ul></td></tr><tr><th>variableMeasured</th><td style=text-align:left><ul><li><table border=\"1\"><tr><th>@type</th><td style=text-align:left>PropertyValue</td></tr><tr><th>name</th><td style=text-align:left>version_UUID</td></tr><tr><th>description</th><td style=text-align:left></td></tr><tr><th>unitText</th><td style=text-align:left></td></tr><tr><th>dataType</th><td style=text-align:left>xsd:string</td></tr></table></li><li><table border=\"1\"><tr><th>@type</th><td style=text-align:left>PropertyValue</td></tr><tr><th>name</th><td style=text-align:left>creation_time</td></tr><tr><th>description</th><td style=text-align:left></td></tr><tr><th>unitText</th><td style=text-align:left></td></tr><tr><th>dataType</th><td style=text-align:left>xsd:dateTime</td></tr></table></li><li><table border=\"1\"><tr><th>@type</th><td style=text-align:left>PropertyValue</td></tr><tr><th>name</th><td style=text-align:left>creation_date</td></tr><tr><th>description</th><td style=text-align:left></td></tr><tr><th>unitText</th><td style=text-align:left></td></tr><tr><th>dataType</th><td style=text-align:left>xsd:string</td></tr></table></li><li><table border=\"1\"><tr><th>@type</th><td style=text-align:left>PropertyValue</td></tr><tr><th>name</th><td style=text-align:left>creation_day_since_launch</td></tr><tr><th>description</th><td style=text-align:left></td></tr><tr><th>unitText</th><td style=text-align:left></td></tr><tr><th>dataType</th><td style=text-align:left>xsd:int</td></tr></table></li><li><table border=\"1\"><tr><th>@type</th><td style=text-align:left>PropertyValue</td></tr><tr><th>name</th><td style=text-align:left>creation_year</td></tr><tr><th>description</th><td style=text-align:left></td></tr><tr><th>unitText</th><td style=text-align:left></td></tr><tr><th>dataType</th><td style=text-align:left>xsd:int</td></tr></table></li><li><table border=\"1\"><tr><th>@type</th><td style=text-align:left>PropertyValue</td></tr><tr><th>name</th><td style=text-align:left>creation_month</td></tr><tr><th>description</th><td style=text-align:left></td></tr><tr><th>unitText</th><td style=text-align:left></td></tr><tr><th>dataType</th><td style=text-align:left>xsd:int</td></tr></table></li><li><table border=\"1\"><tr><th>@type</th><td style=text-align:left>PropertyValue</td></tr><tr><th>name</th><td style=text-align:left>site_cat</td></tr><tr><th>description</th><td style=text-align:left></td></tr><tr><th>unitText</th><td style=text-align:left></td></tr><tr><th>dataType</th><td style=text-align:left>xsd:int</td></tr></table></li><li><table border=\"1\"><tr><th>@type</th><td style=text-align:left>PropertyValue</td></tr><tr><th>name</th><td style=text-align:left>type</td></tr><tr><th>description</th><td style=text-align:left>Report type could be: bite, site or adult</td></tr><tr><th>unitText</th><td style=text-align:left></td></tr><tr><th>dataType</th><td style=text-align:left>xsd:string</td></tr></table></li><li><table border=\"1\"><tr><th>@type</th><td style=text-align:left>PropertyValue</td></tr><tr><th>name</th><td style=text-align:left>lon</td></tr><tr><th>description</th><td style=text-align:left></td></tr><tr><th>unitText</th><td style=text-align:left></td></tr><tr><th>dataType</th><td style=text-align:left>xsd:decimal</td></tr></table></li><li><table border=\"1\"><tr><th>@type</th><td style=text-align:left>PropertyValue</td></tr><tr><th>name</th><td style=text-align:left>lat</td></tr><tr><th>description</th><td style=text-align:left></td></tr><tr><th>unitText</th><td style=text-align:left></td></tr><tr><th>dataType</th><td style=text-align:left>xsd:decimal</td></tr></table></li><li><table border=\"1\"><tr><th>@type</th><td style=text-align:left>PropertyValue</td></tr><tr><th>name</th><td style=text-align:left>movelab_annotation</td></tr><tr><th>description</th><td style=text-align:left></td></tr><tr><th>unitText</th><td style=text-align:left></td></tr><tr><th>dataType</th><td style=text-align:left>xsd:string</td></tr></table></li><li><table border=\"1\"><tr><th>@type</th><td style=text-align:left>PropertyValue</td></tr><tr><th>name</th><td style=text-align:left>movelab_annotation_euro</td></tr><tr><th>description</th><td style=text-align:left></td></tr><tr><th>unitText</th><td style=text-align:left></td></tr><tr><th>dataType</th><td style=text-align:left>xsd:string</td></tr></table></li><li><table border=\"1\"><tr><th>@type</th><td style=text-align:left>PropertyValue</td></tr><tr><th>name</th><td style=text-align:left>tiger_responses</td></tr><tr><th>description</th><td style=text-align:left>Similar to &#x27;tiger_responses_text&#x27; attribute but it is a preprocessed version with the aim of beeing ML-friendly. In case of doubt, refere better to &#x27;tiger_responses_text&#x27;.</td></tr><tr><th>unitText</th><td style=text-align:left></td></tr><tr><th>dataType</th><td style=text-align:left>xsd:string</td></tr></table></li><li><table border=\"1\"><tr><th>@type</th><td style=text-align:left>PropertyValue</td></tr><tr><th>name</th><td style=text-align:left>tiger_responses_text</td></tr><tr><th>description</th><td style=text-align:left>Adult mosquito related user responses stored in json format with the following keys: &#x27;id&#x27; identifier; &#x27;translated_question&#x27; question as it was in the app, translated to the same language the app was when uploading the report (if the app is in a language which have not translation yet, it defaults to english); &#x27;translated_answer&#x27; user&#x27;s answer to the question; &#x27;question_id&#x27; question identifier;  &#x27;question&#x27; text format question in default language; &#x27;answer_id&#x27; answer identifier; &#x27;answer&#x27; text format answer in default language; &#x27;answer_value&#x27; integer value relative to the answer; &#x27;report&#x27; identifier of the report.</td></tr><tr><th>unitText</th><td style=text-align:left></td></tr><tr><th>dataType</th><td style=text-align:left>xsd:string</td></tr></table></li><li><table border=\"1\"><tr><th>@type</th><td style=text-align:left>PropertyValue</td></tr><tr><th>name</th><td style=text-align:left>site_responses</td></tr><tr><th>description</th><td style=text-align:left>Similar to &#x27;site_responses_text&#x27; attribute but it is a preprocessed version with the aim of beeing ML-friendly. In case of doubt, refere better to &#x27;site_responses_text&#x27;.</td></tr><tr><th>unitText</th><td style=text-align:left></td></tr><tr><th>dataType</th><td style=text-align:left>xsd:string</td></tr></table></li><li><table border=\"1\"><tr><th>@type</th><td style=text-align:left>PropertyValue</td></tr><tr><th>name</th><td style=text-align:left>site_responses_text</td></tr><tr><th>description</th><td style=text-align:left>Breeding site related user responses stored in json format with the following keys: &#x27;id&#x27; identifier; &#x27;translated_question&#x27; question as it was in the app, translated to the same language the app was when uploading the report (if the app is in a language which have not translation yet, it defaults to english); &#x27;translated_answer&#x27; user&#x27;s answer to the question; &#x27;question_id&#x27; question identifier;  &#x27;question&#x27; text format question in default language; &#x27;answer_id&#x27; answer identifier; &#x27;answer&#x27; text format answer in default language; &#x27;answer_value&#x27; integer value relative to the answer; &#x27;report&#x27; identifier of the report.</td></tr><tr><th>unitText</th><td style=text-align:left></td></tr><tr><th>dataType</th><td style=text-align:left>xsd:string</td></tr></table></li><li><table border=\"1\"><tr><th>@type</th><td style=text-align:left>PropertyValue</td></tr><tr><th>name</th><td style=text-align:left>tigaprob_cat</td></tr><tr><th>description</th><td style=text-align:left></td></tr><tr><th>unitText</th><td style=text-align:left></td></tr><tr><th>dataType</th><td style=text-align:left>xsd:int</td></tr></table></li><li><table border=\"1\"><tr><th>@type</th><td style=text-align:left>PropertyValue</td></tr><tr><th>name</th><td style=text-align:left>visible</td></tr><tr><th>description</th><td style=text-align:left></td></tr><tr><th>unitText</th><td style=text-align:left></td></tr><tr><th>dataType</th><td style=text-align:left>xsd:boolean</td></tr></table></li><li><table border=\"1\"><tr><th>@type</th><td style=text-align:left>PropertyValue</td></tr><tr><th>name</th><td style=text-align:left>latest_version</td></tr><tr><th>description</th><td style=text-align:left></td></tr><tr><th>unitText</th><td style=text-align:left></td></tr><tr><th>dataType</th><td style=text-align:left>xsd:boolean</td></tr></table></li><li><table border=\"1\"><tr><th>@type</th><td style=text-align:left>PropertyValue</td></tr><tr><th>name</th><td style=text-align:left>n_photos</td></tr><tr><th>description</th><td style=text-align:left></td></tr><tr><th>unitText</th><td style=text-align:left></td></tr><tr><th>dataType</th><td style=text-align:left>xsd:int</td></tr></table></li><li><table border=\"1\"><tr><th>@type</th><td style=text-align:left>PropertyValue</td></tr><tr><th>name</th><td style=text-align:left>final_expert_status_text</td></tr><tr><th>description</th><td style=text-align:left></td></tr><tr><th>unitText</th><td style=text-align:left></td></tr><tr><th>dataType</th><td style=text-align:left>xsd:int</td></tr></table></li><li><table border=\"1\"><tr><th>@type</th><td style=text-align:left>PropertyValue</td></tr><tr><th>name</th><td style=text-align:left>responses</td></tr><tr><th>description</th><td style=text-align:left>Bites related user responses stored in json format with the following keys: &#x27;id&#x27; identifier; &#x27;translated_question&#x27; question as it was in the app, translated to the same language the app was when uploading the report (if the app is in a language which have not translation yet, it defaults to english); &#x27;translated_answer&#x27; user&#x27;s answer to the question; &#x27;question_id&#x27; question identifier;  &#x27;question&#x27; text format question in default language; &#x27;answer_id&#x27; answer identifier; &#x27;answer&#x27; text format answer in default language; &#x27;answer_value&#x27; integer value relative to the answer; &#x27;report&#x27; identifier of the report.</td></tr><tr><th>unitText</th><td style=text-align:left></td></tr><tr><th>dataType</th><td style=text-align:left>xsd:string</td></tr></table></li><li><table border=\"1\"><tr><th>@type</th><td style=text-align:left>PropertyValue</td></tr><tr><th>name</th><td style=text-align:left>cached_visible</td></tr><tr><th>description</th><td style=text-align:left></td></tr><tr><th>unitText</th><td style=text-align:left></td></tr><tr><th>dataType</th><td style=text-align:left>xsd:decimal</td></tr></table></li><li><table border=\"1\"><tr><th>@type</th><td style=text-align:left>PropertyValue</td></tr><tr><th>name</th><td style=text-align:left>poxsd:int</td></tr><tr><th>description</th><td style=text-align:left></td></tr><tr><th>unitText</th><td style=text-align:left></td></tr><tr><th>dataType</th><td style=text-align:left>xsd:string</td></tr></table></li><li><table border=\"1\"><tr><th>@type</th><td style=text-align:left>PropertyValue</td></tr><tr><th>name</th><td style=text-align:left>country</td></tr><tr><th>description</th><td style=text-align:left></td></tr><tr><th>unitText</th><td style=text-align:left></td></tr><tr><th>dataType</th><td style=text-align:left>xsd:decimal</td></tr></table></li><li><table border=\"1\"><tr><th>@type</th><td style=text-align:left>PropertyValue</td></tr><tr><th>name</th><td style=text-align:left>session</td></tr><tr><th>description</th><td style=text-align:left></td></tr><tr><th>unitText</th><td style=text-align:left></td></tr><tr><th>dataType</th><td style=text-align:left>xsd:decimal</td></tr></table></li></ul></td></tr><tr><th>measurementTechnique</th><td style=text-align:left><ul><li>Mobile application for citizen science</li><li>Data validation by entomologists</li></ul></td></tr><tr><th>temporalCoverage</th><td style=text-align:left>2014/..</td></tr><tr><th>spatialCoverage</th><td style=text-align:left><table border=\"1\"><tr><th>type</th><td style=text-align:left>AdministrativeArea</td></tr><tr><th>name</th><td style=text-align:left>Eurozone</td></tr><tr><th>sameAs</th><td style=text-align:left>https://www.wikidata.org/wiki/Q8268</td></tr></table></td></tr><tr><th>distribution</th><td style=text-align:left><ul><li><table border=\"1\"><tr><th>@type</th><td style=text-align:left>DataDownload</td></tr><tr><th>name</th><td style=text-align:left>zenodo</td></tr><tr><th>description</th><td style=text-align:left>Distribution from Zenodo cloud.</td></tr><tr><th>encodingFormat</th><td style=text-align:left>JSON.ZIP</td></tr><tr><th>url</th><td style=text-align:left>./notebooks/reports.py</td></tr><tr><th>contentUrl</th><td style=text-align:left>https://zenodo.org/record/4729070/files/MosquitoAlert/Data-v1.120.2021.zip?download=1</td></tr><tr><th>contentSize</th><td style=text-align:left>5MB</td></tr></table></li><li><table border=\"1\"><tr><th>@type</th><td style=text-align:left>DataDownload</td></tr><tr><th>name</th><td style=text-align:left>github</td></tr><tr><th>description</th><td style=text-align:left>Distribution from MosquitoAlert Github repository</td></tr><tr><th>encodingFormat</th><td style=text-align:left>JSON</td></tr><tr><th>url</th><td style=text-align:left>./notebooks/reports.py</td></tr><tr><th>contentUrl</th><td style=text-align:left><ul><li>https://raw.githubusercontent.com/MosquitoAlert/Data/master/all_reports2014.json</li><li>https://raw.githubusercontent.com/MosquitoAlert/Data/master/all_reports2015.json</li><li>https://raw.githubusercontent.com/MosquitoAlert/Data/master/all_reports2016.json</li><li>https://raw.githubusercontent.com/MosquitoAlert/Data/master/all_reports2017.json</li><li>https://raw.githubusercontent.com/MosquitoAlert/Data/master/all_reports2018.json</li><li>https://raw.githubusercontent.com/MosquitoAlert/Data/master/all_reports2019.json</li><li>https://raw.githubusercontent.com/MosquitoAlert/Data/master/all_reports2020.json</li><li>https://raw.githubusercontent.com/MosquitoAlert/Data/master/all_reports2021.json</li><li>https://raw.githubusercontent.com/MosquitoAlert/Data/master/translation_dict.txt</li></ul></td></tr><tr><th>contentSize</th><td style=text-align:left>73MB</td></tr></table></li></ul></td></tr></table>"
      ],
      "text/plain": [
       "<IPython.core.display.HTML object>"
      ]
     },
     "execution_count": 4,
     "metadata": {},
     "output_type": "execute_result"
    }
   ],
   "source": [
    "# NO CODE\n",
    "# FULL WIDTH\n",
    "with open(f'{path}.json') as f:\n",
    "    data = json.load(f)\n",
    "\n",
    "table = json2html.convert(json=data, clubbing=False)\n",
    "table_sub = re.sub('<td>', '<td style=text-align:left>', table)\n",
    "\n",
    "HTML(table_sub)\n",
    "\n",
    "# Run the following in the command line to build a html table\n",
    "# $ jupyter nbconvert --to html --no-input --no-prompt build_tables.ipynb\n"
   ]
  },
  {
   "cell_type": "code",
   "execution_count": null,
   "id": "accomplished-simple",
   "metadata": {
    "papermill": {
     "duration": 0.007529,
     "end_time": "2021-06-16T14:19:54.491072",
     "exception": false,
     "start_time": "2021-06-16T14:19:54.483543",
     "status": "completed"
    },
    "tags": []
   },
   "outputs": [],
   "source": []
  }
 ],
 "metadata": {
  "interpreter": {
   "hash": "e3961729dbf4ff77740ff872c9a3eef08621b5b434e3d8d81026af4505918c74"
  },
  "kernelspec": {
   "display_name": "Python 3.7.7 64-bit ('scidb': conda)",
   "language": "python",
   "name": "python37764bitscidbcondaedb851cd018e40a48bcf757373e9ad32"
  },
  "language_info": {
   "codemirror_mode": {
    "name": "ipython",
    "version": 3
   },
   "file_extension": ".py",
   "mimetype": "text/x-python",
   "name": "python",
   "nbconvert_exporter": "python",
   "pygments_lexer": "ipython3",
   "version": "3.7.10"
  },
  "metadata": {
   "interpreter": {
    "hash": "e3961729dbf4ff77740ff872c9a3eef08621b5b434e3d8d81026af4505918c74"
   }
  },
  "papermill": {
   "default_parameters": {},
   "duration": 1.233037,
   "end_time": "2021-06-16T14:19:54.812273",
   "environment_variables": {},
   "exception": null,
   "input_path": "build_info.ipynb",
   "output_path": "./meta_ipynb/reports.ipynb",
   "parameters": {
    "path": "./meta/mosquito_alert/reports"
   },
   "start_time": "2021-06-16T14:19:53.579236",
   "version": "2.3.3"
  }
 },
 "nbformat": 4,
 "nbformat_minor": 5
}