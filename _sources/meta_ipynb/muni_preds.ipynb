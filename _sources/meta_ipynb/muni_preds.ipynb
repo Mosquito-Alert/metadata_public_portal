{
 "cells": [
  {
   "cell_type": "markdown",
   "id": "c10c00d0",
   "metadata": {
    "papermill": {
     "duration": 0.010491,
     "end_time": "2022-10-27T07:49:37.750794",
     "exception": false,
     "start_time": "2022-10-27T07:49:37.740303",
     "status": "completed"
    },
    "tags": []
   },
   "source": [
    "# Metadata table"
   ]
  },
  {
   "cell_type": "code",
   "execution_count": 1,
   "id": "c7b929a8",
   "metadata": {
    "execution": {
     "iopub.execute_input": "2022-10-27T07:49:37.765005Z",
     "iopub.status.busy": "2022-10-27T07:49:37.764465Z",
     "iopub.status.idle": "2022-10-27T07:49:37.780601Z",
     "shell.execute_reply": "2022-10-27T07:49:37.779737Z"
    },
    "papermill": {
     "duration": 0.026138,
     "end_time": "2022-10-27T07:49:37.783117",
     "exception": false,
     "start_time": "2022-10-27T07:49:37.756979",
     "status": "completed"
    },
    "tags": [
     "remove-input"
    ]
   },
   "outputs": [],
   "source": [
    "# NO CODE\n",
    "from json2html import json2html\n",
    "import json, re\n",
    "from IPython.display import HTML"
   ]
  },
  {
   "cell_type": "code",
   "execution_count": 2,
   "id": "821783fc",
   "metadata": {
    "execution": {
     "iopub.execute_input": "2022-10-27T07:49:37.802256Z",
     "iopub.status.busy": "2022-10-27T07:49:37.802016Z",
     "iopub.status.idle": "2022-10-27T07:49:37.805972Z",
     "shell.execute_reply": "2022-10-27T07:49:37.805141Z"
    },
    "papermill": {
     "duration": 0.016812,
     "end_time": "2022-10-27T07:49:37.808692",
     "exception": false,
     "start_time": "2022-10-27T07:49:37.791880",
     "status": "completed"
    },
    "tags": [
     "parameters",
     "remove-input"
    ]
   },
   "outputs": [],
   "source": [
    "# NO CODE\n",
    "# PARAMETERS\n",
    "path = './meta/environment/meteocat_xema'"
   ]
  },
  {
   "cell_type": "code",
   "execution_count": 3,
   "id": "556b015d",
   "metadata": {
    "execution": {
     "iopub.execute_input": "2022-10-27T07:49:37.825128Z",
     "iopub.status.busy": "2022-10-27T07:49:37.824079Z",
     "iopub.status.idle": "2022-10-27T07:49:37.830504Z",
     "shell.execute_reply": "2022-10-27T07:49:37.829023Z"
    },
    "papermill": {
     "duration": 0.016277,
     "end_time": "2022-10-27T07:49:37.833376",
     "exception": false,
     "start_time": "2022-10-27T07:49:37.817099",
     "status": "completed"
    },
    "tags": [
     "injected-parameters"
    ]
   },
   "outputs": [],
   "source": [
    "# Parameters\n",
    "path = \"./meta/mosquito_alert/muni_preds\"\n"
   ]
  },
  {
   "cell_type": "code",
   "execution_count": 4,
   "id": "31440962",
   "metadata": {
    "execution": {
     "iopub.execute_input": "2022-10-27T07:49:37.857686Z",
     "iopub.status.busy": "2022-10-27T07:49:37.856877Z",
     "iopub.status.idle": "2022-10-27T07:49:37.875745Z",
     "shell.execute_reply": "2022-10-27T07:49:37.874307Z"
    },
    "papermill": {
     "duration": 0.034449,
     "end_time": "2022-10-27T07:49:37.877697",
     "exception": false,
     "start_time": "2022-10-27T07:49:37.843248",
     "status": "completed"
    },
    "tags": [
     "remove-input",
     "full-width"
    ]
   },
   "outputs": [
    {
     "data": {
      "text/html": [
       "<table border=\"1\"><tr><th>$schema</th><td style=text-align:left>../schema.json</td></tr><tr><th>@context</th><td style=text-align:left><table border=\"1\"><tr><th>@vocab</th><td style=text-align:left>https://schema.org/</td></tr><tr><th>qudt</th><td style=text-align:left>http://qudt.org/schema/qudt/</td></tr><tr><th>xsd</th><td style=text-align:left>http://www.w3.org/2001/XMLSchema#</td></tr></table></td></tr><tr><th>@type</th><td style=text-align:left>Dataset</td></tr><tr><th>name</th><td style=text-align:left>muni_preds</td></tr><tr><th>conditionsOfAccess</th><td style=text-align:left>Public</td></tr><tr><th>description</th><td style=text-align:left>Daily estimates of Mosquito Alert probabilities for Ae. albopictus in Spain, aggregated by municipality. The day for which these estimates are made is shown in last 10 characters of the file name (before the file extension) in the format YYYY-MM-DD. So, for example, muni_preds_2018-02-01.json contains estimates for 1 February 2018.</td></tr><tr><th>url</th><td style=text-align:left>https://github.com/Mosquito-Alert/MosquitoAlertES/tree/main/data</td></tr><tr><th>license</th><td style=text-align:left>https://creativecommons.org/publicdomain/zero/1.0/</td></tr><tr><th>citation</th><td style=text-align:left><ul><li>Palmer, J. R. B., “Citizen science provides a reliable and scalable tool to track disease-carrying mosquitoes”, Nature Communications, vol. 8, 2017. doi:10.1038/s41467-017-00914-9</li></ul></td></tr><tr><th>temporalCoverage</th><td style=text-align:left>2018-01-01/..</td></tr><tr><th>spatialCoverage</th><td style=text-align:left><table border=\"1\"><tr><th>@type</th><td style=text-align:left>Place</td></tr><tr><th>name</th><td style=text-align:left>Spain</td></tr><tr><th>sameAs</th><td style=text-align:left>https://en.wikipedia.org/wiki/Spain</td></tr></table></td></tr><tr><th>distribution</th><td style=text-align:left><ul><li><table border=\"1\"><tr><th>@type</th><td style=text-align:left>DataDownload</td></tr><tr><th>name</th><td style=text-align:left>mosquitoalert_github</td></tr><tr><th>description</th><td style=text-align:left>Distribution from Mosquito-Alert/MosquitoAlertES Github repository</td></tr><tr><th>encodingFormat</th><td style=text-align:left>JSON</td></tr><tr><th>workExample</th><td style=text-align:left></td></tr><tr><th>contentUrl</th><td style=text-align:left><ul><li>https://raw.githubusercontent.com/Mosquito-Alert/MosquitoAlertES/main/data/muni_preds_{DATE}.json</li></ul></td></tr><tr><th>contentSize</th><td style=text-align:left>230kB</td></tr></table></li></ul></td></tr><tr><th>variableMeasured</th><td style=text-align:left><ul><li><table border=\"1\"><tr><th>@type</th><td style=text-align:left>PropertyValue</td></tr><tr><th>name</th><td style=text-align:left>NATCODE</td></tr><tr><th>description</th><td style=text-align:left>Unique 11 digit code for municipality taken from Instituto Geográfico Nacional (IGN) Spanish municipality polygons dataset: recintos_municipales_inspire_peninbal_etrs89. The code is formed, from left to right, from codes for country (2 digits), autonomous communit (2 digits), province (2 ditis), and municipality (5 digits).</td></tr><tr><th>qudt:dataType</th><td style=text-align:left>xsd:int</td></tr></table></li><li><table border=\"1\"><tr><th>@type</th><td style=text-align:left>PropertyValue</td></tr><tr><th>name</th><td style=text-align:left>NAMEUNIT</td></tr><tr><th>description</th><td style=text-align:left>Municopality name, taken from Instituto Geográfico Nacional (IGN) Spanish municipality polygons dataset: recintos_municipales_inspire_peninbal_etrs89.</td></tr><tr><th>qudt:dataType</th><td style=text-align:left>xsd:string</td></tr></table></li><li><table border=\"1\"><tr><th>@type</th><td style=text-align:left>PropertyValue</td></tr><tr><th>name</th><td style=text-align:left>CODNUT1</td></tr><tr><th>description</th><td style=text-align:left>NUTS 1 region containing the municipality. NUTS 1 refers to &#x27;major socio-economic regions&#x27; and for Spain IGN identifies it as &#x27;Grandes Regiones&#x27;.</td></tr><tr><th>qudt:dataType</th><td style=text-align:left>xsd:string</td></tr></table></li><li><table border=\"1\"><tr><th>@type</th><td style=text-align:left>PropertyValue</td></tr><tr><th>name</th><td style=text-align:left>CODNUT2</td></tr><tr><th>description</th><td style=text-align:left>NUTS 2 region containing the municipality. NUTS 2 refers to &#x27;basic regions for the application of regional policies&#x27; and for Spain IGN identifies it as &#x27;CCAA&#x27;.</td></tr><tr><th>qudt:dataType</th><td style=text-align:left>xsd:string</td></tr></table></li><li><table border=\"1\"><tr><th>@type</th><td style=text-align:left>PropertyValue</td></tr><tr><th>name</th><td style=text-align:left>CODNUT3</td></tr><tr><th>description</th><td style=text-align:left>NUTS 3 region containing the municipality. NUTS 4 refers to &#x27;small regions for specific diagnoses&#x27; and for Spain IGN identifies it as &#x27;Provincia&#x27;.</td></tr><tr><th>qudt:dataType</th><td style=text-align:left>xsd:string</td></tr></table></li><li><table border=\"1\"><tr><th>@type</th><td style=text-align:left>PropertyValue</td></tr><tr><th>name</th><td style=text-align:left>ma_prob_mean</td></tr><tr><th>description</th><td style=text-align:left>Mosquito Alert Ae. albopictus probability estimated for the municipality. The estimate is made by first estimating the probabilities of at least one valid Ae. albopictus report being submitted to Mosquito Alert on the day in question from a grid of points across Spain at 1 km intervals, assuming a fixed, uniform sampling effort of 0.025. Point estimates are then averaged across municipalities.</td></tr><tr><th>qudt:dataType</th><td style=text-align:left>xsd:decimal</td></tr><tr><th>maxValue</th><td style=text-align:left>1</td></tr><tr><th>minValue</th><td style=text-align:left>0</td></tr></table></li><li><table border=\"1\"><tr><th>@type</th><td style=text-align:left>PropertyValue</td></tr><tr><th>name</th><td style=text-align:left>ma_prob_mean_codnut3</td></tr><tr><th>description</th><td style=text-align:left>Mosquito Alert Ae. albopictus probability estimated for the NUTS 3 region (province) containing the municipality. The estimates are made in the same way as for ma_prob_mean, but with points averaged across provinces.</td></tr><tr><th>qudt:dataType</th><td style=text-align:left>xsd:decimal</td></tr><tr><th>maxValue</th><td style=text-align:left>1</td></tr><tr><th>minValue</th><td style=text-align:left>0</td></tr></table></li></ul></td></tr><tr><th>measurementTechnique</th><td style=text-align:left><ul><li></li></ul></td></tr><tr><th>creator</th><td style=text-align:left><ul><li><table border=\"1\"><tr><th>@type</th><td style=text-align:left>Project</td></tr><tr><th>@id</th><td style=text-align:left>MA</td></tr><tr><th>name</th><td style=text-align:left>Mosquito Alert, Proyecto Coordinado por CREAF, CEAB-CSIC e ICREA</td></tr><tr><th>contactPoint</th><td style=text-align:left><table border=\"1\"><tr><th>@type</th><td style=text-align:left>ContactPoint</td></tr><tr><th>email</th><td style=text-align:left>info@mosquitoalert.com</td></tr><tr><th>url</th><td style=text-align:left>http://www.mosquitoalert.com/</td></tr></table></td></tr></table></li><li><table border=\"1\"><tr><th>@type</th><td style=text-align:left>Person</td></tr><tr><th>@id</th><td style=text-align:left>JP</td></tr><tr><th>name</th><td style=text-align:left>Palmer, John Rossman Bertholf</td></tr><tr><th>identifier</th><td style=text-align:left>https://orcid.org/0000-0002-2648-7860</td></tr><tr><th>contactPoint</th><td style=text-align:left><table border=\"1\"><tr><th>@type</th><td style=text-align:left>ContactPoint</td></tr><tr><th>roleName</th><td style=text-align:left>principal investigator</td></tr><tr><th>email</th><td style=text-align:left>john.palmer@upf.edu</td></tr><tr><th>url</th><td style=text-align:left>https://www.upf.edu/web/gritim/entry/-/-/50722/adscripcion/john-rossman-bertholf-palmer/</td></tr></table></td></tr></table></li></ul></td></tr></table>"
      ],
      "text/plain": [
       "<IPython.core.display.HTML object>"
      ]
     },
     "execution_count": 4,
     "metadata": {},
     "output_type": "execute_result"
    }
   ],
   "source": [
    "# NO CODE\n",
    "# FULL WIDTH\n",
    "with open(f'{path}.json') as f:\n",
    "    data = json.load(f)\n",
    "\n",
    "table = json2html.convert(json=data, clubbing=False)\n",
    "table_sub = re.sub('<td>', '<td style=text-align:left>', table)\n",
    "\n",
    "HTML(table_sub)\n",
    "\n",
    "# Run the following in the command line to build a html table\n",
    "# $ jupyter nbconvert --to html --no-input --no-prompt build_tables.ipynb\n"
   ]
  },
  {
   "cell_type": "code",
   "execution_count": null,
   "id": "207ae336",
   "metadata": {
    "papermill": {
     "duration": 0.007825,
     "end_time": "2022-10-27T07:49:37.892676",
     "exception": false,
     "start_time": "2022-10-27T07:49:37.884851",
     "status": "completed"
    },
    "tags": []
   },
   "outputs": [],
   "source": []
  }
 ],
 "metadata": {
  "interpreter": {
   "hash": "524d3359b179f3b444361f48db8ae048bd8c237924fac1cd48a4c6f8144f6452"
  },
  "kernelspec": {
   "display_name": "Python 3.7.10 64-bit ('scidb': conda)",
   "language": "python",
   "name": "python3"
  },
  "language_info": {
   "codemirror_mode": {
    "name": "ipython",
    "version": 3
   },
   "file_extension": ".py",
   "mimetype": "text/x-python",
   "name": "python",
   "nbconvert_exporter": "python",
   "pygments_lexer": "ipython3",
   "version": "3.10.4"
  },
  "metadata": {
   "interpreter": {
    "hash": "e3961729dbf4ff77740ff872c9a3eef08621b5b434e3d8d81026af4505918c74"
   }
  },
  "papermill": {
   "default_parameters": {},
   "duration": 1.591145,
   "end_time": "2022-10-27T07:49:38.225006",
   "environment_variables": {},
   "exception": null,
   "input_path": "build_info.ipynb",
   "output_path": "./meta_ipynb/muni_preds.ipynb",
   "parameters": {
    "path": "./meta/mosquito_alert/muni_preds"
   },
   "start_time": "2022-10-27T07:49:36.633861",
   "version": "2.3.4"
  }
 },
 "nbformat": 4,
 "nbformat_minor": 5
}