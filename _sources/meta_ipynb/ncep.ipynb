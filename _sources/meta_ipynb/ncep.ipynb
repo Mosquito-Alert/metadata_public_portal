{
 "cells": [
  {
   "cell_type": "markdown",
   "id": "bbd5cd07",
   "metadata": {
    "papermill": {
     "duration": 0.011797,
     "end_time": "2024-01-08T08:30:20.421267",
     "exception": false,
     "start_time": "2024-01-08T08:30:20.409470",
     "status": "completed"
    },
    "tags": []
   },
   "source": [
    "# Metadata table"
   ]
  },
  {
   "cell_type": "code",
   "execution_count": 1,
   "id": "79863b60",
   "metadata": {
    "execution": {
     "iopub.execute_input": "2024-01-08T08:30:20.434106Z",
     "iopub.status.busy": "2024-01-08T08:30:20.433542Z",
     "iopub.status.idle": "2024-01-08T08:30:20.451115Z",
     "shell.execute_reply": "2024-01-08T08:30:20.449901Z"
    },
    "papermill": {
     "duration": 0.027343,
     "end_time": "2024-01-08T08:30:20.454050",
     "exception": false,
     "start_time": "2024-01-08T08:30:20.426707",
     "status": "completed"
    },
    "tags": [
     "remove-input"
    ]
   },
   "outputs": [],
   "source": [
    "# NO CODE\n",
    "from json2html import json2html\n",
    "import json, re\n",
    "from IPython.display import HTML"
   ]
  },
  {
   "cell_type": "code",
   "execution_count": 2,
   "id": "4cb74eed",
   "metadata": {
    "execution": {
     "iopub.execute_input": "2024-01-08T08:30:20.471458Z",
     "iopub.status.busy": "2024-01-08T08:30:20.470784Z",
     "iopub.status.idle": "2024-01-08T08:30:20.478305Z",
     "shell.execute_reply": "2024-01-08T08:30:20.476868Z"
    },
    "papermill": {
     "duration": 0.018563,
     "end_time": "2024-01-08T08:30:20.481641",
     "exception": false,
     "start_time": "2024-01-08T08:30:20.463078",
     "status": "completed"
    },
    "tags": [
     "parameters",
     "remove-input"
    ]
   },
   "outputs": [],
   "source": [
    "# NO CODE\n",
    "# PARAMETERS\n",
    "path = './meta/environment/meteocat_xema'"
   ]
  },
  {
   "cell_type": "code",
   "execution_count": 3,
   "id": "694a6daa",
   "metadata": {
    "execution": {
     "iopub.execute_input": "2024-01-08T08:30:20.496264Z",
     "iopub.status.busy": "2024-01-08T08:30:20.495819Z",
     "iopub.status.idle": "2024-01-08T08:30:20.502234Z",
     "shell.execute_reply": "2024-01-08T08:30:20.500778Z"
    },
    "papermill": {
     "duration": 0.017618,
     "end_time": "2024-01-08T08:30:20.505705",
     "exception": false,
     "start_time": "2024-01-08T08:30:20.488087",
     "status": "completed"
    },
    "tags": [
     "injected-parameters"
    ]
   },
   "outputs": [],
   "source": [
    "# Parameters\n",
    "path = \"./meta/environment/ncep\"\n"
   ]
  },
  {
   "cell_type": "code",
   "execution_count": 4,
   "id": "52f03ccc",
   "metadata": {
    "execution": {
     "iopub.execute_input": "2024-01-08T08:30:20.523649Z",
     "iopub.status.busy": "2024-01-08T08:30:20.523050Z",
     "iopub.status.idle": "2024-01-08T08:30:20.544647Z",
     "shell.execute_reply": "2024-01-08T08:30:20.543628Z"
    },
    "papermill": {
     "duration": 0.031637,
     "end_time": "2024-01-08T08:30:20.547624",
     "exception": false,
     "start_time": "2024-01-08T08:30:20.515987",
     "status": "completed"
    },
    "tags": [
     "remove-input",
     "full-width"
    ]
   },
   "outputs": [
    {
     "data": {
      "text/html": [
       "<table border=\"1\"><tr><th>$schema</th><td style=text-align:left>../schema.json</td></tr><tr><th>@context</th><td style=text-align:left><table border=\"1\"><tr><th>@vocab</th><td style=text-align:left>https://schema.org/</td></tr><tr><th>qudt</th><td style=text-align:left>http://qudt.org/schema/qudt/</td></tr><tr><th>xsd</th><td style=text-align:left>http://www.w3.org/2001/XMLSchema#</td></tr></table></td></tr><tr><th>@type</th><td style=text-align:left>Dataset</td></tr><tr><th>name</th><td style=text-align:left>ncep</td></tr><tr><th>conditionsOfAccess</th><td style=text-align:left>Private</td></tr><tr><th>description</th><td style=text-align:left>NCEP-GFS hourly worldwide weather 5-days forecast on 0.25 degree grid, updated every 6 hours. Temporal resolution is of 1 hour out to 120 hours, then 3 hours for days 5-16, has 57 vertical standard pressure levels, and is cycled 4x/day. This dataset is not intended for general public access since the original row dataset is freely distributed by NOAA-NCEP.</td></tr><tr><th>license</th><td style=text-align:left>https://www.weather.gov/disclaimer</td></tr><tr><th>citation</th><td style=text-align:left><ul><li>National Centers For Environmental Prediction/National Weather Service/NOAA/U.S. Department Of Commerce, “NCEP GFS 0.25 Degree Global Forecast Grids Historical Archive.” UCAR/NCAR - Research Data Archive, 2015, doi: 10.5065/D65D8PWK.</li></ul></td></tr><tr><th>temporalCoverage</th><td style=text-align:left>0 to 5 day forecast</td></tr><tr><th>spatialCoverage</th><td style=text-align:left><table border=\"1\"><tr><th>@type</th><td style=text-align:left>Place</td></tr><tr><th>name</th><td style=text-align:left>Worldwide</td></tr><tr><th>sameAs</th><td style=text-align:left>https://www.wikidata.org/wiki/Q13780930</td></tr></table></td></tr><tr><th>distribution</th><td style=text-align:left><ul><li><table border=\"1\"><tr><th>@type</th><td style=text-align:left>DataDownload</td></tr><tr><th>name</th><td style=text-align:left>cluster_ceab</td></tr><tr><th>description</th><td style=text-align:left>Distribution by CSIC-CEAB cluster</td></tr><tr><th>encodingFormat</th><td style=text-align:left>netCDF</td></tr><tr><th>workExample</th><td style=text-align:left>./notebooks/ncep.py</td></tr><tr><th>contentUrl</th><td style=text-align:left><ul><li>sftp://{USER}@cluster-ceab:/leov1/ncep/daily_chunks/{YEAR-MONTH-DAY}/masked_{VARIABLE_NAME}_t_{YEAR-MONTH-DAY}.nc</li></ul></td></tr><tr><th>contentSize</th><td style=text-align:left>10MB</td></tr></table></li></ul></td></tr><tr><th>variableMeasured</th><td style=text-align:left><ul><li><table border=\"1\"><tr><th>@type</th><td style=text-align:left>PropertyValue</td></tr><tr><th>name</th><td style=text-align:left>2m_temperature</td></tr><tr><th>description</th><td style=text-align:left>2 m above ground air temperature</td></tr><tr><th>unitText</th><td style=text-align:left>Degree Kelvin</td></tr><tr><th>qudt:dataType</th><td style=text-align:left>xsd:int</td></tr></table></li><li><table border=\"1\"><tr><th>@type</th><td style=text-align:left>PropertyValue</td></tr><tr><th>name</th><td style=text-align:left>2m_dewpoint_temperature</td></tr><tr><th>description</th><td style=text-align:left>2 m above ground dew point temperature</td></tr><tr><th>unitText</th><td style=text-align:left>Degree Kelvin</td></tr><tr><th>qudt:dataType</th><td style=text-align:left>xsd:int</td></tr></table></li><li><table border=\"1\"><tr><th>@type</th><td style=text-align:left>PropertyValue</td></tr><tr><th>name</th><td style=text-align:left>10m_u_component_of_wind</td></tr><tr><th>description</th><td style=text-align:left>10 m above ground wind velocity component u</td></tr><tr><th>unitText</th><td style=text-align:left>m s^-1</td></tr><tr><th>qudt:dataType</th><td style=text-align:left>xsd:int</td></tr></table></li><li><table border=\"1\"><tr><th>@type</th><td style=text-align:left>PropertyValue</td></tr><tr><th>name</th><td style=text-align:left>10m_v_component_of_wind</td></tr><tr><th>description</th><td style=text-align:left>10m above ground wind velocity component v</td></tr><tr><th>unitText</th><td style=text-align:left>m s^-1</td></tr><tr><th>qudt:dataType</th><td style=text-align:left>xsd:int</td></tr></table></li><li><table border=\"1\"><tr><th>@type</th><td style=text-align:left>PropertyValue</td></tr><tr><th>name</th><td style=text-align:left>total_precipitation</td></tr><tr><th>description</th><td style=text-align:left>Accumulated total precipitation during 1 hour</td></tr><tr><th>unitText</th><td style=text-align:left>mm h^-1</td></tr><tr><th>qudt:dataType</th><td style=text-align:left>xsd:int</td></tr></table></li></ul></td></tr><tr><th>measurementTechnique</th><td style=text-align:left><ul><li>Global Forecast System (GFS) is a global numerical weather prediction system containing a global computer model and variational analysis run by the U.S. National Weather Service (NWS)</li></ul></td></tr><tr><th>creator</th><td style=text-align:left><ul><li><table border=\"1\"><tr><th>@type</th><td style=text-align:left>Organization</td></tr><tr><th>@id</th><td style=text-align:left>NWS</td></tr><tr><th>name</th><td style=text-align:left>National Weather Service (NWS)</td></tr><tr><th>contactPoint</th><td style=text-align:left><table border=\"1\"><tr><th>@type</th><td style=text-align:left>ContactPoint</td></tr><tr><th>email</th><td style=text-align:left>sdm@noaa.gov</td></tr><tr><th>url</th><td style=text-align:left>https://www.weather.gov/about/</td></tr></table></td></tr></table></li><li><table border=\"1\"><tr><th>@type</th><td style=text-align:left>Person</td></tr><tr><th>@id</th><td style=text-align:left>ZJ</td></tr><tr><th>name</th><td style=text-align:left>Južnič Zonta, Živko</td></tr><tr><th>identifier</th><td style=text-align:left>https://orcid.org/0000-0002-2362-9771</td></tr><tr><th>contactPoint</th><td style=text-align:left><table border=\"1\"><tr><th>@type</th><td style=text-align:left>ContactPoint</td></tr><tr><th>roleName</th><td style=text-align:left>data engineer</td></tr><tr><th>email</th><td style=text-align:left>jzivko@gmail.com</td></tr><tr><th>url</th><td style=text-align:left>https://es.linkedin.com/in/zivko</td></tr></table></td></tr></table></li></ul></td></tr></table>"
      ],
      "text/plain": [
       "<IPython.core.display.HTML object>"
      ]
     },
     "execution_count": 4,
     "metadata": {},
     "output_type": "execute_result"
    }
   ],
   "source": [
    "# NO CODE\n",
    "# FULL WIDTH\n",
    "with open(f'{path}.json') as f:\n",
    "    data = json.load(f)\n",
    "\n",
    "table = json2html.convert(json=data, clubbing=False)\n",
    "table_sub = re.sub('<td>', '<td style=text-align:left>', table)\n",
    "\n",
    "HTML(table_sub)\n",
    "\n",
    "# Run the following in the command line to build a html table\n",
    "# $ jupyter nbconvert --to html --no-input --no-prompt build_tables.ipynb\n"
   ]
  },
  {
   "cell_type": "code",
   "execution_count": null,
   "id": "7c87c571",
   "metadata": {
    "papermill": {
     "duration": 0.005642,
     "end_time": "2024-01-08T08:30:20.562394",
     "exception": false,
     "start_time": "2024-01-08T08:30:20.556752",
     "status": "completed"
    },
    "tags": []
   },
   "outputs": [],
   "source": []
  }
 ],
 "metadata": {
  "interpreter": {
   "hash": "524d3359b179f3b444361f48db8ae048bd8c237924fac1cd48a4c6f8144f6452"
  },
  "kernelspec": {
   "display_name": "Python 3.7.10 64-bit ('scidb': conda)",
   "language": "python",
   "name": "python3"
  },
  "language_info": {
   "codemirror_mode": {
    "name": "ipython",
    "version": 3
   },
   "file_extension": ".py",
   "mimetype": "text/x-python",
   "name": "python",
   "nbconvert_exporter": "python",
   "pygments_lexer": "ipython3",
   "version": "3.10.4"
  },
  "metadata": {
   "interpreter": {
    "hash": "e3961729dbf4ff77740ff872c9a3eef08621b5b434e3d8d81026af4505918c74"
   }
  },
  "papermill": {
   "default_parameters": {},
   "duration": 1.464555,
   "end_time": "2024-01-08T08:30:20.893920",
   "environment_variables": {},
   "exception": null,
   "input_path": "build_info.ipynb",
   "output_path": "./meta_ipynb/ncep.ipynb",
   "parameters": {
    "path": "./meta/environment/ncep"
   },
   "start_time": "2024-01-08T08:30:19.429365",
   "version": "2.3.4"
  }
 },
 "nbformat": 4,
 "nbformat_minor": 5
}