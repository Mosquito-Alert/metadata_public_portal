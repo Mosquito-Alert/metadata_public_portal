{
 "cells": [
  {
   "cell_type": "markdown",
   "id": "7e35f264",
   "metadata": {
    "papermill": {
     "duration": 0.01012,
     "end_time": "2023-11-21T14:59:22.273679",
     "exception": false,
     "start_time": "2023-11-21T14:59:22.263559",
     "status": "completed"
    },
    "tags": []
   },
   "source": [
    "# Metadata table"
   ]
  },
  {
   "cell_type": "code",
   "execution_count": 1,
   "id": "fa1081a9",
   "metadata": {
    "execution": {
     "iopub.execute_input": "2023-11-21T14:59:22.285941Z",
     "iopub.status.busy": "2023-11-21T14:59:22.285431Z",
     "iopub.status.idle": "2023-11-21T14:59:22.301344Z",
     "shell.execute_reply": "2023-11-21T14:59:22.300055Z"
    },
    "papermill": {
     "duration": 0.026685,
     "end_time": "2023-11-21T14:59:22.305675",
     "exception": false,
     "start_time": "2023-11-21T14:59:22.278990",
     "status": "completed"
    },
    "tags": [
     "remove-input"
    ]
   },
   "outputs": [],
   "source": [
    "# NO CODE\n",
    "from json2html import json2html\n",
    "import json, re\n",
    "from IPython.display import HTML"
   ]
  },
  {
   "cell_type": "code",
   "execution_count": 2,
   "id": "8f5a1d3b",
   "metadata": {
    "execution": {
     "iopub.execute_input": "2023-11-21T14:59:22.319650Z",
     "iopub.status.busy": "2023-11-21T14:59:22.319297Z",
     "iopub.status.idle": "2023-11-21T14:59:22.324262Z",
     "shell.execute_reply": "2023-11-21T14:59:22.323073Z"
    },
    "papermill": {
     "duration": 0.014964,
     "end_time": "2023-11-21T14:59:22.327841",
     "exception": false,
     "start_time": "2023-11-21T14:59:22.312877",
     "status": "completed"
    },
    "tags": [
     "parameters",
     "remove-input"
    ]
   },
   "outputs": [],
   "source": [
    "# NO CODE\n",
    "# PARAMETERS\n",
    "path = './meta/environment/meteocat_xema'"
   ]
  },
  {
   "cell_type": "code",
   "execution_count": 3,
   "id": "fe06039b",
   "metadata": {
    "execution": {
     "iopub.execute_input": "2023-11-21T14:59:22.343080Z",
     "iopub.status.busy": "2023-11-21T14:59:22.342472Z",
     "iopub.status.idle": "2023-11-21T14:59:22.349412Z",
     "shell.execute_reply": "2023-11-21T14:59:22.348610Z"
    },
    "papermill": {
     "duration": 0.016916,
     "end_time": "2023-11-21T14:59:22.351431",
     "exception": false,
     "start_time": "2023-11-21T14:59:22.334515",
     "status": "completed"
    },
    "tags": [
     "injected-parameters"
    ]
   },
   "outputs": [],
   "source": [
    "# Parameters\n",
    "path = \"./meta/environment/era5h\"\n"
   ]
  },
  {
   "cell_type": "code",
   "execution_count": 4,
   "id": "3a352cdf",
   "metadata": {
    "execution": {
     "iopub.execute_input": "2023-11-21T14:59:22.367593Z",
     "iopub.status.busy": "2023-11-21T14:59:22.367146Z",
     "iopub.status.idle": "2023-11-21T14:59:22.395313Z",
     "shell.execute_reply": "2023-11-21T14:59:22.394161Z"
    },
    "papermill": {
     "duration": 0.038105,
     "end_time": "2023-11-21T14:59:22.397302",
     "exception": false,
     "start_time": "2023-11-21T14:59:22.359197",
     "status": "completed"
    },
    "tags": [
     "remove-input",
     "full-width"
    ]
   },
   "outputs": [
    {
     "data": {
      "text/html": [
       "<table border=\"1\"><tr><th>$schema</th><td style=text-align:left>../schema.json</td></tr><tr><th>@context</th><td style=text-align:left><table border=\"1\"><tr><th>@vocab</th><td style=text-align:left>https://schema.org/</td></tr><tr><th>qudt</th><td style=text-align:left>http://qudt.org/schema/qudt/</td></tr><tr><th>xsd</th><td style=text-align:left>http://www.w3.org/2001/XMLSchema#</td></tr></table></td></tr><tr><th>@type</th><td style=text-align:left>Dataset</td></tr><tr><th>name</th><td style=text-align:left>era5h</td></tr><tr><th>conditionsOfAccess</th><td style=text-align:left>Private</td></tr><tr><th>description</th><td style=text-align:left>ERA5 hourly gridded data on single levels from 1979 to present. ERA5 is the fifth generation ECMWF reanalysis for the global climate and weather. ERA5 provides hourly estimates for a large number of atmospheric, ocean-wave and land-surface quantities. ERA5 is updated daily with a latency of about 5 days. In case that serious flaws are detected in this early release (called ERA5T), this data could be different from the final release 2 to 3 months later. Data has been regridded to a regular lat-lon grid of 0.25 degrees for the reanalysis and 0.5 degrees for the uncertainty estimate. This dataset is not intended for general public access since the original row dataset is freely distributed by ECMWF</td></tr><tr><th>license</th><td style=text-align:left>Free of charge, worldwide, non-exclusive, royalty free and perpetual. See https://apps.ecmwf.int/datasets/licences/copernicus/</td></tr><tr><th>citation</th><td style=text-align:left><ul><li>ERA5 hourly data on single levels from 1979 to present [DOI: 10.24381/cds.adbb2d47]</li></ul></td></tr><tr><th>temporalCoverage</th><td style=text-align:left>1979-01-01/..</td></tr><tr><th>spatialCoverage</th><td style=text-align:left><table border=\"1\"><tr><th>@type</th><td style=text-align:left>Place</td></tr><tr><th>name</th><td style=text-align:left>Worldwide</td></tr><tr><th>sameAs</th><td style=text-align:left>https://www.wikidata.org/wiki/Q13780930</td></tr></table></td></tr><tr><th>distribution</th><td style=text-align:left><ul><li><table border=\"1\"><tr><th>@type</th><td style=text-align:left>DataDownload</td></tr><tr><th>name</th><td style=text-align:left>cds_api</td></tr><tr><th>description</th><td style=text-align:left>Distribution by Climate Data Store API</td></tr><tr><th>encodingFormat</th><td style=text-align:left>netCDF</td></tr><tr><th>workExample</th><td style=text-align:left>./notebooks/era5.py</td></tr><tr><th>contentUrl</th><td style=text-align:left><ul><li>https://cds.climate.copernicus.eu/api/v2</li></ul></td></tr><tr><th>contentSize</th><td style=text-align:left></td></tr></table></li><li><table border=\"1\"><tr><th>@type</th><td style=text-align:left>DataDownload</td></tr><tr><th>name</th><td style=text-align:left>cluster_ceab</td></tr><tr><th>description</th><td style=text-align:left>Distribution by CSIC-CEAB cluster</td></tr><tr><th>encodingFormat</th><td style=text-align:left>netCDF</td></tr><tr><th>workExample</th><td style=text-align:left>./notebooks/era5.py</td></tr><tr><th>contentUrl</th><td style=text-align:left><ul><li>sftp://{USER}@cluster-ceab:/leov1/era5/daily_chunks/masked_{VARIABLE_NAME}_t_{YEAR-MONTH-DAY}.nc</li></ul></td></tr><tr><th>contentSize</th><td style=text-align:left>10MB</td></tr></table></li></ul></td></tr><tr><th>variableMeasured</th><td style=text-align:left><ul><li><table border=\"1\"><tr><th>@type</th><td style=text-align:left>PropertyValue</td></tr><tr><th>name</th><td style=text-align:left>2m_temperature</td></tr><tr><th>description</th><td style=text-align:left>2 m above ground air temperature</td></tr><tr><th>unitText</th><td style=text-align:left>Degree Kelvin</td></tr><tr><th>qudt:dataType</th><td style=text-align:left>xsd:int</td></tr></table></li><li><table border=\"1\"><tr><th>@type</th><td style=text-align:left>PropertyValue</td></tr><tr><th>name</th><td style=text-align:left>2m_dewpoint_temperature</td></tr><tr><th>description</th><td style=text-align:left>2 m above ground dew point temperature</td></tr><tr><th>unitText</th><td style=text-align:left>Degree Kelvin</td></tr><tr><th>qudt:dataType</th><td style=text-align:left>xsd:int</td></tr></table></li><li><table border=\"1\"><tr><th>@type</th><td style=text-align:left>PropertyValue</td></tr><tr><th>name</th><td style=text-align:left>10m_u_component_of_wind</td></tr><tr><th>description</th><td style=text-align:left>10 m above ground wind velocity component u</td></tr><tr><th>unitText</th><td style=text-align:left>m s^-1</td></tr><tr><th>qudt:dataType</th><td style=text-align:left>xsd:int</td></tr></table></li><li><table border=\"1\"><tr><th>@type</th><td style=text-align:left>PropertyValue</td></tr><tr><th>name</th><td style=text-align:left>10m_v_component_of_wind</td></tr><tr><th>description</th><td style=text-align:left>10m above ground wind velocity component v</td></tr><tr><th>unitText</th><td style=text-align:left>m s^-1</td></tr><tr><th>qudt:dataType</th><td style=text-align:left>xsd:int</td></tr></table></li><li><table border=\"1\"><tr><th>@type</th><td style=text-align:left>PropertyValue</td></tr><tr><th>name</th><td style=text-align:left>total_precipitation</td></tr><tr><th>description</th><td style=text-align:left>Accumulated total precipitation during 1 hour</td></tr><tr><th>unitText</th><td style=text-align:left>mm h^-1</td></tr><tr><th>qudt:dataType</th><td style=text-align:left>xsd:int</td></tr></table></li></ul></td></tr><tr><th>creator</th><td style=text-align:left><ul><li><table border=\"1\"><tr><th>@type</th><td style=text-align:left>Organization</td></tr><tr><th>@id</th><td style=text-align:left>ECMWF</td></tr><tr><th>name</th><td style=text-align:left>European Centre for Medium-Range Weather Forecasts (ECMWF)</td></tr><tr><th>contactPoint</th><td style=text-align:left><table border=\"1\"><tr><th>@type</th><td style=text-align:left>ContactPoint</td></tr><tr><th>email</th><td style=text-align:left>copernicus-support@ecmwf.int</td></tr><tr><th>url</th><td style=text-align:left>https://www.ecmwf.int/</td></tr></table></td></tr></table></li><li><table border=\"1\"><tr><th>@type</th><td style=text-align:left>Person</td></tr><tr><th>@id</th><td style=text-align:left>ZJ</td></tr><tr><th>name</th><td style=text-align:left>Južnič Zonta, Živko</td></tr><tr><th>identifier</th><td style=text-align:left>https://orcid.org/0000-0002-2362-9771</td></tr><tr><th>contactPoint</th><td style=text-align:left><table border=\"1\"><tr><th>@type</th><td style=text-align:left>ContactPoint</td></tr><tr><th>roleName</th><td style=text-align:left>data engineer</td></tr><tr><th>email</th><td style=text-align:left>jzivko@gmail.com</td></tr><tr><th>url</th><td style=text-align:left>https://es.linkedin.com/in/zivko</td></tr></table></td></tr></table></li></ul></td></tr><tr><th>measurementTechnique</th><td style=text-align:left><ul><li>Automatic weather station</li><li>Data assimilation (reanalysis) that combines first principle models with observations</li></ul></td></tr></table>"
      ],
      "text/plain": [
       "<IPython.core.display.HTML object>"
      ]
     },
     "execution_count": 4,
     "metadata": {},
     "output_type": "execute_result"
    }
   ],
   "source": [
    "# NO CODE\n",
    "# FULL WIDTH\n",
    "with open(f'{path}.json') as f:\n",
    "    data = json.load(f)\n",
    "\n",
    "table = json2html.convert(json=data, clubbing=False)\n",
    "table_sub = re.sub('<td>', '<td style=text-align:left>', table)\n",
    "\n",
    "HTML(table_sub)\n",
    "\n",
    "# Run the following in the command line to build a html table\n",
    "# $ jupyter nbconvert --to html --no-input --no-prompt build_tables.ipynb\n"
   ]
  },
  {
   "cell_type": "code",
   "execution_count": null,
   "id": "867e6384",
   "metadata": {
    "papermill": {
     "duration": 0.005899,
     "end_time": "2023-11-21T14:59:22.412072",
     "exception": false,
     "start_time": "2023-11-21T14:59:22.406173",
     "status": "completed"
    },
    "tags": []
   },
   "outputs": [],
   "source": []
  }
 ],
 "metadata": {
  "interpreter": {
   "hash": "524d3359b179f3b444361f48db8ae048bd8c237924fac1cd48a4c6f8144f6452"
  },
  "kernelspec": {
   "display_name": "Python 3.7.10 64-bit ('scidb': conda)",
   "language": "python",
   "name": "python3"
  },
  "language_info": {
   "codemirror_mode": {
    "name": "ipython",
    "version": 3
   },
   "file_extension": ".py",
   "mimetype": "text/x-python",
   "name": "python",
   "nbconvert_exporter": "python",
   "pygments_lexer": "ipython3",
   "version": "3.10.4"
  },
  "metadata": {
   "interpreter": {
    "hash": "e3961729dbf4ff77740ff872c9a3eef08621b5b434e3d8d81026af4505918c74"
   }
  },
  "papermill": {
   "default_parameters": {},
   "duration": 1.851335,
   "end_time": "2023-11-21T14:59:22.743069",
   "environment_variables": {},
   "exception": null,
   "input_path": "build_info.ipynb",
   "output_path": "./meta_ipynb/era5h.ipynb",
   "parameters": {
    "path": "./meta/environment/era5h"
   },
   "start_time": "2023-11-21T14:59:20.891734",
   "version": "2.3.4"
  }
 },
 "nbformat": 4,
 "nbformat_minor": 5
}