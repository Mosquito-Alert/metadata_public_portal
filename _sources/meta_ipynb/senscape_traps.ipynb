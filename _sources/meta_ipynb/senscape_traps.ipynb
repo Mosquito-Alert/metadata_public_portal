{
 "cells": [
  {
   "cell_type": "markdown",
   "id": "42a346d5",
   "metadata": {
    "papermill": {
     "duration": 0.011867,
     "end_time": "2023-11-21T14:59:06.135767",
     "exception": false,
     "start_time": "2023-11-21T14:59:06.123900",
     "status": "completed"
    },
    "tags": []
   },
   "source": [
    "# Metadata table"
   ]
  },
  {
   "cell_type": "code",
   "execution_count": 1,
   "id": "606eb1fc",
   "metadata": {
    "execution": {
     "iopub.execute_input": "2023-11-21T14:59:06.149649Z",
     "iopub.status.busy": "2023-11-21T14:59:06.148648Z",
     "iopub.status.idle": "2023-11-21T14:59:06.164152Z",
     "shell.execute_reply": "2023-11-21T14:59:06.163219Z"
    },
    "papermill": {
     "duration": 0.024425,
     "end_time": "2023-11-21T14:59:06.166143",
     "exception": false,
     "start_time": "2023-11-21T14:59:06.141718",
     "status": "completed"
    },
    "tags": [
     "remove-input"
    ]
   },
   "outputs": [],
   "source": [
    "# NO CODE\n",
    "from json2html import json2html\n",
    "import json, re\n",
    "from IPython.display import HTML"
   ]
  },
  {
   "cell_type": "code",
   "execution_count": 2,
   "id": "691a0795",
   "metadata": {
    "execution": {
     "iopub.execute_input": "2023-11-21T14:59:06.182641Z",
     "iopub.status.busy": "2023-11-21T14:59:06.181980Z",
     "iopub.status.idle": "2023-11-21T14:59:06.188789Z",
     "shell.execute_reply": "2023-11-21T14:59:06.187847Z"
    },
    "papermill": {
     "duration": 0.016083,
     "end_time": "2023-11-21T14:59:06.191045",
     "exception": false,
     "start_time": "2023-11-21T14:59:06.174962",
     "status": "completed"
    },
    "tags": [
     "parameters",
     "remove-input"
    ]
   },
   "outputs": [],
   "source": [
    "# NO CODE\n",
    "# PARAMETERS\n",
    "path = './meta/environment/meteocat_xema'"
   ]
  },
  {
   "cell_type": "code",
   "execution_count": 3,
   "id": "cda78f8a",
   "metadata": {
    "execution": {
     "iopub.execute_input": "2023-11-21T14:59:06.207900Z",
     "iopub.status.busy": "2023-11-21T14:59:06.207218Z",
     "iopub.status.idle": "2023-11-21T14:59:06.213861Z",
     "shell.execute_reply": "2023-11-21T14:59:06.212993Z"
    },
    "papermill": {
     "duration": 0.016522,
     "end_time": "2023-11-21T14:59:06.215778",
     "exception": false,
     "start_time": "2023-11-21T14:59:06.199256",
     "status": "completed"
    },
    "tags": [
     "injected-parameters"
    ]
   },
   "outputs": [],
   "source": [
    "# Parameters\n",
    "path = \"./meta/mosquito_alert/senscape_traps\"\n"
   ]
  },
  {
   "cell_type": "code",
   "execution_count": 4,
   "id": "a3d34173",
   "metadata": {
    "execution": {
     "iopub.execute_input": "2023-11-21T14:59:06.229254Z",
     "iopub.status.busy": "2023-11-21T14:59:06.228695Z",
     "iopub.status.idle": "2023-11-21T14:59:06.255958Z",
     "shell.execute_reply": "2023-11-21T14:59:06.255136Z"
    },
    "papermill": {
     "duration": 0.036798,
     "end_time": "2023-11-21T14:59:06.258159",
     "exception": false,
     "start_time": "2023-11-21T14:59:06.221361",
     "status": "completed"
    },
    "tags": [
     "remove-input",
     "full-width"
    ]
   },
   "outputs": [
    {
     "data": {
      "text/html": [
       "<table border=\"1\"><tr><th>$schema</th><td style=text-align:left>../schema.json</td></tr><tr><th>@context</th><td style=text-align:left><table border=\"1\"><tr><th>@vocab</th><td style=text-align:left>https://schema.org/</td></tr><tr><th>qudt</th><td style=text-align:left>http://qudt.org/schema/qudt/</td></tr><tr><th>xsd</th><td style=text-align:left>http://www.w3.org/2001/XMLSchema#</td></tr></table></td></tr><tr><th>@type</th><td style=text-align:left>Dataset</td></tr><tr><th>name</th><td style=text-align:left>senscape_traps</td></tr><tr><th>conditionsOfAccess</th><td style=text-align:left>Private</td></tr><tr><th>description</th><td style=text-align:left>Real time mosquito presence count with on-site Irideon senscape smart traps through audio ML-classification (species and gender) by recording spectrogram that represents the mosquito wingbeat frequency. Direct senscape data access is by API-key. Python library is available at https://gitlab.com/ukojz/senscape to get data from API and store them on TigaData (Mosquito Alert database). Measurement precision is validated by laboratory tests with the following results: discrimination between target (mosquito) non-target (other insect) is 96%, genus (Aedes/Culex) is 94.5%, Aedes is 98%, gender Culex is 100%, Aedes female (aegypti/albopictus) is 77%, Aedes male (aegypti/albopictus) is 74%. This data set is owned by the Barcelona Public Health Agency (ASPB) and is considered confidential. Only uses explicitly allowed by the ASPB are permitted. Therefore, to use this dataset you need the specific consent of the ASPB. Contact tmontal@aspb.cat.</td></tr><tr><th>url</th><td style=text-align:left>https://senscape.eu</td></tr><tr><th>identifier</th><td style=text-align:left></td></tr><tr><th>license</th><td style=text-align:left>All rights reserved</td></tr><tr><th>citation</th><td style=text-align:left><ul><li></li></ul></td></tr><tr><th>temporalCoverage</th><td style=text-align:left>2020-07-24/..</td></tr><tr><th>spatialCoverage</th><td style=text-align:left><table border=\"1\"><tr><th>@type</th><td style=text-align:left>Place</td></tr><tr><th>name</th><td style=text-align:left>Barcelona</td></tr><tr><th>sameAs</th><td style=text-align:left>https://www.wikidata.org/wiki/Q1492</td></tr></table></td></tr><tr><th>distribution</th><td style=text-align:left><ul><li><table border=\"1\"><tr><th>@type</th><td style=text-align:left>DataDownload</td></tr><tr><th>name</th><td style=text-align:left>senscape_api</td></tr><tr><th>description</th><td style=text-align:left>Distribution by API</td></tr><tr><th>encodingFormat</th><td style=text-align:left>JSON</td></tr><tr><th>workExample</th><td style=text-align:left>./notebooks/senscape_traps.py</td></tr><tr><th>contentUrl</th><td style=text-align:left><ul><li>https://senscape.eu/api/data</li></ul></td></tr><tr><th>contentSize</th><td style=text-align:left>10MB</td></tr></table></li></ul></td></tr><tr><th>variableMeasured</th><td style=text-align:left><ul><li><table border=\"1\"><tr><th>@type</th><td style=text-align:left>PropertyValue</td></tr><tr><th>name</th><td style=text-align:left>record_time</td></tr><tr><th>description</th><td style=text-align:left></td></tr><tr><th>qudt:dataType</th><td style=text-align:left>xsd:dateTime</td></tr></table></li><li><table border=\"1\"><tr><th>@type</th><td style=text-align:left>PropertyValue</td></tr><tr><th>name</th><td style=text-align:left>_id</td></tr><tr><th>description</th><td style=text-align:left></td></tr><tr><th>qudt:dataType</th><td style=text-align:left>xsd:string</td></tr></table></li><li><table border=\"1\"><tr><th>@type</th><td style=text-align:left>PropertyValue</td></tr><tr><th>name</th><td style=text-align:left>temperature</td></tr><tr><th>description</th><td style=text-align:left>Air temperature measured inside the smart trap device.</td></tr><tr><th>unitText</th><td style=text-align:left>Celsius degrees</td></tr><tr><th>qudt:dataType</th><td style=text-align:left>xsd:decimal</td></tr></table></li><li><table border=\"1\"><tr><th>@type</th><td style=text-align:left>PropertyValue</td></tr><tr><th>name</th><td style=text-align:left>classification</td></tr><tr><th>description</th><td style=text-align:left>Labels of classification are: test_pulse (sensor signal checking), non_target (other insects, non-classified mosquitos or objects that may fall inside the Senscape trap), albopictus_male, albopictus_female, aegypti_male, aegypti_female.</td></tr><tr><th>qudt:dataType</th><td style=text-align:left>xsd:string</td></tr></table></li><li><table border=\"1\"><tr><th>@type</th><td style=text-align:left>PropertyValue</td></tr><tr><th>name</th><td style=text-align:left>client_name</td></tr><tr><th>description</th><td style=text-align:left>Sensor device name</td></tr><tr><th>qudt:dataType</th><td style=text-align:left>xsd:string</td></tr></table></li><li><table border=\"1\"><tr><th>@type</th><td style=text-align:left>PropertyValue</td></tr><tr><th>name</th><td style=text-align:left>client_type</td></tr><tr><th>description</th><td style=text-align:left>Sensor device measurement type, possible values are: Mosquito (insect classification of mosquitos)</td></tr><tr><th>qudt:dataType</th><td style=text-align:left>xsd:string</td></tr></table></li><li><table border=\"1\"><tr><th>@type</th><td style=text-align:left>PropertyValue</td></tr><tr><th>name</th><td style=text-align:left>lat</td></tr><tr><th>description</th><td style=text-align:left>Latitude coordinate of a relative sensor device</td></tr><tr><th>qudt:dataType</th><td style=text-align:left>xsd:string</td></tr></table></li><li><table border=\"1\"><tr><th>@type</th><td style=text-align:left>PropertyValue</td></tr><tr><th>name</th><td style=text-align:left>lng</td></tr><tr><th>description</th><td style=text-align:left>Longitude coordinate of a relative sensor device</td></tr><tr><th>qudt:dataType</th><td style=text-align:left>xsd:string</td></tr></table></li><li><table border=\"1\"><tr><th>@type</th><td style=text-align:left>PropertyValue</td></tr><tr><th>name</th><td style=text-align:left>nice_name</td></tr><tr><th>description</th><td style=text-align:left>Data file name associated with the device measurement. For each measurement, the device sends an audio and json file to the server.</td></tr><tr><th>qudt:dataType</th><td style=text-align:left>xsd:string</td></tr></table></li><li><table border=\"1\"><tr><th>@type</th><td style=text-align:left>PropertyValue</td></tr><tr><th>name</th><td style=text-align:left>processed</td></tr><tr><th>description</th><td style=text-align:left>Processed record date and time of the observation with UTC time zone 0. Format as YYYY-MM-DD hh:mm:ss.</td></tr><tr><th>qudt:dataType</th><td style=text-align:left>xsd:string</td></tr></table></li><li><table border=\"1\"><tr><th>@type</th><td style=text-align:left>PropertyValue</td></tr><tr><th>name</th><td style=text-align:left>temperature</td></tr><tr><th>description</th><td style=text-align:left>Air temperature inside the trap at the time of measurement.</td></tr><tr><th>unitText</th><td style=text-align:left>degree Celsius</td></tr><tr><th>qudt:dataType</th><td style=text-align:left>xsd:decimal</td></tr></table></li></ul></td></tr><tr><th>creator</th><td style=text-align:left><ul><li><table border=\"1\"><tr><th>@type</th><td style=text-align:left>Organization</td></tr><tr><th>@id</th><td style=text-align:left>Irideon</td></tr><tr><th>name</th><td style=text-align:left>Irideon S.L</td></tr><tr><th>identifier</th><td style=text-align:left>CIF:ESB57850257</td></tr><tr><th>contactPoint</th><td style=text-align:left><table border=\"1\"><tr><th>@type</th><td style=text-align:left>ContactPoint</td></tr><tr><th>name</th><td style=text-align:left>Bastian Faulhaber</td></tr><tr><th>email</th><td style=text-align:left>b.faulhaber@irideon.eu</td></tr><tr><th>url</th><td style=text-align:left>http://irideon.eu/</td></tr></table></td></tr></table></li><li><table border=\"1\"><tr><th>@type</th><td style=text-align:left>Organization</td></tr><tr><th>@id</th><td style=text-align:left>ASPB</td></tr><tr><th>name</th><td style=text-align:left>Barcelona Public Health Agency</td></tr><tr><th>identifier</th><td style=text-align:left>CIF:ESP5890009C</td></tr><tr><th>contactPoint</th><td style=text-align:left><table border=\"1\"><tr><th>@type</th><td style=text-align:left>ContactPoint</td></tr><tr><th>name</th><td style=text-align:left>Tomas Montalvo</td></tr><tr><th>email</th><td style=text-align:left>tmontal@aspb.cat</td></tr><tr><th>url</th><td style=text-align:left>https://www.aspb.cat/</td></tr></table></td></tr></table></li><li><table border=\"1\"><tr><th>@type</th><td style=text-align:left>Person</td></tr><tr><th>@id</th><td style=text-align:left>ZJ</td></tr><tr><th>name</th><td style=text-align:left>Južnič Zonta, Živko</td></tr><tr><th>identifier</th><td style=text-align:left>https://orcid.org/0000-0002-2362-9771</td></tr><tr><th>contactPoint</th><td style=text-align:left><table border=\"1\"><tr><th>@type</th><td style=text-align:left>ContactPoint</td></tr><tr><th>contactType</th><td style=text-align:left>data engineer</td></tr><tr><th>email</th><td style=text-align:left>jzivko@gmail.com</td></tr><tr><th>url</th><td style=text-align:left>https://es.linkedin.com/in/zivko</td></tr></table></td></tr></table></li></ul></td></tr><tr><th>measurementTechnique</th><td style=text-align:left><ul><li>Mosquito trap with real-time audio ML-classification</li></ul></td></tr></table>"
      ],
      "text/plain": [
       "<IPython.core.display.HTML object>"
      ]
     },
     "execution_count": 4,
     "metadata": {},
     "output_type": "execute_result"
    }
   ],
   "source": [
    "# NO CODE\n",
    "# FULL WIDTH\n",
    "with open(f'{path}.json') as f:\n",
    "    data = json.load(f)\n",
    "\n",
    "table = json2html.convert(json=data, clubbing=False)\n",
    "table_sub = re.sub('<td>', '<td style=text-align:left>', table)\n",
    "\n",
    "HTML(table_sub)\n",
    "\n",
    "# Run the following in the command line to build a html table\n",
    "# $ jupyter nbconvert --to html --no-input --no-prompt build_tables.ipynb\n"
   ]
  },
  {
   "cell_type": "code",
   "execution_count": null,
   "id": "92aeb41b",
   "metadata": {
    "papermill": {
     "duration": 0.006912,
     "end_time": "2023-11-21T14:59:06.272068",
     "exception": false,
     "start_time": "2023-11-21T14:59:06.265156",
     "status": "completed"
    },
    "tags": []
   },
   "outputs": [],
   "source": []
  }
 ],
 "metadata": {
  "interpreter": {
   "hash": "524d3359b179f3b444361f48db8ae048bd8c237924fac1cd48a4c6f8144f6452"
  },
  "kernelspec": {
   "display_name": "Python 3.7.10 64-bit ('scidb': conda)",
   "language": "python",
   "name": "python3"
  },
  "language_info": {
   "codemirror_mode": {
    "name": "ipython",
    "version": 3
   },
   "file_extension": ".py",
   "mimetype": "text/x-python",
   "name": "python",
   "nbconvert_exporter": "python",
   "pygments_lexer": "ipython3",
   "version": "3.10.4"
  },
  "metadata": {
   "interpreter": {
    "hash": "e3961729dbf4ff77740ff872c9a3eef08621b5b434e3d8d81026af4505918c74"
   }
  },
  "papermill": {
   "default_parameters": {},
   "duration": 1.547089,
   "end_time": "2023-11-21T14:59:06.606674",
   "environment_variables": {},
   "exception": null,
   "input_path": "build_info.ipynb",
   "output_path": "./meta_ipynb/senscape_traps.ipynb",
   "parameters": {
    "path": "./meta/mosquito_alert/senscape_traps"
   },
   "start_time": "2023-11-21T14:59:05.059585",
   "version": "2.3.4"
  }
 },
 "nbformat": 4,
 "nbformat_minor": 5
}