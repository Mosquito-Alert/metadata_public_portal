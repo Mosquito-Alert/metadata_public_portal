{
 "cells": [
  {
   "cell_type": "markdown",
   "id": "10d5bf9b",
   "metadata": {
    "papermill": {
     "duration": 0.008754,
     "end_time": "2024-01-08T08:29:59.995532",
     "exception": false,
     "start_time": "2024-01-08T08:29:59.986778",
     "status": "completed"
    },
    "tags": []
   },
   "source": [
    "# Metadata table"
   ]
  },
  {
   "cell_type": "code",
   "execution_count": 1,
   "id": "0271c775",
   "metadata": {
    "execution": {
     "iopub.execute_input": "2024-01-08T08:30:00.009528Z",
     "iopub.status.busy": "2024-01-08T08:30:00.008594Z",
     "iopub.status.idle": "2024-01-08T08:30:00.029543Z",
     "shell.execute_reply": "2024-01-08T08:30:00.028348Z"
    },
    "papermill": {
     "duration": 0.031123,
     "end_time": "2024-01-08T08:30:00.032801",
     "exception": false,
     "start_time": "2024-01-08T08:30:00.001678",
     "status": "completed"
    },
    "tags": [
     "remove-input"
    ]
   },
   "outputs": [],
   "source": [
    "# NO CODE\n",
    "from json2html import json2html\n",
    "import json, re\n",
    "from IPython.display import HTML"
   ]
  },
  {
   "cell_type": "code",
   "execution_count": 2,
   "id": "0a2c9433",
   "metadata": {
    "execution": {
     "iopub.execute_input": "2024-01-08T08:30:00.049283Z",
     "iopub.status.busy": "2024-01-08T08:30:00.048956Z",
     "iopub.status.idle": "2024-01-08T08:30:00.055127Z",
     "shell.execute_reply": "2024-01-08T08:30:00.053954Z"
    },
    "papermill": {
     "duration": 0.018408,
     "end_time": "2024-01-08T08:30:00.058183",
     "exception": false,
     "start_time": "2024-01-08T08:30:00.039775",
     "status": "completed"
    },
    "tags": [
     "parameters",
     "remove-input"
    ]
   },
   "outputs": [],
   "source": [
    "# NO CODE\n",
    "# PARAMETERS\n",
    "path = './meta/environment/meteocat_xema'"
   ]
  },
  {
   "cell_type": "code",
   "execution_count": 3,
   "id": "a6a1f4b4",
   "metadata": {
    "execution": {
     "iopub.execute_input": "2024-01-08T08:30:00.072416Z",
     "iopub.status.busy": "2024-01-08T08:30:00.072090Z",
     "iopub.status.idle": "2024-01-08T08:30:00.078256Z",
     "shell.execute_reply": "2024-01-08T08:30:00.077320Z"
    },
    "papermill": {
     "duration": 0.017791,
     "end_time": "2024-01-08T08:30:00.082096",
     "exception": false,
     "start_time": "2024-01-08T08:30:00.064305",
     "status": "completed"
    },
    "tags": [
     "injected-parameters"
    ]
   },
   "outputs": [],
   "source": [
    "# Parameters\n",
    "path = \"./meta/mosquito_alert/senscape_traps\"\n"
   ]
  },
  {
   "cell_type": "code",
   "execution_count": 4,
   "id": "ed54a3e8",
   "metadata": {
    "execution": {
     "iopub.execute_input": "2024-01-08T08:30:00.099820Z",
     "iopub.status.busy": "2024-01-08T08:30:00.098131Z",
     "iopub.status.idle": "2024-01-08T08:30:00.117426Z",
     "shell.execute_reply": "2024-01-08T08:30:00.116174Z"
    },
    "papermill": {
     "duration": 0.028642,
     "end_time": "2024-01-08T08:30:00.119279",
     "exception": false,
     "start_time": "2024-01-08T08:30:00.090637",
     "status": "completed"
    },
    "tags": [
     "remove-input",
     "full-width"
    ]
   },
   "outputs": [
    {
     "data": {
      "text/html": [
       "<table border=\"1\"><tr><th>$schema</th><td style=text-align:left>../schema.json</td></tr><tr><th>@context</th><td style=text-align:left><table border=\"1\"><tr><th>@vocab</th><td style=text-align:left>https://schema.org/</td></tr><tr><th>qudt</th><td style=text-align:left>http://qudt.org/schema/qudt/</td></tr><tr><th>xsd</th><td style=text-align:left>http://www.w3.org/2001/XMLSchema#</td></tr></table></td></tr><tr><th>@type</th><td style=text-align:left>Dataset</td></tr><tr><th>name</th><td style=text-align:left>senscape_traps</td></tr><tr><th>conditionsOfAccess</th><td style=text-align:left>Private</td></tr><tr><th>description</th><td style=text-align:left>Real time mosquito presence count with on-site Irideon senscape smart traps through audio ML-classification (species and gender) by recording spectrogram that represents the mosquito wingbeat frequency. Direct senscape data access is by API-key. Python library is available at https://gitlab.com/ukojz/senscape to get data from API and store them on TigaData (Mosquito Alert database). Measurement precision is validated by laboratory tests with the following results: discrimination between target (mosquito) non-target (other insect) is 96%, genus (Aedes/Culex) is 94.5%, Aedes is 98%, gender Culex is 100%, Aedes female (aegypti/albopictus) is 77%, Aedes male (aegypti/albopictus) is 74%. This data set is owned by the Barcelona Public Health Agency (ASPB) and is considered confidential. Only uses explicitly allowed by the ASPB are permitted. Therefore, to use this dataset you need the specific consent of the ASPB. Contact tmontal@aspb.cat.</td></tr><tr><th>url</th><td style=text-align:left>https://senscape.eu</td></tr><tr><th>identifier</th><td style=text-align:left></td></tr><tr><th>license</th><td style=text-align:left>All rights reserved</td></tr><tr><th>citation</th><td style=text-align:left><ul><li></li></ul></td></tr><tr><th>temporalCoverage</th><td style=text-align:left>2020-07-24/..</td></tr><tr><th>spatialCoverage</th><td style=text-align:left><table border=\"1\"><tr><th>@type</th><td style=text-align:left>Place</td></tr><tr><th>name</th><td style=text-align:left>Barcelona</td></tr><tr><th>sameAs</th><td style=text-align:left>https://www.wikidata.org/wiki/Q1492</td></tr></table></td></tr><tr><th>distribution</th><td style=text-align:left><ul><li><table border=\"1\"><tr><th>@type</th><td style=text-align:left>DataDownload</td></tr><tr><th>name</th><td style=text-align:left>senscape_api</td></tr><tr><th>description</th><td style=text-align:left>Distribution by API</td></tr><tr><th>encodingFormat</th><td style=text-align:left>JSON</td></tr><tr><th>workExample</th><td style=text-align:left>./notebooks/senscape_traps.py</td></tr><tr><th>contentUrl</th><td style=text-align:left><ul><li>https://senscape.eu/api/data</li></ul></td></tr><tr><th>contentSize</th><td style=text-align:left>10MB</td></tr></table></li></ul></td></tr><tr><th>variableMeasured</th><td style=text-align:left><ul><li><table border=\"1\"><tr><th>@type</th><td style=text-align:left>PropertyValue</td></tr><tr><th>name</th><td style=text-align:left>record_time</td></tr><tr><th>description</th><td style=text-align:left></td></tr><tr><th>qudt:dataType</th><td style=text-align:left>xsd:dateTime</td></tr></table></li><li><table border=\"1\"><tr><th>@type</th><td style=text-align:left>PropertyValue</td></tr><tr><th>name</th><td style=text-align:left>_id</td></tr><tr><th>description</th><td style=text-align:left></td></tr><tr><th>qudt:dataType</th><td style=text-align:left>xsd:string</td></tr></table></li><li><table border=\"1\"><tr><th>@type</th><td style=text-align:left>PropertyValue</td></tr><tr><th>name</th><td style=text-align:left>temperature</td></tr><tr><th>description</th><td style=text-align:left>Air temperature measured inside the smart trap device.</td></tr><tr><th>unitText</th><td style=text-align:left>Celsius degrees</td></tr><tr><th>qudt:dataType</th><td style=text-align:left>xsd:decimal</td></tr></table></li><li><table border=\"1\"><tr><th>@type</th><td style=text-align:left>PropertyValue</td></tr><tr><th>name</th><td style=text-align:left>classification</td></tr><tr><th>description</th><td style=text-align:left>Labels of classification are: test_pulse (sensor signal checking), non_target (other insects, non-classified mosquitos or objects that may fall inside the Senscape trap), albopictus_male, albopictus_female, aegypti_male, aegypti_female.</td></tr><tr><th>qudt:dataType</th><td style=text-align:left>xsd:string</td></tr></table></li><li><table border=\"1\"><tr><th>@type</th><td style=text-align:left>PropertyValue</td></tr><tr><th>name</th><td style=text-align:left>client_name</td></tr><tr><th>description</th><td style=text-align:left>Sensor device name</td></tr><tr><th>qudt:dataType</th><td style=text-align:left>xsd:string</td></tr></table></li><li><table border=\"1\"><tr><th>@type</th><td style=text-align:left>PropertyValue</td></tr><tr><th>name</th><td style=text-align:left>client_type</td></tr><tr><th>description</th><td style=text-align:left>Sensor device measurement type, possible values are: Mosquito (insect classification of mosquitos)</td></tr><tr><th>qudt:dataType</th><td style=text-align:left>xsd:string</td></tr></table></li><li><table border=\"1\"><tr><th>@type</th><td style=text-align:left>PropertyValue</td></tr><tr><th>name</th><td style=text-align:left>lat</td></tr><tr><th>description</th><td style=text-align:left>Latitude coordinate of a relative sensor device</td></tr><tr><th>qudt:dataType</th><td style=text-align:left>xsd:string</td></tr></table></li><li><table border=\"1\"><tr><th>@type</th><td style=text-align:left>PropertyValue</td></tr><tr><th>name</th><td style=text-align:left>lng</td></tr><tr><th>description</th><td style=text-align:left>Longitude coordinate of a relative sensor device</td></tr><tr><th>qudt:dataType</th><td style=text-align:left>xsd:string</td></tr></table></li><li><table border=\"1\"><tr><th>@type</th><td style=text-align:left>PropertyValue</td></tr><tr><th>name</th><td style=text-align:left>nice_name</td></tr><tr><th>description</th><td style=text-align:left>Data file name associated with the device measurement. For each measurement, the device sends an audio and json file to the server.</td></tr><tr><th>qudt:dataType</th><td style=text-align:left>xsd:string</td></tr></table></li><li><table border=\"1\"><tr><th>@type</th><td style=text-align:left>PropertyValue</td></tr><tr><th>name</th><td style=text-align:left>processed</td></tr><tr><th>description</th><td style=text-align:left>Processed record date and time of the observation with UTC time zone 0. Format as YYYY-MM-DD hh:mm:ss.</td></tr><tr><th>qudt:dataType</th><td style=text-align:left>xsd:string</td></tr></table></li><li><table border=\"1\"><tr><th>@type</th><td style=text-align:left>PropertyValue</td></tr><tr><th>name</th><td style=text-align:left>temperature</td></tr><tr><th>description</th><td style=text-align:left>Air temperature inside the trap at the time of measurement.</td></tr><tr><th>unitText</th><td style=text-align:left>degree Celsius</td></tr><tr><th>qudt:dataType</th><td style=text-align:left>xsd:decimal</td></tr></table></li></ul></td></tr><tr><th>creator</th><td style=text-align:left><ul><li><table border=\"1\"><tr><th>@type</th><td style=text-align:left>Organization</td></tr><tr><th>@id</th><td style=text-align:left>Irideon</td></tr><tr><th>name</th><td style=text-align:left>Irideon S.L</td></tr><tr><th>identifier</th><td style=text-align:left>CIF:ESB57850257</td></tr><tr><th>contactPoint</th><td style=text-align:left><table border=\"1\"><tr><th>@type</th><td style=text-align:left>ContactPoint</td></tr><tr><th>name</th><td style=text-align:left>Bastian Faulhaber</td></tr><tr><th>email</th><td style=text-align:left>b.faulhaber@irideon.eu</td></tr><tr><th>url</th><td style=text-align:left>http://irideon.eu/</td></tr></table></td></tr></table></li><li><table border=\"1\"><tr><th>@type</th><td style=text-align:left>Organization</td></tr><tr><th>@id</th><td style=text-align:left>ASPB</td></tr><tr><th>name</th><td style=text-align:left>Barcelona Public Health Agency</td></tr><tr><th>identifier</th><td style=text-align:left>CIF:ESP5890009C</td></tr><tr><th>contactPoint</th><td style=text-align:left><table border=\"1\"><tr><th>@type</th><td style=text-align:left>ContactPoint</td></tr><tr><th>name</th><td style=text-align:left>Tomas Montalvo</td></tr><tr><th>email</th><td style=text-align:left>tmontal@aspb.cat</td></tr><tr><th>url</th><td style=text-align:left>https://www.aspb.cat/</td></tr></table></td></tr></table></li><li><table border=\"1\"><tr><th>@type</th><td style=text-align:left>Person</td></tr><tr><th>@id</th><td style=text-align:left>ZJ</td></tr><tr><th>name</th><td style=text-align:left>Južnič Zonta, Živko</td></tr><tr><th>identifier</th><td style=text-align:left>https://orcid.org/0000-0002-2362-9771</td></tr><tr><th>contactPoint</th><td style=text-align:left><table border=\"1\"><tr><th>@type</th><td style=text-align:left>ContactPoint</td></tr><tr><th>contactType</th><td style=text-align:left>data engineer</td></tr><tr><th>email</th><td style=text-align:left>jzivko@gmail.com</td></tr><tr><th>url</th><td style=text-align:left>https://es.linkedin.com/in/zivko</td></tr></table></td></tr></table></li></ul></td></tr><tr><th>measurementTechnique</th><td style=text-align:left><ul><li>Mosquito trap with real-time audio ML-classification</li></ul></td></tr></table>"
      ],
      "text/plain": [
       "<IPython.core.display.HTML object>"
      ]
     },
     "execution_count": 4,
     "metadata": {},
     "output_type": "execute_result"
    }
   ],
   "source": [
    "# NO CODE\n",
    "# FULL WIDTH\n",
    "with open(f'{path}.json') as f:\n",
    "    data = json.load(f)\n",
    "\n",
    "table = json2html.convert(json=data, clubbing=False)\n",
    "table_sub = re.sub('<td>', '<td style=text-align:left>', table)\n",
    "\n",
    "HTML(table_sub)\n",
    "\n",
    "# Run the following in the command line to build a html table\n",
    "# $ jupyter nbconvert --to html --no-input --no-prompt build_tables.ipynb\n"
   ]
  },
  {
   "cell_type": "code",
   "execution_count": null,
   "id": "a2b0d452",
   "metadata": {
    "papermill": {
     "duration": 0.006771,
     "end_time": "2024-01-08T08:30:00.132832",
     "exception": false,
     "start_time": "2024-01-08T08:30:00.126061",
     "status": "completed"
    },
    "tags": []
   },
   "outputs": [],
   "source": []
  }
 ],
 "metadata": {
  "interpreter": {
   "hash": "524d3359b179f3b444361f48db8ae048bd8c237924fac1cd48a4c6f8144f6452"
  },
  "kernelspec": {
   "display_name": "Python 3.7.10 64-bit ('scidb': conda)",
   "language": "python",
   "name": "python3"
  },
  "language_info": {
   "codemirror_mode": {
    "name": "ipython",
    "version": 3
   },
   "file_extension": ".py",
   "mimetype": "text/x-python",
   "name": "python",
   "nbconvert_exporter": "python",
   "pygments_lexer": "ipython3",
   "version": "3.10.4"
  },
  "metadata": {
   "interpreter": {
    "hash": "e3961729dbf4ff77740ff872c9a3eef08621b5b434e3d8d81026af4505918c74"
   }
  },
  "papermill": {
   "default_parameters": {},
   "duration": 1.659323,
   "end_time": "2024-01-08T08:30:00.463581",
   "environment_variables": {},
   "exception": null,
   "input_path": "build_info.ipynb",
   "output_path": "./meta_ipynb/senscape_traps.ipynb",
   "parameters": {
    "path": "./meta/mosquito_alert/senscape_traps"
   },
   "start_time": "2024-01-08T08:29:58.804258",
   "version": "2.3.4"
  }
 },
 "nbformat": 4,
 "nbformat_minor": 5
}