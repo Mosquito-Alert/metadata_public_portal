{
 "cells": [
  {
   "cell_type": "markdown",
   "id": "2d8efa00",
   "metadata": {
    "papermill": {
     "duration": 0.012055,
     "end_time": "2024-07-01T13:29:41.921899",
     "exception": false,
     "start_time": "2024-07-01T13:29:41.909844",
     "status": "completed"
    },
    "tags": []
   },
   "source": [
    "# Metadata table"
   ]
  },
  {
   "cell_type": "code",
   "execution_count": 1,
   "id": "3f9ec3fa",
   "metadata": {
    "execution": {
     "iopub.execute_input": "2024-07-01T13:29:41.935389Z",
     "iopub.status.busy": "2024-07-01T13:29:41.934587Z",
     "iopub.status.idle": "2024-07-01T13:29:41.956141Z",
     "shell.execute_reply": "2024-07-01T13:29:41.955007Z"
    },
    "papermill": {
     "duration": 0.031068,
     "end_time": "2024-07-01T13:29:41.958385",
     "exception": false,
     "start_time": "2024-07-01T13:29:41.927317",
     "status": "completed"
    },
    "tags": [
     "remove-input"
    ]
   },
   "outputs": [],
   "source": [
    "# NO CODE\n",
    "from json2html import json2html\n",
    "import json, re\n",
    "from IPython.display import HTML"
   ]
  },
  {
   "cell_type": "code",
   "execution_count": 2,
   "id": "b327c060",
   "metadata": {
    "execution": {
     "iopub.execute_input": "2024-07-01T13:29:41.972924Z",
     "iopub.status.busy": "2024-07-01T13:29:41.972382Z",
     "iopub.status.idle": "2024-07-01T13:29:41.977344Z",
     "shell.execute_reply": "2024-07-01T13:29:41.976120Z"
    },
    "papermill": {
     "duration": 0.014751,
     "end_time": "2024-07-01T13:29:41.979494",
     "exception": false,
     "start_time": "2024-07-01T13:29:41.964743",
     "status": "completed"
    },
    "tags": [
     "parameters",
     "remove-input"
    ]
   },
   "outputs": [],
   "source": [
    "# NO CODE\n",
    "# PARAMETERS\n",
    "path = './meta/environment/meteocat_xema'"
   ]
  },
  {
   "cell_type": "code",
   "execution_count": 3,
   "id": "a017f9e2",
   "metadata": {
    "execution": {
     "iopub.execute_input": "2024-07-01T13:29:41.994658Z",
     "iopub.status.busy": "2024-07-01T13:29:41.993929Z",
     "iopub.status.idle": "2024-07-01T13:29:42.001135Z",
     "shell.execute_reply": "2024-07-01T13:29:42.000215Z"
    },
    "papermill": {
     "duration": 0.018258,
     "end_time": "2024-07-01T13:29:42.004580",
     "exception": false,
     "start_time": "2024-07-01T13:29:41.986322",
     "status": "completed"
    },
    "tags": [
     "injected-parameters"
    ]
   },
   "outputs": [],
   "source": [
    "# Parameters\n",
    "path = \"./meta/environment/meteocat_xema\"\n"
   ]
  },
  {
   "cell_type": "code",
   "execution_count": 4,
   "id": "8498b8b6",
   "metadata": {
    "execution": {
     "iopub.execute_input": "2024-07-01T13:29:42.021047Z",
     "iopub.status.busy": "2024-07-01T13:29:42.020378Z",
     "iopub.status.idle": "2024-07-01T13:29:42.045813Z",
     "shell.execute_reply": "2024-07-01T13:29:42.044568Z"
    },
    "papermill": {
     "duration": 0.037425,
     "end_time": "2024-07-01T13:29:42.049207",
     "exception": false,
     "start_time": "2024-07-01T13:29:42.011782",
     "status": "completed"
    },
    "tags": [
     "remove-input",
     "full-width"
    ]
   },
   "outputs": [
    {
     "data": {
      "text/html": [
       "<table border=\"1\"><tr><th>$schema</th><td style=text-align:left>../schema.json</td></tr><tr><th>@context</th><td style=text-align:left><table border=\"1\"><tr><th>@vocab</th><td style=text-align:left>https://schema.org/</td></tr><tr><th>qudt</th><td style=text-align:left>http://qudt.org/schema/qudt/</td></tr><tr><th>xsd</th><td style=text-align:left>http://www.w3.org/2001/XMLSchema#</td></tr></table></td></tr><tr><th>@type</th><td style=text-align:left>DataCatalog</td></tr><tr><th>name</th><td style=text-align:left>meteocat_xema</td></tr><tr><th>conditionsOfAccess</th><td style=text-align:left>Private</td></tr><tr><th>url</th><td style=text-align:left>./notebooks/metecat_xema.py</td></tr><tr><th>description</th><td style=text-align:left>Weather station data of the XEMA network of Meteorological Service of Catalonia (Meteocat). Measurement variables are coded by integer numbers and metadata should be used to recover measurement variable information. Temporal coverage depends on the selected weather station. This dataset is not intended for general public access since the original row dataset is freely distributed by Meteocat</td></tr><tr><th>license</th><td style=text-align:left>Free of charge, worldwide, non-exclusive, royalty free and perpetual. See https://www.meteo.cat/wpweb/avis-legal/</td></tr><tr><th>citation</th><td style=text-align:left><ul><li></li></ul></td></tr><tr><th>temporalCoverage</th><td style=text-align:left>../..</td></tr><tr><th>spatialCoverage</th><td style=text-align:left><table border=\"1\"><tr><th>@type</th><td style=text-align:left>Place</td></tr><tr><th>name</th><td style=text-align:left>Catalonia</td></tr><tr><th>sameAs</th><td style=text-align:left>https://www.wikidata.org/wiki/Q5705</td></tr></table></td></tr><tr><th>hasPart</th><td style=text-align:left><ul><li><table border=\"1\"><tr><th>@type</th><td style=text-align:left>Dataset</td></tr><tr><th>name</th><td style=text-align:left>meteocat_xema_data</td></tr><tr><th>description</th><td style=text-align:left>Meteorological data recorded at all stations of the Network of Automatic Meteorological Stations (XEMA) of the Meteorological Service of Catalonia. This base date contains variables measured less frequently than daily, usually semi-hourly. The entire dataset could be downloaded as CSV file but because of its large size in-memory filtering could be difficult if it is not loaded into SQL database first. Data are even available within Socrata API access which allows to filter by station, variable, time range, etc.</td></tr><tr><th>distribution</th><td style=text-align:left><ul><li><table border=\"1\"><tr><th>@type</th><td style=text-align:left>DataDownload</td></tr><tr><th>name</th><td style=text-align:left>transparenciacatalunya_api</td></tr><tr><th>description</th><td style=text-align:left>Distribution of the entire dataset within CSV download</td></tr><tr><th>encodingFormat</th><td style=text-align:left>CSV</td></tr><tr><th>workExample</th><td style=text-align:left>./notebooks/meteocat_xema.py</td></tr><tr><th>contentUrl</th><td style=text-align:left><ul><li>https://analisi.transparenciacatalunya.cat/api/views/nzvn-apee/rows.csv?accessType=DOWNLOAD&amp;sorting=true</li></ul></td></tr><tr><th>contentSize</th><td style=text-align:left>28GB</td></tr></table></li><li><table border=\"1\"><tr><th>@type</th><td style=text-align:left>DataDownload</td></tr><tr><th>name</th><td style=text-align:left>socrata_api</td></tr><tr><th>description</th><td style=text-align:left>Distribution from Socrata API</td></tr><tr><th>encodingFormat</th><td style=text-align:left>JSON</td></tr><tr><th>workExample</th><td style=text-align:left>./notebooks/meteocat_xema.py</td></tr><tr><th>contentUrl</th><td style=text-align:left><ul><li>https://analisi.transparenciacatalunya.cat/resource/nzvn-apee.json</li></ul></td></tr><tr><th>contentSize</th><td style=text-align:left></td></tr></table></li></ul></td></tr><tr><th>variableMeasured</th><td style=text-align:left><ul><li><table border=\"1\"><tr><th>@type</th><td style=text-align:left>PropertyValue</td></tr><tr><th>name</th><td style=text-align:left>id</td></tr><tr><th>description</th><td style=text-align:left>Identification code. Example: &#x27;C6010101100030&#x27;</td></tr><tr><th>qudt:dataType</th><td style=text-align:left>xsd:string</td></tr></table></li><li><table border=\"1\"><tr><th>@type</th><td style=text-align:left>PropertyValue</td></tr><tr><th>name</th><td style=text-align:left>codi_estacio</td></tr><tr><th>description</th><td style=text-align:left>Weather station identification code. Example: &#x27;KP&#x27;</td></tr><tr><th>qudt:dataType</th><td style=text-align:left>xsd:string</td></tr></table></li><li><table border=\"1\"><tr><th>@type</th><td style=text-align:left>PropertyValue</td></tr><tr><th>name</th><td style=text-align:left>codi_variable</td></tr><tr><th>description</th><td style=text-align:left>Weather measurement identification code. Example: 35</td></tr><tr><th>qudt:dataType</th><td style=text-align:left>xsd:int</td></tr></table></li><li><table border=\"1\"><tr><th>@type</th><td style=text-align:left>PropertyValue</td></tr><tr><th>name</th><td style=text-align:left>data_lectura</td></tr><tr><th>description</th><td style=text-align:left>Date and Initial Time of Reading (records are labeled on the front). Time is provided in Universal Time (T.U.). Example: &#x27;2020-12-07T18:30:00.000&#x27;</td></tr><tr><th>qudt:dataType</th><td style=text-align:left>xsd:dateTime</td></tr></table></li><li><table border=\"1\"><tr><th>@type</th><td style=text-align:left>PropertyValue</td></tr><tr><th>name</th><td style=text-align:left>data_extrem</td></tr><tr><th>description</th><td style=text-align:left>Date and Time when the maximum or minimum value was recorded. The time is provided in Universal Time (T.U.). This field only appears in extreme variables. Example: &#x27;2019-10-29T16:30:00.000&#x27;</td></tr><tr><th>qudt:dataType</th><td style=text-align:left>xsd:dateTime</td></tr></table></li><li><table border=\"1\"><tr><th>@type</th><td style=text-align:left>PropertyValue</td></tr><tr><th>name</th><td style=text-align:left>valor_lectura</td></tr><tr><th>description</th><td style=text-align:left>Value of the meteorological variable</td></tr><tr><th>qudt:dataType</th><td style=text-align:left>xsd:float</td></tr></table></li><li><table border=\"1\"><tr><th>@type</th><td style=text-align:left>PropertyValue</td></tr><tr><th>name</th><td style=text-align:left>codi_estat</td></tr><tr><th>description</th><td style=text-align:left>Attribute that reports the result of the validation process. Possible attributes are: blank (the data did not start the validation process), T (the validation process started but did not end), V (valid data). Invalid values ​​are not displayed</td></tr><tr><th>qudt:dataType</th><td style=text-align:left>xsd:string</td></tr></table></li><li><table border=\"1\"><tr><th>@type</th><td style=text-align:left>PropertyValue</td></tr><tr><th>name</th><td style=text-align:left>codi_base</td></tr><tr><th>description</th><td style=text-align:left>Time base on which the weather variable was measured. The time base can be HO (hourly) or SH (semi-hourly)</td></tr><tr><th>qudt:dataType</th><td style=text-align:left>xsd:string</td></tr></table></li></ul></td></tr></table></li><li><table border=\"1\"><tr><th>@type</th><td style=text-align:left>Dataset</td></tr><tr><th>name</th><td style=text-align:left>meteocat_xema_stations</td></tr><tr><th>description</th><td style=text-align:left>Table with the metadata associated with each of the stations of the Network of Automatic Meteorological Stations (XEMA), integrated into the Network of Meteorological Equipment of the Generalitat de Catalunya (Xemec), of the Meteorological Service of Catalonia. Each station is identified by a code.</td></tr><tr><th>distribution</th><td style=text-align:left><ul><li><table border=\"1\"><tr><th>@type</th><td style=text-align:left>DataDownload</td></tr><tr><th>name</th><td style=text-align:left>transparenciacatalunya_api</td></tr><tr><th>description</th><td style=text-align:left>Distribution by CSV download</td></tr><tr><th>encodingFormat</th><td style=text-align:left>CSV</td></tr><tr><th>workExample</th><td style=text-align:left>./notebooks/meteocat_xema.py</td></tr><tr><th>contentUrl</th><td style=text-align:left><ul><li>https://analisi.transparenciacatalunya.cat/api/views/yqwd-vj5e/rows.csv?accessType=DOWNLOAD&amp;sorting=true</li></ul></td></tr><tr><th>contentSize</th><td style=text-align:left>41kB</td></tr></table></li><li><table border=\"1\"><tr><th>@type</th><td style=text-align:left>DataDownload</td></tr><tr><th>name</th><td style=text-align:left>socrata_api</td></tr><tr><th>description</th><td style=text-align:left>Distribution from Socrata API</td></tr><tr><th>encodingFormat</th><td style=text-align:left>JSON</td></tr><tr><th>workExample</th><td style=text-align:left>./notebooks/meteocat_xema.py</td></tr><tr><th>contentUrl</th><td style=text-align:left><ul><li>https://analisi.transparenciacatalunya.cat/resource/yqwd-vj5e.json</li></ul></td></tr><tr><th>contentSize</th><td style=text-align:left>51kB</td></tr></table></li></ul></td></tr><tr><th>variableMeasured</th><td style=text-align:left><ul><li><table border=\"1\"><tr><th>@type</th><td style=text-align:left>PropertyValue</td></tr><tr><th>name</th><td style=text-align:left>codi_estacio</td></tr><tr><th>description</th><td style=text-align:left>Identification code of weather station</td></tr><tr><th>qudt:dataType</th><td style=text-align:left>xsd:string</td></tr></table></li><li><table border=\"1\"><tr><th>@type</th><td style=text-align:left>PropertyValue</td></tr><tr><th>name</th><td style=text-align:left>nom_estacio</td></tr><tr><th>description</th><td style=text-align:left>Name of weather station</td></tr><tr><th>qudt:dataType</th><td style=text-align:left>xsd:string</td></tr></table></li><li><table border=\"1\"><tr><th>@type</th><td style=text-align:left>PropertyValue</td></tr><tr><th>name</th><td style=text-align:left>codi_tipus</td></tr><tr><th>description</th><td style=text-align:left>Type of weather station. A: Automatic type station</td></tr><tr><th>qudt:dataType</th><td style=text-align:left>xsd:string</td></tr></table></li><li><table border=\"1\"><tr><th>@type</th><td style=text-align:left>PropertyValue</td></tr><tr><th>name</th><td style=text-align:left>latitud</td></tr><tr><th>description</th><td style=text-align:left>Latitude coordinate. WSG84 reference system</td></tr><tr><th>unitText</th><td style=text-align:left>degrees</td></tr><tr><th>qudt:dataType</th><td style=text-align:left>xsd:float</td></tr></table></li><li><table border=\"1\"><tr><th>@type</th><td style=text-align:left>PropertyValue</td></tr><tr><th>name</th><td style=text-align:left>longitud</td></tr><tr><th>description</th><td style=text-align:left>Longitude coordinate. WSG84 reference system</td></tr><tr><th>unitText</th><td style=text-align:left>degrees</td></tr><tr><th>qudt:dataType</th><td style=text-align:left>xsd:float</td></tr></table></li><li><table border=\"1\"><tr><th>@type</th><td style=text-align:left>PropertyValue</td></tr><tr><th>name</th><td style=text-align:left>geocoded_column</td></tr><tr><th>description</th><td style=text-align:left>Georeference paint coordinates</td></tr><tr><th>qudt:dataType</th><td style=text-align:left>xsd:string</td></tr></table></li><li><table border=\"1\"><tr><th>@type</th><td style=text-align:left>PropertyValue</td></tr><tr><th>name</th><td style=text-align:left>emplacament</td></tr><tr><th>description</th><td style=text-align:left>Site or place location of the station</td></tr><tr><th>qudt:dataType</th><td style=text-align:left>xsd:string</td></tr></table></li><li><table border=\"1\"><tr><th>@type</th><td style=text-align:left>PropertyValue</td></tr><tr><th>name</th><td style=text-align:left>altitud</td></tr><tr><th>description</th><td style=text-align:left>Altitude</td></tr><tr><th>unitText</th><td style=text-align:left>meters</td></tr><tr><th>qudt:dataType</th><td style=text-align:left>xsd:int</td></tr></table></li><li><table border=\"1\"><tr><th>@type</th><td style=text-align:left>PropertyValue</td></tr><tr><th>name</th><td style=text-align:left>codi_municipi</td></tr><tr><th>description</th><td style=text-align:left>Municipality INE code (NUTS level 5)</td></tr><tr><th>qudt:dataType</th><td style=text-align:left>xsd:int</td></tr></table></li><li><table border=\"1\"><tr><th>@type</th><td style=text-align:left>PropertyValue</td></tr><tr><th>name</th><td style=text-align:left>nom_municipi</td></tr><tr><th>description</th><td style=text-align:left>Name of municipality</td></tr><tr><th>qudt:dataType</th><td style=text-align:left>xsd:string</td></tr></table></li><li><table border=\"1\"><tr><th>@type</th><td style=text-align:left>PropertyValue</td></tr><tr><th>name</th><td style=text-align:left>codi_comarca</td></tr><tr><th>description</th><td style=text-align:left>Identification code for comarca (NUTS level 4)</td></tr><tr><th>qudt:dataType</th><td style=text-align:left>xsd:string</td></tr></table></li><li><table border=\"1\"><tr><th>@type</th><td style=text-align:left>PropertyValue</td></tr><tr><th>name</th><td style=text-align:left>nom_comarca</td></tr><tr><th>description</th><td style=text-align:left>Name of comarca</td></tr><tr><th>qudt:dataType</th><td style=text-align:left>xsd:string</td></tr></table></li><li><table border=\"1\"><tr><th>@type</th><td style=text-align:left>PropertyValue</td></tr><tr><th>name</th><td style=text-align:left>codi_provincia</td></tr><tr><th>description</th><td style=text-align:left>Identification code for province (NUTS level 3)</td></tr><tr><th>qudt:dataType</th><td style=text-align:left>xsd:string</td></tr></table></li><li><table border=\"1\"><tr><th>@type</th><td style=text-align:left>PropertyValue</td></tr><tr><th>name</th><td style=text-align:left>nom_provincia</td></tr><tr><th>description</th><td style=text-align:left>Province name</td></tr><tr><th>qudt:dataType</th><td style=text-align:left>xsd:string</td></tr></table></li><li><table border=\"1\"><tr><th>@type</th><td style=text-align:left>PropertyValue</td></tr><tr><th>name</th><td style=text-align:left>codi_xarxa</td></tr><tr><th>description</th><td style=text-align:left>Identification code of the station network</td></tr><tr><th>qudt:dataType</th><td style=text-align:left>xsd:string</td></tr></table></li><li><table border=\"1\"><tr><th>@type</th><td style=text-align:left>PropertyValue</td></tr><tr><th>name</th><td style=text-align:left>nom_xarxa</td></tr><tr><th>description</th><td style=text-align:left>Name of the station network</td></tr><tr><th>qudt:dataType</th><td style=text-align:left>xsd:string</td></tr></table></li><li><table border=\"1\"><tr><th>@type</th><td style=text-align:left>PropertyValue</td></tr><tr><th>name</th><td style=text-align:left>codi_estat_ema</td></tr><tr><th>description</th><td style=text-align:left>Identifier code of the state associated with each station in a period of time (1:dissembled, 2:operational)</td></tr><tr><th>qudt:dataType</th><td style=text-align:left>xsd:int</td></tr></table></li><li><table border=\"1\"><tr><th>@type</th><td style=text-align:left>PropertyValue</td></tr><tr><th>name</th><td style=text-align:left>nom_estat_ema</td></tr><tr><th>description</th><td style=text-align:left>Name of the state associated with each station over a period of time</td></tr><tr><th>qudt:dataType</th><td style=text-align:left>xsd:string</td></tr></table></li><li><table border=\"1\"><tr><th>@type</th><td style=text-align:left>PropertyValue</td></tr><tr><th>name</th><td style=text-align:left>data_inici</td></tr><tr><th>description</th><td style=text-align:left>Date of commissioning of the station</td></tr><tr><th>qudt:dataType</th><td style=text-align:left>xsd:dateTime</td></tr></table></li><li><table border=\"1\"><tr><th>@type</th><td style=text-align:left>PropertyValue</td></tr><tr><th>name</th><td style=text-align:left>data_fi</td></tr><tr><th>description</th><td style=text-align:left>Station dismantling date (only if the station is not operational)</td></tr><tr><th>qudt:dataType</th><td style=text-align:left>xsd:dateTime</td></tr></table></li><li><table border=\"1\"><tr><th>@type</th><td style=text-align:left>PropertyValue</td></tr><tr><th>name</th><td style=text-align:left>:@computed_region_bh64_c7uy</td></tr><tr><th>description</th><td style=text-align:left></td></tr><tr><th>qudt:dataType</th><td style=text-align:left>xsd:int</td></tr></table></li><li><table border=\"1\"><tr><th>@type</th><td style=text-align:left>PropertyValue</td></tr><tr><th>name</th><td style=text-align:left>:@computed_region_wvic_k925</td></tr><tr><th>description</th><td style=text-align:left></td></tr><tr><th>qudt:dataType</th><td style=text-align:left>xsd:int</td></tr></table></li></ul></td></tr></table></li><li><table border=\"1\"><tr><th>@type</th><td style=text-align:left>Dataset</td></tr><tr><th>name</th><td style=text-align:left>meteocat_xema_variables</td></tr><tr><th>description</th><td style=text-align:left>Table with the metadata associated with each of the variables of the Network of Automatic Meteorological Stations (XEMA), integrated into the Network of Meteorological Equipment of the Generalitat de Catalunya (Xemec), of the Meteorological Service of Catalonia. Each variable is identified by a code.</td></tr><tr><th>distribution</th><td style=text-align:left><ul><li><table border=\"1\"><tr><th>@type</th><td style=text-align:left>DataDownload</td></tr><tr><th>name</th><td style=text-align:left>transparenciacatalunya_api</td></tr><tr><th>description</th><td style=text-align:left>Distribution by CSV download</td></tr><tr><th>encodingFormat</th><td style=text-align:left>CSV</td></tr><tr><th>workExample</th><td style=text-align:left>./notebooks/meteocat_xema.py</td></tr><tr><th>contentUrl</th><td style=text-align:left><ul><li>https://analisi.transparenciacatalunya.cat/api/views/4fb2-n3yi/rows.csv?accessType=DOWNLOAD&amp;sorting=true</li></ul></td></tr><tr><th>contentSize</th><td style=text-align:left>2kB</td></tr></table></li><li><table border=\"1\"><tr><th>@type</th><td style=text-align:left>DataDownload</td></tr><tr><th>name</th><td style=text-align:left>socrata_api</td></tr><tr><th>description</th><td style=text-align:left>Distribution from Socrata API</td></tr><tr><th>encodingFormat</th><td style=text-align:left>JSON</td></tr><tr><th>workExample</th><td style=text-align:left>./notebooks/meteocat_xema.py</td></tr><tr><th>contentUrl</th><td style=text-align:left><ul><li>https://analisi.transparenciacatalunya.cat/resource/4fb2-n3yi.json</li></ul></td></tr><tr><th>contentSize</th><td style=text-align:left>4kB</td></tr></table></li></ul></td></tr><tr><th>variableMeasured</th><td style=text-align:left><ul><li><table border=\"1\"><tr><th>@type</th><td style=text-align:left>PropertyValue</td></tr><tr><th>name</th><td style=text-align:left>codi_variable</td></tr><tr><th>description</th><td style=text-align:left>Identifier code of each variable</td></tr><tr><th>qudt:dataType</th><td style=text-align:left>xsd:int</td></tr></table></li><li><table border=\"1\"><tr><th>@type</th><td style=text-align:left>PropertyValue</td></tr><tr><th>name</th><td style=text-align:left>nom_variable</td></tr><tr><th>description</th><td style=text-align:left>Name of each variable</td></tr><tr><th>qudt:dataType</th><td style=text-align:left>xsd:string</td></tr></table></li><li><table border=\"1\"><tr><th>@type</th><td style=text-align:left>PropertyValue</td></tr><tr><th>name</th><td style=text-align:left>unitat</td></tr><tr><th>description</th><td style=text-align:left>Unit of measurement of variables</td></tr><tr><th>qudt:dataType</th><td style=text-align:left>xsd:string</td></tr></table></li><li><table border=\"1\"><tr><th>@type</th><td style=text-align:left>PropertyValue</td></tr><tr><th>name</th><td style=text-align:left>acronim</td></tr><tr><th>description</th><td style=text-align:left>Acronym of the variable</td></tr><tr><th>qudt:dataType</th><td style=text-align:left>xsd:string</td></tr></table></li><li><table border=\"1\"><tr><th>@type</th><td style=text-align:left>PropertyValue</td></tr><tr><th>name</th><td style=text-align:left>codi_tipus_var</td></tr><tr><th>description</th><td style=text-align:left>Variable type code</td></tr><tr><th>qudt:dataType</th><td style=text-align:left>xsd:string</td></tr></table></li><li><table border=\"1\"><tr><th>@type</th><td style=text-align:left>PropertyValue</td></tr><tr><th>name</th><td style=text-align:left>decimals</td></tr><tr><th>description</th><td style=text-align:left>Number of decimal numbers</td></tr><tr><th>qudt:dataType</th><td style=text-align:left>xsd:int</td></tr></table></li></ul></td></tr></table></li></ul></td></tr><tr><th>measurementTechnique</th><td style=text-align:left><ul><li>Automatic weather station</li></ul></td></tr><tr><th>creator</th><td style=text-align:left><ul><li><table border=\"1\"><tr><th>@type</th><td style=text-align:left>Organization</td></tr><tr><th>@id</th><td style=text-align:left>SMC</td></tr><tr><th>name</th><td style=text-align:left>Servei Meteorològic de Catalunya (Meteocat)</td></tr><tr><th>identifier</th><td style=text-align:left>CIF:ESQ0801167H</td></tr><tr><th>contactPoint</th><td style=text-align:left><table border=\"1\"><tr><th>@type</th><td style=text-align:left>ContactPoint</td></tr><tr><th>email</th><td style=text-align:left>smc.meteocat@gencat.cat</td></tr><tr><th>url</th><td style=text-align:left>https://www.meteo.cat/</td></tr></table></td></tr></table></li></ul></td></tr></table>"
      ],
      "text/plain": [
       "<IPython.core.display.HTML object>"
      ]
     },
     "execution_count": 4,
     "metadata": {},
     "output_type": "execute_result"
    }
   ],
   "source": [
    "# NO CODE\n",
    "# FULL WIDTH\n",
    "with open(f'{path}.json') as f:\n",
    "    data = json.load(f)\n",
    "\n",
    "table = json2html.convert(json=data, clubbing=False)\n",
    "table_sub = re.sub('<td>', '<td style=text-align:left>', table)\n",
    "\n",
    "HTML(table_sub)\n",
    "\n",
    "# Run the following in the command line to build a html table\n",
    "# $ jupyter nbconvert --to html --no-input --no-prompt build_tables.ipynb\n"
   ]
  },
  {
   "cell_type": "code",
   "execution_count": null,
   "id": "9dd74ea0",
   "metadata": {
    "papermill": {
     "duration": 0.006222,
     "end_time": "2024-07-01T13:29:42.065114",
     "exception": false,
     "start_time": "2024-07-01T13:29:42.058892",
     "status": "completed"
    },
    "tags": []
   },
   "outputs": [],
   "source": []
  }
 ],
 "metadata": {
  "interpreter": {
   "hash": "524d3359b179f3b444361f48db8ae048bd8c237924fac1cd48a4c6f8144f6452"
  },
  "kernelspec": {
   "display_name": "Python 3.7.10 64-bit ('scidb': conda)",
   "language": "python",
   "name": "python3"
  },
  "language_info": {
   "codemirror_mode": {
    "name": "ipython",
    "version": 3
   },
   "file_extension": ".py",
   "mimetype": "text/x-python",
   "name": "python",
   "nbconvert_exporter": "python",
   "pygments_lexer": "ipython3",
   "version": "3.10.4"
  },
  "metadata": {
   "interpreter": {
    "hash": "e3961729dbf4ff77740ff872c9a3eef08621b5b434e3d8d81026af4505918c74"
   }
  },
  "papermill": {
   "default_parameters": {},
   "duration": 1.61167,
   "end_time": "2024-07-01T13:29:42.399032",
   "environment_variables": {},
   "exception": null,
   "input_path": "build_info.ipynb",
   "output_path": "./meta_ipynb/meteocat_xema.ipynb",
   "parameters": {
    "path": "./meta/environment/meteocat_xema"
   },
   "start_time": "2024-07-01T13:29:40.787362",
   "version": "2.3.4"
  }
 },
 "nbformat": 4,
 "nbformat_minor": 5
}