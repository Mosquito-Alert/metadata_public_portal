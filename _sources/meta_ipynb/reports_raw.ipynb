{
 "cells": [
  {
   "cell_type": "markdown",
   "id": "3a2c0081",
   "metadata": {
    "papermill": {
     "duration": 0.00842,
     "end_time": "2022-04-06T10:02:58.511615",
     "exception": false,
     "start_time": "2022-04-06T10:02:58.503195",
     "status": "completed"
    },
    "tags": []
   },
   "source": [
    "# Metadata table"
   ]
  },
  {
   "cell_type": "code",
   "execution_count": 1,
   "id": "9b6dcf09",
   "metadata": {
    "execution": {
     "iopub.execute_input": "2022-04-06T10:02:58.530672Z",
     "iopub.status.busy": "2022-04-06T10:02:58.530017Z",
     "iopub.status.idle": "2022-04-06T10:02:58.545033Z",
     "shell.execute_reply": "2022-04-06T10:02:58.544028Z"
    },
    "papermill": {
     "duration": 0.027271,
     "end_time": "2022-04-06T10:02:58.547918",
     "exception": false,
     "start_time": "2022-04-06T10:02:58.520647",
     "status": "completed"
    },
    "tags": [
     "remove-input"
    ]
   },
   "outputs": [],
   "source": [
    "# NO CODE\n",
    "from json2html import json2html\n",
    "import json, re\n",
    "from IPython.display import HTML"
   ]
  },
  {
   "cell_type": "code",
   "execution_count": 2,
   "id": "d2cdf4a3",
   "metadata": {
    "execution": {
     "iopub.execute_input": "2022-04-06T10:02:58.562141Z",
     "iopub.status.busy": "2022-04-06T10:02:58.561810Z",
     "iopub.status.idle": "2022-04-06T10:02:58.568307Z",
     "shell.execute_reply": "2022-04-06T10:02:58.566985Z"
    },
    "papermill": {
     "duration": 0.016325,
     "end_time": "2022-04-06T10:02:58.571326",
     "exception": false,
     "start_time": "2022-04-06T10:02:58.555001",
     "status": "completed"
    },
    "tags": [
     "parameters",
     "remove-input"
    ]
   },
   "outputs": [],
   "source": [
    "# NO CODE\n",
    "# PARAMETERS\n",
    "path = './meta/environment/meteocat_xema'"
   ]
  },
  {
   "cell_type": "code",
   "execution_count": 3,
   "id": "f9014c78",
   "metadata": {
    "execution": {
     "iopub.execute_input": "2022-04-06T10:02:58.586372Z",
     "iopub.status.busy": "2022-04-06T10:02:58.586151Z",
     "iopub.status.idle": "2022-04-06T10:02:58.590545Z",
     "shell.execute_reply": "2022-04-06T10:02:58.589684Z"
    },
    "papermill": {
     "duration": 0.014012,
     "end_time": "2022-04-06T10:02:58.593725",
     "exception": false,
     "start_time": "2022-04-06T10:02:58.579713",
     "status": "completed"
    },
    "tags": [
     "injected-parameters"
    ]
   },
   "outputs": [],
   "source": [
    "# Parameters\n",
    "path = \"./meta/mosquito_alert/reports_raw\"\n"
   ]
  },
  {
   "cell_type": "code",
   "execution_count": 4,
   "id": "16141a6c",
   "metadata": {
    "execution": {
     "iopub.execute_input": "2022-04-06T10:02:58.616467Z",
     "iopub.status.busy": "2022-04-06T10:02:58.615883Z",
     "iopub.status.idle": "2022-04-06T10:02:58.633164Z",
     "shell.execute_reply": "2022-04-06T10:02:58.632328Z"
    },
    "papermill": {
     "duration": 0.030509,
     "end_time": "2022-04-06T10:02:58.635344",
     "exception": false,
     "start_time": "2022-04-06T10:02:58.604835",
     "status": "completed"
    },
    "tags": [
     "remove-input",
     "full-width"
    ]
   },
   "outputs": [
    {
     "data": {
      "text/html": [
       "<table border=\"1\"><tr><th>$schema</th><td style=text-align:left>../schema.json</td></tr><tr><th>@context</th><td style=text-align:left><table border=\"1\"><tr><th>@vocab</th><td style=text-align:left>https://schema.org/</td></tr><tr><th>qudt</th><td style=text-align:left>http://qudt.org/schema/qudt/</td></tr><tr><th>xsd</th><td style=text-align:left>http://www.w3.org/2001/XMLSchema#</td></tr></table></td></tr><tr><th>@type</th><td style=text-align:left>Dataset</td></tr><tr><th>name</th><td style=text-align:left>reports_raw</td></tr><tr><th>conditionsOfAccess</th><td style=text-align:left>Private</td></tr><tr><th>description</th><td style=text-align:left>Validated and not validated reports from the Mosquito Alert application with information about bites, breeding sites and adult mosquito encounters. Useful for studying usage, sampling effort etc. Reports that the participant has deleted are excluded.</td></tr><tr><th>url</th><td style=text-align:left></td></tr><tr><th>identifier</th><td style=text-align:left></td></tr><tr><th>license</th><td style=text-align:left>https://creativecommons.org/publicdomain/zero/1.0/</td></tr><tr><th>citation</th><td style=text-align:left><ul><li>Eritja, R., Palmer, J. R. B., Roiz, D., Sanpera-Calbet, I., and Bartumeus, F., “Direct Evidence of Adult Aedes albopictus Dispersal by Car”, Scientific Reports, vol. 7, 2017. doi:10.1038/s41598-017-12652-5</li><li>Palmer, J. R. B., “Citizen science provides a reliable and scalable tool to track disease-carrying mosquitoes”, Nature Communications, vol. 8, 2017. doi:10.1038/s41467-017-00914-9</li></ul></td></tr><tr><th>temporalCoverage</th><td style=text-align:left>2014/..</td></tr><tr><th>spatialCoverage</th><td style=text-align:left><table border=\"1\"><tr><th>@type</th><td style=text-align:left>Place</td></tr><tr><th>name</th><td style=text-align:left>Worldwide</td></tr><tr><th>sameAs</th><td style=text-align:left>https://www.wikidata.org/wiki/Q13780930</td></tr></table></td></tr><tr><th>distribution</th><td style=text-align:left><ul><li><table border=\"1\"><tr><th>@type</th><td style=text-align:left>DataDownload</td></tr><tr><th>name</th><td style=text-align:left>cluster_ceab</td></tr><tr><th>description</th><td style=text-align:left>Distribution by SFTP protocol from CEAB cluster.</td></tr><tr><th>encodingFormat</th><td style=text-align:left>RDS</td></tr><tr><th>workExample</th><td style=text-align:left></td></tr><tr><th>contentUrl</th><td style=text-align:left><ul><li>sftp://j.palmer@cluster-ceab.ceab.csic.es/home/usuaris/j.palmer/research/mosquito_model_data_prep/data/proc/mosquito_alert_raw_reports.Rds</li></ul></td></tr><tr><th>contentSize</th><td style=text-align:left>+10MB</td></tr></table></li></ul></td></tr><tr><th>variableMeasured</th><td style=text-align:left><ul><li><table border=\"1\"><tr><th>@type</th><td style=text-align:left>PropertyValue</td></tr><tr><th>name</th><td style=text-align:left>version_UUID</td></tr><tr><th>description</th><td style=text-align:left>Unique random UUID assigned to the report version by the device before it was uploaded to the Mosquito Alert server. Each record should have a unique version_UUID.</td></tr><tr><th>unitText</th><td style=text-align:left></td></tr><tr><th>qudt:dataType</th><td style=text-align:left>xsd:string</td></tr></table></li><li><table border=\"1\"><tr><th>@type</th><td style=text-align:left>PropertyValue</td></tr><tr><th>name</th><td style=text-align:left>version_number</td></tr><tr><th>description</th><td style=text-align:left>Version number of the report. These are assigned sequentially starting with 0.</td></tr><tr><th>unitText</th><td style=text-align:left></td></tr><tr><th>qudt:dataType</th><td style=text-align:left>xsd:int</td></tr></table></li><li><table border=\"1\"><tr><th>@type</th><td style=text-align:left>PropertyValue</td></tr><tr><th>name</th><td style=text-align:left>user</td></tr><tr><th>description</th><td style=text-align:left>Unique random UUID of the participant who uploaded this report.</td></tr><tr><th>unitText</th><td style=text-align:left></td></tr><tr><th>qudt:dataType</th><td style=text-align:left>xsd:string</td></tr></table></li><li><table border=\"1\"><tr><th>@type</th><td style=text-align:left>PropertyValue</td></tr><tr><th>name</th><td style=text-align:left>report_id</td></tr><tr><th>description</th><td style=text-align:left>Random 4-digit character string assigned to the report. This is not guaranteed to be unique on its own, but is used as an easy code for participants to use to identify the report (for example, if sending a physical specimen). See unique_report_id for the unique report identifier.</td></tr><tr><th>unitText</th><td style=text-align:left></td></tr><tr><th>qudt:dataType</th><td style=text-align:left>xsd:string</td></tr></table></li><li><table border=\"1\"><tr><th>@type</th><td style=text-align:left>PropertyValue</td></tr><tr><th>name</th><td style=text-align:left>server_upload_time</td></tr><tr><th>description</th><td style=text-align:left>Date and time recorded by the Mosquito Alert server when this report version was uploaded.</td></tr><tr><th>unitText</th><td style=text-align:left></td></tr><tr><th>qudt:dataType</th><td style=text-align:left>xsd:dateTime</td></tr></table></li><li><table border=\"1\"><tr><th>@type</th><td style=text-align:left>PropertyValue</td></tr><tr><th>name</th><td style=text-align:left>phone_upload_time</td></tr><tr><th>description</th><td style=text-align:left>Date and time recorded by the participant&#x27;s device when this report version was uploaded.</td></tr><tr><th>unitText</th><td style=text-align:left></td></tr><tr><th>qudt:dataType</th><td style=text-align:left>xsd:dateTime</td></tr></table></li><li><table border=\"1\"><tr><th>@type</th><td style=text-align:left>PropertyValue</td></tr><tr><th>name</th><td style=text-align:left>creation_time</td></tr><tr><th>description</th><td style=text-align:left>Date and time recorded by the participant&#x27;s device when the first version of this report was created. This is normally the date/time that one cares about for modeling as it is taken as the closest time to the actual observation. (In constrast, upload may have happened at a later time, based on availability of a data connection, and subsequent versions of the report may have been created at later times because the participant wanted to edit details of the initial observation.</td></tr><tr><th>unitText</th><td style=text-align:left></td></tr><tr><th>qudt:dataType</th><td style=text-align:left>xsd:dateTime</td></tr></table></li><li><table border=\"1\"><tr><th>@type</th><td style=text-align:left>PropertyValue</td></tr><tr><th>name</th><td style=text-align:left>version_time</td></tr><tr><th>description</th><td style=text-align:left>Date and time recorded by the participant&#x27;s device when this version of the report was created.</td></tr><tr><th>unitText</th><td style=text-align:left></td></tr><tr><th>qudt:dataType</th><td style=text-align:left>xsd:dateTime</td></tr></table></li><li><table border=\"1\"><tr><th>@type</th><td style=text-align:left>PropertyValue</td></tr><tr><th>name</th><td style=text-align:left>type</td></tr><tr><th>description</th><td style=text-align:left>Type of report. Options are adult, site, bite, or mission.</td></tr><tr><th>unitText</th><td style=text-align:left></td></tr><tr><th>qudt:dataType</th><td style=text-align:left>xsd:string</td></tr></table></li><li><table border=\"1\"><tr><th>@type</th><td style=text-align:left>PropertyValue</td></tr><tr><th>name</th><td style=text-align:left>mission</td></tr><tr><th>description</th><td style=text-align:left>Identifier of the mission in case this is a mission report.</td></tr><tr><th>unitText</th><td style=text-align:left></td></tr><tr><th>qudt:dataType</th><td style=text-align:left>xsd:int</td></tr></table></li><li><table border=\"1\"><tr><th>@type</th><td style=text-align:left>PropertyValue</td></tr><tr><th>name</th><td style=text-align:left>location_choice</td></tr><tr><th>description</th><td style=text-align:left>Choice participant selected when identifying location of the report. Either current or selected, the latter signifying that the participant selected a location on the map different from their current location.</td></tr><tr><th>unitText</th><td style=text-align:left></td></tr><tr><th>qudt:dataType</th><td style=text-align:left>xsd:string</td></tr></table></li><li><table border=\"1\"><tr><th>@type</th><td style=text-align:left>PropertyValue</td></tr><tr><th>name</th><td style=text-align:left>current_location_lon</td></tr><tr><th>description</th><td style=text-align:left>Longitude of the participant&#x27;s current location at the time of creating the first version of this report.</td></tr><tr><th>unitText</th><td style=text-align:left>Decimal degrees</td></tr><tr><th>qudt:dataType</th><td style=text-align:left>xsd:float</td></tr></table></li><li><table border=\"1\"><tr><th>@type</th><td style=text-align:left>PropertyValue</td></tr><tr><th>name</th><td style=text-align:left>current_location_lat</td></tr><tr><th>description</th><td style=text-align:left>Latitude of the participant&#x27;s current location at the time of creating the first version of this report.</td></tr><tr><th>unitText</th><td style=text-align:left>Decimal degrees</td></tr><tr><th>qudt:dataType</th><td style=text-align:left>xsd:float</td></tr></table></li><li><table border=\"1\"><tr><th>@type</th><td style=text-align:left>PropertyValue</td></tr><tr><th>name</th><td style=text-align:left>selected_location_lon</td></tr><tr><th>description</th><td style=text-align:left>Longitude of the location participant selected on the map (if any) as the place of the observation.</td></tr><tr><th>unitText</th><td style=text-align:left>Decimal degrees</td></tr><tr><th>qudt:dataType</th><td style=text-align:left>xsd:float</td></tr></table></li><li><table border=\"1\"><tr><th>@type</th><td style=text-align:left>PropertyValue</td></tr><tr><th>name</th><td style=text-align:left>selected_location_lat</td></tr><tr><th>description</th><td style=text-align:left>Latitude of the location participant selected on the map (if any) as the place of the observation.</td></tr><tr><th>unitText</th><td style=text-align:left>Decimal degrees</td></tr><tr><th>qudt:dataType</th><td style=text-align:left>xsd:float</td></tr></table></li><li><table border=\"1\"><tr><th>@type</th><td style=text-align:left>PropertyValue</td></tr><tr><th>name</th><td style=text-align:left>package_name</td></tr><tr><th>description</th><td style=text-align:left>Name of the app package used to create the report.</td></tr><tr><th>unitText</th><td style=text-align:left></td></tr><tr><th>qudt:dataType</th><td style=text-align:left>xsd:string</td></tr></table></li><li><table border=\"1\"><tr><th>@type</th><td style=text-align:left>PropertyValue</td></tr><tr><th>name</th><td style=text-align:left>package_version</td></tr><tr><th>description</th><td style=text-align:left>Version of the app package used to create the report.</td></tr><tr><th>unitText</th><td style=text-align:left></td></tr><tr><th>qudt:dataType</th><td style=text-align:left>xsd:string</td></tr></table></li><li><table border=\"1\"><tr><th>@type</th><td style=text-align:left>PropertyValue</td></tr><tr><th>name</th><td style=text-align:left>os</td></tr><tr><th>description</th><td style=text-align:left>Operating system of the device used to create the report.</td></tr><tr><th>unitText</th><td style=text-align:left></td></tr><tr><th>qudt:dataType</th><td style=text-align:left>xsd:string</td></tr></table></li><li><table border=\"1\"><tr><th>@type</th><td style=text-align:left>PropertyValue</td></tr><tr><th>name</th><td style=text-align:left>unique_report_id</td></tr><tr><th>description</th><td style=text-align:left>Unique ID created for each report (not report version) by concatinating user_id and report_id. Note each version of the report will have this same ID.</td></tr><tr><th>unitText</th><td style=text-align:left></td></tr><tr><th>qudt:dataType</th><td style=text-align:left>xsd:string</td></tr></table></li></ul></td></tr><tr><th>creator</th><td style=text-align:left><ul><li><table border=\"1\"><tr><th>@type</th><td style=text-align:left>Organization</td></tr><tr><th>@id</th><td style=text-align:left>CEAB</td></tr><tr><th>name</th><td style=text-align:left>Consejo Superior de Investigaciones Científicas - Centro de Estudios Avanzados de Blanes (CSIC-CEAB)</td></tr></table></li><li><table border=\"1\"><tr><th>@type</th><td style=text-align:left>Person</td></tr><tr><th>@id</th><td style=text-align:left>JP</td></tr><tr><th>name</th><td style=text-align:left>Palmer, John Rossman Bertholf</td></tr></table></li><li><table border=\"1\"><tr><th>@type</th><td style=text-align:left>Person</td></tr><tr><th>@id</th><td style=text-align:left>AE</td></tr><tr><th>name</th><td style=text-align:left>Escobar Rúbies, Agustí</td></tr></table></li></ul></td></tr><tr><th>measurementTechnique</th><td style=text-align:left><ul><li>Sampling. Anonymous citizen scientists send reports of possible observations of mosquitoes, their breeding sites and bites using the open source and free smartphone app Mosquito Alert. To send an observation, participants need to answer a small questionnaire (taxonomic questions in the case of mosquitoes or some descriptors in the case of breeding sites), indicate the location (current participant location or selecting it on a map), add a picture (optional) and notes or comments (optional). The app and project website offers information to help identify the target species and take good pictures that allow a proper post validation from entomologists (see more information onQuality Control section). Participants can edit or remove the observation at any time (only if the participant still maintains the Mosquito Alert app in their phone). The last version of each report is considered the prevailing information. There is no pre-set sampling frequency: participants can send as many data as they like. The project runs &quot;face-to-face data collection events&quot; mainly in schools, meaning that in some places and for a given time period, data sampling might be more intense. This is also true when and where there has been a particular dissemination event.</li><li>Quality control. Each report containing at least one picture evaluated by three independent entomologist and, if needed, reviewed by a fourth expert(senior entomologist). The dataset only includes reports from citizen staged by them as &quot;adult mosquito&quot;, that contain at least one picture and that it has been evaluated by entomological experts.</li></ul></td></tr></table>"
      ],
      "text/plain": [
       "<IPython.core.display.HTML object>"
      ]
     },
     "execution_count": 4,
     "metadata": {},
     "output_type": "execute_result"
    }
   ],
   "source": [
    "# NO CODE\n",
    "# FULL WIDTH\n",
    "with open(f'{path}.json') as f:\n",
    "    data = json.load(f)\n",
    "\n",
    "table = json2html.convert(json=data, clubbing=False)\n",
    "table_sub = re.sub('<td>', '<td style=text-align:left>', table)\n",
    "\n",
    "HTML(table_sub)\n",
    "\n",
    "# Run the following in the command line to build a html table\n",
    "# $ jupyter nbconvert --to html --no-input --no-prompt build_tables.ipynb\n"
   ]
  },
  {
   "cell_type": "code",
   "execution_count": null,
   "id": "75875b34",
   "metadata": {
    "papermill": {
     "duration": 0.00788,
     "end_time": "2022-04-06T10:02:58.653977",
     "exception": false,
     "start_time": "2022-04-06T10:02:58.646097",
     "status": "completed"
    },
    "tags": []
   },
   "outputs": [],
   "source": []
  }
 ],
 "metadata": {
  "interpreter": {
   "hash": "524d3359b179f3b444361f48db8ae048bd8c237924fac1cd48a4c6f8144f6452"
  },
  "kernelspec": {
   "display_name": "Python 3.7.10 64-bit ('scidb': conda)",
   "language": "python",
   "name": "python3"
  },
  "language_info": {
   "codemirror_mode": {
    "name": "ipython",
    "version": 3
   },
   "file_extension": ".py",
   "mimetype": "text/x-python",
   "name": "python",
   "nbconvert_exporter": "python",
   "pygments_lexer": "ipython3",
   "version": "3.10.4"
  },
  "metadata": {
   "interpreter": {
    "hash": "e3961729dbf4ff77740ff872c9a3eef08621b5b434e3d8d81026af4505918c74"
   }
  },
  "papermill": {
   "default_parameters": {},
   "duration": 1.607546,
   "end_time": "2022-04-06T10:02:58.988220",
   "environment_variables": {},
   "exception": null,
   "input_path": "build_info.ipynb",
   "output_path": "./meta_ipynb/reports_raw.ipynb",
   "parameters": {
    "path": "./meta/mosquito_alert/reports_raw"
   },
   "start_time": "2022-04-06T10:02:57.380674",
   "version": "2.3.4"
  }
 },
 "nbformat": 4,
 "nbformat_minor": 5
}