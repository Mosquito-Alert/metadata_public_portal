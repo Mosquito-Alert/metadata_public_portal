{
 "cells": [
  {
   "cell_type": "markdown",
   "id": "6c33df66",
   "metadata": {
    "papermill": {
     "duration": 0.008437,
     "end_time": "2023-11-21T14:59:25.298374",
     "exception": false,
     "start_time": "2023-11-21T14:59:25.289937",
     "status": "completed"
    },
    "tags": []
   },
   "source": [
    "# Metadata table"
   ]
  },
  {
   "cell_type": "code",
   "execution_count": 1,
   "id": "95bbb068",
   "metadata": {
    "execution": {
     "iopub.execute_input": "2023-11-21T14:59:25.312926Z",
     "iopub.status.busy": "2023-11-21T14:59:25.312207Z",
     "iopub.status.idle": "2023-11-21T14:59:25.329469Z",
     "shell.execute_reply": "2023-11-21T14:59:25.328092Z"
    },
    "papermill": {
     "duration": 0.026691,
     "end_time": "2023-11-21T14:59:25.331935",
     "exception": false,
     "start_time": "2023-11-21T14:59:25.305244",
     "status": "completed"
    },
    "tags": [
     "remove-input"
    ]
   },
   "outputs": [],
   "source": [
    "# NO CODE\n",
    "from json2html import json2html\n",
    "import json, re\n",
    "from IPython.display import HTML"
   ]
  },
  {
   "cell_type": "code",
   "execution_count": 2,
   "id": "017c4d53",
   "metadata": {
    "execution": {
     "iopub.execute_input": "2023-11-21T14:59:25.346462Z",
     "iopub.status.busy": "2023-11-21T14:59:25.346009Z",
     "iopub.status.idle": "2023-11-21T14:59:25.351995Z",
     "shell.execute_reply": "2023-11-21T14:59:25.350960Z"
    },
    "papermill": {
     "duration": 0.015967,
     "end_time": "2023-11-21T14:59:25.354758",
     "exception": false,
     "start_time": "2023-11-21T14:59:25.338791",
     "status": "completed"
    },
    "tags": [
     "parameters",
     "remove-input"
    ]
   },
   "outputs": [],
   "source": [
    "# NO CODE\n",
    "# PARAMETERS\n",
    "path = './meta/environment/meteocat_xema'"
   ]
  },
  {
   "cell_type": "code",
   "execution_count": 3,
   "id": "f2e279cc",
   "metadata": {
    "execution": {
     "iopub.execute_input": "2023-11-21T14:59:25.369213Z",
     "iopub.status.busy": "2023-11-21T14:59:25.368604Z",
     "iopub.status.idle": "2023-11-21T14:59:25.372490Z",
     "shell.execute_reply": "2023-11-21T14:59:25.371790Z"
    },
    "papermill": {
     "duration": 0.012604,
     "end_time": "2023-11-21T14:59:25.374123",
     "exception": false,
     "start_time": "2023-11-21T14:59:25.361519",
     "status": "completed"
    },
    "tags": [
     "injected-parameters"
    ]
   },
   "outputs": [],
   "source": [
    "# Parameters\n",
    "path = \"./meta/environment/era5m\"\n"
   ]
  },
  {
   "cell_type": "code",
   "execution_count": 4,
   "id": "d41808cb",
   "metadata": {
    "execution": {
     "iopub.execute_input": "2023-11-21T14:59:25.387222Z",
     "iopub.status.busy": "2023-11-21T14:59:25.386999Z",
     "iopub.status.idle": "2023-11-21T14:59:25.401431Z",
     "shell.execute_reply": "2023-11-21T14:59:25.400674Z"
    },
    "papermill": {
     "duration": 0.023825,
     "end_time": "2023-11-21T14:59:25.403428",
     "exception": false,
     "start_time": "2023-11-21T14:59:25.379603",
     "status": "completed"
    },
    "tags": [
     "remove-input",
     "full-width"
    ]
   },
   "outputs": [
    {
     "data": {
      "text/html": [
       "<table border=\"1\"><tr><th>$schema</th><td style=text-align:left>../schema.json</td></tr><tr><th>@context</th><td style=text-align:left><table border=\"1\"><tr><th>@vocab</th><td style=text-align:left>https://schema.org/</td></tr><tr><th>qudt</th><td style=text-align:left>http://qudt.org/schema/qudt/</td></tr><tr><th>xsd</th><td style=text-align:left>http://www.w3.org/2001/XMLSchema#</td></tr></table></td></tr><tr><th>@type</th><td style=text-align:left>Dataset</td></tr><tr><th>name</th><td style=text-align:left>era5m</td></tr><tr><th>conditionsOfAccess</th><td style=text-align:left>Private</td></tr><tr><th>description</th><td style=text-align:left>ERA5 monthly average gridded data on single levels from 1979 to present. ERA5 is the fifth generation ECMWF reanalysis for the global climate and weather. ERA5 provides hourly estimates for a large number of atmospheric, ocean-wave and land-surface quantities. ERA5 is updated daily with a latency of about 5 days. In case that serious flaws are detected in this early release (called ERA5T), this data could be different from the final release 2 to 3 months later. Data has been regridded to a regular lat-lon grid of 0.25 degrees for the reanalysis and 0.5 degrees for the uncertainty estimate. This dataset is not intended for general public access since the original row dataset is freely distributed by ECMWF</td></tr><tr><th>license</th><td style=text-align:left>Free of charge, worldwide, non-exclusive, royalty free and perpetual. See https://apps.ecmwf.int/datasets/licences/copernicus/</td></tr><tr><th>citation</th><td style=text-align:left><ul><li>ERA5 monthly data on single levels from 1979 to present [DOI: 10.24381/cds.f17050d7]</li></ul></td></tr><tr><th>temporalCoverage</th><td style=text-align:left>1979-01-01/..</td></tr><tr><th>spatialCoverage</th><td style=text-align:left><table border=\"1\"><tr><th>@type</th><td style=text-align:left>Place</td></tr><tr><th>name</th><td style=text-align:left>Spain</td></tr><tr><th>sameAs</th><td style=text-align:left>https://www.wikidata.org/wiki/Q29</td></tr></table></td></tr><tr><th>distribution</th><td style=text-align:left><ul><li><table border=\"1\"><tr><th>@type</th><td style=text-align:left>DataDownload</td></tr><tr><th>name</th><td style=text-align:left>cds_api</td></tr><tr><th>description</th><td style=text-align:left>Distribution by Climate Data Store API</td></tr><tr><th>encodingFormat</th><td style=text-align:left>netCDF</td></tr><tr><th>workExample</th><td style=text-align:left>./notebooks/era5.py</td></tr><tr><th>contentUrl</th><td style=text-align:left><ul><li>https://cds.climate.copernicus.eu/api/v2</li></ul></td></tr><tr><th>contentSize</th><td style=text-align:left></td></tr></table></li><li><table border=\"1\"><tr><th>@type</th><td style=text-align:left>DataDownload</td></tr><tr><th>name</th><td style=text-align:left>cluster_ceab</td></tr><tr><th>description</th><td style=text-align:left>Distribution by CSIC-CEAB cluster</td></tr><tr><th>encodingFormat</th><td style=text-align:left>GRIB</td></tr><tr><th>workExample</th><td style=text-align:left>./notebooks/era5.py</td></tr><tr><th>contentUrl</th><td style=text-align:left><ul><li>sftp://{USER}@cluster-ceab:/leov1/era5/monthly_chunks/es/{VARIABLE_NAME}_t_{YEAR-MONTH}-01.grib</li></ul></td></tr><tr><th>contentSize</th><td style=text-align:left>10MB</td></tr></table></li></ul></td></tr><tr><th>variableMeasured</th><td style=text-align:left><ul><li><table border=\"1\"><tr><th>@type</th><td style=text-align:left>PropertyValue</td></tr><tr><th>name</th><td style=text-align:left>2m_temperature</td></tr><tr><th>description</th><td style=text-align:left>2 m above ground air temperature</td></tr><tr><th>unitText</th><td style=text-align:left>Degree Kelvin</td></tr><tr><th>qudt:dataType</th><td style=text-align:left>xsd:int</td></tr></table></li></ul></td></tr><tr><th>creator</th><td style=text-align:left><ul><li><table border=\"1\"><tr><th>@type</th><td style=text-align:left>Organization</td></tr><tr><th>@id</th><td style=text-align:left>ECMWF</td></tr><tr><th>name</th><td style=text-align:left>European Centre for Medium-Range Weather Forecasts (ECMWF)</td></tr><tr><th>contactPoint</th><td style=text-align:left><table border=\"1\"><tr><th>@type</th><td style=text-align:left>ContactPoint</td></tr><tr><th>email</th><td style=text-align:left>copernicus-support@ecmwf.int</td></tr><tr><th>url</th><td style=text-align:left>https://www.ecmwf.int/</td></tr></table></td></tr></table></li><li><table border=\"1\"><tr><th>@type</th><td style=text-align:left>Person</td></tr><tr><th>@id</th><td style=text-align:left>ZJ</td></tr><tr><th>name</th><td style=text-align:left>Južnič Zonta, Živko</td></tr><tr><th>identifier</th><td style=text-align:left>https://orcid.org/0000-0002-2362-9771</td></tr><tr><th>contactPoint</th><td style=text-align:left><table border=\"1\"><tr><th>@type</th><td style=text-align:left>ContactPoint</td></tr><tr><th>roleName</th><td style=text-align:left>data engineer</td></tr><tr><th>email</th><td style=text-align:left>jzivko@gmail.com</td></tr><tr><th>url</th><td style=text-align:left>https://es.linkedin.com/in/zivko</td></tr></table></td></tr></table></li></ul></td></tr><tr><th>measurementTechnique</th><td style=text-align:left><ul><li>Automatic weather station</li><li>Data assimilation (reanalysis) that combines first principle models with observations</li></ul></td></tr></table>"
      ],
      "text/plain": [
       "<IPython.core.display.HTML object>"
      ]
     },
     "execution_count": 4,
     "metadata": {},
     "output_type": "execute_result"
    }
   ],
   "source": [
    "# NO CODE\n",
    "# FULL WIDTH\n",
    "with open(f'{path}.json') as f:\n",
    "    data = json.load(f)\n",
    "\n",
    "table = json2html.convert(json=data, clubbing=False)\n",
    "table_sub = re.sub('<td>', '<td style=text-align:left>', table)\n",
    "\n",
    "HTML(table_sub)\n",
    "\n",
    "# Run the following in the command line to build a html table\n",
    "# $ jupyter nbconvert --to html --no-input --no-prompt build_tables.ipynb\n"
   ]
  },
  {
   "cell_type": "code",
   "execution_count": null,
   "id": "ad06b973",
   "metadata": {
    "papermill": {
     "duration": 0.006172,
     "end_time": "2023-11-21T14:59:25.415956",
     "exception": false,
     "start_time": "2023-11-21T14:59:25.409784",
     "status": "completed"
    },
    "tags": []
   },
   "outputs": [],
   "source": []
  }
 ],
 "metadata": {
  "interpreter": {
   "hash": "524d3359b179f3b444361f48db8ae048bd8c237924fac1cd48a4c6f8144f6452"
  },
  "kernelspec": {
   "display_name": "Python 3.7.10 64-bit ('scidb': conda)",
   "language": "python",
   "name": "python3"
  },
  "language_info": {
   "codemirror_mode": {
    "name": "ipython",
    "version": 3
   },
   "file_extension": ".py",
   "mimetype": "text/x-python",
   "name": "python",
   "nbconvert_exporter": "python",
   "pygments_lexer": "ipython3",
   "version": "3.10.4"
  },
  "metadata": {
   "interpreter": {
    "hash": "e3961729dbf4ff77740ff872c9a3eef08621b5b434e3d8d81026af4505918c74"
   }
  },
  "papermill": {
   "default_parameters": {},
   "duration": 1.575181,
   "end_time": "2023-11-21T14:59:25.744748",
   "environment_variables": {},
   "exception": null,
   "input_path": "build_info.ipynb",
   "output_path": "./meta_ipynb/era5m.ipynb",
   "parameters": {
    "path": "./meta/environment/era5m"
   },
   "start_time": "2023-11-21T14:59:24.169567",
   "version": "2.3.4"
  }
 },
 "nbformat": 4,
 "nbformat_minor": 5
}