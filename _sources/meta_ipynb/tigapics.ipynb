{
 "cells": [
  {
   "cell_type": "markdown",
   "id": "daacacac",
   "metadata": {
    "papermill": {
     "duration": 0.011076,
     "end_time": "2022-05-16T13:09:56.707884",
     "exception": false,
     "start_time": "2022-05-16T13:09:56.696808",
     "status": "completed"
    },
    "tags": []
   },
   "source": [
    "# Metadata table"
   ]
  },
  {
   "cell_type": "code",
   "execution_count": 1,
   "id": "b9124b47",
   "metadata": {
    "execution": {
     "iopub.execute_input": "2022-05-16T13:09:56.722435Z",
     "iopub.status.busy": "2022-05-16T13:09:56.722045Z",
     "iopub.status.idle": "2022-05-16T13:09:56.739841Z",
     "shell.execute_reply": "2022-05-16T13:09:56.738984Z"
    },
    "papermill": {
     "duration": 0.029196,
     "end_time": "2022-05-16T13:09:56.742203",
     "exception": false,
     "start_time": "2022-05-16T13:09:56.713007",
     "status": "completed"
    },
    "tags": [
     "remove-input"
    ]
   },
   "outputs": [],
   "source": [
    "# NO CODE\n",
    "from json2html import json2html\n",
    "import json, re\n",
    "from IPython.display import HTML"
   ]
  },
  {
   "cell_type": "code",
   "execution_count": 2,
   "id": "1e5d5e17",
   "metadata": {
    "execution": {
     "iopub.execute_input": "2022-05-16T13:09:56.755122Z",
     "iopub.status.busy": "2022-05-16T13:09:56.754784Z",
     "iopub.status.idle": "2022-05-16T13:09:56.759601Z",
     "shell.execute_reply": "2022-05-16T13:09:56.758753Z"
    },
    "papermill": {
     "duration": 0.013677,
     "end_time": "2022-05-16T13:09:56.761958",
     "exception": false,
     "start_time": "2022-05-16T13:09:56.748281",
     "status": "completed"
    },
    "tags": [
     "parameters",
     "remove-input"
    ]
   },
   "outputs": [],
   "source": [
    "# NO CODE\n",
    "# PARAMETERS\n",
    "path = './meta/environment/meteocat_xema'"
   ]
  },
  {
   "cell_type": "code",
   "execution_count": 3,
   "id": "223c02a9",
   "metadata": {
    "execution": {
     "iopub.execute_input": "2022-05-16T13:09:56.776727Z",
     "iopub.status.busy": "2022-05-16T13:09:56.776123Z",
     "iopub.status.idle": "2022-05-16T13:09:56.782953Z",
     "shell.execute_reply": "2022-05-16T13:09:56.781565Z"
    },
    "papermill": {
     "duration": 0.016885,
     "end_time": "2022-05-16T13:09:56.785911",
     "exception": false,
     "start_time": "2022-05-16T13:09:56.769026",
     "status": "completed"
    },
    "tags": [
     "injected-parameters"
    ]
   },
   "outputs": [],
   "source": [
    "# Parameters\n",
    "path = \"./meta/mosquito_alert/tigapics\"\n"
   ]
  },
  {
   "cell_type": "code",
   "execution_count": 4,
   "id": "d87f3f15",
   "metadata": {
    "execution": {
     "iopub.execute_input": "2022-05-16T13:09:56.800809Z",
     "iopub.status.busy": "2022-05-16T13:09:56.800569Z",
     "iopub.status.idle": "2022-05-16T13:09:56.820420Z",
     "shell.execute_reply": "2022-05-16T13:09:56.819077Z"
    },
    "papermill": {
     "duration": 0.02953,
     "end_time": "2022-05-16T13:09:56.822464",
     "exception": false,
     "start_time": "2022-05-16T13:09:56.792934",
     "status": "completed"
    },
    "tags": [
     "remove-input",
     "full-width"
    ]
   },
   "outputs": [
    {
     "data": {
      "text/html": [
       "<table border=\"1\"><tr><th>$schema</th><td style=text-align:left>../schema.json</td></tr><tr><th>@context</th><td style=text-align:left><table border=\"1\"><tr><th>@vocab</th><td style=text-align:left>https://schema.org/</td></tr><tr><th>qudt</th><td style=text-align:left>http://qudt.org/schema/qudt/</td></tr><tr><th>xsd</th><td style=text-align:left>http://www.w3.org/2001/XMLSchema#</td></tr></table></td></tr><tr><th>@type</th><td style=text-align:left>DataCatalog</td></tr><tr><th>name</th><td style=text-align:left>tigapics</td></tr><tr><th>conditionsOfAccess</th><td style=text-align:left>Public</td></tr><tr><th>description</th><td style=text-align:left>Pictures of adult mosquitos and breeding sites. Classification labels are provided for ML training for the pictures of mosquitos visualized on the MosquitoAlert map.</td></tr><tr><th>url</th><td style=text-align:left><ul><li>http://webserver.mosquitoalert.com</li><li>https://www.ebi.ac.uk/biostudies/studies/S-BIAD249</li></ul></td></tr><tr><th>license</th><td style=text-align:left>https://creativecommons.org/publicdomain/zero/1.0/</td></tr><tr><th>citation</th><td style=text-align:left><ul><li>Eritja, R., Palmer, J. R. B., Roiz, D., Sanpera-Calbet, I., and Bartumeus, F., “Direct Evidence of Adult Aedes albopictus Dispersal by Car”, Scientific Reports, vol. 7, 2017. doi:10.1038/s41598-017-12652-5</li><li>Palmer, J. R. B., “Citizen science provides a reliable and scalable tool to track disease-carrying mosquitoes”, Nature Communications, vol. 8, 2017. doi:10.1038/s41467-017-00914-9</li></ul></td></tr><tr><th>temporalCoverage</th><td style=text-align:left>2014/..</td></tr><tr><th>spatialCoverage</th><td style=text-align:left><table border=\"1\"><tr><th>@type</th><td style=text-align:left>Place</td></tr><tr><th>name</th><td style=text-align:left>Worldwide</td></tr><tr><th>sameAs</th><td style=text-align:left>https://www.wikidata.org/wiki/Q13780930</td></tr></table></td></tr><tr><th>hasPart</th><td style=text-align:left><ul><li><table border=\"1\"><tr><th>@type</th><td style=text-align:left>Dataset</td></tr><tr><th>name</th><td style=text-align:left>tigapics_mosquitoalert</td></tr><tr><th>description</th><td style=text-align:left>Incremental backup of all the pictures (adults and sites) that can be viewed at the Mosquito Alert map webserver given a picture IID. Pictures could be downloaded even directly from webserver.mosquitoalert.com from its static resources but it&#x27;s more convenient to use sftp to the backup.</td></tr><tr><th>temporalCoverage</th><td style=text-align:left>2014/..</td></tr><tr><th>spatialCoverage</th><td style=text-align:left><table border=\"1\"><tr><th>@type</th><td style=text-align:left>Place</td></tr><tr><th>name</th><td style=text-align:left>Worldwide</td></tr><tr><th>sameAs</th><td style=text-align:left>https://www.wikidata.org/wiki/Q13780930</td></tr></table></td></tr><tr><th>distribution</th><td style=text-align:left><ul><li><table border=\"1\"><tr><th>@type</th><td style=text-align:left>DataDownload</td></tr><tr><th>name</th><td style=text-align:left>mosquitoalert_webserver</td></tr><tr><th>description</th><td style=text-align:left>Distribution by image download from MosquitoAlert webserver</td></tr><tr><th>encodingFormat</th><td style=text-align:left>JPG, PNG</td></tr><tr><th>workExample</th><td style=text-align:left>./notebooks/tigapics.py</td></tr><tr><th>contentUrl</th><td style=text-align:left><ul><li>http://webserver.mosquitoalert.com/media/tigapics/{ID_PICNAME}</li></ul></td></tr><tr><th>contentSize</th><td style=text-align:left>1/10MB</td></tr></table></li><li><table border=\"1\"><tr><th>@type</th><td style=text-align:left>DataDownload</td></tr><tr><th>name</th><td style=text-align:left>laurus_backup</td></tr><tr><th>description</th><td style=text-align:left>Distribution by SFTP protocol from Laurus-CREAF VM.</td></tr><tr><th>encodingFormat</th><td style=text-align:left>JPG, PNG</td></tr><tr><th>workExample</th><td style=text-align:left>./notebooks/tigapics.py</td></tr><tr><th>contentUrl</th><td style=text-align:left><ul><li>sftp://{USERNAME}@158.109.47.9/home/backup_aux/webuser/backup/synced_media/tigapics/{ID_PICNAME}.jpg</li></ul></td></tr><tr><th>contentSize</th><td style=text-align:left>1/10MB</td></tr></table></li></ul></td></tr><tr><th>variableMeasured</th><td style=text-align:left></td></tr></table></li><li><table border=\"1\"><tr><th>@type</th><td style=text-align:left>Dataset</td></tr><tr><th>name</th><td style=text-align:left>tigapics_labels_bioimagearchive</td></tr><tr><th>description</th><td style=text-align:left>Adult mosquito labels that describe the tigapics_bioimagearchive dataset. Note that this list contains a &#x27;path&#x27; attribute that provides {SPECIES}/{ID_PICNAME}.</td></tr><tr><th>temporalCoverage</th><td style=text-align:left>2014/2021</td></tr><tr><th>spatialCoverage</th><td style=text-align:left><table border=\"1\"><tr><th>@type</th><td style=text-align:left>Place</td></tr><tr><th>name</th><td style=text-align:left>Worldwide</td></tr><tr><th>sameAs</th><td style=text-align:left>https://www.wikidata.org/wiki/Q13780930</td></tr></table></td></tr><tr><th>distribution</th><td style=text-align:left><ul><li><table border=\"1\"><tr><th>@type</th><td style=text-align:left>DataDownload</td></tr><tr><th>name</th><td style=text-align:left>bioimagearchive</td></tr><tr><th>description</th><td style=text-align:left>Distribution by image-labels download from BioStudies webserver</td></tr><tr><th>encodingFormat</th><td style=text-align:left>TSV</td></tr><tr><th>workExample</th><td style=text-align:left>./notebooks/tigapics.py</td></tr><tr><th>contentUrl</th><td style=text-align:left><ul><li>https://www.ebi.ac.uk/biostudies/files/S-BIAD249/File_List.pagetab.tsv</li></ul></td></tr><tr><th>contentSize</th><td style=text-align:left>7MB</td></tr></table></li></ul></td></tr><tr><th>variableMeasured</th><td style=text-align:left></td></tr></table></li><li><table border=\"1\"><tr><th>@type</th><td style=text-align:left>Dataset</td></tr><tr><th>name</th><td style=text-align:left>tigapics_bioimagearchive</td></tr><tr><th>description</th><td style=text-align:left>Adult mosquito pictures useful for machine-learning classification from the BioImage Archive repository. It is possible to download single images or species-chunks (&#x27;Aedes_albopictus&#x27;, &#x27;Aedes_aegypti&#x27;, &#x27;Aedes_japonicus&#x27;, &#x27;Aedes_koreicus&#x27;, &#x27;Japonicus_koreicus&#x27;, &#x27;Complex&#x27;, &#x27;Culex&#x27;, &#x27;Other_species&#x27;, &#x27;Not_sure&#x27;). Beside images, a file list is provided to label each image for ML classification.</td></tr><tr><th>temporalCoverage</th><td style=text-align:left>2014/2021</td></tr><tr><th>spatialCoverage</th><td style=text-align:left><table border=\"1\"><tr><th>@type</th><td style=text-align:left>Place</td></tr><tr><th>name</th><td style=text-align:left>Worldwide</td></tr><tr><th>sameAs</th><td style=text-align:left>https://www.wikidata.org/wiki/Q13780930</td></tr></table></td></tr><tr><th>distribution</th><td style=text-align:left><ul><li><table border=\"1\"><tr><th>@type</th><td style=text-align:left>DataDownload</td></tr><tr><th>name</th><td style=text-align:left>bioimagearchive_single_image</td></tr><tr><th>description</th><td style=text-align:left>Distribution by image download from the BioImage Archive repository</td></tr><tr><th>encodingFormat</th><td style=text-align:left>JPG, PNG</td></tr><tr><th>workExample</th><td style=text-align:left>./notebooks/tigapics.py</td></tr><tr><th>contentUrl</th><td style=text-align:left><ul><li>https://www.ebi.ac.uk/biostudies/files/S-BIAD249/{CLASS}/{ID_PICNAME}</li></ul></td></tr><tr><th>contentSize</th><td style=text-align:left>1/10MB</td></tr></table></li><li><table border=\"1\"><tr><th>@type</th><td style=text-align:left>DataDownload</td></tr><tr><th>name</th><td style=text-align:left>bioimagearchive_class</td></tr><tr><th>description</th><td style=text-align:left>Distribution by image-chunks download from the BioImage Archive repository</td></tr><tr><th>encodingFormat</th><td style=text-align:left>[JPG, PNG].ZIP</td></tr><tr><th>workExample</th><td style=text-align:left>./notebooks/tigapics.py</td></tr><tr><th>contentUrl</th><td style=text-align:left><ul><li>https://www.ebi.ac.uk/biostudies/files/S-BIAD249/{CLASS}</li></ul></td></tr><tr><th>contentSize</th><td style=text-align:left>50-1000MB</td></tr></table></li></ul></td></tr><tr><th>variableMeasured</th><td style=text-align:left></td></tr></table></li></ul></td></tr><tr><th>measurementTechnique</th><td style=text-align:left><ul><li>Sampling. Anonymous citizen scientists send reports of possible observations of mosquitoes, their breeding sites and bites using the open source and free smartphone app Mosquito Alert. To send an observation, participants need to answer a small questionnaire (taxonomic questions in the case of mosquitoes or some descriptors in the case of breeding sites), indicate the location (current participant location or selecting it on a map), add a picture (optional) and notes or comments (optional). The app and project website offers information to help identify the target species and take good pictures that allow a proper post validation from entomologists (see more information onQuality Control section). Participants can edit or remove the observation at any time (only if the participant still maintains the Mosquito Alert app in their phone). The last version of each report is considered the prevailing information. There is no pre-set sampling frequency: participants can send as many data as they like. The project runs &quot;face-to-face data collection events&quot; mainly in schools, meaning that in some places and for a given time period, data sampling might be more intense. This is also true when and where there has been a particular dissemination event.</li><li>Quality control. Each report containing at least one picture evaluated by three independent entomologist and, if needed, reviewed by a fourth expert(senior entomologist). The dataset only includes reports from citizen staged by them as &quot;adult mosquito&quot;, that contain at least one picture and that it has been evaluated by entomological experts.</li></ul></td></tr><tr><th>creator</th><td style=text-align:left><ul><li><table border=\"1\"><tr><th>@type</th><td style=text-align:left>Project</td></tr><tr><th>@id</th><td style=text-align:left>MA</td></tr><tr><th>name</th><td style=text-align:left>Mosquito Alert, Proyecto Coordinado por CREAF, CEAB-CSIC e ICREA</td></tr><tr><th>contactPoint</th><td style=text-align:left><table border=\"1\"><tr><th>@type</th><td style=text-align:left>ContactPoint</td></tr><tr><th>email</th><td style=text-align:left>info@mosquitoalert.com</td></tr><tr><th>url</th><td style=text-align:left>http://www.mosquitoalert.com/</td></tr></table></td></tr></table></li><li><table border=\"1\"><tr><th>@type</th><td style=text-align:left>Person</td></tr><tr><th>@id</th><td style=text-align:left>JG</td></tr><tr><th>name</th><td style=text-align:left>Garriga Farriol, Joan</td></tr><tr><th>identifier</th><td style=text-align:left>https://orcid.org/0000-0002-4561-7835</td></tr><tr><th>contactPoint</th><td style=text-align:left><table border=\"1\"><tr><th>@type</th><td style=text-align:left>ContactPoint</td></tr><tr><th>roleName</th><td style=text-align:left>data scientist</td></tr><tr><th>email</th><td style=text-align:left>jgarriga@ceab.csic.es</td></tr><tr><th>url</th><td style=text-align:left>https://www.ceab.csic.es/es/persona/joan-garriga-farriol/</td></tr></table></td></tr></table></li><li><table border=\"1\"><tr><th>@type</th><td style=text-align:left>Person</td></tr><tr><th>@id</th><td style=text-align:left>AE</td></tr><tr><th>name</th><td style=text-align:left>Escobar Rúbies, Agustí</td></tr><tr><th>identifier</th><td style=text-align:left>https://orcid.org/0000-0002-6856-0480</td></tr><tr><th>contactPoint</th><td style=text-align:left><table border=\"1\"><tr><th>@type</th><td style=text-align:left>ContactPoint</td></tr><tr><th>roleName</th><td style=text-align:left>programmer</td></tr><tr><th>email</th><td style=text-align:left>a.escobar@creaf.uab.es</td></tr><tr><th>url</th><td style=text-align:left>http://www.creaf.cat/es/personal/agusti-escobar-rubies/</td></tr></table></td></tr></table></li></ul></td></tr></table>"
      ],
      "text/plain": [
       "<IPython.core.display.HTML object>"
      ]
     },
     "execution_count": 4,
     "metadata": {},
     "output_type": "execute_result"
    }
   ],
   "source": [
    "# NO CODE\n",
    "# FULL WIDTH\n",
    "with open(f'{path}.json') as f:\n",
    "    data = json.load(f)\n",
    "\n",
    "table = json2html.convert(json=data, clubbing=False)\n",
    "table_sub = re.sub('<td>', '<td style=text-align:left>', table)\n",
    "\n",
    "HTML(table_sub)\n",
    "\n",
    "# Run the following in the command line to build a html table\n",
    "# $ jupyter nbconvert --to html --no-input --no-prompt build_tables.ipynb\n"
   ]
  },
  {
   "cell_type": "code",
   "execution_count": null,
   "id": "d9de1516",
   "metadata": {
    "papermill": {
     "duration": 0.006242,
     "end_time": "2022-05-16T13:09:56.838106",
     "exception": false,
     "start_time": "2022-05-16T13:09:56.831864",
     "status": "completed"
    },
    "tags": []
   },
   "outputs": [],
   "source": []
  }
 ],
 "metadata": {
  "interpreter": {
   "hash": "524d3359b179f3b444361f48db8ae048bd8c237924fac1cd48a4c6f8144f6452"
  },
  "kernelspec": {
   "display_name": "Python 3.7.10 64-bit ('scidb': conda)",
   "language": "python",
   "name": "python3"
  },
  "language_info": {
   "codemirror_mode": {
    "name": "ipython",
    "version": 3
   },
   "file_extension": ".py",
   "mimetype": "text/x-python",
   "name": "python",
   "nbconvert_exporter": "python",
   "pygments_lexer": "ipython3",
   "version": "3.10.4"
  },
  "metadata": {
   "interpreter": {
    "hash": "e3961729dbf4ff77740ff872c9a3eef08621b5b434e3d8d81026af4505918c74"
   }
  },
  "papermill": {
   "default_parameters": {},
   "duration": 1.416367,
   "end_time": "2022-05-16T13:09:57.066589",
   "environment_variables": {},
   "exception": null,
   "input_path": "build_info.ipynb",
   "output_path": "./meta_ipynb/tigapics.ipynb",
   "parameters": {
    "path": "./meta/mosquito_alert/tigapics"
   },
   "start_time": "2022-05-16T13:09:55.650222",
   "version": "2.3.4"
  }
 },
 "nbformat": 4,
 "nbformat_minor": 5
}