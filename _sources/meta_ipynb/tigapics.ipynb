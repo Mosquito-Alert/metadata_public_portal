{
 "cells": [
  {
   "cell_type": "markdown",
   "id": "suspended-torture",
   "metadata": {
    "papermill": {
     "duration": 0.011893,
     "end_time": "2022-01-10T16:02:41.300744",
     "exception": false,
     "start_time": "2022-01-10T16:02:41.288851",
     "status": "completed"
    },
    "tags": []
   },
   "source": [
    "# Metadata table"
   ]
  },
  {
   "cell_type": "code",
   "execution_count": 1,
   "id": "rocky-commerce",
   "metadata": {
    "execution": {
     "iopub.execute_input": "2022-01-10T16:02:41.325957Z",
     "iopub.status.busy": "2022-01-10T16:02:41.324379Z",
     "iopub.status.idle": "2022-01-10T16:02:41.330869Z",
     "shell.execute_reply": "2022-01-10T16:02:41.331798Z"
    },
    "papermill": {
     "duration": 0.024218,
     "end_time": "2022-01-10T16:02:41.332228",
     "exception": false,
     "start_time": "2022-01-10T16:02:41.308010",
     "status": "completed"
    },
    "tags": [
     "remove-input"
    ]
   },
   "outputs": [],
   "source": [
    "# NO CODE\n",
    "from json2html import json2html\n",
    "import json, re\n",
    "from IPython.core.display import HTML, display"
   ]
  },
  {
   "cell_type": "code",
   "execution_count": 2,
   "id": "impressive-slovak",
   "metadata": {
    "execution": {
     "iopub.execute_input": "2022-01-10T16:02:41.355968Z",
     "iopub.status.busy": "2022-01-10T16:02:41.354896Z",
     "iopub.status.idle": "2022-01-10T16:02:41.358857Z",
     "shell.execute_reply": "2022-01-10T16:02:41.359527Z"
    },
    "papermill": {
     "duration": 0.018523,
     "end_time": "2022-01-10T16:02:41.359706",
     "exception": false,
     "start_time": "2022-01-10T16:02:41.341183",
     "status": "completed"
    },
    "tags": [
     "parameters",
     "remove-input"
    ]
   },
   "outputs": [],
   "source": [
    "# NO CODE\n",
    "# PARAMETERS\n",
    "path = './meta/environment/meteocat_xema'"
   ]
  },
  {
   "cell_type": "code",
   "execution_count": 3,
   "id": "manual-providence",
   "metadata": {
    "execution": {
     "iopub.execute_input": "2022-01-10T16:02:41.383654Z",
     "iopub.status.busy": "2022-01-10T16:02:41.382744Z",
     "iopub.status.idle": "2022-01-10T16:02:41.387355Z",
     "shell.execute_reply": "2022-01-10T16:02:41.386647Z"
    },
    "papermill": {
     "duration": 0.01947,
     "end_time": "2022-01-10T16:02:41.387508",
     "exception": false,
     "start_time": "2022-01-10T16:02:41.368038",
     "status": "completed"
    },
    "tags": [
     "injected-parameters"
    ]
   },
   "outputs": [],
   "source": [
    "# Parameters\n",
    "path = \"./meta/mosquito_alert/tigapics\"\n"
   ]
  },
  {
   "cell_type": "code",
   "execution_count": 4,
   "id": "promising-ratio",
   "metadata": {
    "execution": {
     "iopub.execute_input": "2022-01-10T16:02:41.424030Z",
     "iopub.status.busy": "2022-01-10T16:02:41.411860Z",
     "iopub.status.idle": "2022-01-10T16:02:41.431407Z",
     "shell.execute_reply": "2022-01-10T16:02:41.430238Z"
    },
    "papermill": {
     "duration": 0.035684,
     "end_time": "2022-01-10T16:02:41.431651",
     "exception": false,
     "start_time": "2022-01-10T16:02:41.395967",
     "status": "completed"
    },
    "tags": [
     "remove-input",
     "full-width"
    ]
   },
   "outputs": [
    {
     "data": {
      "text/html": [
       "<table border=\"1\"><tr><th>@context</th><td style=text-align:left><table border=\"1\"><tr><th>@vocab</th><td style=text-align:left>https://schema.org/</td></tr><tr><th>qudt</th><td style=text-align:left>http://qudt.org/schema/qudt/</td></tr><tr><th>xsd</th><td style=text-align:left>http://www.w3.org/2001/XMLSchema#</td></tr></table></td></tr><tr><th>@type</th><td style=text-align:left>Dataset</td></tr><tr><th>name</th><td style=text-align:left>ma_tigapics</td></tr><tr><th>conditionsOfAccess</th><td style=text-align:left>Public.</td></tr><tr><th>description</th><td style=text-align:left>Mosquito Alert pictures relative to adult mosquito encounters and breeding sites made by citizen science users of the app.</td></tr><tr><th>url</th><td style=text-align:left>http://webserver.mosquitoalert.com</td></tr><tr><th>sameAs</th><td style=text-align:left>http://webserver.mosquitoalert.com/media/tigapics/</td></tr><tr><th>identifier</th><td style=text-align:left></td></tr><tr><th>license</th><td style=text-align:left>https://creativecommons.org/publicdomain/zero/1.0/</td></tr><tr><th>citation</th><td style=text-align:left><ul><li>Direct Evidence of Adult Aedes albopictus Dispersal by Car. Roger, Eritja et al. (DOI: 10.1038/s41598-017-12652-5)</li><li>Citizen science provides a reliable and scalable tool to track disease-carrying mosquitoes.  John R B, Palmer et al. (DOI: 10.1038/s41467-017-00914-9)</li></ul></td></tr><tr><th>creator</th><td style=text-align:left><ul><li><table border=\"1\"><tr><th>@type</th><td style=text-align:left>Organization</td></tr><tr><th>@id</th><td style=text-align:left>CEAB</td></tr><tr><th>name</th><td style=text-align:left>Consejo Superior de Investigaciones Científicas - Centro de Estudios Avanzados de Blanes (CSIC-CEAB)</td></tr></table></li><li><table border=\"1\"><tr><th>@type</th><td style=text-align:left>Person</td></tr><tr><th>@id</th><td style=text-align:left>JG</td></tr><tr><th>name</th><td style=text-align:left>Garriga Farriol, Joan</td></tr></table></li><li><table border=\"1\"><tr><th>@type</th><td style=text-align:left>Person</td></tr><tr><th>@id</th><td style=text-align:left>AE</td></tr><tr><th>name</th><td style=text-align:left>Escobar Rúbies, Agustí</td></tr></table></li></ul></td></tr><tr><th>variableMeasured</th><td style=text-align:left></td></tr><tr><th>measurementTechnique</th><td style=text-align:left><ul><li>Mobile application for citizen science</li><li>Data validation by entomologists</li></ul></td></tr><tr><th>temporalCoverage</th><td style=text-align:left>2014/2019</td></tr><tr><th>spatialCoverage</th><td style=text-align:left><table border=\"1\"><tr><th>@type</th><td style=text-align:left>AdministrativeArea</td></tr><tr><th>name</th><td style=text-align:left>Worldwide</td></tr><tr><th>sameAs</th><td style=text-align:left>https://www.wikidata.org/wiki/Q13780930</td></tr></table></td></tr><tr><th>hasPart</th><td style=text-align:left><ul><li><table border=\"1\"><tr><th>@type</th><td style=text-align:left>Dataset</td></tr><tr><th>name</th><td style=text-align:left>ma_tigapics_webserver</td></tr><tr><th>conditionsOfAccess</th><td style=text-align:left>Public.</td></tr><tr><th>description</th><td style=text-align:left>Incremental backup of all the pictures (adults and sites) that can be viewed at the Mosquito Alert map webserver given a picture IID. Pictures could be downloaded even directly from webserver.mosquitoalert.com from its static resources but it&#x27;s more convenient to use sftp to the backup.</td></tr><tr><th>distribution</th><td style=text-align:left><ul><li><table border=\"1\"><tr><th>@type</th><td style=text-align:left>DataDownload</td></tr><tr><th>name</th><td style=text-align:left>laurus_backup</td></tr><tr><th>description</th><td style=text-align:left>Distribution by SFTP protocol from Laurus-CREAF VM.</td></tr><tr><th>encodingFormat</th><td style=text-align:left>JPG</td></tr><tr><th>url</th><td style=text-align:left>./notebooks/tigapics.py</td></tr><tr><th>contentUrl</th><td style=text-align:left>sftp://{USERNAME}@158.109.47.9/home/backup_aux/webuser/backup/synced_media/tigapics/{ID_PICNAME}.jpg</td></tr><tr><th>contentSize</th><td style=text-align:left>1/10MB</td></tr></table></li><li><table border=\"1\"><tr><th>@type</th><td style=text-align:left>DataDownload</td></tr><tr><th>name</th><td style=text-align:left>webserver_mosquitoalert_com</td></tr><tr><th>description</th><td style=text-align:left>Distribution by image download from MosquitoAlert webserver</td></tr><tr><th>encodingFormat</th><td style=text-align:left>JPG</td></tr><tr><th>url</th><td style=text-align:left>./notebooks/tigapics.py</td></tr><tr><th>contentUrl</th><td style=text-align:left>http://webserver.mosquitoalert.com/media/tigapics/{ID_PICNAME}</td></tr><tr><th>contentSize</th><td style=text-align:left>1/10MB</td></tr></table></li></ul></td></tr></table></li></ul></td></tr></table>"
      ],
      "text/plain": [
       "<IPython.core.display.HTML object>"
      ]
     },
     "execution_count": 4,
     "metadata": {},
     "output_type": "execute_result"
    }
   ],
   "source": [
    "# NO CODE\n",
    "# FULL WIDTH\n",
    "with open(f'{path}.json') as f:\n",
    "    data = json.load(f)\n",
    "\n",
    "table = json2html.convert(json=data, clubbing=False)\n",
    "table_sub = re.sub('<td>', '<td style=text-align:left>', table)\n",
    "\n",
    "HTML(table_sub)\n",
    "\n",
    "# Run the following in the command line to build a html table\n",
    "# $ jupyter nbconvert --to html --no-input --no-prompt build_tables.ipynb\n"
   ]
  },
  {
   "cell_type": "code",
   "execution_count": null,
   "id": "cultural-activity",
   "metadata": {
    "papermill": {
     "duration": 0.007303,
     "end_time": "2022-01-10T16:02:41.449124",
     "exception": false,
     "start_time": "2022-01-10T16:02:41.441821",
     "status": "completed"
    },
    "tags": []
   },
   "outputs": [],
   "source": []
  }
 ],
 "metadata": {
  "interpreter": {
   "hash": "524d3359b179f3b444361f48db8ae048bd8c237924fac1cd48a4c6f8144f6452"
  },
  "kernelspec": {
   "display_name": "Python 3.7.10 64-bit ('scidb': conda)",
   "language": "python",
   "name": "python3"
  },
  "language_info": {
   "codemirror_mode": {
    "name": "ipython",
    "version": 3
   },
   "file_extension": ".py",
   "mimetype": "text/x-python",
   "name": "python",
   "nbconvert_exporter": "python",
   "pygments_lexer": "ipython3",
   "version": "3.7.10"
  },
  "metadata": {
   "interpreter": {
    "hash": "e3961729dbf4ff77740ff872c9a3eef08621b5b434e3d8d81026af4505918c74"
   }
  },
  "papermill": {
   "default_parameters": {},
   "duration": 1.351592,
   "end_time": "2022-01-10T16:02:41.772319",
   "environment_variables": {},
   "exception": null,
   "input_path": "build_info.ipynb",
   "output_path": "./meta_ipynb/tigapics.ipynb",
   "parameters": {
    "path": "./meta/mosquito_alert/tigapics"
   },
   "start_time": "2022-01-10T16:02:40.420727",
   "version": "2.3.3"
  }
 },
 "nbformat": 4,
 "nbformat_minor": 5
}