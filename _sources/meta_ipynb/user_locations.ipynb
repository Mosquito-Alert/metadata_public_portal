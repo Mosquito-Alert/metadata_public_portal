{
 "cells": [
  {
   "cell_type": "markdown",
   "id": "62f0dafc",
   "metadata": {
    "papermill": {
     "duration": 0.011128,
     "end_time": "2022-10-27T07:49:25.234131",
     "exception": false,
     "start_time": "2022-10-27T07:49:25.223003",
     "status": "completed"
    },
    "tags": []
   },
   "source": [
    "# Metadata table"
   ]
  },
  {
   "cell_type": "code",
   "execution_count": 1,
   "id": "6bff282f",
   "metadata": {
    "execution": {
     "iopub.execute_input": "2022-10-27T07:49:25.249190Z",
     "iopub.status.busy": "2022-10-27T07:49:25.248826Z",
     "iopub.status.idle": "2022-10-27T07:49:25.264227Z",
     "shell.execute_reply": "2022-10-27T07:49:25.263217Z"
    },
    "papermill": {
     "duration": 0.027458,
     "end_time": "2022-10-27T07:49:25.267005",
     "exception": false,
     "start_time": "2022-10-27T07:49:25.239547",
     "status": "completed"
    },
    "tags": [
     "remove-input"
    ]
   },
   "outputs": [],
   "source": [
    "# NO CODE\n",
    "from json2html import json2html\n",
    "import json, re\n",
    "from IPython.display import HTML"
   ]
  },
  {
   "cell_type": "code",
   "execution_count": 2,
   "id": "5793a8e6",
   "metadata": {
    "execution": {
     "iopub.execute_input": "2022-10-27T07:49:25.286419Z",
     "iopub.status.busy": "2022-10-27T07:49:25.286104Z",
     "iopub.status.idle": "2022-10-27T07:49:25.290346Z",
     "shell.execute_reply": "2022-10-27T07:49:25.289569Z"
    },
    "papermill": {
     "duration": 0.016647,
     "end_time": "2022-10-27T07:49:25.293094",
     "exception": false,
     "start_time": "2022-10-27T07:49:25.276447",
     "status": "completed"
    },
    "tags": [
     "parameters",
     "remove-input"
    ]
   },
   "outputs": [],
   "source": [
    "# NO CODE\n",
    "# PARAMETERS\n",
    "path = './meta/environment/meteocat_xema'"
   ]
  },
  {
   "cell_type": "code",
   "execution_count": 3,
   "id": "49304436",
   "metadata": {
    "execution": {
     "iopub.execute_input": "2022-10-27T07:49:25.309899Z",
     "iopub.status.busy": "2022-10-27T07:49:25.308497Z",
     "iopub.status.idle": "2022-10-27T07:49:25.316074Z",
     "shell.execute_reply": "2022-10-27T07:49:25.314595Z"
    },
    "papermill": {
     "duration": 0.018923,
     "end_time": "2022-10-27T07:49:25.319766",
     "exception": false,
     "start_time": "2022-10-27T07:49:25.300843",
     "status": "completed"
    },
    "tags": [
     "injected-parameters"
    ]
   },
   "outputs": [],
   "source": [
    "# Parameters\n",
    "path = \"./meta/mosquito_alert/user_locations\"\n"
   ]
  },
  {
   "cell_type": "code",
   "execution_count": 4,
   "id": "8c0f97f4",
   "metadata": {
    "execution": {
     "iopub.execute_input": "2022-10-27T07:49:25.337249Z",
     "iopub.status.busy": "2022-10-27T07:49:25.335594Z",
     "iopub.status.idle": "2022-10-27T07:49:25.357657Z",
     "shell.execute_reply": "2022-10-27T07:49:25.356458Z"
    },
    "papermill": {
     "duration": 0.033046,
     "end_time": "2022-10-27T07:49:25.360294",
     "exception": false,
     "start_time": "2022-10-27T07:49:25.327248",
     "status": "completed"
    },
    "tags": [
     "remove-input",
     "full-width"
    ]
   },
   "outputs": [
    {
     "data": {
      "text/html": [
       "<table border=\"1\"><tr><th>$schema</th><td style=text-align:left>../schema.json</td></tr><tr><th>@context</th><td style=text-align:left><table border=\"1\"><tr><th>@vocab</th><td style=text-align:left>https://schema.org/</td></tr><tr><th>qudt</th><td style=text-align:left>http://qudt.org/schema/qudt/</td></tr><tr><th>xsd</th><td style=text-align:left>http://www.w3.org/2001/XMLSchema#</td></tr></table></td></tr><tr><th>@type</th><td style=text-align:left>Dataset</td></tr><tr><th>name</th><td style=text-align:left>user_locations</td></tr><tr><th>conditionsOfAccess</th><td style=text-align:left>Private</td></tr><tr><th>description</th><td style=text-align:left>Background tracks of Mosquito Alert participants in 0.05 and 0.025 degree longitude/latitude sampling cells with minimal processing. The temporal coverage for 0.025 starts from 2018, while for 0.05 degree resolution starts from 2014. This dataset contains data only on Android participants until 2020, when background tracking was implemented in the iOS app as well.</td></tr><tr><th>license</th><td style=text-align:left>All rights reserved</td></tr><tr><th>citation</th><td style=text-align:left><ul><li>Palmer, J. R. B., “Citizen science provides a reliable and scalable tool to track disease-carrying mosquitoes”, Nature Communications, vol. 8, 2017. doi:10.1038/s41467-017-00914-9</li></ul></td></tr><tr><th>temporalCoverage</th><td style=text-align:left>2014/..</td></tr><tr><th>spatialCoverage</th><td style=text-align:left><table border=\"1\"><tr><th>@type</th><td style=text-align:left>Place</td></tr><tr><th>name</th><td style=text-align:left>Worldwide</td></tr><tr><th>sameAs</th><td style=text-align:left>https://www.wikidata.org/wiki/Q13780930</td></tr></table></td></tr><tr><th>distribution</th><td style=text-align:left><ul><li><table border=\"1\"><tr><th>@type</th><td style=text-align:left>DataDownload</td></tr><tr><th>name</th><td style=text-align:left>cluster_ceab</td></tr><tr><th>description</th><td style=text-align:left>Distribution by SFTP protocol from CEAB cluster.</td></tr><tr><th>encodingFormat</th><td style=text-align:left>RDS</td></tr><tr><th>workExample</th><td style=text-align:left></td></tr><tr><th>contentUrl</th><td style=text-align:left><ul><li>sftp://j.palmer@cluster-ceab.ceab.csic.es/home/usuaris/j.palmer/research/mosquito_model_data_prep/data/proc/user_locations.Rds</li><li>sftp://j.palmer@cluster-ceab.ceab.csic.es/home/usuaris/j.palmer/research/mosquito_model_data_prep/data/proc/user_locations_small_cell.Rds</li></ul></td></tr><tr><th>contentSize</th><td style=text-align:left>8-15MB</td></tr></table></li></ul></td></tr><tr><th>variableMeasured</th><td style=text-align:left><ul><li><table border=\"1\"><tr><th>@type</th><td style=text-align:left>PropertyValue</td></tr><tr><th>name</th><td style=text-align:left>year</td></tr><tr><th>description</th><td style=text-align:left>Year in which the background location was recorded.</td></tr><tr><th>unitText</th><td style=text-align:left>years</td></tr><tr><th>qudt:dataType</th><td style=text-align:left>xsd:string</td></tr></table></li><li><table border=\"1\"><tr><th>@type</th><td style=text-align:left>PropertyValue</td></tr><tr><th>name</th><td style=text-align:left>biweek</td></tr><tr><th>description</th><td style=text-align:left>An integer representing the biweek in which the background location was recorded. Biweeks are counted as two-week intervals beginning on 1 January 2014.</td></tr><tr><th>unitText</th><td style=text-align:left>biweek</td></tr><tr><th>qudt:dataType</th><td style=text-align:left>xsd:int</td></tr></table></li><li><table border=\"1\"><tr><th>@type</th><td style=text-align:left>PropertyValue</td></tr><tr><th>name</th><td style=text-align:left>TigacellID</td></tr><tr><th>description</th><td style=text-align:left>Unique identifier of the sampling cell (formed simply by pasting together masked_lon and masked_lat, seperated by an underscore (_).</td></tr><tr><th>unitText</th><td style=text-align:left></td></tr><tr><th>qudt:dataType</th><td style=text-align:left>xsd:string</td></tr></table></li><li><table border=\"1\"><tr><th>@type</th><td style=text-align:left>PropertyValue</td></tr><tr><th>name</th><td style=text-align:left>masked_lon</td></tr><tr><th>description</th><td style=text-align:left>Longitude of the SW corner of the sampling cell.</td></tr><tr><th>unitText</th><td style=text-align:left>degrees</td></tr><tr><th>qudt:dataType</th><td style=text-align:left>xsd:decimal</td></tr></table></li><li><table border=\"1\"><tr><th>@type</th><td style=text-align:left>PropertyValue</td></tr><tr><th>name</th><td style=text-align:left>masked_lat</td></tr><tr><th>description</th><td style=text-align:left>Latitude of the SW corner of the sampling cell.</td></tr><tr><th>unitText</th><td style=text-align:left>degrees</td></tr><tr><th>qudt:dataType</th><td style=text-align:left>xsd:decimal</td></tr></table></li><li><table border=\"1\"><tr><th>@type</th><td style=text-align:left>PropertyValue</td></tr><tr><th>name</th><td style=text-align:left>participation_days</td></tr><tr><th>description</th><td style=text-align:left>Number of days elapsed between the time of the participant&#x27;s first background location and the time of this one</td></tr><tr><th>unitText</th><td style=text-align:left>days</td></tr><tr><th>qudt:dataType</th><td style=text-align:left>xsd:long</td></tr></table></li><li><table border=\"1\"><tr><th>@type</th><td style=text-align:left>PropertyValue</td></tr><tr><th>name</th><td style=text-align:left>fix_date</td></tr><tr><th>description</th><td style=text-align:left>The date on which this location was recorded. YYYY-MM-DD</td></tr><tr><th>unitText</th><td style=text-align:left></td></tr><tr><th>qudt:dataType</th><td style=text-align:left>xsd:date</td></tr></table></li><li><table border=\"1\"><tr><th>@type</th><td style=text-align:left>PropertyValue</td></tr><tr><th>name</th><td style=text-align:left>user_coverage_uuid</td></tr><tr><th>description</th><td style=text-align:left>Unique random UUID assigned to the participant when the app is first activated and linked to their background tracks. This identifier is intentionally different from the reporting UUID for privacy purposes (so that background tracks and reports cannot be linked).</td></tr><tr><th>unitText</th><td style=text-align:left></td></tr><tr><th>qudt:dataType</th><td style=text-align:left>xsd:string</td></tr></table></li></ul></td></tr><tr><th>creator</th><td style=text-align:left><ul><li><table border=\"1\"><tr><th>@type</th><td style=text-align:left>Organization</td></tr><tr><th>@id</th><td style=text-align:left>CEAB</td></tr><tr><th>name</th><td style=text-align:left>Consejo Superior de Investigaciones Científicas - Centro de Estudios Avanzados de Blanes (CSIC-CEAB)</td></tr></table></li><li><table border=\"1\"><tr><th>@type</th><td style=text-align:left>Person</td></tr><tr><th>@id</th><td style=text-align:left>JP</td></tr><tr><th>name</th><td style=text-align:left>Palmer, John Rossman Bertholf</td></tr></table></li><li><table border=\"1\"><tr><th>@type</th><td style=text-align:left>Person</td></tr><tr><th>@id</th><td style=text-align:left>AE</td></tr><tr><th>name</th><td style=text-align:left>Escobar Rúbies, Agustí</td></tr></table></li></ul></td></tr><tr><th>measurementTechnique</th><td style=text-align:left><ul><li>Sampling. Anonymous citizen scientists send reports of possible observations of mosquitoes, their breeding sites and bites using the open source and free smartphone app Mosquito Alert. To send an observation, participants need to answer a small questionnaire (taxonomic questions in the case of mosquitoes or some descriptors in the case of breeding sites), indicate the location (current participant location or selecting it on a map), add a picture (optional) and notes or comments (optional). The app and project website offers information to help identify the target species and take good pictures that allow a proper post validation from entomologists (see more information onQuality Control section). Participants can edit or remove the observation at any time (only if the participant still maintains the Mosquito Alert app in their phone). The last version of each report is considered the prevailing information. There is no pre-set sampling frequency: participants can send as many data as they like. The project runs &quot;face-to-face data collection events&quot; mainly in schools, meaning that in some places and for a given time period, data sampling might be more intense. This is also true when and where there has been a particular dissemination event.</li></ul></td></tr></table>"
      ],
      "text/plain": [
       "<IPython.core.display.HTML object>"
      ]
     },
     "execution_count": 4,
     "metadata": {},
     "output_type": "execute_result"
    }
   ],
   "source": [
    "# NO CODE\n",
    "# FULL WIDTH\n",
    "with open(f'{path}.json') as f:\n",
    "    data = json.load(f)\n",
    "\n",
    "table = json2html.convert(json=data, clubbing=False)\n",
    "table_sub = re.sub('<td>', '<td style=text-align:left>', table)\n",
    "\n",
    "HTML(table_sub)\n",
    "\n",
    "# Run the following in the command line to build a html table\n",
    "# $ jupyter nbconvert --to html --no-input --no-prompt build_tables.ipynb\n"
   ]
  },
  {
   "cell_type": "code",
   "execution_count": null,
   "id": "d898dfea",
   "metadata": {
    "papermill": {
     "duration": 0.006786,
     "end_time": "2022-10-27T07:49:25.374767",
     "exception": false,
     "start_time": "2022-10-27T07:49:25.367981",
     "status": "completed"
    },
    "tags": []
   },
   "outputs": [],
   "source": []
  }
 ],
 "metadata": {
  "interpreter": {
   "hash": "524d3359b179f3b444361f48db8ae048bd8c237924fac1cd48a4c6f8144f6452"
  },
  "kernelspec": {
   "display_name": "Python 3.7.10 64-bit ('scidb': conda)",
   "language": "python",
   "name": "python3"
  },
  "language_info": {
   "codemirror_mode": {
    "name": "ipython",
    "version": 3
   },
   "file_extension": ".py",
   "mimetype": "text/x-python",
   "name": "python",
   "nbconvert_exporter": "python",
   "pygments_lexer": "ipython3",
   "version": "3.10.4"
  },
  "metadata": {
   "interpreter": {
    "hash": "e3961729dbf4ff77740ff872c9a3eef08621b5b434e3d8d81026af4505918c74"
   }
  },
  "papermill": {
   "default_parameters": {},
   "duration": 1.845048,
   "end_time": "2022-10-27T07:49:25.707228",
   "environment_variables": {},
   "exception": null,
   "input_path": "build_info.ipynb",
   "output_path": "./meta_ipynb/user_locations.ipynb",
   "parameters": {
    "path": "./meta/mosquito_alert/user_locations"
   },
   "start_time": "2022-10-27T07:49:23.862180",
   "version": "2.3.4"
  }
 },
 "nbformat": 4,
 "nbformat_minor": 5
}