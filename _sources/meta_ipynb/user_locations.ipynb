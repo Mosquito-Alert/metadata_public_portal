{
 "cells": [
  {
   "cell_type": "markdown",
   "id": "alpine-hayes",
   "metadata": {
    "papermill": {
     "duration": 0.01016,
     "end_time": "2022-02-01T18:20:04.081780",
     "exception": false,
     "start_time": "2022-02-01T18:20:04.071620",
     "status": "completed"
    },
    "tags": []
   },
   "source": [
    "# Metadata table"
   ]
  },
  {
   "cell_type": "code",
   "execution_count": 1,
   "id": "guilty-providence",
   "metadata": {
    "execution": {
     "iopub.execute_input": "2022-02-01T18:20:04.106321Z",
     "iopub.status.busy": "2022-02-01T18:20:04.105595Z",
     "iopub.status.idle": "2022-02-01T18:20:04.111107Z",
     "shell.execute_reply": "2022-02-01T18:20:04.110433Z"
    },
    "papermill": {
     "duration": 0.021688,
     "end_time": "2022-02-01T18:20:04.111265",
     "exception": false,
     "start_time": "2022-02-01T18:20:04.089577",
     "status": "completed"
    },
    "tags": [
     "remove-input"
    ]
   },
   "outputs": [],
   "source": [
    "# NO CODE\n",
    "from json2html import json2html\n",
    "import json, re\n",
    "from IPython.core.display import HTML, display"
   ]
  },
  {
   "cell_type": "code",
   "execution_count": 2,
   "id": "following-consumption",
   "metadata": {
    "execution": {
     "iopub.execute_input": "2022-02-01T18:20:04.134990Z",
     "iopub.status.busy": "2022-02-01T18:20:04.133319Z",
     "iopub.status.idle": "2022-02-01T18:20:04.138130Z",
     "shell.execute_reply": "2022-02-01T18:20:04.137364Z"
    },
    "papermill": {
     "duration": 0.019377,
     "end_time": "2022-02-01T18:20:04.138318",
     "exception": false,
     "start_time": "2022-02-01T18:20:04.118941",
     "status": "completed"
    },
    "tags": [
     "parameters",
     "remove-input"
    ]
   },
   "outputs": [],
   "source": [
    "# NO CODE\n",
    "# PARAMETERS\n",
    "path = './meta/environment/meteocat_xema'"
   ]
  },
  {
   "cell_type": "code",
   "execution_count": 3,
   "id": "insured-importance",
   "metadata": {
    "execution": {
     "iopub.execute_input": "2022-02-01T18:20:04.156223Z",
     "iopub.status.busy": "2022-02-01T18:20:04.155558Z",
     "iopub.status.idle": "2022-02-01T18:20:04.157857Z",
     "shell.execute_reply": "2022-02-01T18:20:04.158491Z"
    },
    "papermill": {
     "duration": 0.013413,
     "end_time": "2022-02-01T18:20:04.158664",
     "exception": false,
     "start_time": "2022-02-01T18:20:04.145251",
     "status": "completed"
    },
    "tags": [
     "injected-parameters"
    ]
   },
   "outputs": [],
   "source": [
    "# Parameters\n",
    "path = \"./meta/mosquito_alert/user_locations\"\n"
   ]
  },
  {
   "cell_type": "code",
   "execution_count": 4,
   "id": "varied-stuart",
   "metadata": {
    "execution": {
     "iopub.execute_input": "2022-02-01T18:20:04.183709Z",
     "iopub.status.busy": "2022-02-01T18:20:04.182931Z",
     "iopub.status.idle": "2022-02-01T18:20:04.199599Z",
     "shell.execute_reply": "2022-02-01T18:20:04.200099Z"
    },
    "papermill": {
     "duration": 0.035111,
     "end_time": "2022-02-01T18:20:04.200302",
     "exception": false,
     "start_time": "2022-02-01T18:20:04.165191",
     "status": "completed"
    },
    "tags": [
     "remove-input",
     "full-width"
    ]
   },
   "outputs": [
    {
     "data": {
      "text/html": [
       "<table border=\"1\"><tr><th>@context</th><td style=text-align:left><table border=\"1\"><tr><th>@vocab</th><td style=text-align:left>https://schema.org/</td></tr><tr><th>qudt</th><td style=text-align:left>http://qudt.org/schema/qudt/</td></tr><tr><th>xsd</th><td style=text-align:left>http://www.w3.org/2001/XMLSchema#</td></tr></table></td></tr><tr><th>@type</th><td style=text-align:left>Dataset</td></tr><tr><th>name</th><td style=text-align:left>user_locations</td></tr><tr><th>conditionsOfAccess</th><td style=text-align:left>Private</td></tr><tr><th>description</th><td style=text-align:left>Background tracks of Mosquito Alert participants in 0.05 and 0.025 degree longitude/latitude sampling cells with minimal processing. The temporal coverage for 0.025 starts from 2018, while for 0.05 degree resolution starts from 2014. This dataset contains data only on Android participants until 2020, when background tracking was implemented in the iOS app as well.</td></tr><tr><th>identifier</th><td style=text-align:left></td></tr><tr><th>license</th><td style=text-align:left></td></tr><tr><th>citation</th><td style=text-align:left></td></tr><tr><th>temporalCoverage</th><td style=text-align:left>2014/..</td></tr><tr><th>spatialCoverage</th><td style=text-align:left><table border=\"1\"><tr><th>@type</th><td style=text-align:left>Place</td></tr><tr><th>name</th><td style=text-align:left>Worldwide</td></tr><tr><th>sameAs</th><td style=text-align:left>https://www.wikidata.org/wiki/Q13780930</td></tr></table></td></tr><tr><th>distribution</th><td style=text-align:left><table border=\"1\"><tr><th>@type</th><td style=text-align:left>DataDownload</td></tr><tr><th>name</th><td style=text-align:left>ceab_cluster</td></tr><tr><th>description</th><td style=text-align:left>Distribution by SFTP protocol from CEAB cluster.</td></tr><tr><th>encodingFormat</th><td style=text-align:left>Rds</td></tr><tr><th>url</th><td style=text-align:left></td></tr><tr><th>contentUrl</th><td style=text-align:left><ul><li>sftp://j.palmer@cluster-ceab.ceab.csic.es/home/usuaris/j.palmer/research/mosquito_model_data_prep/data/proc/user_locations.Rds</li><li>sftp://j.palmer@cluster-ceab.ceab.csic.es/home/usuaris/j.palmer/research/mosquito_model_data_prep/data/proc/user_locations_small_cell.Rds</li></ul></td></tr></table></td></tr><tr><th>variableMeasured</th><td style=text-align:left><ul><li><table border=\"1\"><tr><th>@type</th><td style=text-align:left>PropertyValue</td></tr><tr><th>name</th><td style=text-align:left>year</td></tr><tr><th>description</th><td style=text-align:left>Year in which the background location was recorded.</td></tr><tr><th>unitText</th><td style=text-align:left>years</td></tr><tr><th>dataType</th><td style=text-align:left>xsd:string</td></tr></table></li><li><table border=\"1\"><tr><th>@type</th><td style=text-align:left>PropertyValue</td></tr><tr><th>name</th><td style=text-align:left>biweek</td></tr><tr><th>description</th><td style=text-align:left>An integer representing the biweek in which the background location was recorded. Biweeks are counted as two-week intervals beginning on 1 January 2014.</td></tr><tr><th>unitText</th><td style=text-align:left>biweek</td></tr><tr><th>dataType</th><td style=text-align:left>xsd:integer</td></tr></table></li><li><table border=\"1\"><tr><th>@type</th><td style=text-align:left>PropertyValue</td></tr><tr><th>name</th><td style=text-align:left>TigacellID</td></tr><tr><th>description</th><td style=text-align:left>Unique identifier of the sampling cell (formed simply by pasting together masked_lon and masked_lat, seperated by an underscore (_).</td></tr><tr><th>unitText</th><td style=text-align:left></td></tr><tr><th>dataType</th><td style=text-align:left>xsd:string</td></tr></table></li><li><table border=\"1\"><tr><th>@type</th><td style=text-align:left>PropertyValue</td></tr><tr><th>name</th><td style=text-align:left>masked_lon</td></tr><tr><th>description</th><td style=text-align:left>Longitude of the SW corner of the sampling cell.</td></tr><tr><th>unitText</th><td style=text-align:left>degrees</td></tr><tr><th>dataType</th><td style=text-align:left>xsd:numeric</td></tr></table></li><li><table border=\"1\"><tr><th>@type</th><td style=text-align:left>PropertyValue</td></tr><tr><th>name</th><td style=text-align:left>masked_lat</td></tr><tr><th>description</th><td style=text-align:left>Latitude of the SW corner of the sampling cell.</td></tr><tr><th>unitText</th><td style=text-align:left>degrees</td></tr><tr><th>dataType</th><td style=text-align:left>xsd:numeric</td></tr></table></li><li><table border=\"1\"><tr><th>@type</th><td style=text-align:left>PropertyValue</td></tr><tr><th>name</th><td style=text-align:left>participation_days</td></tr><tr><th>description</th><td style=text-align:left>Number of days elapsed between this the time of the participant&#x27;s first background location and the time of this one</td></tr><tr><th>unitText</th><td style=text-align:left>days</td></tr><tr><th>dataType</th><td style=text-align:left>xsd:long</td></tr></table></li><li><table border=\"1\"><tr><th>@type</th><td style=text-align:left>PropertyValue</td></tr><tr><th>name</th><td style=text-align:left>fix_date</td></tr><tr><th>description</th><td style=text-align:left>The date on which this location was recorded. YYYY-MM-DD</td></tr><tr><th>unitText</th><td style=text-align:left></td></tr><tr><th>dataType</th><td style=text-align:left>xsd:date</td></tr></table></li><li><table border=\"1\"><tr><th>@type</th><td style=text-align:left>PropertyValue</td></tr><tr><th>name</th><td style=text-align:left>user_coverage_uuid</td></tr><tr><th>description</th><td style=text-align:left>Unique random UUID assigned to the participant when the app is first activated and linked to their background tracks. This identifier is intentionally different from the reporting UUID for privacy purposes (so that background tracks and reports cannot be linked).</td></tr><tr><th>unitText</th><td style=text-align:left></td></tr><tr><th>dataType</th><td style=text-align:left>xsd:string</td></tr></table></li></ul></td></tr><tr><th>creator</th><td style=text-align:left><ul><li><table border=\"1\"><tr><th>@type</th><td style=text-align:left>Organization</td></tr><tr><th>@id</th><td style=text-align:left>CEAB</td></tr><tr><th>name</th><td style=text-align:left>Consejo Superior de Investigaciones Científicas - Centro de Estudios Avanzados de Blanes (CSIC-CEAB)</td></tr></table></li><li><table border=\"1\"><tr><th>@type</th><td style=text-align:left>Person</td></tr><tr><th>@id</th><td style=text-align:left>JP</td></tr><tr><th>name</th><td style=text-align:left>Palmer, John Rossman Bertholf</td></tr></table></li><li><table border=\"1\"><tr><th>@type</th><td style=text-align:left>Person</td></tr><tr><th>@id</th><td style=text-align:left>AE</td></tr><tr><th>name</th><td style=text-align:left>Escobar Rúbies, Agustí</td></tr></table></li></ul></td></tr><tr><th>measurementTechnique</th><td style=text-align:left>Mobile application for citizen science</td></tr></table>"
      ],
      "text/plain": [
       "<IPython.core.display.HTML object>"
      ]
     },
     "execution_count": 4,
     "metadata": {},
     "output_type": "execute_result"
    }
   ],
   "source": [
    "# NO CODE\n",
    "# FULL WIDTH\n",
    "with open(f'{path}.json') as f:\n",
    "    data = json.load(f)\n",
    "\n",
    "table = json2html.convert(json=data, clubbing=False)\n",
    "table_sub = re.sub('<td>', '<td style=text-align:left>', table)\n",
    "\n",
    "HTML(table_sub)\n",
    "\n",
    "# Run the following in the command line to build a html table\n",
    "# $ jupyter nbconvert --to html --no-input --no-prompt build_tables.ipynb\n"
   ]
  },
  {
   "cell_type": "code",
   "execution_count": null,
   "id": "fitting-registrar",
   "metadata": {
    "papermill": {
     "duration": 0.008041,
     "end_time": "2022-02-01T18:20:04.216785",
     "exception": false,
     "start_time": "2022-02-01T18:20:04.208744",
     "status": "completed"
    },
    "tags": []
   },
   "outputs": [],
   "source": []
  }
 ],
 "metadata": {
  "interpreter": {
   "hash": "524d3359b179f3b444361f48db8ae048bd8c237924fac1cd48a4c6f8144f6452"
  },
  "kernelspec": {
   "display_name": "Python 3.7.10 64-bit ('scidb': conda)",
   "language": "python",
   "name": "python3"
  },
  "language_info": {
   "codemirror_mode": {
    "name": "ipython",
    "version": 3
   },
   "file_extension": ".py",
   "mimetype": "text/x-python",
   "name": "python",
   "nbconvert_exporter": "python",
   "pygments_lexer": "ipython3",
   "version": "3.7.10"
  },
  "metadata": {
   "interpreter": {
    "hash": "e3961729dbf4ff77740ff872c9a3eef08621b5b434e3d8d81026af4505918c74"
   }
  },
  "papermill": {
   "default_parameters": {},
   "duration": 1.252769,
   "end_time": "2022-02-01T18:20:04.537755",
   "environment_variables": {},
   "exception": null,
   "input_path": "build_info.ipynb",
   "output_path": "./meta_ipynb/user_locations.ipynb",
   "parameters": {
    "path": "./meta/mosquito_alert/user_locations"
   },
   "start_time": "2022-02-01T18:20:03.284986",
   "version": "2.3.3"
  }
 },
 "nbformat": 4,
 "nbformat_minor": 5
}