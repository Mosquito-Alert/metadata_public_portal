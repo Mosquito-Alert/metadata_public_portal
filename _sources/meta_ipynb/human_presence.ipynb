{
 "cells": [
  {
   "cell_type": "markdown",
   "id": "25bc96dd",
   "metadata": {
    "papermill": {
     "duration": 0.010356,
     "end_time": "2023-11-21T14:59:31.091033",
     "exception": false,
     "start_time": "2023-11-21T14:59:31.080677",
     "status": "completed"
    },
    "tags": []
   },
   "source": [
    "# Metadata table"
   ]
  },
  {
   "cell_type": "code",
   "execution_count": 1,
   "id": "cf9a594d",
   "metadata": {
    "execution": {
     "iopub.execute_input": "2023-11-21T14:59:31.104786Z",
     "iopub.status.busy": "2023-11-21T14:59:31.103925Z",
     "iopub.status.idle": "2023-11-21T14:59:31.120100Z",
     "shell.execute_reply": "2023-11-21T14:59:31.118660Z"
    },
    "papermill": {
     "duration": 0.027283,
     "end_time": "2023-11-21T14:59:31.123694",
     "exception": false,
     "start_time": "2023-11-21T14:59:31.096411",
     "status": "completed"
    },
    "tags": [
     "remove-input"
    ]
   },
   "outputs": [],
   "source": [
    "# NO CODE\n",
    "from json2html import json2html\n",
    "import json, re\n",
    "from IPython.display import HTML"
   ]
  },
  {
   "cell_type": "code",
   "execution_count": 2,
   "id": "067cb242",
   "metadata": {
    "execution": {
     "iopub.execute_input": "2023-11-21T14:59:31.139718Z",
     "iopub.status.busy": "2023-11-21T14:59:31.139029Z",
     "iopub.status.idle": "2023-11-21T14:59:31.145414Z",
     "shell.execute_reply": "2023-11-21T14:59:31.144576Z"
    },
    "papermill": {
     "duration": 0.016044,
     "end_time": "2023-11-21T14:59:31.147573",
     "exception": false,
     "start_time": "2023-11-21T14:59:31.131529",
     "status": "completed"
    },
    "tags": [
     "parameters",
     "remove-input"
    ]
   },
   "outputs": [],
   "source": [
    "# NO CODE\n",
    "# PARAMETERS\n",
    "path = './meta/environment/meteocat_xema'"
   ]
  },
  {
   "cell_type": "code",
   "execution_count": 3,
   "id": "0d8d31a6",
   "metadata": {
    "execution": {
     "iopub.execute_input": "2023-11-21T14:59:31.162953Z",
     "iopub.status.busy": "2023-11-21T14:59:31.162460Z",
     "iopub.status.idle": "2023-11-21T14:59:31.170214Z",
     "shell.execute_reply": "2023-11-21T14:59:31.167597Z"
    },
    "papermill": {
     "duration": 0.017152,
     "end_time": "2023-11-21T14:59:31.173113",
     "exception": false,
     "start_time": "2023-11-21T14:59:31.155961",
     "status": "completed"
    },
    "tags": [
     "injected-parameters"
    ]
   },
   "outputs": [],
   "source": [
    "# Parameters\n",
    "path = \"./meta/environment/human_presence\"\n"
   ]
  },
  {
   "cell_type": "code",
   "execution_count": 4,
   "id": "a4ab4a8b",
   "metadata": {
    "execution": {
     "iopub.execute_input": "2023-11-21T14:59:31.189306Z",
     "iopub.status.busy": "2023-11-21T14:59:31.188954Z",
     "iopub.status.idle": "2023-11-21T14:59:31.209115Z",
     "shell.execute_reply": "2023-11-21T14:59:31.208342Z"
    },
    "papermill": {
     "duration": 0.031545,
     "end_time": "2023-11-21T14:59:31.211743",
     "exception": false,
     "start_time": "2023-11-21T14:59:31.180198",
     "status": "completed"
    },
    "tags": [
     "remove-input",
     "full-width"
    ]
   },
   "outputs": [
    {
     "data": {
      "text/html": [
       "<table border=\"1\"><tr><th>$schema</th><td style=text-align:left>../schema.json</td></tr><tr><th>@context</th><td style=text-align:left><table border=\"1\"><tr><th>@vocab</th><td style=text-align:left>https://schema.org/</td></tr><tr><th>qudt</th><td style=text-align:left>http://qudt.org/schema/qudt/</td></tr><tr><th>xsd</th><td style=text-align:left>http://www.w3.org/2001/XMLSchema#</td></tr></table></td></tr><tr><th>@type</th><td style=text-align:left>Dataset</td></tr><tr><th>name</th><td style=text-align:left>human_presence</td></tr><tr><th>conditionsOfAccess</th><td style=text-align:left>Public</td></tr><tr><th>description</th><td style=text-align:left>Multi-band raster with resolution 0.025 degree and worldwide coverage of Köppen-Geiger climatic regions, estimated population density for 2030, Global Administrative Areas (GADM) and terrestrial ecoregions of the world.</td></tr><tr><th>license</th><td style=text-align:left>Free of charge, worldwide, non-exclusive, royalty free and perpetual.</td></tr><tr><th>citation</th><td style=text-align:left><ul><li>Beck, Hylke E.; E. Zimmermann, Niklaus; McVicar, Tim R.; Vergopolan, Noemi; Berg, Alexis; Wood, Eric F. (2018). Present and future Köppen-Geiger climate classification maps at 1-km resolution. https://doi.org/10.6084/m9.figshare.6396959</li><li>Schiavina M., Freire S., Carioli A., MacManus K. (2023). GHS-POP R2023A - GHS population grid multitemporal (1975-2030).European Commission, Joint Research Centre (JRC). DOI:10.2905/2FF68A52-5B5B-4A22-8F40-C41DA8332CFE</li><li>Global Administrative Areas (2023). GADM database of Global Administrative Areas, version 4.1. www.gadm.org</li><li>Olson, D. M., Dinerstein, E., Wikramanayake, E. D., Burgess, N. D., Powell, G. V. N., Underwood, E. C., D&#x27;Amico, J. A., Itoua, I., Strand, H. E., Morrison, J. C., Loucks, C. J., Allnutt, T. F., Ricketts, T. H., Kura, Y., Lamoreux, J. F., Wettengel, W. W., Hedao, P., Kassem, K. R. 2001. Terrestrial ecoregions of the world: a new map of life on Earth. Bioscience 51(11):933-938.</li></ul></td></tr><tr><th>temporalCoverage</th><td style=text-align:left></td></tr><tr><th>spatialCoverage</th><td style=text-align:left><table border=\"1\"><tr><th>@type</th><td style=text-align:left>Place</td></tr><tr><th>name</th><td style=text-align:left>Worldwide</td></tr><tr><th>sameAs</th><td style=text-align:left>https://www.wikidata.org/wiki/Q13780930</td></tr></table></td></tr><tr><th>distribution</th><td style=text-align:left><ul><li><table border=\"1\"><tr><th>@type</th><td style=text-align:left>DataDownload</td></tr><tr><th>name</th><td style=text-align:left>mosquitoalert_webserver</td></tr><tr><th>description</th><td style=text-align:left>Distribution by HTTP download from MosquitoAlert webserver</td></tr><tr><th>encodingFormat</th><td style=text-align:left>TIF</td></tr><tr><th>workExample</th><td style=text-align:left>./notebook/model_tables.py</td></tr><tr><th>contentUrl</th><td style=text-align:left><ul><li>http://webserver.mosquitoalert.com/static/tigapublic/models/data_environment/human_presence_multilayer_025.tif</li></ul></td></tr><tr><th>contentSize</th><td style=text-align:left>27.9MB</td></tr></table></li></ul></td></tr><tr><th>variableMeasured</th><td style=text-align:left><ul><li><table border=\"1\"><tr><th>@type</th><td style=text-align:left>PropertyValue</td></tr><tr><th>name</th><td style=text-align:left>BAND 1</td></tr><tr><th>description</th><td style=text-align:left>Köppen-Geiger climate classification (0 == no data).</td></tr><tr><th>unitText</th><td style=text-align:left>categorical</td></tr><tr><th>qudt:dataType</th><td style=text-align:left>xsd:int</td></tr></table></li><li><table border=\"1\"><tr><th>@type</th><td style=text-align:left>PropertyValue</td></tr><tr><th>name</th><td style=text-align:left>BAND 2</td></tr><tr><th>description</th><td style=text-align:left>Distribution of residential population, expressed as the number of people per cell (-200 == no data).</td></tr><tr><th>unitText</th><td style=text-align:left>number of people per cell</td></tr><tr><th>qudt:dataType</th><td style=text-align:left>xsd:int</td></tr></table></li><li><table border=\"1\"><tr><th>@type</th><td style=text-align:left>PropertyValue</td></tr><tr><th>name</th><td style=text-align:left>BAND 3</td></tr><tr><th>description</th><td style=text-align:left>GADM database of Global Administrative Areas (0 == no data).</td></tr><tr><th>unitText</th><td style=text-align:left></td></tr><tr><th>qudt:dataType</th><td style=text-align:left>xsd:int</td></tr></table></li><li><table border=\"1\"><tr><th>@type</th><td style=text-align:left>PropertyValue</td></tr><tr><th>name</th><td style=text-align:left>BAND 4</td></tr><tr><th>description</th><td style=text-align:left>Terrestrial ecoregions of the world (0 == no data).</td></tr><tr><th>unitText</th><td style=text-align:left>categorical</td></tr><tr><th>qudt:dataType</th><td style=text-align:left>xsd:int</td></tr></table></li></ul></td></tr><tr><th>creator</th><td style=text-align:left><ul><li><table border=\"1\"><tr><th>@type</th><td style=text-align:left>Person</td></tr><tr><th>@id</th><td style=text-align:left>ZJ</td></tr><tr><th>name</th><td style=text-align:left>Južnič Zonta, Živko</td></tr><tr><th>identifier</th><td style=text-align:left>https://orcid.org/0000-0002-2362-9771</td></tr><tr><th>contactPoint</th><td style=text-align:left><table border=\"1\"><tr><th>@type</th><td style=text-align:left>ContactPoint</td></tr><tr><th>roleName</th><td style=text-align:left>data engineer</td></tr><tr><th>email</th><td style=text-align:left>jzivko@gmail.com</td></tr><tr><th>url</th><td style=text-align:left>https://es.linkedin.com/in/zivko</td></tr></table></td></tr></table></li></ul></td></tr><tr><th>measurementTechnique</th><td style=text-align:left><ul><li>Satellite images reanalysis</li><li>Population census of population</li></ul></td></tr></table>"
      ],
      "text/plain": [
       "<IPython.core.display.HTML object>"
      ]
     },
     "execution_count": 4,
     "metadata": {},
     "output_type": "execute_result"
    }
   ],
   "source": [
    "# NO CODE\n",
    "# FULL WIDTH\n",
    "with open(f'{path}.json') as f:\n",
    "    data = json.load(f)\n",
    "\n",
    "table = json2html.convert(json=data, clubbing=False)\n",
    "table_sub = re.sub('<td>', '<td style=text-align:left>', table)\n",
    "\n",
    "HTML(table_sub)\n",
    "\n",
    "# Run the following in the command line to build a html table\n",
    "# $ jupyter nbconvert --to html --no-input --no-prompt build_tables.ipynb\n"
   ]
  },
  {
   "cell_type": "code",
   "execution_count": null,
   "id": "985160f1",
   "metadata": {
    "papermill": {
     "duration": 0.00966,
     "end_time": "2023-11-21T14:59:31.231254",
     "exception": false,
     "start_time": "2023-11-21T14:59:31.221594",
     "status": "completed"
    },
    "tags": []
   },
   "outputs": [],
   "source": []
  }
 ],
 "metadata": {
  "interpreter": {
   "hash": "524d3359b179f3b444361f48db8ae048bd8c237924fac1cd48a4c6f8144f6452"
  },
  "kernelspec": {
   "display_name": "Python 3.7.10 64-bit ('scidb': conda)",
   "language": "python",
   "name": "python3"
  },
  "language_info": {
   "codemirror_mode": {
    "name": "ipython",
    "version": 3
   },
   "file_extension": ".py",
   "mimetype": "text/x-python",
   "name": "python",
   "nbconvert_exporter": "python",
   "pygments_lexer": "ipython3",
   "version": "3.10.4"
  },
  "metadata": {
   "interpreter": {
    "hash": "e3961729dbf4ff77740ff872c9a3eef08621b5b434e3d8d81026af4505918c74"
   }
  },
  "papermill": {
   "default_parameters": {},
   "duration": 1.516151,
   "end_time": "2023-11-21T14:59:31.559804",
   "environment_variables": {},
   "exception": null,
   "input_path": "build_info.ipynb",
   "output_path": "./meta_ipynb/human_presence.ipynb",
   "parameters": {
    "path": "./meta/environment/human_presence"
   },
   "start_time": "2023-11-21T14:59:30.043653",
   "version": "2.3.4"
  }
 },
 "nbformat": 4,
 "nbformat_minor": 5
}