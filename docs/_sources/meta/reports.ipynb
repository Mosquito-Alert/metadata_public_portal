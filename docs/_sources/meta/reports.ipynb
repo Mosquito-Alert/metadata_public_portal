{
 "cells": [
  {
   "cell_type": "markdown",
   "id": "urban-bench",
   "metadata": {
    "papermill": {
     "duration": 0.011499,
     "end_time": "2021-06-03T11:45:42.891152",
     "exception": false,
     "start_time": "2021-06-03T11:45:42.879653",
     "status": "completed"
    },
    "tags": []
   },
   "source": [
    "# Metadata table"
   ]
  },
  {
   "cell_type": "code",
   "execution_count": 1,
   "id": "mediterranean-external",
   "metadata": {
    "execution": {
     "iopub.execute_input": "2021-06-03T11:45:42.917662Z",
     "iopub.status.busy": "2021-06-03T11:45:42.916773Z",
     "iopub.status.idle": "2021-06-03T11:45:42.922468Z",
     "shell.execute_reply": "2021-06-03T11:45:42.923406Z"
    },
    "papermill": {
     "duration": 0.024467,
     "end_time": "2021-06-03T11:45:42.923997",
     "exception": false,
     "start_time": "2021-06-03T11:45:42.899530",
     "status": "completed"
    },
    "tags": [
     "remove-input"
    ]
   },
   "outputs": [],
   "source": [
    "# NO CODE\n",
    "from json2html import *\n",
    "import json\n",
    "from IPython.core.display import HTML, display\n"
   ]
  },
  {
   "cell_type": "code",
   "execution_count": 2,
   "id": "environmental-bridge",
   "metadata": {
    "execution": {
     "iopub.execute_input": "2021-06-03T11:45:42.950399Z",
     "iopub.status.busy": "2021-06-03T11:45:42.949640Z",
     "iopub.status.idle": "2021-06-03T11:45:42.953108Z",
     "shell.execute_reply": "2021-06-03T11:45:42.953736Z"
    },
    "papermill": {
     "duration": 0.017143,
     "end_time": "2021-06-03T11:45:42.953943",
     "exception": false,
     "start_time": "2021-06-03T11:45:42.936800",
     "status": "completed"
    },
    "tags": [
     "parameters",
     "remove-input"
    ]
   },
   "outputs": [],
   "source": [
    "# NO CODE\n",
    "path = './raw/environment/meteocat_xema'"
   ]
  },
  {
   "cell_type": "code",
   "execution_count": 3,
   "id": "charming-weapon",
   "metadata": {
    "execution": {
     "iopub.execute_input": "2021-06-03T11:45:42.974414Z",
     "iopub.status.busy": "2021-06-03T11:45:42.973604Z",
     "iopub.status.idle": "2021-06-03T11:45:42.978576Z",
     "shell.execute_reply": "2021-06-03T11:45:42.977752Z"
    },
    "papermill": {
     "duration": 0.017458,
     "end_time": "2021-06-03T11:45:42.978764",
     "exception": false,
     "start_time": "2021-06-03T11:45:42.961306",
     "status": "completed"
    },
    "tags": [
     "injected-parameters"
    ]
   },
   "outputs": [],
   "source": [
    "# Parameters\n",
    "path = \"./raw/MA/reports\"\n"
   ]
  },
  {
   "cell_type": "code",
   "execution_count": 4,
   "id": "august-italic",
   "metadata": {
    "execution": {
     "iopub.execute_input": "2021-06-03T11:45:43.021681Z",
     "iopub.status.busy": "2021-06-03T11:45:43.020400Z",
     "iopub.status.idle": "2021-06-03T11:45:43.027405Z",
     "shell.execute_reply": "2021-06-03T11:45:43.029179Z"
    },
    "papermill": {
     "duration": 0.041915,
     "end_time": "2021-06-03T11:45:43.029706",
     "exception": false,
     "start_time": "2021-06-03T11:45:42.987791",
     "status": "completed"
    },
    "tags": [
     "remove-input",
     "full-width"
    ]
   },
   "outputs": [
    {
     "data": {
      "text/html": [
       "<table border=\"1\"><tr><th>@context</th><td><table border=\"1\"><tr><th>@vocab</th><td>https://schema.org/</td></tr><tr><th>qudt</th><td>http://qudt.org/schema/qudt/</td></tr><tr><th>xsd</th><td>http://www.w3.org/2001/XMLSchema#</td></tr></table></td></tr><tr><th>@type</th><td>Dataset</td></tr><tr><th>name</th><td>ma_yearly_reports</td></tr><tr><th>description</th><td>Yearly reports from the Mosquito Alert application with information about bites, breeding sites and adult mosquito encounters. Responses to questionnaires are available for sites and adults. Daily dataset versions are available on the Zenodo cluster.</td></tr><tr><th>url</th><td>https://github.com/MosquitoAlert/Data</td></tr><tr><th>sameAs</th><td>https://doi.org/10.5281/zenodo.597466</td></tr><tr><th>identifier</th><td>https://doi.org/10.5281/zenodo.597466</td></tr><tr><th>license</th><td>https://creativecommons.org/publicdomain/zero/1.0/</td></tr><tr><th>citation</th><td><ul><li>Citizen science provides a reliable and scalable tool to track disease-carrying mosquitoes.  John R B, Palmer et al. (DOI: 10.1038/s41467-017-00914-9)</li></ul></td></tr><tr><th>creator</th><td><ul><li><table border=\"1\"><tr><th>@type</th><td>Organization</td></tr><tr><th>@id</th><td>CEAB</td></tr><tr><th>name</th><td>Consejo Superior de Investigaciones Científicas - Centro de Estudios Avanzados de Blanes (CSIC-CEAB)</td></tr></table></li><li><table border=\"1\"><tr><th>@type</th><td>Person</td></tr><tr><th>@id</th><td>JP</td></tr><tr><th>name</th><td>Palmer, John Rossman Bertholf</td></tr></table></li><li><table border=\"1\"><tr><th>@type</th><td>Person</td></tr><tr><th>@id</th><td>AE</td></tr><tr><th>name</th><td>Escobar Rúbies, Agustí</td></tr></table></li></ul></td></tr><tr><th>variableMeasured</th><td><ul><li><table border=\"1\"><tr><th>@type</th><td>PropertyValue</td></tr><tr><th>name</th><td>version_UUID</td></tr><tr><th>description</th><td></td></tr><tr><th>unitText</th><td></td></tr><tr><th>dataType</th><td>xsd:string</td></tr></table></li><li><table border=\"1\"><tr><th>@type</th><td>PropertyValue</td></tr><tr><th>name</th><td>creation_time</td></tr><tr><th>description</th><td></td></tr><tr><th>unitText</th><td></td></tr><tr><th>dataType</th><td>xsd:dateTime</td></tr></table></li><li><table border=\"1\"><tr><th>@type</th><td>PropertyValue</td></tr><tr><th>name</th><td>creation_date</td></tr><tr><th>description</th><td></td></tr><tr><th>unitText</th><td></td></tr><tr><th>dataType</th><td>xsd:string</td></tr></table></li><li><table border=\"1\"><tr><th>@type</th><td>PropertyValue</td></tr><tr><th>name</th><td>creation_day_since_launch</td></tr><tr><th>description</th><td></td></tr><tr><th>unitText</th><td></td></tr><tr><th>dataType</th><td>xsd:int</td></tr></table></li><li><table border=\"1\"><tr><th>@type</th><td>PropertyValue</td></tr><tr><th>name</th><td>creation_year</td></tr><tr><th>description</th><td></td></tr><tr><th>unitText</th><td></td></tr><tr><th>dataType</th><td>xsd:int</td></tr></table></li><li><table border=\"1\"><tr><th>@type</th><td>PropertyValue</td></tr><tr><th>name</th><td>creation_month</td></tr><tr><th>description</th><td></td></tr><tr><th>unitText</th><td></td></tr><tr><th>dataType</th><td>xsd:int</td></tr></table></li><li><table border=\"1\"><tr><th>@type</th><td>PropertyValue</td></tr><tr><th>name</th><td>site_cat</td></tr><tr><th>description</th><td></td></tr><tr><th>unitText</th><td></td></tr><tr><th>dataType</th><td>xsd:int</td></tr></table></li><li><table border=\"1\"><tr><th>@type</th><td>PropertyValue</td></tr><tr><th>name</th><td>type</td></tr><tr><th>description</th><td>Report type could be: bite, site or adult</td></tr><tr><th>unitText</th><td></td></tr><tr><th>dataType</th><td>xsd:string</td></tr></table></li><li><table border=\"1\"><tr><th>@type</th><td>PropertyValue</td></tr><tr><th>name</th><td>lon</td></tr><tr><th>description</th><td></td></tr><tr><th>unitText</th><td></td></tr><tr><th>dataType</th><td>xsd:decimal</td></tr></table></li><li><table border=\"1\"><tr><th>@type</th><td>PropertyValue</td></tr><tr><th>name</th><td>lat</td></tr><tr><th>description</th><td></td></tr><tr><th>unitText</th><td></td></tr><tr><th>dataType</th><td>xsd:decimal</td></tr></table></li><li><table border=\"1\"><tr><th>@type</th><td>PropertyValue</td></tr><tr><th>name</th><td>movelab_annotation</td></tr><tr><th>description</th><td></td></tr><tr><th>unitText</th><td></td></tr><tr><th>dataType</th><td>xsd:string</td></tr></table></li><li><table border=\"1\"><tr><th>@type</th><td>PropertyValue</td></tr><tr><th>name</th><td>movelab_annotation_euro</td></tr><tr><th>description</th><td></td></tr><tr><th>unitText</th><td></td></tr><tr><th>dataType</th><td>xsd:string</td></tr></table></li><li><table border=\"1\"><tr><th>@type</th><td>PropertyValue</td></tr><tr><th>name</th><td>tiger_responses</td></tr><tr><th>description</th><td>Similar to &#x27;tiger_responses_text&#x27; attribute but it is a preprocessed version with the aim of beeing ML-friendly. In case of doubt, refere better to &#x27;tiger_responses_text&#x27;.</td></tr><tr><th>unitText</th><td></td></tr><tr><th>dataType</th><td>xsd:string</td></tr></table></li><li><table border=\"1\"><tr><th>@type</th><td>PropertyValue</td></tr><tr><th>name</th><td>tiger_responses_text</td></tr><tr><th>description</th><td>Adult mosquito related user responses stored in json format with the following keys: &#x27;id&#x27; identifier; &#x27;translated_question&#x27; question as it was in the app, translated to the same language the app was when uploading the report (if the app is in a language which have not translation yet, it defaults to english); &#x27;translated_answer&#x27; user&#x27;s answer to the question; &#x27;question_id&#x27; question identifier;  &#x27;question&#x27; text format question in default language; &#x27;answer_id&#x27; answer identifier; &#x27;answer&#x27; text format answer in default language; &#x27;answer_value&#x27; integer value relative to the answer; &#x27;report&#x27; identifier of the report.</td></tr><tr><th>unitText</th><td></td></tr><tr><th>dataType</th><td>xsd:string</td></tr></table></li><li><table border=\"1\"><tr><th>@type</th><td>PropertyValue</td></tr><tr><th>name</th><td>site_responses</td></tr><tr><th>description</th><td>Similar to &#x27;site_responses_text&#x27; attribute but it is a preprocessed version with the aim of beeing ML-friendly. In case of doubt, refere better to &#x27;site_responses_text&#x27;.</td></tr><tr><th>unitText</th><td></td></tr><tr><th>dataType</th><td>xsd:string</td></tr></table></li><li><table border=\"1\"><tr><th>@type</th><td>PropertyValue</td></tr><tr><th>name</th><td>site_responses_text</td></tr><tr><th>description</th><td>Breeding site related user responses stored in json format with the following keys: &#x27;id&#x27; identifier; &#x27;translated_question&#x27; question as it was in the app, translated to the same language the app was when uploading the report (if the app is in a language which have not translation yet, it defaults to english); &#x27;translated_answer&#x27; user&#x27;s answer to the question; &#x27;question_id&#x27; question identifier;  &#x27;question&#x27; text format question in default language; &#x27;answer_id&#x27; answer identifier; &#x27;answer&#x27; text format answer in default language; &#x27;answer_value&#x27; integer value relative to the answer; &#x27;report&#x27; identifier of the report.</td></tr><tr><th>unitText</th><td></td></tr><tr><th>dataType</th><td>xsd:string</td></tr></table></li><li><table border=\"1\"><tr><th>@type</th><td>PropertyValue</td></tr><tr><th>name</th><td>tigaprob_cat</td></tr><tr><th>description</th><td></td></tr><tr><th>unitText</th><td></td></tr><tr><th>dataType</th><td>xsd:int</td></tr></table></li><li><table border=\"1\"><tr><th>@type</th><td>PropertyValue</td></tr><tr><th>name</th><td>visible</td></tr><tr><th>description</th><td></td></tr><tr><th>unitText</th><td></td></tr><tr><th>dataType</th><td>xsd:boolean</td></tr></table></li><li><table border=\"1\"><tr><th>@type</th><td>PropertyValue</td></tr><tr><th>name</th><td>latest_version</td></tr><tr><th>description</th><td></td></tr><tr><th>unitText</th><td></td></tr><tr><th>dataType</th><td>xsd:boolean</td></tr></table></li><li><table border=\"1\"><tr><th>@type</th><td>PropertyValue</td></tr><tr><th>name</th><td>n_photos</td></tr><tr><th>description</th><td></td></tr><tr><th>unitText</th><td></td></tr><tr><th>dataType</th><td>xsd:int</td></tr></table></li><li><table border=\"1\"><tr><th>@type</th><td>PropertyValue</td></tr><tr><th>name</th><td>final_expert_status_text</td></tr><tr><th>description</th><td></td></tr><tr><th>unitText</th><td></td></tr><tr><th>dataType</th><td>xsd:int</td></tr></table></li><li><table border=\"1\"><tr><th>@type</th><td>PropertyValue</td></tr><tr><th>name</th><td>responses</td></tr><tr><th>description</th><td>Bites related user responses stored in json format with the following keys: &#x27;id&#x27; identifier; &#x27;translated_question&#x27; question as it was in the app, translated to the same language the app was when uploading the report (if the app is in a language which have not translation yet, it defaults to english); &#x27;translated_answer&#x27; user&#x27;s answer to the question; &#x27;question_id&#x27; question identifier;  &#x27;question&#x27; text format question in default language; &#x27;answer_id&#x27; answer identifier; &#x27;answer&#x27; text format answer in default language; &#x27;answer_value&#x27; integer value relative to the answer; &#x27;report&#x27; identifier of the report.</td></tr><tr><th>unitText</th><td></td></tr><tr><th>dataType</th><td>xsd:string</td></tr></table></li><li><table border=\"1\"><tr><th>@type</th><td>PropertyValue</td></tr><tr><th>name</th><td>cached_visible</td></tr><tr><th>description</th><td></td></tr><tr><th>unitText</th><td></td></tr><tr><th>dataType</th><td>xsd:decimal</td></tr></table></li><li><table border=\"1\"><tr><th>@type</th><td>PropertyValue</td></tr><tr><th>name</th><td>poxsd:int</td></tr><tr><th>description</th><td></td></tr><tr><th>unitText</th><td></td></tr><tr><th>dataType</th><td>xsd:string</td></tr></table></li><li><table border=\"1\"><tr><th>@type</th><td>PropertyValue</td></tr><tr><th>name</th><td>country</td></tr><tr><th>description</th><td></td></tr><tr><th>unitText</th><td></td></tr><tr><th>dataType</th><td>xsd:decimal</td></tr></table></li><li><table border=\"1\"><tr><th>@type</th><td>PropertyValue</td></tr><tr><th>name</th><td>session</td></tr><tr><th>description</th><td></td></tr><tr><th>unitText</th><td></td></tr><tr><th>dataType</th><td>xsd:decimal</td></tr></table></li></ul></td></tr><tr><th>measurementTechnique</th><td><ul><li>Mobile application for citizen science</li><li>Data validation by entomologists</li></ul></td></tr><tr><th>temporalCoverage</th><td>2014/..</td></tr><tr><th>spatialCoverage</th><td><table border=\"1\"><tr><th>type</th><td>AdministrativeArea</td></tr><tr><th>name</th><td>Eurozone</td></tr><tr><th>sameAs</th><td>https://www.wikidata.org/wiki/Q8268</td></tr></table></td></tr><tr><th>distribution</th><td><ul><li><table border=\"1\"><tr><th>@type</th><td>DataDownload</td></tr><tr><th>name</th><td>zenodo</td></tr><tr><th>description</th><td>Distribution from Zenodo cloud.</td></tr><tr><th>encodingFormat</th><td>JSON.ZIP</td></tr><tr><th>url</th><td>./notebooks/reports.py</td></tr><tr><th>contentUrl</th><td>https://zenodo.org/record/4729070/files/MosquitoAlert/Data-v1.120.2021.zip?download=1</td></tr><tr><th>contentSize</th><td>5MB</td></tr></table></li><li><table border=\"1\"><tr><th>@type</th><td>DataDownload</td></tr><tr><th>name</th><td>github</td></tr><tr><th>description</th><td>Distribution from MosquitoAlert Github repository</td></tr><tr><th>encodingFormat</th><td>JSON</td></tr><tr><th>url</th><td>./notebooks/reports.py</td></tr><tr><th>contentUrl</th><td><ul><li>https://raw.githubusercontent.com/MosquitoAlert/Data/master/all_reports2014.json</li><li>https://raw.githubusercontent.com/MosquitoAlert/Data/master/all_reports2015.json</li><li>https://raw.githubusercontent.com/MosquitoAlert/Data/master/all_reports2016.json</li><li>https://raw.githubusercontent.com/MosquitoAlert/Data/master/all_reports2017.json</li><li>https://raw.githubusercontent.com/MosquitoAlert/Data/master/all_reports2018.json</li><li>https://raw.githubusercontent.com/MosquitoAlert/Data/master/all_reports2019.json</li><li>https://raw.githubusercontent.com/MosquitoAlert/Data/master/all_reports2020.json</li><li>https://raw.githubusercontent.com/MosquitoAlert/Data/master/all_reports2021.json</li><li>https://raw.githubusercontent.com/MosquitoAlert/Data/master/translation_dict.txt</li></ul></td></tr><tr><th>contentSize</th><td>73MB</td></tr></table></li></ul></td></tr></table>"
      ],
      "text/plain": [
       "<IPython.core.display.HTML object>"
      ]
     },
     "execution_count": 4,
     "metadata": {},
     "output_type": "execute_result"
    }
   ],
   "source": [
    "# NO CODE\n",
    "# FULL WIDTH\n",
    "with open(f'{path}.json') as f:\n",
    "    data = json.load(f)\n",
    "\n",
    "table = json2html.convert(json=data, clubbing=False)\n",
    "HTML(table)\n",
    "\n",
    "# Run the following in the command line to build a html table\n",
    "# $ jupyter nbconvert --to html --no-input --no-prompt build_tables.ipynb\n"
   ]
  },
  {
   "cell_type": "code",
   "execution_count": null,
   "id": "addressed-viewer",
   "metadata": {
    "papermill": {
     "duration": 0.007456,
     "end_time": "2021-06-03T11:45:43.044299",
     "exception": false,
     "start_time": "2021-06-03T11:45:43.036843",
     "status": "completed"
    },
    "tags": []
   },
   "outputs": [],
   "source": []
  }
 ],
 "metadata": {
  "kernelspec": {
   "display_name": "Python 3.7.10 64-bit ('scidb': conda)",
   "language": "python",
   "name": "python3710jvsc74a57bd0e3961729dbf4ff77740ff872c9a3eef08621b5b434e3d8d81026af4505918c74"
  },
  "language_info": {
   "codemirror_mode": {
    "name": "ipython",
    "version": 3
   },
   "file_extension": ".py",
   "mimetype": "text/x-python",
   "name": "python",
   "nbconvert_exporter": "python",
   "pygments_lexer": "ipython3",
   "version": "3.7.10"
  },
  "metadata": {
   "interpreter": {
    "hash": "e3961729dbf4ff77740ff872c9a3eef08621b5b434e3d8d81026af4505918c74"
   }
  },
  "papermill": {
   "default_parameters": {},
   "duration": 1.211684,
   "end_time": "2021-06-03T11:45:43.365244",
   "environment_variables": {},
   "exception": null,
   "input_path": "build_info.ipynb",
   "output_path": "./meta/reports.ipynb",
   "parameters": {
    "path": "./raw/MA/reports"
   },
   "start_time": "2021-06-03T11:45:42.153560",
   "version": "2.3.3"
  }
 },
 "nbformat": 4,
 "nbformat_minor": 5
}