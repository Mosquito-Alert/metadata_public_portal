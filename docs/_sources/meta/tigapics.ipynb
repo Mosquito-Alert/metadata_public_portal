{
 "cells": [
  {
   "cell_type": "markdown",
   "id": "olympic-breed",
   "metadata": {
    "papermill": {
     "duration": 0.010575,
     "end_time": "2021-06-03T11:45:44.138028",
     "exception": false,
     "start_time": "2021-06-03T11:45:44.127453",
     "status": "completed"
    },
    "tags": []
   },
   "source": [
    "# Metadata table"
   ]
  },
  {
   "cell_type": "code",
   "execution_count": 1,
   "id": "aware-thought",
   "metadata": {
    "execution": {
     "iopub.execute_input": "2021-06-03T11:45:44.164142Z",
     "iopub.status.busy": "2021-06-03T11:45:44.163101Z",
     "iopub.status.idle": "2021-06-03T11:45:44.168190Z",
     "shell.execute_reply": "2021-06-03T11:45:44.168701Z"
    },
    "papermill": {
     "duration": 0.02353,
     "end_time": "2021-06-03T11:45:44.168940",
     "exception": false,
     "start_time": "2021-06-03T11:45:44.145410",
     "status": "completed"
    },
    "tags": [
     "remove-input"
    ]
   },
   "outputs": [],
   "source": [
    "# NO CODE\n",
    "from json2html import *\n",
    "import json\n",
    "from IPython.core.display import HTML, display\n"
   ]
  },
  {
   "cell_type": "code",
   "execution_count": 2,
   "id": "false-purse",
   "metadata": {
    "execution": {
     "iopub.execute_input": "2021-06-03T11:45:44.188571Z",
     "iopub.status.busy": "2021-06-03T11:45:44.187755Z",
     "iopub.status.idle": "2021-06-03T11:45:44.192382Z",
     "shell.execute_reply": "2021-06-03T11:45:44.193471Z"
    },
    "papermill": {
     "duration": 0.019109,
     "end_time": "2021-06-03T11:45:44.193813",
     "exception": false,
     "start_time": "2021-06-03T11:45:44.174704",
     "status": "completed"
    },
    "tags": [
     "parameters",
     "remove-input"
    ]
   },
   "outputs": [],
   "source": [
    "# NO CODE\n",
    "path = './raw/environment/meteocat_xema'"
   ]
  },
  {
   "cell_type": "code",
   "execution_count": 3,
   "id": "molecular-michigan",
   "metadata": {
    "execution": {
     "iopub.execute_input": "2021-06-03T11:45:44.217803Z",
     "iopub.status.busy": "2021-06-03T11:45:44.216844Z",
     "iopub.status.idle": "2021-06-03T11:45:44.221662Z",
     "shell.execute_reply": "2021-06-03T11:45:44.220727Z"
    },
    "papermill": {
     "duration": 0.01981,
     "end_time": "2021-06-03T11:45:44.221915",
     "exception": false,
     "start_time": "2021-06-03T11:45:44.202105",
     "status": "completed"
    },
    "tags": [
     "injected-parameters"
    ]
   },
   "outputs": [],
   "source": [
    "# Parameters\n",
    "path = \"./raw/MA/tigapics\"\n"
   ]
  },
  {
   "cell_type": "code",
   "execution_count": 4,
   "id": "answering-suicide",
   "metadata": {
    "execution": {
     "iopub.execute_input": "2021-06-03T11:45:44.258839Z",
     "iopub.status.busy": "2021-06-03T11:45:44.253631Z",
     "iopub.status.idle": "2021-06-03T11:45:44.265779Z",
     "shell.execute_reply": "2021-06-03T11:45:44.264781Z"
    },
    "papermill": {
     "duration": 0.034529,
     "end_time": "2021-06-03T11:45:44.266112",
     "exception": false,
     "start_time": "2021-06-03T11:45:44.231583",
     "status": "completed"
    },
    "tags": [
     "remove-input",
     "full-width"
    ]
   },
   "outputs": [
    {
     "data": {
      "text/html": [
       "<table border=\"1\"><tr><th>@context</th><td><table border=\"1\"><tr><th>@vocab</th><td>https://schema.org/</td></tr><tr><th>qudt</th><td>http://qudt.org/schema/qudt/</td></tr><tr><th>xsd</th><td>http://www.w3.org/2001/XMLSchema#</td></tr></table></td></tr><tr><th>@type</th><td>Dataset</td></tr><tr><th>name</th><td>ma_tigapics</td></tr><tr><th>description</th><td>Mosquito Alert pictures relative to adult mosquito encounters and breeding sites made by citizen science users of the app.</td></tr><tr><th>url</th><td>http://webserver.mosquitoalert.com</td></tr><tr><th>sameAs</th><td>http://webserver.mosquitoalert.com/media/tigapics/</td></tr><tr><th>identifier</th><td></td></tr><tr><th>license</th><td>https://creativecommons.org/publicdomain/zero/1.0/</td></tr><tr><th>citation</th><td><ul><li>Direct Evidence of Adult Aedes albopictus Dispersal by Car. Roger, Eritja et al. (DOI: 10.1038/s41598-017-12652-5)</li><li>Citizen science provides a reliable and scalable tool to track disease-carrying mosquitoes.  John R B, Palmer et al. (DOI: 10.1038/s41467-017-00914-9)</li></ul></td></tr><tr><th>creator</th><td><ul><li><table border=\"1\"><tr><th>@type</th><td>Organization</td></tr><tr><th>@id</th><td>CEAB</td></tr><tr><th>name</th><td>Consejo Superior de Investigaciones Científicas - Centro de Estudios Avanzados de Blanes (CSIC-CEAB)</td></tr></table></li><li><table border=\"1\"><tr><th>@type</th><td>Person</td></tr><tr><th>@id</th><td>JG</td></tr><tr><th>name</th><td>Garriga Farriol, Joan</td></tr></table></li><li><table border=\"1\"><tr><th>@type</th><td>Person</td></tr><tr><th>@id</th><td>AE</td></tr><tr><th>name</th><td>Escobar Rúbies, Agustí</td></tr></table></li></ul></td></tr><tr><th>variableMeasured</th><td></td></tr><tr><th>measurementTechnique</th><td><ul><li>Mobile application for citizen science</li><li>Data validation by entomologists</li></ul></td></tr><tr><th>temporalCoverage</th><td>2014/2019</td></tr><tr><th>spatialCoverage</th><td><table border=\"1\"><tr><th>type</th><td>AdministrativeArea</td></tr><tr><th>name</th><td>Eurozone</td></tr><tr><th>sameAs</th><td>https://www.wikidata.org/wiki/Q8268</td></tr></table></td></tr><tr><th>hasPart</th><td><ul><li><table border=\"1\"><tr><th>@type</th><td>Dataset</td></tr><tr><th>name</th><td>ma_tigapics_webserver</td></tr><tr><th>description</th><td>Incremental backup of all the pictures (adults and sites) that can be viewed at the Mosquito Alert map webserver given a picture IID. Pictures could be downloaded even directly from webserver.mosquitoalert.com from its static resources but it&#x27;s more convenient to use sftp to the backup.</td></tr><tr><th>distribution</th><td><ul><li><table border=\"1\"><tr><th>@type</th><td>DataDownload</td></tr><tr><th>name</th><td>laurus_backup</td></tr><tr><th>description</th><td>Distribution by SFTP protocol from Laurus-CREAF VM.</td></tr><tr><th>encodingFormat</th><td>JPG</td></tr><tr><th>url</th><td></td></tr><tr><th>contentUrl</th><td>sftp://{USERNAME}@158.109.47.9/home/backup_aux/webuser/backup/synced_media/tigapics/{ID_PICNAME}.jpg</td></tr><tr><th>contentSize</th><td>1/10MB</td></tr></table></li><li><table border=\"1\"><tr><th>@type</th><td>DataDownload</td></tr><tr><th>name</th><td>webserver_mosquitoalert_com</td></tr><tr><th>description</th><td>Distribution by image download from MosquitoAlert webserver</td></tr><tr><th>encodingFormat</th><td>JPG</td></tr><tr><th>url</th><td></td></tr><tr><th>contentUrl</th><td>http://webserver.mosquitoalert.com/media/tigapics/{ID_PICNAME}</td></tr><tr><th>contentSize</th><td>1/10MB</td></tr></table></li></ul></td></tr></table></li><li><table border=\"1\"><tr><th>@type</th><td>Dataset</td></tr><tr><th>name</th><td>ma_tigapics_koopex_raw_pics</td></tr><tr><th>description</th><td>Mosquito Alert ML-classification pictures of mosquito adults stored on SeaFile cloud (Koopex VEO platform) with a yearly release</td></tr><tr><th>url</th><td>https://kooplex-veo.elte.hu/seafile/published/mosquito-alert-image-dataset</td></tr><tr><th>distribution</th><td><ul><li><table border=\"1\"><tr><th>@type</th><td>DataDownload</td></tr><tr><th>name</th><td>koopex_raw_images</td></tr><tr><th>description</th><td>Distribution from SeaFile cloud repository of raw images</td></tr><tr><th>encodingFormat</th><td>PNG.TAR.GZ</td></tr><tr><th>url</th><td>./notebooks/tigapics.py</td></tr><tr><th>contentUrl</th><td>https://kooplex-veo.elte.hu/seafile/d/c5d5f92e61424f649b68/files/?p=%2Fall_raw%2F{YEAR}%2Fimages.tar.gz&amp;dl=1</td></tr><tr><th>contentSize</th><td>1.6GB</td></tr></table></li></ul></td></tr></table></li><li><table border=\"1\"><tr><th>@type</th><td>Dataset</td></tr><tr><th>name</th><td>ma_tigapics_koopex_raw_labels</td></tr><tr><th>description</th><td>Mosquito Alert ML-classification labels relative to raw pictures of mosquito adults stored on SeaFile cloud (Koopex VEO platform) with a yearly release</td></tr><tr><th>url</th><td>https://kooplex-veo.elte.hu/seafile/published/mosquito-alert-image-dataset</td></tr><tr><th>distribution</th><td><ul><li><table border=\"1\"><tr><th>@type</th><td>DataDownload</td></tr><tr><th>name</th><td>koopex_raw_metadata</td></tr><tr><th>description</th><td>Distribution from SeaFile cloud repository of classification labels relative to raw images</td></tr><tr><th>encodingFormat</th><td>PNG.TAR.GZ</td></tr><tr><th>url</th><td>./notebooks/tigapics.py</td></tr><tr><th>contentUrl</th><td>https://kooplex-veo.elte.hu/seafile/d/c5d5f92e61424f649b68/files/?p=%2Fall_raw%2F{YEAR}%2FimgRef.txt&amp;dl=1</td></tr><tr><th>contentSize</th><td>1MB</td></tr></table></li></ul></td></tr><tr><th>variableMeasured</th><td><ul><li><table border=\"1\"><tr><th>@type</th><td>PropertyValue</td></tr><tr><th>name</th><td>imgNmb</td></tr><tr><th>description</th><td>Image number (such that the corresponding image file name is str(imgNmb).zfill(6)+&#x27;.png&#x27;)</td></tr><tr><th>unitText</th><td></td></tr><tr><th>dataType</th><td>xsd:string</td></tr></table></li><li><table border=\"1\"><tr><th>@type</th><td>PropertyValue</td></tr><tr><th>name</th><td>imgId</td></tr><tr><th>description</th><td>Mosquito Alert xsd:internal image id (for xsd:internal purposes)</td></tr><tr><th>unitText</th><td></td></tr><tr><th>dataType</th><td>xsd:string</td></tr></table></li><li><table border=\"1\"><tr><th>@type</th><td>PropertyValue</td></tr><tr><th>name</th><td>rprtId</td></tr><tr><th>description</th><td>Mosquito Alert xsd:internal report id (for xsd:internal purposes)</td></tr><tr><th>unitText</th><td></td></tr><tr><th>dataType</th><td>xsd:string</td></tr></table></li><li><table border=\"1\"><tr><th>@type</th><td>PropertyValue</td></tr><tr><th>name</th><td>imgDate</td></tr><tr><th>description</th><td>Image date</td></tr><tr><th>unitText</th><td></td></tr><tr><th>dataType</th><td>xsd:string</td></tr></table></li><li><table border=\"1\"><tr><th>@type</th><td>PropertyValue</td></tr><tr><th>name</th><td>imgTime</td></tr><tr><th>description</th><td>Image time; (this is server upload time)</td></tr><tr><th>unitText</th><td></td></tr><tr><th>dataType</th><td>xsd:string</td></tr></table></li><li><table border=\"1\"><tr><th>@type</th><td>PropertyValue</td></tr><tr><th>name</th><td>imgLon</td></tr><tr><th>description</th><td>Image location longitude</td></tr><tr><th>unitText</th><td></td></tr><tr><th>dataType</th><td>xsd:decimal</td></tr></table></li><li><table border=\"1\"><tr><th>@type</th><td>PropertyValue</td></tr><tr><th>name</th><td>imgLat</td></tr><tr><th>description</th><td>Image location latitude</td></tr><tr><th>unitText</th><td></td></tr><tr><th>dataType</th><td>xsd:decimal</td></tr></table></li><li><table border=\"1\"><tr><th>@type</th><td>PropertyValue</td></tr><tr><th>name</th><td>imgClass</td></tr><tr><th>description</th><td>Image class as one of the following: &#x27;mosquito species&#x27; (e.g. &#x27;Ae. albopictus&#x27;, &#x27;Ae. aegypti&#x27;) when reporting an observation of one of our targeted species; &#x27;otherSpecies&#x27;, when reporting an observation of any other species; &#x27;canNotTell&#x27;, when the picture is not good enough so as to identify the species reported; &#x27;site&#x27;, when reporting a potential mosquito breeding-site; &#x27;otherSites&#x27;, when reporting a mosquito breeding-site that is not considered as such;</td></tr><tr><th>unitText</th><td></td></tr><tr><th>dataType</th><td>xsd:string</td></tr></table></li><li><table border=\"1\"><tr><th>@type</th><td>PropertyValue</td></tr><tr><th>name</th><td>imgLabel</td></tr><tr><th>description</th><td>Image label as one of the following: a) if the image has been validated by an expert, the label can be one of: &#x27;confirmed&#x27;; &#x27;probable&#x27; (this one applies only for targeted species classes); b) when there is not an explicit expert validation for the image, the image is labelled as: &#x27;notClassified&#x27;;</td></tr><tr><th>unitText</th><td></td></tr><tr><th>dataType</th><td>xsd:string</td></tr></table></li><li><table border=\"1\"><tr><th>@type</th><td>PropertyValue</td></tr><tr><th>name</th><td>hidden</td></tr><tr><th>description</th><td>A flag for pictures that for some reason (e.g. offensive, conflicting) are not shown in the map</td></tr><tr><th>unitText</th><td></td></tr><tr><th>dataType</th><td>xsd:boolean</td></tr></table></li></ul></td></tr></table></li><li><table border=\"1\"><tr><th>@type</th><td>Dataset</td></tr><tr><th>name</th><td>ma_tigapics_koopex_cropped_pics</td></tr><tr><th>description</th><td>Mosquito Alert ML-classification pictures of mosquito adults stored on SeaFile cloud (Koopex VEO platform) with a yearly release</td></tr><tr><th>url</th><td>https://kooplex-veo.elte.hu/seafile/published/mosquito-alert-image-dataset</td></tr><tr><th>distribution</th><td><ul><li><table border=\"1\"><tr><th>@type</th><td>DataDownload</td></tr><tr><th>name</th><td>koopex_raw_images</td></tr><tr><th>description</th><td>Distribution from SeaFile cloud repository of cropped images</td></tr><tr><th>encodingFormat</th><td>PNG.TAR.GZ</td></tr><tr><th>url</th><td>./notebooks/tigapics.py</td></tr><tr><th>contentUrl</th><td>https://kooplex-veo.elte.hu/seafile/d/c5d5f92e61424f649b68/files/?p=%2Fadult_cropped%2F{YEAR}%2Fimages_crop.tar.gz&amp;dl=1</td></tr><tr><th>contentSize</th><td>700MB</td></tr></table></li></ul></td></tr></table></li><li><table border=\"1\"><tr><th>@type</th><td>Dataset</td></tr><tr><th>name</th><td>ma_tigapics_koopex_cropped_labels</td></tr><tr><th>description</th><td>Mosquito Alert ML-classification labels relative to raw pictures of mosquito adults stored on SeaFile cloud (Koopex VEO platform) with a yearly release</td></tr><tr><th>url</th><td>https://kooplex-veo.elte.hu/seafile/published/mosquito-alert-image-dataset</td></tr><tr><th>distribution</th><td><ul><li><table border=\"1\"><tr><th>@type</th><td>DataDownload</td></tr><tr><th>name</th><td>koopex_cropped_labels</td></tr><tr><th>description</th><td>Distribution from SeaFile cloud repository of classification labels relative to cropped images</td></tr><tr><th>encodingFormat</th><td>PNG.TAR.GZ</td></tr><tr><th>url</th><td>./notebooks/tigapics.py</td></tr><tr><th>contentUrl</th><td>https://kooplex-veo.elte.hu/seafile/d/c5d5f92e61424f649b68/files/?p=%2Fall_raw%2F{YEAR}%2FimgRef.txt&amp;dl=1</td></tr><tr><th>contentSize</th><td>1MB</td></tr></table></li></ul></td></tr><tr><th>variableMeasured</th><td><ul><li><table border=\"1\"><tr><th>@type</th><td>PropertyValue</td></tr><tr><th>name</th><td>imgNmb</td></tr><tr><th>description</th><td>Image number (such that the corresponding image file name is str(imgNmb).zfill(6)+&#x27;.png&#x27;)</td></tr><tr><th>unitText</th><td></td></tr><tr><th>dataType</th><td>xsd:string</td></tr></table></li><li><table border=\"1\"><tr><th>@type</th><td>PropertyValue</td></tr><tr><th>name</th><td>imgId</td></tr><tr><th>description</th><td>Mosquito Alert xsd:internal image id (for xsd:internal purposes)</td></tr><tr><th>unitText</th><td></td></tr><tr><th>dataType</th><td>xsd:string</td></tr></table></li><li><table border=\"1\"><tr><th>@type</th><td>PropertyValue</td></tr><tr><th>name</th><td>rprtId</td></tr><tr><th>description</th><td>Mosquito Alert xsd:internal report id (for xsd:internal purposes)</td></tr><tr><th>unitText</th><td></td></tr><tr><th>dataType</th><td>xsd:string</td></tr></table></li><li><table border=\"1\"><tr><th>@type</th><td>PropertyValue</td></tr><tr><th>name</th><td>imgDate</td></tr><tr><th>description</th><td>Image date</td></tr><tr><th>unitText</th><td></td></tr><tr><th>dataType</th><td>xsd:string</td></tr></table></li><li><table border=\"1\"><tr><th>@type</th><td>PropertyValue</td></tr><tr><th>name</th><td>imgTime</td></tr><tr><th>description</th><td>Image time; (this is server upload time)</td></tr><tr><th>unitText</th><td></td></tr><tr><th>dataType</th><td>xsd:string</td></tr></table></li><li><table border=\"1\"><tr><th>@type</th><td>PropertyValue</td></tr><tr><th>name</th><td>imgLon</td></tr><tr><th>description</th><td>Image location longitude</td></tr><tr><th>unitText</th><td></td></tr><tr><th>dataType</th><td>xsd:decimal</td></tr></table></li><li><table border=\"1\"><tr><th>@type</th><td>PropertyValue</td></tr><tr><th>name</th><td>imgLat</td></tr><tr><th>description</th><td>Image location latitude</td></tr><tr><th>unitText</th><td></td></tr><tr><th>dataType</th><td>xsd:decimal</td></tr></table></li><li><table border=\"1\"><tr><th>@type</th><td>PropertyValue</td></tr><tr><th>name</th><td>imgClass</td></tr><tr><th>description</th><td>Image class as one of the following: &#x27;mosquito species&#x27; (e.g. &#x27;Ae. albopictus&#x27;, &#x27;Ae. aegypti&#x27;) when reporting an observation of one of our targeted species; &#x27;otherSpecies&#x27;, when reporting an observation of any other species; &#x27;canNotTell&#x27;, when the picture is not good enough so as to identify the species reported; &#x27;site&#x27;, when reporting a potential mosquito breeding-site; &#x27;otherSites&#x27;, when reporting a mosquito breeding-site that is not considered as such;</td></tr><tr><th>unitText</th><td></td></tr><tr><th>dataType</th><td>xsd:string</td></tr></table></li><li><table border=\"1\"><tr><th>@type</th><td>PropertyValue</td></tr><tr><th>name</th><td>imgLabel</td></tr><tr><th>description</th><td>Image label as one of the following: a) if the image has been validated by an expert, the label can be one of: &#x27;confirmed&#x27;; &#x27;probable&#x27; (this one applies only for targeted species classes); b) when there is not an explicit expert validation for the image, the image is labelled as: &#x27;notClassified&#x27;;</td></tr><tr><th>unitText</th><td></td></tr><tr><th>dataType</th><td>xsd:string</td></tr></table></li><li><table border=\"1\"><tr><th>@type</th><td>PropertyValue</td></tr><tr><th>name</th><td>hidden</td></tr><tr><th>description</th><td>A flag for pictures that for some reason (e.g. offensive, conflicting) are not shown in the map</td></tr><tr><th>unitText</th><td></td></tr><tr><th>dataType</th><td>xsd:boolean</td></tr></table></li></ul></td></tr></table></li></ul></td></tr></table>"
      ],
      "text/plain": [
       "<IPython.core.display.HTML object>"
      ]
     },
     "execution_count": 4,
     "metadata": {},
     "output_type": "execute_result"
    }
   ],
   "source": [
    "# NO CODE\n",
    "# FULL WIDTH\n",
    "with open(f'{path}.json') as f:\n",
    "    data = json.load(f)\n",
    "\n",
    "table = json2html.convert(json=data, clubbing=False)\n",
    "HTML(table)\n",
    "\n",
    "# Run the following in the command line to build a html table\n",
    "# $ jupyter nbconvert --to html --no-input --no-prompt build_tables.ipynb\n"
   ]
  },
  {
   "cell_type": "code",
   "execution_count": null,
   "id": "elect-universal",
   "metadata": {
    "papermill": {
     "duration": 0.008963,
     "end_time": "2021-06-03T11:45:44.284090",
     "exception": false,
     "start_time": "2021-06-03T11:45:44.275127",
     "status": "completed"
    },
    "tags": []
   },
   "outputs": [],
   "source": []
  }
 ],
 "metadata": {
  "kernelspec": {
   "display_name": "Python 3.7.10 64-bit ('scidb': conda)",
   "language": "python",
   "name": "python3710jvsc74a57bd0e3961729dbf4ff77740ff872c9a3eef08621b5b434e3d8d81026af4505918c74"
  },
  "language_info": {
   "codemirror_mode": {
    "name": "ipython",
    "version": 3
   },
   "file_extension": ".py",
   "mimetype": "text/x-python",
   "name": "python",
   "nbconvert_exporter": "python",
   "pygments_lexer": "ipython3",
   "version": "3.7.10"
  },
  "metadata": {
   "interpreter": {
    "hash": "e3961729dbf4ff77740ff872c9a3eef08621b5b434e3d8d81026af4505918c74"
   }
  },
  "papermill": {
   "default_parameters": {},
   "duration": 1.212746,
   "end_time": "2021-06-03T11:45:44.606155",
   "environment_variables": {},
   "exception": null,
   "input_path": "build_info.ipynb",
   "output_path": "./meta/tigapics.ipynb",
   "parameters": {
    "path": "./raw/MA/tigapics"
   },
   "start_time": "2021-06-03T11:45:43.393409",
   "version": "2.3.3"
  }
 },
 "nbformat": 4,
 "nbformat_minor": 5
}